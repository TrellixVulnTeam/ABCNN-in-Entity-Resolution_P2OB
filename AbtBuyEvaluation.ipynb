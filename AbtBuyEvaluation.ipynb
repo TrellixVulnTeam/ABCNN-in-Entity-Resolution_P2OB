{
 "cells": [
  {
   "cell_type": "code",
   "execution_count": 1,
   "metadata": {},
   "outputs": [],
   "source": [
    "import deepmatcher as dm\n",
    "import torch\n",
    "import pandas as pd"
   ]
  },
  {
   "cell_type": "code",
   "execution_count": 2,
   "metadata": {},
   "outputs": [
    {
     "data": {
      "text/plain": [
       "True"
      ]
     },
     "execution_count": 2,
     "metadata": {},
     "output_type": "execute_result"
    }
   ],
   "source": [
    "torch.cuda.is_available()"
   ]
  },
  {
   "cell_type": "code",
   "execution_count": 3,
   "metadata": {},
   "outputs": [],
   "source": [
    "# Data processing and embedding\n",
    "train, validation, test = dm.data.process(\n",
    "    path='evaluation_data/abt_buy',\n",
    "    train='train.csv',\n",
    "    validation='validation.csv',\n",
    "    test='test.csv')"
   ]
  },
  {
   "cell_type": "code",
   "execution_count": 4,
   "metadata": {},
   "outputs": [
    {
     "name": "stdout",
     "output_type": "stream",
     "text": [
      "* Number of trainable parameters: 542402\n",
      "===>  TRAIN Epoch 1\n"
     ]
    },
    {
     "name": "stderr",
     "output_type": "stream",
     "text": [
      "0% [███████████████████████] 100% | ETA: 00:00:00\n",
      "Total time elapsed: 00:00:06\n"
     ]
    },
    {
     "name": "stdout",
     "output_type": "stream",
     "text": [
      "Finished Epoch 1 || Run Time:    0.6 | Load Time:    5.9 || F1:  19.37 | Prec:  10.73 | Rec: 100.00 || Ex/s: 872.02\n",
      "\n",
      "===>  EVAL Epoch 1\n"
     ]
    },
    {
     "name": "stderr",
     "output_type": "stream",
     "text": [
      "0% [███████] 100% | ETA: 00:00:00\n",
      "Total time elapsed: 00:00:02\n"
     ]
    },
    {
     "name": "stdout",
     "output_type": "stream",
     "text": [
      "Finished Epoch 1 || Run Time:    0.1 | Load Time:    2.1 || F1:  19.42 | Prec:  10.75 | Rec: 100.00 || Ex/s: 871.81\n",
      "\n",
      "* Best F1: 19.41564561734213\n",
      "Saving best model...\n",
      "Done.\n",
      "---------------------\n",
      "\n",
      "===>  TRAIN Epoch 2\n"
     ]
    },
    {
     "name": "stderr",
     "output_type": "stream",
     "text": [
      "0% [███████████████████████] 100% | ETA: 00:00:00\n",
      "Total time elapsed: 00:00:06\n"
     ]
    },
    {
     "name": "stdout",
     "output_type": "stream",
     "text": [
      "Finished Epoch 2 || Run Time:    0.7 | Load Time:    6.1 || F1:  19.79 | Prec:  10.99 | Rec:  99.03 || Ex/s: 840.65\n",
      "\n",
      "===>  EVAL Epoch 2\n"
     ]
    },
    {
     "name": "stderr",
     "output_type": "stream",
     "text": [
      "0% [███████] 100% | ETA: 00:00:00\n",
      "Total time elapsed: 00:00:01\n"
     ]
    },
    {
     "name": "stdout",
     "output_type": "stream",
     "text": [
      "Finished Epoch 2 || Run Time:    0.1 | Load Time:    1.9 || F1:  19.95 | Prec:  11.10 | Rec:  98.54 || Ex/s: 942.75\n",
      "\n",
      "* Best F1: 19.95085995085995\n",
      "Saving best model...\n",
      "Done.\n",
      "---------------------\n",
      "\n",
      "===>  TRAIN Epoch 3\n"
     ]
    },
    {
     "name": "stderr",
     "output_type": "stream",
     "text": [
      "0% [███████████████████████] 100% | ETA: 00:00:00\n",
      "Total time elapsed: 00:00:06\n"
     ]
    },
    {
     "name": "stdout",
     "output_type": "stream",
     "text": [
      "Finished Epoch 3 || Run Time:    0.6 | Load Time:    5.8 || F1:  22.58 | Prec:  12.80 | Rec:  95.78 || Ex/s: 899.44\n",
      "\n",
      "===>  EVAL Epoch 3\n"
     ]
    },
    {
     "name": "stderr",
     "output_type": "stream",
     "text": [
      "0% [███████] 100% | ETA: 00:00:00\n",
      "Total time elapsed: 00:00:01\n"
     ]
    },
    {
     "name": "stdout",
     "output_type": "stream",
     "text": [
      "Finished Epoch 3 || Run Time:    0.1 | Load Time:    1.9 || F1:  21.73 | Prec:  12.26 | Rec:  95.63 || Ex/s: 956.78\n",
      "\n",
      "* Best F1: 21.731936017650302\n",
      "Saving best model...\n",
      "Done.\n",
      "---------------------\n",
      "\n",
      "===>  TRAIN Epoch 4\n"
     ]
    },
    {
     "name": "stderr",
     "output_type": "stream",
     "text": [
      "0% [███████████████████████] 100% | ETA: 00:00:00\n",
      "Total time elapsed: 00:00:06\n"
     ]
    },
    {
     "name": "stdout",
     "output_type": "stream",
     "text": [
      "Finished Epoch 4 || Run Time:    0.6 | Load Time:    5.9 || F1:  25.41 | Prec:  14.67 | Rec:  94.81 || Ex/s: 885.04\n",
      "\n",
      "===>  EVAL Epoch 4\n"
     ]
    },
    {
     "name": "stderr",
     "output_type": "stream",
     "text": [
      "0% [███████] 100% | ETA: 00:00:00\n",
      "Total time elapsed: 00:00:01\n"
     ]
    },
    {
     "name": "stdout",
     "output_type": "stream",
     "text": [
      "Finished Epoch 4 || Run Time:    0.1 | Load Time:    1.9 || F1:  22.67 | Prec:  12.91 | Rec:  92.72 || Ex/s: 951.15\n",
      "\n",
      "* Best F1: 22.67062314540059\n",
      "Saving best model...\n",
      "Done.\n",
      "---------------------\n",
      "\n",
      "===>  TRAIN Epoch 5\n"
     ]
    },
    {
     "name": "stderr",
     "output_type": "stream",
     "text": [
      "0% [███████████████████████] 100% | ETA: 00:00:00\n",
      "Total time elapsed: 00:00:06\n"
     ]
    },
    {
     "name": "stdout",
     "output_type": "stream",
     "text": [
      "Finished Epoch 5 || Run Time:    0.7 | Load Time:    6.0 || F1:  29.52 | Prec:  17.48 | Rec:  94.97 || Ex/s: 865.93\n",
      "\n",
      "===>  EVAL Epoch 5\n"
     ]
    },
    {
     "name": "stderr",
     "output_type": "stream",
     "text": [
      "0% [███████] 100% | ETA: 00:00:00\n",
      "Total time elapsed: 00:00:01\n"
     ]
    },
    {
     "name": "stdout",
     "output_type": "stream",
     "text": [
      "Finished Epoch 5 || Run Time:    0.1 | Load Time:    2.0 || F1:  24.35 | Prec:  14.11 | Rec:  88.83 || Ex/s: 920.93\n",
      "\n",
      "* Best F1: 24.35129740518962\n",
      "Saving best model...\n",
      "Done.\n",
      "---------------------\n",
      "\n",
      "===>  TRAIN Epoch 6\n"
     ]
    },
    {
     "name": "stderr",
     "output_type": "stream",
     "text": [
      "0% [███████████████████████] 100% | ETA: 00:00:00\n",
      "Total time elapsed: 00:00:06\n"
     ]
    },
    {
     "name": "stdout",
     "output_type": "stream",
     "text": [
      "Finished Epoch 6 || Run Time:    0.7 | Load Time:    6.1 || F1:  33.26 | Prec:  20.12 | Rec:  95.94 || Ex/s: 840.17\n",
      "\n",
      "===>  EVAL Epoch 6\n"
     ]
    },
    {
     "name": "stderr",
     "output_type": "stream",
     "text": [
      "0% [███████] 100% | ETA: 00:00:00\n",
      "Total time elapsed: 00:00:02\n"
     ]
    },
    {
     "name": "stdout",
     "output_type": "stream",
     "text": [
      "Finished Epoch 6 || Run Time:    0.1 | Load Time:    2.3 || F1:  24.91 | Prec:  14.67 | Rec:  82.52 || Ex/s: 779.75\n",
      "\n",
      "* Best F1: 24.90842490842491\n",
      "Saving best model...\n",
      "Done.\n",
      "---------------------\n",
      "\n",
      "===>  TRAIN Epoch 7\n"
     ]
    },
    {
     "name": "stderr",
     "output_type": "stream",
     "text": [
      "0% [███████████████████████] 100% | ETA: 00:00:00\n",
      "Total time elapsed: 00:00:06\n"
     ]
    },
    {
     "name": "stdout",
     "output_type": "stream",
     "text": [
      "Finished Epoch 7 || Run Time:    0.7 | Load Time:    6.1 || F1:  36.73 | Prec:  22.66 | Rec:  96.92 || Ex/s: 840.59\n",
      "\n",
      "===>  EVAL Epoch 7\n"
     ]
    },
    {
     "name": "stderr",
     "output_type": "stream",
     "text": [
      "0% [███████] 100% | ETA: 00:00:00\n",
      "Total time elapsed: 00:00:01\n"
     ]
    },
    {
     "name": "stdout",
     "output_type": "stream",
     "text": [
      "Finished Epoch 7 || Run Time:    0.1 | Load Time:    2.0 || F1:  27.37 | Prec:  16.55 | Rec:  79.13 || Ex/s: 926.98\n",
      "\n",
      "* Best F1: 27.371956339210744\n",
      "Saving best model...\n",
      "Done.\n",
      "---------------------\n",
      "\n",
      "===>  TRAIN Epoch 8\n"
     ]
    },
    {
     "name": "stderr",
     "output_type": "stream",
     "text": [
      "0% [███████████████████████] 100% | ETA: 00:00:00\n",
      "Total time elapsed: 00:00:06\n"
     ]
    },
    {
     "name": "stdout",
     "output_type": "stream",
     "text": [
      "Finished Epoch 8 || Run Time:    0.6 | Load Time:    5.9 || F1:  39.83 | Prec:  24.99 | Rec:  98.05 || Ex/s: 876.31\n",
      "\n",
      "===>  EVAL Epoch 8\n"
     ]
    },
    {
     "name": "stderr",
     "output_type": "stream",
     "text": [
      "0% [███████] 100% | ETA: 00:00:00\n",
      "Total time elapsed: 00:00:01\n"
     ]
    },
    {
     "name": "stdout",
     "output_type": "stream",
     "text": [
      "Finished Epoch 8 || Run Time:    0.1 | Load Time:    2.0 || F1:  29.65 | Prec:  18.41 | Rec:  76.21 || Ex/s: 931.96\n",
      "\n",
      "* Best F1: 29.650613786591126\n",
      "Saving best model...\n",
      "Done.\n",
      "---------------------\n",
      "\n",
      "===>  TRAIN Epoch 9\n"
     ]
    },
    {
     "name": "stderr",
     "output_type": "stream",
     "text": [
      "0% [███████████████████████] 100% | ETA: 00:00:00\n",
      "Total time elapsed: 00:00:06\n"
     ]
    },
    {
     "name": "stdout",
     "output_type": "stream",
     "text": [
      "Finished Epoch 9 || Run Time:    0.7 | Load Time:    6.1 || F1:  42.50 | Prec:  27.10 | Rec:  98.38 || Ex/s: 844.62\n",
      "\n",
      "===>  EVAL Epoch 9\n"
     ]
    },
    {
     "name": "stderr",
     "output_type": "stream",
     "text": [
      "0% [███████] 100% | ETA: 00:00:00\n",
      "Total time elapsed: 00:00:01\n"
     ]
    },
    {
     "name": "stdout",
     "output_type": "stream",
     "text": [
      "Finished Epoch 9 || Run Time:    0.1 | Load Time:    2.0 || F1:  29.32 | Prec:  18.18 | Rec:  75.73 || Ex/s: 928.41\n",
      "\n",
      "---------------------\n",
      "\n",
      "===>  TRAIN Epoch 10\n"
     ]
    },
    {
     "name": "stderr",
     "output_type": "stream",
     "text": [
      "0% [███████████████████████] 100% | ETA: 00:00:00\n",
      "Total time elapsed: 00:00:06\n"
     ]
    },
    {
     "name": "stdout",
     "output_type": "stream",
     "text": [
      "Finished Epoch 10 || Run Time:    0.6 | Load Time:    5.8 || F1:  44.66 | Prec:  28.86 | Rec:  98.70 || Ex/s: 886.96\n",
      "\n",
      "===>  EVAL Epoch 10\n"
     ]
    },
    {
     "name": "stderr",
     "output_type": "stream",
     "text": [
      "0% [███████] 100% | ETA: 00:00:00\n",
      "Total time elapsed: 00:00:01\n"
     ]
    },
    {
     "name": "stdout",
     "output_type": "stream",
     "text": [
      "Finished Epoch 10 || Run Time:    0.1 | Load Time:    2.0 || F1:  29.48 | Prec:  18.24 | Rec:  76.70 || Ex/s: 940.67\n",
      "\n",
      "---------------------\n",
      "\n",
      "===>  TRAIN Epoch 11\n"
     ]
    },
    {
     "name": "stderr",
     "output_type": "stream",
     "text": [
      "0% [███████████████████████] 100% | ETA: 00:00:00\n",
      "Total time elapsed: 00:00:06\n"
     ]
    },
    {
     "name": "stdout",
     "output_type": "stream",
     "text": [
      "Finished Epoch 11 || Run Time:    0.6 | Load Time:    5.8 || F1:  46.48 | Prec:  30.40 | Rec:  98.70 || Ex/s: 892.61\n",
      "\n",
      "===>  EVAL Epoch 11\n"
     ]
    },
    {
     "name": "stderr",
     "output_type": "stream",
     "text": [
      "0% [███████] 100% | ETA: 00:00:00\n",
      "Total time elapsed: 00:00:01\n"
     ]
    },
    {
     "name": "stdout",
     "output_type": "stream",
     "text": [
      "Finished Epoch 11 || Run Time:    0.1 | Load Time:    1.9 || F1:  29.95 | Prec:  18.79 | Rec:  73.79 || Ex/s: 957.15\n",
      "\n",
      "* Best F1: 29.950738916256157\n",
      "Saving best model...\n",
      "Done.\n",
      "---------------------\n",
      "\n",
      "===>  TRAIN Epoch 12\n"
     ]
    },
    {
     "name": "stderr",
     "output_type": "stream",
     "text": [
      "0% [███████████████████████] 100% | ETA: 00:00:00\n",
      "Total time elapsed: 00:00:06\n"
     ]
    },
    {
     "name": "stdout",
     "output_type": "stream",
     "text": [
      "Finished Epoch 12 || Run Time:    0.6 | Load Time:    5.8 || F1:  47.48 | Prec:  31.26 | Rec:  98.70 || Ex/s: 900.05\n",
      "\n",
      "===>  EVAL Epoch 12\n"
     ]
    },
    {
     "name": "stderr",
     "output_type": "stream",
     "text": [
      "0% [███████] 100% | ETA: 00:00:00\n",
      "Total time elapsed: 00:00:01\n"
     ]
    },
    {
     "name": "stdout",
     "output_type": "stream",
     "text": [
      "Finished Epoch 12 || Run Time:    0.1 | Load Time:    1.9 || F1:  30.75 | Prec:  19.60 | Rec:  71.36 || Ex/s: 956.57\n",
      "\n",
      "* Best F1: 30.753138075313807\n",
      "Saving best model...\n",
      "Done.\n",
      "---------------------\n",
      "\n",
      "===>  TRAIN Epoch 13\n"
     ]
    },
    {
     "name": "stderr",
     "output_type": "stream",
     "text": [
      "0% [███████████████████████] 100% | ETA: 00:00:00\n",
      "Total time elapsed: 00:00:06\n"
     ]
    },
    {
     "name": "stdout",
     "output_type": "stream",
     "text": [
      "Finished Epoch 13 || Run Time:    0.6 | Load Time:    5.8 || F1:  48.44 | Prec:  32.12 | Rec:  98.54 || Ex/s: 897.87\n",
      "\n",
      "===>  EVAL Epoch 13\n"
     ]
    },
    {
     "name": "stderr",
     "output_type": "stream",
     "text": [
      "0% [███████] 100% | ETA: 00:00:00\n",
      "Total time elapsed: 00:00:01\n"
     ]
    },
    {
     "name": "stdout",
     "output_type": "stream",
     "text": [
      "Finished Epoch 13 || Run Time:    0.1 | Load Time:    1.9 || F1:  31.14 | Prec:  20.11 | Rec:  68.93 || Ex/s: 947.76\n",
      "\n",
      "* Best F1: 31.140350877192983\n",
      "Saving best model...\n",
      "Done.\n",
      "---------------------\n",
      "\n",
      "===>  TRAIN Epoch 14\n"
     ]
    },
    {
     "name": "stderr",
     "output_type": "stream",
     "text": [
      "0% [███████████████████████] 100% | ETA: 00:00:00\n",
      "Total time elapsed: 00:00:06\n"
     ]
    },
    {
     "name": "stdout",
     "output_type": "stream",
     "text": [
      "Finished Epoch 14 || Run Time:    0.6 | Load Time:    5.8 || F1:  49.65 | Prec:  33.19 | Rec:  98.54 || Ex/s: 891.03\n",
      "\n",
      "===>  EVAL Epoch 14\n"
     ]
    },
    {
     "name": "stderr",
     "output_type": "stream",
     "text": [
      "0% [███████] 100% | ETA: 00:00:00\n",
      "Total time elapsed: 00:00:01\n"
     ]
    },
    {
     "name": "stdout",
     "output_type": "stream",
     "text": [
      "Finished Epoch 14 || Run Time:    0.1 | Load Time:    1.9 || F1:  31.44 | Prec:  20.54 | Rec:  66.99 || Ex/s: 954.38\n",
      "\n",
      "* Best F1: 31.435079726651477\n",
      "Saving best model...\n",
      "Done.\n",
      "---------------------\n",
      "\n",
      "===>  TRAIN Epoch 15\n"
     ]
    },
    {
     "name": "stderr",
     "output_type": "stream",
     "text": [
      "0% [███████████████████████] 100% | ETA: 00:00:00\n",
      "Total time elapsed: 00:00:06\n"
     ]
    },
    {
     "name": "stdout",
     "output_type": "stream",
     "text": [
      "Finished Epoch 15 || Run Time:    0.6 | Load Time:    5.9 || F1:  50.54 | Prec:  33.97 | Rec:  98.70 || Ex/s: 876.58\n",
      "\n",
      "===>  EVAL Epoch 15\n"
     ]
    },
    {
     "name": "stderr",
     "output_type": "stream",
     "text": [
      "0% [███████] 100% | ETA: 00:00:00\n",
      "Total time elapsed: 00:00:02\n"
     ]
    },
    {
     "name": "stdout",
     "output_type": "stream",
     "text": [
      "Finished Epoch 15 || Run Time:    0.1 | Load Time:    2.1 || F1:  31.73 | Prec:  20.93 | Rec:  65.53 || Ex/s: 862.23\n",
      "\n",
      "* Best F1: 31.72737955346651\n",
      "Saving best model...\n",
      "Done.\n",
      "---------------------\n",
      "\n",
      "Loading best model...\n",
      "Training done.\n"
     ]
    },
    {
     "data": {
      "text/plain": [
       "31.72737955346651"
      ]
     },
     "execution_count": 4,
     "metadata": {},
     "output_type": "execute_result"
    }
   ],
   "source": [
    "# Average model\n",
    "average_attr_summarizer_module = dm.modules.NoMeta(\n",
    "    dm.modules.Lambda(\n",
    "        lambda x, y: (x.sum(dim=1) / x.shape[1], y.sum(dim=1) / y.shape[1])))\n",
    "model = dm.MatchingModel(attr_summarizer=lambda: average_attr_summarizer_module, \n",
    "                         attr_comparator='abs-diff')\n",
    "model.run_train(\n",
    "    train,\n",
    "    validation,\n",
    "    epochs=15,\n",
    "    batch_size=50,\n",
    "    best_save_path='average_model.pth',\n",
    "    pos_neg_ratio=10)"
   ]
  },
  {
   "cell_type": "code",
   "execution_count": 5,
   "metadata": {},
   "outputs": [
    {
     "name": "stdout",
     "output_type": "stream",
     "text": [
      "===>  EVAL Epoch 15\n"
     ]
    },
    {
     "name": "stderr",
     "output_type": "stream",
     "text": [
      "0% [████████████] 100% | ETA: 00:00:00\n",
      "Total time elapsed: 00:00:02\n"
     ]
    },
    {
     "name": "stdout",
     "output_type": "stream",
     "text": [
      "Finished Epoch 15 || Run Time:    0.1 | Load Time:    2.0 || F1:  32.90 | Prec:  22.44 | Rec:  61.65 || Ex/s: 873.21\n",
      "\n"
     ]
    },
    {
     "data": {
      "text/plain": [
       "32.90155440414508"
      ]
     },
     "execution_count": 5,
     "metadata": {},
     "output_type": "execute_result"
    }
   ],
   "source": [
    "# The F-1 score for average approach\n",
    "model.run_eval(test)"
   ]
  },
  {
   "cell_type": "code",
   "execution_count": 6,
   "metadata": {},
   "outputs": [
    {
     "name": "stdout",
     "output_type": "stream",
     "text": [
      "* Number of trainable parameters: 542402\n",
      "===>  TRAIN Epoch 1\n"
     ]
    },
    {
     "name": "stderr",
     "output_type": "stream",
     "text": [
      "0% [███████████████████████] 100% | ETA: 00:00:00\n",
      "Total time elapsed: 00:00:07\n"
     ]
    },
    {
     "name": "stdout",
     "output_type": "stream",
     "text": [
      "Finished Epoch 1 || Run Time:    1.0 | Load Time:    6.2 || F1:  19.43 | Prec:  10.77 | Rec:  99.19 || Ex/s: 803.79\n",
      "\n",
      "===>  EVAL Epoch 1\n"
     ]
    },
    {
     "name": "stderr",
     "output_type": "stream",
     "text": [
      "0% [███████] 100% | ETA: 00:00:00\n",
      "Total time elapsed: 00:00:01\n"
     ]
    },
    {
     "name": "stdout",
     "output_type": "stream",
     "text": [
      "Finished Epoch 1 || Run Time:    0.2 | Load Time:    2.0 || F1:  19.51 | Prec:  10.81 | Rec:  99.51 || Ex/s: 901.58\n",
      "\n",
      "* Best F1: 19.50523311132255\n",
      "Saving best model...\n",
      "Done.\n",
      "---------------------\n",
      "\n",
      "===>  TRAIN Epoch 2\n"
     ]
    },
    {
     "name": "stderr",
     "output_type": "stream",
     "text": [
      "0% [███████████████████████] 100% | ETA: 00:00:00\n",
      "Total time elapsed: 00:00:06\n"
     ]
    },
    {
     "name": "stdout",
     "output_type": "stream",
     "text": [
      "Finished Epoch 2 || Run Time:    0.9 | Load Time:    5.8 || F1:  21.25 | Prec:  11.94 | Rec:  96.43 || Ex/s: 859.03\n",
      "\n",
      "===>  EVAL Epoch 2\n"
     ]
    },
    {
     "name": "stderr",
     "output_type": "stream",
     "text": [
      "0% [███████] 100% | ETA: 00:00:00\n",
      "Total time elapsed: 00:00:02\n"
     ]
    },
    {
     "name": "stdout",
     "output_type": "stream",
     "text": [
      "Finished Epoch 2 || Run Time:    0.2 | Load Time:    2.0 || F1:  21.34 | Prec:  12.08 | Rec:  91.75 || Ex/s: 859.30\n",
      "\n",
      "* Best F1: 21.343873517786562\n",
      "Saving best model...\n",
      "Done.\n",
      "---------------------\n",
      "\n",
      "===>  TRAIN Epoch 3\n"
     ]
    },
    {
     "name": "stderr",
     "output_type": "stream",
     "text": [
      "0% [███████████████████████] 100% | ETA: 00:00:00\n",
      "Total time elapsed: 00:00:06\n"
     ]
    },
    {
     "name": "stdout",
     "output_type": "stream",
     "text": [
      "Finished Epoch 3 || Run Time:    0.9 | Load Time:    6.0 || F1:  27.71 | Prec:  16.20 | Rec:  95.78 || Ex/s: 832.37\n",
      "\n",
      "===>  EVAL Epoch 3\n"
     ]
    },
    {
     "name": "stderr",
     "output_type": "stream",
     "text": [
      "0% [███████] 100% | ETA: 00:00:00\n",
      "Total time elapsed: 00:00:01\n"
     ]
    },
    {
     "name": "stdout",
     "output_type": "stream",
     "text": [
      "Finished Epoch 3 || Run Time:    0.2 | Load Time:    1.9 || F1:  26.54 | Prec:  15.78 | Rec:  83.50 || Ex/s: 912.14\n",
      "\n",
      "* Best F1: 26.54320987654321\n",
      "Saving best model...\n",
      "Done.\n",
      "---------------------\n",
      "\n",
      "===>  TRAIN Epoch 4\n"
     ]
    },
    {
     "name": "stderr",
     "output_type": "stream",
     "text": [
      "0% [███████████████████████] 100% | ETA: 00:00:00\n",
      "Total time elapsed: 00:00:06\n"
     ]
    },
    {
     "name": "stdout",
     "output_type": "stream",
     "text": [
      "Finished Epoch 4 || Run Time:    0.9 | Load Time:    5.8 || F1:  37.16 | Prec:  23.01 | Rec:  96.59 || Ex/s: 861.78\n",
      "\n",
      "===>  EVAL Epoch 4\n"
     ]
    },
    {
     "name": "stderr",
     "output_type": "stream",
     "text": [
      "0% [███████] 100% | ETA: 00:00:00\n",
      "Total time elapsed: 00:00:01\n"
     ]
    },
    {
     "name": "stdout",
     "output_type": "stream",
     "text": [
      "Finished Epoch 4 || Run Time:    0.2 | Load Time:    1.9 || F1:  29.83 | Prec:  18.70 | Rec:  73.79 || Ex/s: 911.48\n",
      "\n",
      "* Best F1: 29.83316977428852\n",
      "Saving best model...\n",
      "Done.\n",
      "---------------------\n",
      "\n",
      "===>  TRAIN Epoch 5\n"
     ]
    },
    {
     "name": "stderr",
     "output_type": "stream",
     "text": [
      "0% [███████████████████████] 100% | ETA: 00:00:00\n",
      "Total time elapsed: 00:00:06\n"
     ]
    },
    {
     "name": "stdout",
     "output_type": "stream",
     "text": [
      "Finished Epoch 5 || Run Time:    0.9 | Load Time:    5.9 || F1:  45.69 | Prec:  29.86 | Rec:  97.24 || Ex/s: 848.09\n",
      "\n",
      "===>  EVAL Epoch 5\n"
     ]
    },
    {
     "name": "stderr",
     "output_type": "stream",
     "text": [
      "0% [███████] 100% | ETA: 00:00:00\n",
      "Total time elapsed: 00:00:02\n"
     ]
    },
    {
     "name": "stdout",
     "output_type": "stream",
     "text": [
      "Finished Epoch 5 || Run Time:    0.2 | Load Time:    2.1 || F1:  32.80 | Prec:  21.47 | Rec:  69.42 || Ex/s: 845.63\n",
      "\n",
      "* Best F1: 32.79816513761468\n",
      "Saving best model...\n",
      "Done.\n",
      "---------------------\n",
      "\n",
      "===>  TRAIN Epoch 6\n"
     ]
    },
    {
     "name": "stderr",
     "output_type": "stream",
     "text": [
      "0% [███████████████████████] 100% | ETA: 00:00:00\n",
      "Total time elapsed: 00:00:07\n"
     ]
    },
    {
     "name": "stdout",
     "output_type": "stream",
     "text": [
      "Finished Epoch 6 || Run Time:    1.0 | Load Time:    6.3 || F1:  52.21 | Prec:  35.62 | Rec:  97.73 || Ex/s: 786.09\n",
      "\n",
      "===>  EVAL Epoch 6\n"
     ]
    },
    {
     "name": "stderr",
     "output_type": "stream",
     "text": [
      "0% [███████] 100% | ETA: 00:00:00\n",
      "Total time elapsed: 00:00:02\n"
     ]
    },
    {
     "name": "stdout",
     "output_type": "stream",
     "text": [
      "Finished Epoch 6 || Run Time:    0.2 | Load Time:    2.2 || F1:  33.45 | Prec:  21.98 | Rec:  69.90 || Ex/s: 810.25\n",
      "\n",
      "* Best F1: 33.44947735191638\n",
      "Saving best model...\n",
      "Done.\n",
      "---------------------\n",
      "\n",
      "===>  TRAIN Epoch 7\n"
     ]
    },
    {
     "name": "stderr",
     "output_type": "stream",
     "text": [
      "0% [███████████████████████] 100% | ETA: 00:00:00\n",
      "Total time elapsed: 00:00:07\n"
     ]
    },
    {
     "name": "stdout",
     "output_type": "stream",
     "text": [
      "Finished Epoch 7 || Run Time:    1.1 | Load Time:    6.5 || F1:  58.48 | Prec:  41.64 | Rec:  98.21 || Ex/s: 752.84\n",
      "\n",
      "===>  EVAL Epoch 7\n"
     ]
    },
    {
     "name": "stderr",
     "output_type": "stream",
     "text": [
      "0% [███████] 100% | ETA: 00:00:00\n",
      "Total time elapsed: 00:00:02\n"
     ]
    },
    {
     "name": "stdout",
     "output_type": "stream",
     "text": [
      "Finished Epoch 7 || Run Time:    0.2 | Load Time:    2.3 || F1:  35.72 | Prec:  25.15 | Rec:  61.65 || Ex/s: 771.98\n",
      "\n",
      "* Best F1: 35.72433192686358\n",
      "Saving best model...\n",
      "Done.\n",
      "---------------------\n",
      "\n",
      "===>  TRAIN Epoch 8\n"
     ]
    },
    {
     "name": "stderr",
     "output_type": "stream",
     "text": [
      "0% [███████████████████████] 100% | ETA: 00:00:00\n",
      "Total time elapsed: 00:00:07\n"
     ]
    },
    {
     "name": "stdout",
     "output_type": "stream",
     "text": [
      "Finished Epoch 8 || Run Time:    1.0 | Load Time:    6.4 || F1:  62.64 | Prec:  45.92 | Rec:  98.54 || Ex/s: 772.92\n",
      "\n",
      "===>  EVAL Epoch 8\n"
     ]
    },
    {
     "name": "stderr",
     "output_type": "stream",
     "text": [
      "0% [███████] 100% | ETA: 00:00:00\n",
      "Total time elapsed: 00:00:02\n"
     ]
    },
    {
     "name": "stdout",
     "output_type": "stream",
     "text": [
      "Finished Epoch 8 || Run Time:    0.2 | Load Time:    2.1 || F1:  37.61 | Prec:  29.02 | Rec:  53.40 || Ex/s: 842.67\n",
      "\n",
      "* Best F1: 37.60683760683761\n",
      "Saving best model...\n",
      "Done.\n",
      "---------------------\n",
      "\n",
      "===>  TRAIN Epoch 9\n"
     ]
    },
    {
     "name": "stderr",
     "output_type": "stream",
     "text": [
      "0% [███████████████████████] 100% | ETA: 00:00:00\n",
      "Total time elapsed: 00:00:07\n"
     ]
    },
    {
     "name": "stdout",
     "output_type": "stream",
     "text": [
      "Finished Epoch 9 || Run Time:    1.1 | Load Time:    6.7 || F1:  67.63 | Prec:  51.44 | Rec:  98.70 || Ex/s: 735.96\n",
      "\n",
      "===>  EVAL Epoch 9\n"
     ]
    },
    {
     "name": "stderr",
     "output_type": "stream",
     "text": [
      "0% [███████] 100% | ETA: 00:00:00\n",
      "Total time elapsed: 00:00:02\n"
     ]
    },
    {
     "name": "stdout",
     "output_type": "stream",
     "text": [
      "Finished Epoch 9 || Run Time:    0.2 | Load Time:    2.1 || F1:  38.18 | Prec:  29.27 | Rec:  54.85 || Ex/s: 814.75\n",
      "\n",
      "* Best F1: 38.17567567567568\n",
      "Saving best model...\n",
      "Done.\n",
      "---------------------\n",
      "\n",
      "===>  TRAIN Epoch 10\n"
     ]
    },
    {
     "name": "stderr",
     "output_type": "stream",
     "text": [
      "0% [███████████████████████] 100% | ETA: 00:00:00\n",
      "Total time elapsed: 00:00:07\n"
     ]
    },
    {
     "name": "stdout",
     "output_type": "stream",
     "text": [
      "Finished Epoch 10 || Run Time:    1.0 | Load Time:    6.4 || F1:  70.57 | Prec:  54.92 | Rec:  98.70 || Ex/s: 770.90\n",
      "\n",
      "===>  EVAL Epoch 10\n"
     ]
    },
    {
     "name": "stderr",
     "output_type": "stream",
     "text": [
      "0% [███████] 100% | ETA: 00:00:00\n",
      "Total time elapsed: 00:00:02\n"
     ]
    },
    {
     "name": "stdout",
     "output_type": "stream",
     "text": [
      "Finished Epoch 10 || Run Time:    0.2 | Load Time:    2.0 || F1:  37.42 | Prec:  28.39 | Rec:  54.85 || Ex/s: 864.88\n",
      "\n",
      "---------------------\n",
      "\n",
      "===>  TRAIN Epoch 11\n"
     ]
    },
    {
     "name": "stderr",
     "output_type": "stream",
     "text": [
      "0% [███████████████████████] 100% | ETA: 00:00:00\n",
      "Total time elapsed: 00:00:07\n"
     ]
    },
    {
     "name": "stdout",
     "output_type": "stream",
     "text": [
      "Finished Epoch 11 || Run Time:    1.0 | Load Time:    6.3 || F1:  73.11 | Prec:  58.00 | Rec:  98.86 || Ex/s: 782.38\n",
      "\n",
      "===>  EVAL Epoch 11\n"
     ]
    },
    {
     "name": "stderr",
     "output_type": "stream",
     "text": [
      "0% [███████] 100% | ETA: 00:00:00\n",
      "Total time elapsed: 00:00:02\n"
     ]
    },
    {
     "name": "stdout",
     "output_type": "stream",
     "text": [
      "Finished Epoch 11 || Run Time:    0.2 | Load Time:    2.1 || F1:  37.77 | Prec:  28.94 | Rec:  54.37 || Ex/s: 835.29\n",
      "\n",
      "---------------------\n",
      "\n",
      "===>  TRAIN Epoch 12\n"
     ]
    },
    {
     "name": "stderr",
     "output_type": "stream",
     "text": [
      "0% [███████████████████████] 100% | ETA: 00:00:00\n",
      "Total time elapsed: 00:00:07\n"
     ]
    },
    {
     "name": "stdout",
     "output_type": "stream",
     "text": [
      "Finished Epoch 12 || Run Time:    1.0 | Load Time:    6.2 || F1:  74.71 | Prec:  59.98 | Rec:  99.03 || Ex/s: 802.53\n",
      "\n",
      "===>  EVAL Epoch 12\n"
     ]
    },
    {
     "name": "stderr",
     "output_type": "stream",
     "text": [
      "0% [███████] 100% | ETA: 00:00:00\n",
      "Total time elapsed: 00:00:02\n"
     ]
    },
    {
     "name": "stdout",
     "output_type": "stream",
     "text": [
      "Finished Epoch 12 || Run Time:    0.2 | Load Time:    2.1 || F1:  37.52 | Prec:  29.07 | Rec:  52.91 || Ex/s: 832.92\n",
      "\n",
      "---------------------\n",
      "\n",
      "===>  TRAIN Epoch 13\n"
     ]
    },
    {
     "name": "stderr",
     "output_type": "stream",
     "text": [
      "0% [███████████████████████] 100% | ETA: 00:00:00\n",
      "Total time elapsed: 00:00:07\n"
     ]
    },
    {
     "name": "stdout",
     "output_type": "stream",
     "text": [
      "Finished Epoch 13 || Run Time:    1.0 | Load Time:    6.2 || F1:  76.28 | Prec:  61.97 | Rec:  99.19 || Ex/s: 804.46\n",
      "\n",
      "===>  EVAL Epoch 13\n"
     ]
    },
    {
     "name": "stderr",
     "output_type": "stream",
     "text": [
      "0% [███████] 100% | ETA: 00:00:00\n",
      "Total time elapsed: 00:00:02\n"
     ]
    },
    {
     "name": "stdout",
     "output_type": "stream",
     "text": [
      "Finished Epoch 13 || Run Time:    0.2 | Load Time:    2.3 || F1:  36.52 | Prec:  28.77 | Rec:  50.00 || Ex/s: 775.04\n",
      "\n",
      "---------------------\n",
      "\n",
      "===>  TRAIN Epoch 14\n"
     ]
    },
    {
     "name": "stderr",
     "output_type": "stream",
     "text": [
      "0% [███████████████████████] 100% | ETA: 00:00:00\n",
      "Total time elapsed: 00:00:07\n"
     ]
    },
    {
     "name": "stdout",
     "output_type": "stream",
     "text": [
      "Finished Epoch 14 || Run Time:    1.0 | Load Time:    6.2 || F1:  77.15 | Prec:  63.12 | Rec:  99.19 || Ex/s: 800.43\n",
      "\n",
      "===>  EVAL Epoch 14\n"
     ]
    },
    {
     "name": "stderr",
     "output_type": "stream",
     "text": [
      "0% [███████] 100% | ETA: 00:00:00\n",
      "Total time elapsed: 00:00:02\n"
     ]
    },
    {
     "name": "stdout",
     "output_type": "stream",
     "text": [
      "Finished Epoch 14 || Run Time:    0.2 | Load Time:    2.2 || F1:  36.97 | Prec:  29.85 | Rec:  48.54 || Ex/s: 808.41\n",
      "\n",
      "---------------------\n",
      "\n",
      "===>  TRAIN Epoch 15\n"
     ]
    },
    {
     "name": "stderr",
     "output_type": "stream",
     "text": [
      "0% [███████████████████████] 100% | ETA: 00:00:00\n",
      "Total time elapsed: 00:00:07\n"
     ]
    },
    {
     "name": "stdout",
     "output_type": "stream",
     "text": [
      "Finished Epoch 15 || Run Time:    1.0 | Load Time:    6.2 || F1:  77.69 | Prec:  63.85 | Rec:  99.19 || Ex/s: 794.61\n",
      "\n",
      "===>  EVAL Epoch 15\n"
     ]
    },
    {
     "name": "stderr",
     "output_type": "stream",
     "text": [
      "0% [███████] 100% | ETA: 00:00:00\n",
      "Total time elapsed: 00:00:02\n"
     ]
    },
    {
     "name": "stdout",
     "output_type": "stream",
     "text": [
      "Finished Epoch 15 || Run Time:    0.2 | Load Time:    2.2 || F1:  36.22 | Prec:  30.03 | Rec:  45.63 || Ex/s: 801.72\n",
      "\n",
      "---------------------\n",
      "\n",
      "Loading best model...\n",
      "Training done.\n"
     ]
    },
    {
     "data": {
      "text/plain": [
       "38.17567567567568"
      ]
     },
     "execution_count": 6,
     "metadata": {},
     "output_type": "execute_result"
    }
   ],
   "source": [
    "model = dm.MatchingModel(attr_summarizer='sif')\n",
    "model.run_train(\n",
    "    train,\n",
    "    validation,\n",
    "    epochs=15,\n",
    "    batch_size=50,\n",
    "    best_save_path='sif_model.pth',\n",
    "    pos_neg_ratio=10)"
   ]
  },
  {
   "cell_type": "code",
   "execution_count": 7,
   "metadata": {},
   "outputs": [
    {
     "name": "stdout",
     "output_type": "stream",
     "text": [
      "===>  EVAL Epoch 9\n"
     ]
    },
    {
     "name": "stderr",
     "output_type": "stream",
     "text": [
      "0% [████████████] 100% | ETA: 00:00:00\n",
      "Total time elapsed: 00:00:02\n"
     ]
    },
    {
     "name": "stdout",
     "output_type": "stream",
     "text": [
      "Finished Epoch 9 || Run Time:    0.3 | Load Time:    2.0 || F1:  36.06 | Prec:  27.48 | Rec:  52.43 || Ex/s: 862.34\n",
      "\n"
     ]
    },
    {
     "data": {
      "text/plain": [
       "36.06010016694491"
      ]
     },
     "execution_count": 7,
     "metadata": {},
     "output_type": "execute_result"
    }
   ],
   "source": [
    "# The F-1 score for SIF approach\n",
    "model.run_eval(test)"
   ]
  },
  {
   "cell_type": "code",
   "execution_count": 8,
   "metadata": {},
   "outputs": [
    {
     "name": "stdout",
     "output_type": "stream",
     "text": [
      "* Number of trainable parameters: 1762802\n",
      "===>  TRAIN Epoch 1\n"
     ]
    },
    {
     "name": "stderr",
     "output_type": "stream",
     "text": [
      "0% [███████████████████████] 100% | ETA: 00:00:00\n",
      "Total time elapsed: 00:00:09\n"
     ]
    },
    {
     "name": "stdout",
     "output_type": "stream",
     "text": [
      "Finished Epoch 1 || Run Time:    3.9 | Load Time:    5.7 || F1:  21.37 | Prec:  12.02 | Rec:  96.10 || Ex/s: 597.03\n",
      "\n",
      "===>  EVAL Epoch 1\n"
     ]
    },
    {
     "name": "stderr",
     "output_type": "stream",
     "text": [
      "0% [███████] 100% | ETA: 00:00:00\n",
      "Total time elapsed: 00:00:02\n"
     ]
    },
    {
     "name": "stdout",
     "output_type": "stream",
     "text": [
      "Finished Epoch 1 || Run Time:    0.4 | Load Time:    1.9 || F1:  23.97 | Prec:  13.66 | Rec:  97.57 || Ex/s: 812.77\n",
      "\n",
      "* Best F1: 23.971377459749554\n",
      "Saving best model...\n",
      "Done.\n",
      "---------------------\n",
      "\n",
      "===>  TRAIN Epoch 2\n"
     ]
    },
    {
     "name": "stderr",
     "output_type": "stream",
     "text": [
      "0% [███████████████████████] 100% | ETA: 00:00:00\n",
      "Total time elapsed: 00:00:09\n"
     ]
    },
    {
     "name": "stdout",
     "output_type": "stream",
     "text": [
      "Finished Epoch 2 || Run Time:    4.0 | Load Time:    6.0 || F1:  29.69 | Prec:  17.54 | Rec:  96.43 || Ex/s: 576.27\n",
      "\n",
      "===>  EVAL Epoch 2\n"
     ]
    },
    {
     "name": "stderr",
     "output_type": "stream",
     "text": [
      "0% [███████] 100% | ETA: 00:00:00\n",
      "Total time elapsed: 00:00:02\n"
     ]
    },
    {
     "name": "stdout",
     "output_type": "stream",
     "text": [
      "Finished Epoch 2 || Run Time:    0.4 | Load Time:    1.9 || F1:  32.46 | Prec:  19.65 | Rec:  93.20 || Ex/s: 814.96\n",
      "\n",
      "* Best F1: 32.45984784446323\n",
      "Saving best model...\n",
      "Done.\n",
      "---------------------\n",
      "\n",
      "===>  TRAIN Epoch 3\n"
     ]
    },
    {
     "name": "stderr",
     "output_type": "stream",
     "text": [
      "0% [███████████████████████] 100% | ETA: 00:00:00\n",
      "Total time elapsed: 00:00:10\n"
     ]
    },
    {
     "name": "stdout",
     "output_type": "stream",
     "text": [
      "Finished Epoch 3 || Run Time:    4.1 | Load Time:    6.2 || F1:  42.04 | Prec:  26.73 | Rec:  98.38 || Ex/s: 555.99\n",
      "\n",
      "===>  EVAL Epoch 3\n"
     ]
    },
    {
     "name": "stderr",
     "output_type": "stream",
     "text": [
      "0% [███████] 100% | ETA: 00:00:00\n",
      "Total time elapsed: 00:00:02\n"
     ]
    },
    {
     "name": "stdout",
     "output_type": "stream",
     "text": [
      "Finished Epoch 3 || Run Time:    0.4 | Load Time:    1.9 || F1:  36.49 | Prec:  23.75 | Rec:  78.64 || Ex/s: 810.20\n",
      "\n",
      "* Best F1: 36.48648648648649\n",
      "Saving best model...\n",
      "Done.\n",
      "---------------------\n",
      "\n",
      "===>  TRAIN Epoch 4\n"
     ]
    },
    {
     "name": "stderr",
     "output_type": "stream",
     "text": [
      "0% [███████████████████████] 100% | ETA: 00:00:00\n",
      "Total time elapsed: 00:00:10\n"
     ]
    },
    {
     "name": "stdout",
     "output_type": "stream",
     "text": [
      "Finished Epoch 4 || Run Time:    4.0 | Load Time:    6.0 || F1:  56.74 | Prec:  39.82 | Rec:  98.70 || Ex/s: 571.31\n",
      "\n",
      "===>  EVAL Epoch 4\n"
     ]
    },
    {
     "name": "stderr",
     "output_type": "stream",
     "text": [
      "0% [███████] 100% | ETA: 00:00:00\n",
      "Total time elapsed: 00:00:02\n"
     ]
    },
    {
     "name": "stdout",
     "output_type": "stream",
     "text": [
      "Finished Epoch 4 || Run Time:    0.5 | Load Time:    2.2 || F1:  38.22 | Prec:  28.93 | Rec:  56.31 || Ex/s: 716.24\n",
      "\n",
      "* Best F1: 38.220757825370676\n",
      "Saving best model...\n",
      "Done.\n",
      "---------------------\n",
      "\n",
      "===>  TRAIN Epoch 5\n"
     ]
    },
    {
     "name": "stderr",
     "output_type": "stream",
     "text": [
      "0% [███████████████████████] 100% | ETA: 00:00:00\n",
      "Total time elapsed: 00:00:10\n"
     ]
    },
    {
     "name": "stdout",
     "output_type": "stream",
     "text": [
      "Finished Epoch 5 || Run Time:    4.0 | Load Time:    6.1 || F1:  70.85 | Prec:  55.15 | Rec:  99.03 || Ex/s: 568.31\n",
      "\n",
      "===>  EVAL Epoch 5\n"
     ]
    },
    {
     "name": "stderr",
     "output_type": "stream",
     "text": [
      "0% [███████] 100% | ETA: 00:00:00\n",
      "Total time elapsed: 00:00:02\n"
     ]
    },
    {
     "name": "stdout",
     "output_type": "stream",
     "text": [
      "Finished Epoch 5 || Run Time:    0.5 | Load Time:    2.1 || F1:  41.11 | Prec:  33.23 | Rec:  53.88 || Ex/s: 755.39\n",
      "\n",
      "* Best F1: 41.11111111111111\n",
      "Saving best model...\n",
      "Done.\n",
      "---------------------\n",
      "\n",
      "===>  TRAIN Epoch 6\n"
     ]
    },
    {
     "name": "stderr",
     "output_type": "stream",
     "text": [
      "0% [███████████████████████] 100% | ETA: 00:00:00\n",
      "Total time elapsed: 00:00:10\n"
     ]
    },
    {
     "name": "stdout",
     "output_type": "stream",
     "text": [
      "Finished Epoch 6 || Run Time:    4.1 | Load Time:    6.1 || F1:  79.53 | Prec:  66.59 | Rec:  98.70 || Ex/s: 567.89\n",
      "\n",
      "===>  EVAL Epoch 6\n"
     ]
    },
    {
     "name": "stderr",
     "output_type": "stream",
     "text": [
      "0% [███████] 100% | ETA: 00:00:00\n",
      "Total time elapsed: 00:00:02\n"
     ]
    },
    {
     "name": "stdout",
     "output_type": "stream",
     "text": [
      "Finished Epoch 6 || Run Time:    0.5 | Load Time:    2.1 || F1:  39.56 | Prec:  29.13 | Rec:  61.65 || Ex/s: 760.98\n",
      "\n",
      "---------------------\n",
      "\n",
      "===>  TRAIN Epoch 7\n"
     ]
    },
    {
     "name": "stderr",
     "output_type": "stream",
     "text": [
      "0% [███████████████████████] 100% | ETA: 00:00:00\n",
      "Total time elapsed: 00:00:09\n"
     ]
    },
    {
     "name": "stdout",
     "output_type": "stream",
     "text": [
      "Finished Epoch 7 || Run Time:    4.0 | Load Time:    5.9 || F1:  86.81 | Prec:  77.08 | Rec:  99.35 || Ex/s: 582.03\n",
      "\n",
      "===>  EVAL Epoch 7\n"
     ]
    },
    {
     "name": "stderr",
     "output_type": "stream",
     "text": [
      "0% [███████] 100% | ETA: 00:00:00\n",
      "Total time elapsed: 00:00:02\n"
     ]
    },
    {
     "name": "stdout",
     "output_type": "stream",
     "text": [
      "Finished Epoch 7 || Run Time:    0.4 | Load Time:    1.9 || F1:  38.34 | Prec:  28.57 | Rec:  58.25 || Ex/s: 820.70\n",
      "\n",
      "---------------------\n",
      "\n",
      "===>  TRAIN Epoch 8\n"
     ]
    },
    {
     "name": "stderr",
     "output_type": "stream",
     "text": [
      "0% [███████████████████████] 100% | ETA: 00:00:00\n",
      "Total time elapsed: 00:00:09\n"
     ]
    },
    {
     "name": "stdout",
     "output_type": "stream",
     "text": [
      "Finished Epoch 8 || Run Time:    3.9 | Load Time:    5.7 || F1:  88.65 | Prec:  79.92 | Rec:  99.51 || Ex/s: 597.60\n",
      "\n",
      "===>  EVAL Epoch 8\n"
     ]
    },
    {
     "name": "stderr",
     "output_type": "stream",
     "text": [
      "0% [███████] 100% | ETA: 00:00:00\n",
      "Total time elapsed: 00:00:02\n"
     ]
    },
    {
     "name": "stdout",
     "output_type": "stream",
     "text": [
      "Finished Epoch 8 || Run Time:    0.4 | Load Time:    1.9 || F1:  39.36 | Prec:  33.56 | Rec:  47.57 || Ex/s: 820.64\n",
      "\n",
      "---------------------\n",
      "\n",
      "===>  TRAIN Epoch 9\n"
     ]
    },
    {
     "name": "stderr",
     "output_type": "stream",
     "text": [
      "0% [███████████████████████] 100% | ETA: 00:00:00\n",
      "Total time elapsed: 00:00:09\n"
     ]
    },
    {
     "name": "stdout",
     "output_type": "stream",
     "text": [
      "Finished Epoch 9 || Run Time:    3.9 | Load Time:    5.7 || F1:  91.18 | Prec:  83.90 | Rec:  99.84 || Ex/s: 596.26\n",
      "\n",
      "===>  EVAL Epoch 9\n"
     ]
    },
    {
     "name": "stderr",
     "output_type": "stream",
     "text": [
      "0% [███████] 100% | ETA: 00:00:00\n",
      "Total time elapsed: 00:00:02\n"
     ]
    },
    {
     "name": "stdout",
     "output_type": "stream",
     "text": [
      "Finished Epoch 9 || Run Time:    0.4 | Load Time:    1.9 || F1:  36.49 | Prec:  34.80 | Rec:  38.35 || Ex/s: 821.28\n",
      "\n",
      "---------------------\n",
      "\n",
      "===>  TRAIN Epoch 10\n"
     ]
    },
    {
     "name": "stderr",
     "output_type": "stream",
     "text": [
      "0% [███████████████████████] 100% | ETA: 00:00:00\n",
      "Total time elapsed: 00:00:09\n"
     ]
    },
    {
     "name": "stdout",
     "output_type": "stream",
     "text": [
      "Finished Epoch 10 || Run Time:    3.9 | Load Time:    5.8 || F1:  92.83 | Prec:  86.74 | Rec:  99.84 || Ex/s: 595.64\n",
      "\n",
      "===>  EVAL Epoch 10\n"
     ]
    },
    {
     "name": "stderr",
     "output_type": "stream",
     "text": [
      "0% [███████] 100% | ETA: 00:00:00\n",
      "Total time elapsed: 00:00:02\n"
     ]
    },
    {
     "name": "stdout",
     "output_type": "stream",
     "text": [
      "Finished Epoch 10 || Run Time:    0.4 | Load Time:    1.9 || F1:  36.71 | Prec:  36.54 | Rec:  36.89 || Ex/s: 821.02\n",
      "\n",
      "---------------------\n",
      "\n",
      "===>  TRAIN Epoch 11\n"
     ]
    },
    {
     "name": "stderr",
     "output_type": "stream",
     "text": [
      "0% [███████████████████████] 100% | ETA: 00:00:00\n",
      "Total time elapsed: 00:00:09\n"
     ]
    },
    {
     "name": "stdout",
     "output_type": "stream",
     "text": [
      "Finished Epoch 11 || Run Time:    4.0 | Load Time:    6.0 || F1:  94.33 | Prec:  89.39 | Rec:  99.84 || Ex/s: 577.63\n",
      "\n",
      "===>  EVAL Epoch 11\n"
     ]
    },
    {
     "name": "stderr",
     "output_type": "stream",
     "text": [
      "0% [███████] 100% | ETA: 00:00:00\n",
      "Total time elapsed: 00:00:02\n"
     ]
    },
    {
     "name": "stdout",
     "output_type": "stream",
     "text": [
      "Finished Epoch 11 || Run Time:    0.5 | Load Time:    2.1 || F1:  35.26 | Prec:  36.65 | Rec:  33.98 || Ex/s: 761.31\n",
      "\n",
      "---------------------\n",
      "\n",
      "===>  TRAIN Epoch 12\n"
     ]
    },
    {
     "name": "stderr",
     "output_type": "stream",
     "text": [
      "0% [███████████████████████] 100% | ETA: 00:00:00\n",
      "Total time elapsed: 00:00:10\n"
     ]
    },
    {
     "name": "stdout",
     "output_type": "stream",
     "text": [
      "Finished Epoch 12 || Run Time:    4.1 | Load Time:    6.2 || F1:  95.35 | Prec:  91.25 | Rec:  99.84 || Ex/s: 552.96\n",
      "\n",
      "===>  EVAL Epoch 12\n"
     ]
    },
    {
     "name": "stderr",
     "output_type": "stream",
     "text": [
      "0% [███████] 100% | ETA: 00:00:00\n",
      "Total time elapsed: 00:00:02\n"
     ]
    },
    {
     "name": "stdout",
     "output_type": "stream",
     "text": [
      "Finished Epoch 12 || Run Time:    0.5 | Load Time:    2.2 || F1:  35.11 | Prec:  36.90 | Rec:  33.50 || Ex/s: 725.72\n",
      "\n",
      "---------------------\n",
      "\n",
      "===>  TRAIN Epoch 13\n"
     ]
    },
    {
     "name": "stderr",
     "output_type": "stream",
     "text": [
      "0% [███████████████████████] 100% | ETA: 00:00:00\n",
      "Total time elapsed: 00:00:09\n"
     ]
    },
    {
     "name": "stdout",
     "output_type": "stream",
     "text": [
      "Finished Epoch 13 || Run Time:    3.9 | Load Time:    5.8 || F1:  95.80 | Prec:  91.94 | Rec: 100.00 || Ex/s: 587.83\n",
      "\n",
      "===>  EVAL Epoch 13\n"
     ]
    },
    {
     "name": "stderr",
     "output_type": "stream",
     "text": [
      "0% [███████] 100% | ETA: 00:00:00\n",
      "Total time elapsed: 00:00:02\n"
     ]
    },
    {
     "name": "stdout",
     "output_type": "stream",
     "text": [
      "Finished Epoch 13 || Run Time:    0.4 | Load Time:    1.9 || F1:  35.35 | Prec:  36.84 | Rec:  33.98 || Ex/s: 829.75\n",
      "\n",
      "---------------------\n",
      "\n",
      "===>  TRAIN Epoch 14\n"
     ]
    },
    {
     "name": "stderr",
     "output_type": "stream",
     "text": [
      "0% [███████████████████████] 100% | ETA: 00:00:00\n",
      "Total time elapsed: 00:00:09\n"
     ]
    },
    {
     "name": "stdout",
     "output_type": "stream",
     "text": [
      "Finished Epoch 14 || Run Time:    3.9 | Load Time:    5.7 || F1:  96.33 | Prec:  92.91 | Rec: 100.00 || Ex/s: 599.77\n",
      "\n",
      "===>  EVAL Epoch 14\n"
     ]
    },
    {
     "name": "stderr",
     "output_type": "stream",
     "text": [
      "0% [███████] 100% | ETA: 00:00:00\n",
      "Total time elapsed: 00:00:02\n"
     ]
    },
    {
     "name": "stdout",
     "output_type": "stream",
     "text": [
      "Finished Epoch 14 || Run Time:    0.4 | Load Time:    1.9 || F1:  35.50 | Prec:  36.60 | Rec:  34.47 || Ex/s: 831.18\n",
      "\n",
      "---------------------\n",
      "\n",
      "===>  TRAIN Epoch 15\n"
     ]
    },
    {
     "name": "stderr",
     "output_type": "stream",
     "text": [
      "0% [███████████████████████] 100% | ETA: 00:00:00\n",
      "Total time elapsed: 00:00:09\n"
     ]
    },
    {
     "name": "stdout",
     "output_type": "stream",
     "text": [
      "Finished Epoch 15 || Run Time:    3.9 | Load Time:    5.9 || F1:  96.40 | Prec:  93.05 | Rec: 100.00 || Ex/s: 585.18\n",
      "\n",
      "===>  EVAL Epoch 15\n"
     ]
    },
    {
     "name": "stderr",
     "output_type": "stream",
     "text": [
      "0% [███████] 100% | ETA: 00:00:00\n",
      "Total time elapsed: 00:00:02\n"
     ]
    },
    {
     "name": "stdout",
     "output_type": "stream",
     "text": [
      "Finished Epoch 15 || Run Time:    0.4 | Load Time:    1.9 || F1:  35.24 | Prec:  36.04 | Rec:  34.47 || Ex/s: 807.21\n",
      "\n",
      "---------------------\n",
      "\n",
      "Loading best model...\n",
      "Training done.\n"
     ]
    },
    {
     "data": {
      "text/plain": [
       "41.11111111111111"
      ]
     },
     "execution_count": 8,
     "metadata": {},
     "output_type": "execute_result"
    }
   ],
   "source": [
    "model = dm.MatchingModel(attr_summarizer='rnn')\n",
    "model.run_train(\n",
    "    train,\n",
    "    validation,\n",
    "    epochs=15,\n",
    "    batch_size=50,\n",
    "    best_save_path='rnn_model.pth',\n",
    "    pos_neg_ratio=10)"
   ]
  },
  {
   "cell_type": "code",
   "execution_count": 9,
   "metadata": {},
   "outputs": [
    {
     "name": "stdout",
     "output_type": "stream",
     "text": [
      "===>  EVAL Epoch 5\n"
     ]
    },
    {
     "name": "stderr",
     "output_type": "stream",
     "text": [
      "0% [████████████] 100% | ETA: 00:00:00\n",
      "Total time elapsed: 00:00:02\n"
     ]
    },
    {
     "name": "stdout",
     "output_type": "stream",
     "text": [
      "Finished Epoch 5 || Run Time:    0.6 | Load Time:    2.0 || F1:  38.83 | Prec:  31.18 | Rec:  51.46 || Ex/s: 746.69\n",
      "\n"
     ]
    },
    {
     "data": {
      "text/plain": [
       "38.827838827838825"
      ]
     },
     "execution_count": 9,
     "metadata": {},
     "output_type": "execute_result"
    }
   ],
   "source": [
    "# The F-1 score for RNN approach\n",
    "model.run_eval(test)"
   ]
  },
  {
   "cell_type": "code",
   "execution_count": 10,
   "metadata": {},
   "outputs": [
    {
     "name": "stdout",
     "output_type": "stream",
     "text": [
      "* Number of trainable parameters: 3429602\n",
      "===>  TRAIN Epoch 1\n"
     ]
    },
    {
     "name": "stderr",
     "output_type": "stream",
     "text": [
      "0% [███████████] 100% | ETA: 00:00:00\n",
      "Total time elapsed: 00:00:13\n"
     ]
    },
    {
     "name": "stdout",
     "output_type": "stream",
     "text": [
      "Finished Epoch 1 || Run Time:    7.9 | Load Time:    6.4 || F1:  21.32 | Prec:  12.06 | Rec:  91.72 || Ex/s: 403.65\n",
      "\n",
      "===>  EVAL Epoch 1\n"
     ]
    },
    {
     "name": "stderr",
     "output_type": "stream",
     "text": [
      "0% [████] 100% | ETA: 00:00:00\n",
      "Total time elapsed: 00:00:03\n"
     ]
    },
    {
     "name": "stdout",
     "output_type": "stream",
     "text": [
      "Finished Epoch 1 || Run Time:    1.0 | Load Time:    2.1 || F1:  20.51 | Prec:  11.49 | Rec:  95.63 || Ex/s: 621.61\n",
      "\n",
      "* Best F1: 20.510150963040083\n",
      "Saving best model...\n",
      "Done.\n",
      "---------------------\n",
      "\n",
      "===>  TRAIN Epoch 2\n"
     ]
    },
    {
     "name": "stderr",
     "output_type": "stream",
     "text": [
      "0% [███████████] 100% | ETA: 00:00:00\n",
      "Total time elapsed: 00:00:13\n"
     ]
    },
    {
     "name": "stdout",
     "output_type": "stream",
     "text": [
      "Finished Epoch 2 || Run Time:    7.8 | Load Time:    6.2 || F1:  23.06 | Prec:  13.12 | Rec:  94.81 || Ex/s: 411.15\n",
      "\n",
      "===>  EVAL Epoch 2\n"
     ]
    },
    {
     "name": "stderr",
     "output_type": "stream",
     "text": [
      "0% [████] 100% | ETA: 00:00:00\n",
      "Total time elapsed: 00:00:03\n"
     ]
    },
    {
     "name": "stdout",
     "output_type": "stream",
     "text": [
      "Finished Epoch 2 || Run Time:    1.0 | Load Time:    2.0 || F1:  22.40 | Prec:  12.78 | Rec:  90.29 || Ex/s: 636.27\n",
      "\n",
      "* Best F1: 22.39614689945816\n",
      "Saving best model...\n",
      "Done.\n",
      "---------------------\n",
      "\n",
      "===>  TRAIN Epoch 3\n"
     ]
    },
    {
     "name": "stderr",
     "output_type": "stream",
     "text": [
      "0% [███████████] 100% | ETA: 00:00:00\n",
      "Total time elapsed: 00:00:13\n"
     ]
    },
    {
     "name": "stdout",
     "output_type": "stream",
     "text": [
      "Finished Epoch 3 || Run Time:    7.8 | Load Time:    6.1 || F1:  25.01 | Prec:  14.44 | Rec:  93.18 || Ex/s: 415.19\n",
      "\n",
      "===>  EVAL Epoch 3\n"
     ]
    },
    {
     "name": "stderr",
     "output_type": "stream",
     "text": [
      "0% [████] 100% | ETA: 00:00:00\n",
      "Total time elapsed: 00:00:02\n"
     ]
    },
    {
     "name": "stdout",
     "output_type": "stream",
     "text": [
      "Finished Epoch 3 || Run Time:    1.0 | Load Time:    2.0 || F1:  24.61 | Prec:  14.31 | Rec:  87.86 || Ex/s: 638.91\n",
      "\n",
      "* Best F1: 24.609109449354182\n",
      "Saving best model...\n",
      "Done.\n",
      "---------------------\n",
      "\n",
      "===>  TRAIN Epoch 4\n"
     ]
    },
    {
     "name": "stderr",
     "output_type": "stream",
     "text": [
      "0% [███████████] 100% | ETA: 00:00:00\n",
      "Total time elapsed: 00:00:13\n"
     ]
    },
    {
     "name": "stdout",
     "output_type": "stream",
     "text": [
      "Finished Epoch 4 || Run Time:    7.9 | Load Time:    6.4 || F1:  27.05 | Prec:  15.85 | Rec:  92.21 || Ex/s: 403.35\n",
      "\n",
      "===>  EVAL Epoch 4\n"
     ]
    },
    {
     "name": "stderr",
     "output_type": "stream",
     "text": [
      "0% [████] 100% | ETA: 00:00:00\n",
      "Total time elapsed: 00:00:03\n"
     ]
    },
    {
     "name": "stdout",
     "output_type": "stream",
     "text": [
      "Finished Epoch 4 || Run Time:    1.0 | Load Time:    2.1 || F1:  27.86 | Prec:  16.59 | Rec:  86.89 || Ex/s: 605.03\n",
      "\n",
      "* Best F1: 27.859922178988327\n",
      "Saving best model...\n",
      "Done.\n",
      "---------------------\n",
      "\n",
      "===>  TRAIN Epoch 5\n"
     ]
    },
    {
     "name": "stderr",
     "output_type": "stream",
     "text": [
      "0% [███████████] 100% | ETA: 00:00:00\n",
      "Total time elapsed: 00:00:13\n"
     ]
    },
    {
     "name": "stdout",
     "output_type": "stream",
     "text": [
      "Finished Epoch 5 || Run Time:    7.9 | Load Time:    6.3 || F1:  30.13 | Prec:  17.96 | Rec:  93.34 || Ex/s: 404.50\n",
      "\n",
      "===>  EVAL Epoch 5\n"
     ]
    },
    {
     "name": "stderr",
     "output_type": "stream",
     "text": [
      "0% [████] 100% | ETA: 00:00:00\n",
      "Total time elapsed: 00:00:03\n"
     ]
    },
    {
     "name": "stdout",
     "output_type": "stream",
     "text": [
      "Finished Epoch 5 || Run Time:    1.0 | Load Time:    2.0 || F1:  29.46 | Prec:  17.72 | Rec:  87.38 || Ex/s: 630.26\n",
      "\n",
      "* Best F1: 29.45990180032733\n",
      "Saving best model...\n",
      "Done.\n",
      "---------------------\n",
      "\n",
      "===>  TRAIN Epoch 6\n"
     ]
    },
    {
     "name": "stderr",
     "output_type": "stream",
     "text": [
      "0% [███████████] 100% | ETA: 00:00:00\n",
      "Total time elapsed: 00:00:13\n"
     ]
    },
    {
     "name": "stdout",
     "output_type": "stream",
     "text": [
      "Finished Epoch 6 || Run Time:    7.8 | Load Time:    6.1 || F1:  32.92 | Prec:  19.89 | Rec:  95.45 || Ex/s: 414.55\n",
      "\n",
      "===>  EVAL Epoch 6\n"
     ]
    },
    {
     "name": "stderr",
     "output_type": "stream",
     "text": [
      "0% [████] 100% | ETA: 00:00:00\n",
      "Total time elapsed: 00:00:03\n"
     ]
    },
    {
     "name": "stdout",
     "output_type": "stream",
     "text": [
      "Finished Epoch 6 || Run Time:    1.0 | Load Time:    2.0 || F1:  28.71 | Prec:  17.14 | Rec:  88.35 || Ex/s: 630.52\n",
      "\n",
      "---------------------\n",
      "\n",
      "===>  TRAIN Epoch 7\n"
     ]
    },
    {
     "name": "stderr",
     "output_type": "stream",
     "text": [
      "0% [███████████] 100% | ETA: 00:00:00\n",
      "Total time elapsed: 00:00:13\n"
     ]
    },
    {
     "name": "stdout",
     "output_type": "stream",
     "text": [
      "Finished Epoch 7 || Run Time:    7.8 | Load Time:    6.0 || F1:  35.96 | Prec:  22.16 | Rec:  95.29 || Ex/s: 415.24\n",
      "\n",
      "===>  EVAL Epoch 7\n"
     ]
    },
    {
     "name": "stderr",
     "output_type": "stream",
     "text": [
      "0% [████] 100% | ETA: 00:00:00\n",
      "Total time elapsed: 00:00:03\n"
     ]
    },
    {
     "name": "stdout",
     "output_type": "stream",
     "text": [
      "Finished Epoch 7 || Run Time:    1.0 | Load Time:    2.0 || F1:  28.64 | Prec:  17.09 | Rec:  88.35 || Ex/s: 632.83\n",
      "\n",
      "---------------------\n",
      "\n",
      "===>  TRAIN Epoch 8\n"
     ]
    },
    {
     "name": "stderr",
     "output_type": "stream",
     "text": [
      "0% [███████████] 100% | ETA: 00:00:00\n",
      "Total time elapsed: 00:00:13\n"
     ]
    },
    {
     "name": "stdout",
     "output_type": "stream",
     "text": [
      "Finished Epoch 8 || Run Time:    7.8 | Load Time:    6.0 || F1:  39.02 | Prec:  24.45 | Rec:  96.59 || Ex/s: 415.56\n",
      "\n",
      "===>  EVAL Epoch 8\n"
     ]
    },
    {
     "name": "stderr",
     "output_type": "stream",
     "text": [
      "0% [████] 100% | ETA: 00:00:00\n",
      "Total time elapsed: 00:00:03\n"
     ]
    },
    {
     "name": "stdout",
     "output_type": "stream",
     "text": [
      "Finished Epoch 8 || Run Time:    1.0 | Load Time:    2.0 || F1:  31.13 | Prec:  18.96 | Rec:  86.89 || Ex/s: 634.73\n",
      "\n",
      "* Best F1: 31.1304347826087\n",
      "Saving best model...\n",
      "Done.\n",
      "---------------------\n",
      "\n",
      "===>  TRAIN Epoch 9\n"
     ]
    },
    {
     "name": "stderr",
     "output_type": "stream",
     "text": [
      "0% [███████████] 100% | ETA: 00:00:00\n",
      "Total time elapsed: 00:00:13\n"
     ]
    },
    {
     "name": "stdout",
     "output_type": "stream",
     "text": [
      "Finished Epoch 9 || Run Time:    7.8 | Load Time:    6.1 || F1:  41.69 | Prec:  26.56 | Rec:  96.92 || Ex/s: 414.69\n",
      "\n",
      "===>  EVAL Epoch 9\n"
     ]
    },
    {
     "name": "stderr",
     "output_type": "stream",
     "text": [
      "0% [████] 100% | ETA: 00:00:00\n",
      "Total time elapsed: 00:00:03\n"
     ]
    },
    {
     "name": "stdout",
     "output_type": "stream",
     "text": [
      "Finished Epoch 9 || Run Time:    1.0 | Load Time:    2.0 || F1:  33.69 | Prec:  21.07 | Rec:  83.98 || Ex/s: 633.69\n",
      "\n",
      "* Best F1: 33.69036027263875\n",
      "Saving best model...\n",
      "Done.\n",
      "---------------------\n",
      "\n",
      "===>  TRAIN Epoch 10\n"
     ]
    },
    {
     "name": "stderr",
     "output_type": "stream",
     "text": [
      "0% [███████████] 100% | ETA: 00:00:00\n",
      "Total time elapsed: 00:00:13\n"
     ]
    },
    {
     "name": "stdout",
     "output_type": "stream",
     "text": [
      "Finished Epoch 10 || Run Time:    7.8 | Load Time:    6.1 || F1:  43.92 | Prec:  28.41 | Rec:  96.75 || Ex/s: 414.36\n",
      "\n",
      "===>  EVAL Epoch 10\n"
     ]
    },
    {
     "name": "stderr",
     "output_type": "stream",
     "text": [
      "0% [████] 100% | ETA: 00:00:00\n",
      "Total time elapsed: 00:00:03\n"
     ]
    },
    {
     "name": "stdout",
     "output_type": "stream",
     "text": [
      "Finished Epoch 10 || Run Time:    1.0 | Load Time:    2.0 || F1:  36.66 | Prec:  23.69 | Rec:  81.07 || Ex/s: 632.44\n",
      "\n",
      "* Best F1: 36.66300768386388\n",
      "Saving best model...\n",
      "Done.\n",
      "---------------------\n",
      "\n",
      "===>  TRAIN Epoch 11\n"
     ]
    },
    {
     "name": "stderr",
     "output_type": "stream",
     "text": [
      "0% [███████████] 100% | ETA: 00:00:00\n",
      "Total time elapsed: 00:00:13\n"
     ]
    },
    {
     "name": "stdout",
     "output_type": "stream",
     "text": [
      "Finished Epoch 11 || Run Time:    7.8 | Load Time:    6.1 || F1:  45.76 | Prec:  29.92 | Rec:  97.24 || Ex/s: 414.90\n",
      "\n",
      "===>  EVAL Epoch 11\n"
     ]
    },
    {
     "name": "stderr",
     "output_type": "stream",
     "text": [
      "0% [████] 100% | ETA: 00:00:00\n",
      "Total time elapsed: 00:00:03\n"
     ]
    },
    {
     "name": "stdout",
     "output_type": "stream",
     "text": [
      "Finished Epoch 11 || Run Time:    1.0 | Load Time:    2.0 || F1:  37.71 | Prec:  24.66 | Rec:  80.10 || Ex/s: 630.97\n",
      "\n",
      "* Best F1: 37.714285714285715\n",
      "Saving best model...\n",
      "Done.\n",
      "---------------------\n",
      "\n",
      "===>  TRAIN Epoch 12\n"
     ]
    },
    {
     "name": "stderr",
     "output_type": "stream",
     "text": [
      "0% [███████████] 100% | ETA: 00:00:00\n",
      "Total time elapsed: 00:00:13\n"
     ]
    },
    {
     "name": "stdout",
     "output_type": "stream",
     "text": [
      "Finished Epoch 12 || Run Time:    7.9 | Load Time:    6.3 || F1:  47.12 | Prec:  31.13 | Rec:  96.92 || Ex/s: 404.69\n",
      "\n",
      "===>  EVAL Epoch 12\n"
     ]
    },
    {
     "name": "stderr",
     "output_type": "stream",
     "text": [
      "0% [████] 100% | ETA: 00:00:00\n",
      "Total time elapsed: 00:00:03\n"
     ]
    },
    {
     "name": "stdout",
     "output_type": "stream",
     "text": [
      "Finished Epoch 12 || Run Time:    1.0 | Load Time:    2.2 || F1:  37.02 | Prec:  23.90 | Rec:  82.04 || Ex/s: 588.03\n",
      "\n",
      "---------------------\n",
      "\n",
      "===>  TRAIN Epoch 13\n"
     ]
    },
    {
     "name": "stderr",
     "output_type": "stream",
     "text": [
      "0% [███████████] 100% | ETA: 00:00:00\n",
      "Total time elapsed: 00:00:13\n"
     ]
    },
    {
     "name": "stdout",
     "output_type": "stream",
     "text": [
      "Finished Epoch 13 || Run Time:    7.8 | Load Time:    6.2 || F1:  48.46 | Prec:  32.29 | Rec:  97.08 || Ex/s: 409.69\n",
      "\n",
      "===>  EVAL Epoch 13\n"
     ]
    },
    {
     "name": "stderr",
     "output_type": "stream",
     "text": [
      "0% [████] 100% | ETA: 00:00:00\n",
      "Total time elapsed: 00:00:03\n"
     ]
    },
    {
     "name": "stdout",
     "output_type": "stream",
     "text": [
      "Finished Epoch 13 || Run Time:    1.0 | Load Time:    2.1 || F1:  34.89 | Prec:  21.92 | Rec:  85.44 || Ex/s: 622.11\n",
      "\n",
      "---------------------\n",
      "\n",
      "===>  TRAIN Epoch 14\n"
     ]
    },
    {
     "name": "stderr",
     "output_type": "stream",
     "text": [
      "0% [███████████] 100% | ETA: 00:00:00\n",
      "Total time elapsed: 00:00:13\n"
     ]
    },
    {
     "name": "stdout",
     "output_type": "stream",
     "text": [
      "Finished Epoch 14 || Run Time:    7.9 | Load Time:    6.3 || F1:  49.65 | Prec:  33.31 | Rec:  97.40 || Ex/s: 404.80\n",
      "\n",
      "===>  EVAL Epoch 14\n"
     ]
    },
    {
     "name": "stderr",
     "output_type": "stream",
     "text": [
      "0% [████] 100% | ETA: 00:00:00\n",
      "Total time elapsed: 00:00:03\n"
     ]
    },
    {
     "name": "stdout",
     "output_type": "stream",
     "text": [
      "Finished Epoch 14 || Run Time:    1.0 | Load Time:    2.1 || F1:  37.37 | Prec:  24.03 | Rec:  83.98 || Ex/s: 609.95\n",
      "\n",
      "---------------------\n",
      "\n",
      "===>  TRAIN Epoch 15\n"
     ]
    },
    {
     "name": "stderr",
     "output_type": "stream",
     "text": [
      "0% [███████████] 100% | ETA: 00:00:00\n",
      "Total time elapsed: 00:00:13\n"
     ]
    },
    {
     "name": "stdout",
     "output_type": "stream",
     "text": [
      "Finished Epoch 15 || Run Time:    7.9 | Load Time:    6.3 || F1:  50.06 | Prec:  33.73 | Rec:  97.08 || Ex/s: 404.29\n",
      "\n",
      "===>  EVAL Epoch 15\n"
     ]
    },
    {
     "name": "stderr",
     "output_type": "stream",
     "text": [
      "0% [████] 100% | ETA: 00:00:00\n",
      "Total time elapsed: 00:00:03\n"
     ]
    },
    {
     "name": "stdout",
     "output_type": "stream",
     "text": [
      "Finished Epoch 15 || Run Time:    1.0 | Load Time:    2.1 || F1:  39.26 | Prec:  26.32 | Rec:  77.18 || Ex/s: 603.16\n",
      "\n",
      "* Best F1: 39.25925925925926\n",
      "Saving best model...\n",
      "Done.\n",
      "---------------------\n",
      "\n",
      "===>  TRAIN Epoch 16\n"
     ]
    },
    {
     "name": "stderr",
     "output_type": "stream",
     "text": [
      "0% [███████████] 100% | ETA: 00:00:00\n",
      "Total time elapsed: 00:00:14\n"
     ]
    },
    {
     "name": "stdout",
     "output_type": "stream",
     "text": [
      "Finished Epoch 16 || Run Time:    8.1 | Load Time:    7.0 || F1:  51.20 | Prec:  34.74 | Rec:  97.24 || Ex/s: 380.90\n",
      "\n",
      "===>  EVAL Epoch 16\n"
     ]
    },
    {
     "name": "stderr",
     "output_type": "stream",
     "text": [
      "0% [████] 100% | ETA: 00:00:00\n",
      "Total time elapsed: 00:00:03\n"
     ]
    },
    {
     "name": "stdout",
     "output_type": "stream",
     "text": [
      "Finished Epoch 16 || Run Time:    1.1 | Load Time:    2.3 || F1:  40.90 | Prec:  28.15 | Rec:  74.76 || Ex/s: 573.52\n",
      "\n",
      "* Best F1: 40.90305444887118\n",
      "Saving best model...\n",
      "Done.\n",
      "---------------------\n",
      "\n",
      "===>  TRAIN Epoch 17\n"
     ]
    },
    {
     "name": "stderr",
     "output_type": "stream",
     "text": [
      "0% [███████████] 100% | ETA: 00:00:00\n",
      "Total time elapsed: 00:00:13\n"
     ]
    },
    {
     "name": "stdout",
     "output_type": "stream",
     "text": [
      "Finished Epoch 17 || Run Time:    7.9 | Load Time:    6.5 || F1:  51.85 | Prec:  35.41 | Rec:  96.75 || Ex/s: 398.49\n",
      "\n",
      "===>  EVAL Epoch 17\n"
     ]
    },
    {
     "name": "stderr",
     "output_type": "stream",
     "text": [
      "0% [████] 100% | ETA: 00:00:00\n",
      "Total time elapsed: 00:00:03\n"
     ]
    },
    {
     "name": "stdout",
     "output_type": "stream",
     "text": [
      "Finished Epoch 17 || Run Time:    1.0 | Load Time:    2.1 || F1:  40.68 | Prec:  27.88 | Rec:  75.24 || Ex/s: 618.37\n",
      "\n",
      "---------------------\n",
      "\n",
      "===>  TRAIN Epoch 18\n"
     ]
    },
    {
     "name": "stderr",
     "output_type": "stream",
     "text": [
      "0% [███████████] 100% | ETA: 00:00:00\n",
      "Total time elapsed: 00:00:13\n"
     ]
    },
    {
     "name": "stdout",
     "output_type": "stream",
     "text": [
      "Finished Epoch 18 || Run Time:    8.0 | Load Time:    6.7 || F1:  52.58 | Prec:  36.10 | Rec:  96.75 || Ex/s: 392.69\n",
      "\n",
      "===>  EVAL Epoch 18\n"
     ]
    },
    {
     "name": "stderr",
     "output_type": "stream",
     "text": [
      "0% [████] 100% | ETA: 00:00:00\n",
      "Total time elapsed: 00:00:03\n"
     ]
    },
    {
     "name": "stdout",
     "output_type": "stream",
     "text": [
      "Finished Epoch 18 || Run Time:    1.1 | Load Time:    2.3 || F1:  41.35 | Prec:  28.65 | Rec:  74.27 || Ex/s: 572.62\n",
      "\n",
      "* Best F1: 41.35135135135135\n",
      "Saving best model...\n",
      "Done.\n",
      "---------------------\n",
      "\n",
      "===>  TRAIN Epoch 19\n"
     ]
    },
    {
     "name": "stderr",
     "output_type": "stream",
     "text": [
      "0% [███████████] 100% | ETA: 00:00:00\n",
      "Total time elapsed: 00:00:13\n"
     ]
    },
    {
     "name": "stdout",
     "output_type": "stream",
     "text": [
      "Finished Epoch 19 || Run Time:    7.9 | Load Time:    6.4 || F1:  53.00 | Prec:  36.47 | Rec:  96.92 || Ex/s: 400.97\n",
      "\n",
      "===>  EVAL Epoch 19\n"
     ]
    },
    {
     "name": "stderr",
     "output_type": "stream",
     "text": [
      "0% [████] 100% | ETA: 00:00:00\n",
      "Total time elapsed: 00:00:03\n"
     ]
    },
    {
     "name": "stdout",
     "output_type": "stream",
     "text": [
      "Finished Epoch 19 || Run Time:    1.1 | Load Time:    2.2 || F1:  42.30 | Prec:  29.72 | Rec:  73.30 || Ex/s: 588.55\n",
      "\n",
      "* Best F1: 42.296918767507\n",
      "Saving best model...\n",
      "Done.\n",
      "---------------------\n",
      "\n",
      "===>  TRAIN Epoch 20\n"
     ]
    },
    {
     "name": "stderr",
     "output_type": "stream",
     "text": [
      "0% [███████████] 100% | ETA: 00:00:00\n",
      "Total time elapsed: 00:00:13\n"
     ]
    },
    {
     "name": "stdout",
     "output_type": "stream",
     "text": [
      "Finished Epoch 20 || Run Time:    7.9 | Load Time:    6.4 || F1:  53.11 | Prec:  36.58 | Rec:  96.92 || Ex/s: 403.29\n",
      "\n",
      "===>  EVAL Epoch 20\n"
     ]
    },
    {
     "name": "stderr",
     "output_type": "stream",
     "text": [
      "0% [████] 100% | ETA: 00:00:00\n",
      "Total time elapsed: 00:00:03\n"
     ]
    },
    {
     "name": "stdout",
     "output_type": "stream",
     "text": [
      "Finished Epoch 20 || Run Time:    1.0 | Load Time:    2.1 || F1:  42.96 | Prec:  30.38 | Rec:  73.30 || Ex/s: 620.24\n",
      "\n",
      "* Best F1: 42.95874822190612\n",
      "Saving best model...\n",
      "Done.\n",
      "---------------------\n",
      "\n",
      "===>  TRAIN Epoch 21\n"
     ]
    },
    {
     "name": "stderr",
     "output_type": "stream",
     "text": [
      "0% [███████████] 100% | ETA: 00:00:00\n",
      "Total time elapsed: 00:00:13\n"
     ]
    },
    {
     "name": "stdout",
     "output_type": "stream",
     "text": [
      "Finished Epoch 21 || Run Time:    7.8 | Load Time:    6.3 || F1:  53.85 | Prec:  37.26 | Rec:  97.08 || Ex/s: 407.94\n",
      "\n",
      "===>  EVAL Epoch 21\n"
     ]
    },
    {
     "name": "stderr",
     "output_type": "stream",
     "text": [
      "0% [████] 100% | ETA: 00:00:00\n",
      "Total time elapsed: 00:00:03\n"
     ]
    },
    {
     "name": "stdout",
     "output_type": "stream",
     "text": [
      "Finished Epoch 21 || Run Time:    1.0 | Load Time:    2.2 || F1:  42.82 | Prec:  30.16 | Rec:  73.79 || Ex/s: 602.56\n",
      "\n",
      "---------------------\n",
      "\n",
      "===>  TRAIN Epoch 22\n"
     ]
    },
    {
     "name": "stderr",
     "output_type": "stream",
     "text": [
      "0% [███████████] 100% | ETA: 00:00:00\n",
      "Total time elapsed: 00:00:13\n"
     ]
    },
    {
     "name": "stdout",
     "output_type": "stream",
     "text": [
      "Finished Epoch 22 || Run Time:    7.8 | Load Time:    6.1 || F1:  54.30 | Prec:  37.64 | Rec:  97.40 || Ex/s: 410.94\n",
      "\n",
      "===>  EVAL Epoch 22\n"
     ]
    },
    {
     "name": "stderr",
     "output_type": "stream",
     "text": [
      "0% [████] 100% | ETA: 00:00:00\n",
      "Total time elapsed: 00:00:03\n"
     ]
    },
    {
     "name": "stdout",
     "output_type": "stream",
     "text": [
      "Finished Epoch 22 || Run Time:    1.0 | Load Time:    2.1 || F1:  42.40 | Prec:  29.75 | Rec:  73.79 || Ex/s: 613.33\n",
      "\n",
      "---------------------\n",
      "\n",
      "===>  TRAIN Epoch 23\n"
     ]
    },
    {
     "name": "stderr",
     "output_type": "stream",
     "text": [
      "0% [███████████] 100% | ETA: 00:00:00\n",
      "Total time elapsed: 00:00:13\n"
     ]
    },
    {
     "name": "stdout",
     "output_type": "stream",
     "text": [
      "Finished Epoch 23 || Run Time:    7.9 | Load Time:    6.5 || F1:  54.31 | Prec:  37.67 | Rec:  97.24 || Ex/s: 398.15\n",
      "\n",
      "===>  EVAL Epoch 23\n"
     ]
    },
    {
     "name": "stderr",
     "output_type": "stream",
     "text": [
      "0% [████] 100% | ETA: 00:00:00\n",
      "Total time elapsed: 00:00:03\n"
     ]
    },
    {
     "name": "stdout",
     "output_type": "stream",
     "text": [
      "Finished Epoch 23 || Run Time:    1.0 | Load Time:    2.1 || F1:  41.86 | Prec:  29.14 | Rec:  74.27 || Ex/s: 601.62\n",
      "\n",
      "---------------------\n",
      "\n",
      "===>  TRAIN Epoch 24\n"
     ]
    },
    {
     "name": "stderr",
     "output_type": "stream",
     "text": [
      "0% [███████████] 100% | ETA: 00:00:00\n",
      "Total time elapsed: 00:00:14\n"
     ]
    },
    {
     "name": "stdout",
     "output_type": "stream",
     "text": [
      "Finished Epoch 24 || Run Time:    8.0 | Load Time:    6.9 || F1:  54.34 | Prec:  37.73 | Rec:  97.08 || Ex/s: 385.36\n",
      "\n",
      "===>  EVAL Epoch 24\n"
     ]
    },
    {
     "name": "stderr",
     "output_type": "stream",
     "text": [
      "0% [████] 100% | ETA: 00:00:00\n",
      "Total time elapsed: 00:00:03\n"
     ]
    },
    {
     "name": "stdout",
     "output_type": "stream",
     "text": [
      "Finished Epoch 24 || Run Time:    1.0 | Load Time:    2.1 || F1:  41.68 | Prec:  28.89 | Rec:  74.76 || Ex/s: 606.97\n",
      "\n",
      "---------------------\n",
      "\n",
      "===>  TRAIN Epoch 25\n"
     ]
    },
    {
     "name": "stderr",
     "output_type": "stream",
     "text": [
      "0% [███████████] 100% | ETA: 00:00:00\n",
      "Total time elapsed: 00:00:13\n"
     ]
    },
    {
     "name": "stdout",
     "output_type": "stream",
     "text": [
      "Finished Epoch 25 || Run Time:    7.9 | Load Time:    6.4 || F1:  54.49 | Prec:  37.87 | Rec:  97.08 || Ex/s: 401.79\n",
      "\n",
      "===>  EVAL Epoch 25\n"
     ]
    },
    {
     "name": "stderr",
     "output_type": "stream",
     "text": [
      "0% [████] 100% | ETA: 00:00:00\n",
      "Total time elapsed: 00:00:03\n"
     ]
    },
    {
     "name": "stdout",
     "output_type": "stream",
     "text": [
      "Finished Epoch 25 || Run Time:    1.1 | Load Time:    2.6 || F1:  41.44 | Prec:  28.60 | Rec:  75.24 || Ex/s: 513.80\n",
      "\n",
      "---------------------\n",
      "\n",
      "Loading best model...\n",
      "Training done.\n"
     ]
    },
    {
     "data": {
      "text/plain": [
       "42.95874822190612"
      ]
     },
     "execution_count": 10,
     "metadata": {},
     "output_type": "execute_result"
    }
   ],
   "source": [
    "model = dm.MatchingModel(attr_summarizer='attention')\n",
    "model.run_train(\n",
    "    train,\n",
    "    validation,\n",
    "    epochs=25,\n",
    "    batch_size=100,\n",
    "    best_save_path='attention_model.pth',\n",
    "    pos_neg_ratio=10)"
   ]
  },
  {
   "cell_type": "code",
   "execution_count": 11,
   "metadata": {},
   "outputs": [
    {
     "name": "stdout",
     "output_type": "stream",
     "text": [
      "===>  EVAL Epoch 20\n"
     ]
    },
    {
     "name": "stderr",
     "output_type": "stream",
     "text": [
      "0% [████████████] 100% | ETA: 00:00:00\n",
      "Total time elapsed: 00:00:03\n"
     ]
    },
    {
     "name": "stdout",
     "output_type": "stream",
     "text": [
      "Finished Epoch 20 || Run Time:    1.3 | Load Time:    1.9 || F1:  45.21 | Prec:  31.49 | Rec:  80.10 || Ex/s: 605.37\n",
      "\n"
     ]
    },
    {
     "data": {
      "text/plain": [
       "45.20547945205479"
      ]
     },
     "execution_count": 11,
     "metadata": {},
     "output_type": "execute_result"
    }
   ],
   "source": [
    "# The F-1 score for attention approach\n",
    "model.run_eval(test)"
   ]
  },
  {
   "cell_type": "code",
   "execution_count": 12,
   "metadata": {},
   "outputs": [
    {
     "name": "stdout",
     "output_type": "stream",
     "text": [
      "* Number of trainable parameters: 7133105\n",
      "===>  TRAIN Epoch 1\n"
     ]
    },
    {
     "name": "stderr",
     "output_type": "stream",
     "text": [
      "0% [███████████] 100% | ETA: 00:00:00\n",
      "Total time elapsed: 00:00:20\n"
     ]
    },
    {
     "name": "stdout",
     "output_type": "stream",
     "text": [
      "Finished Epoch 1 || Run Time:   15.5 | Load Time:    6.1 || F1:  20.71 | Prec:  11.62 | Rec:  95.13 || Ex/s: 265.31\n",
      "\n",
      "===>  EVAL Epoch 1\n"
     ]
    },
    {
     "name": "stderr",
     "output_type": "stream",
     "text": [
      "0% [████] 100% | ETA: 00:00:00\n",
      "Total time elapsed: 00:00:03\n"
     ]
    },
    {
     "name": "stdout",
     "output_type": "stream",
     "text": [
      "Finished Epoch 1 || Run Time:    1.8 | Load Time:    2.0 || F1:  20.65 | Prec:  11.62 | Rec:  92.72 || Ex/s: 501.97\n",
      "\n",
      "* Best F1: 20.64864864864865\n",
      "Saving best model...\n",
      "Done.\n",
      "---------------------\n",
      "\n",
      "===>  TRAIN Epoch 2\n"
     ]
    },
    {
     "name": "stderr",
     "output_type": "stream",
     "text": [
      "0% [███████████] 100% | ETA: 00:00:00\n",
      "Total time elapsed: 00:00:20\n"
     ]
    },
    {
     "name": "stdout",
     "output_type": "stream",
     "text": [
      "Finished Epoch 2 || Run Time:   15.5 | Load Time:    6.1 || F1:  23.34 | Prec:  13.32 | Rec:  94.16 || Ex/s: 265.36\n",
      "\n",
      "===>  EVAL Epoch 2\n"
     ]
    },
    {
     "name": "stderr",
     "output_type": "stream",
     "text": [
      "0% [████] 100% | ETA: 00:00:00\n",
      "Total time elapsed: 00:00:03\n"
     ]
    },
    {
     "name": "stdout",
     "output_type": "stream",
     "text": [
      "Finished Epoch 2 || Run Time:    1.8 | Load Time:    2.0 || F1:  22.46 | Prec:  12.77 | Rec:  93.20 || Ex/s: 502.10\n",
      "\n",
      "* Best F1: 22.45614035087719\n",
      "Saving best model...\n",
      "Done.\n",
      "---------------------\n",
      "\n",
      "===>  TRAIN Epoch 3\n"
     ]
    },
    {
     "name": "stderr",
     "output_type": "stream",
     "text": [
      "0% [███████████] 100% | ETA: 00:00:00\n",
      "Total time elapsed: 00:00:20\n"
     ]
    },
    {
     "name": "stdout",
     "output_type": "stream",
     "text": [
      "Finished Epoch 3 || Run Time:   15.5 | Load Time:    6.1 || F1:  34.54 | Prec:  21.11 | Rec:  94.81 || Ex/s: 265.22\n",
      "\n",
      "===>  EVAL Epoch 3\n"
     ]
    },
    {
     "name": "stderr",
     "output_type": "stream",
     "text": [
      "0% [████] 100% | ETA: 00:00:00\n",
      "Total time elapsed: 00:00:03\n"
     ]
    },
    {
     "name": "stdout",
     "output_type": "stream",
     "text": [
      "Finished Epoch 3 || Run Time:    1.8 | Load Time:    2.0 || F1:  47.44 | Prec:  32.50 | Rec:  87.86 || Ex/s: 499.36\n",
      "\n",
      "* Best F1: 47.44429882044561\n",
      "Saving best model...\n",
      "Done.\n",
      "---------------------\n",
      "\n",
      "===>  TRAIN Epoch 4\n"
     ]
    },
    {
     "name": "stderr",
     "output_type": "stream",
     "text": [
      "0% [███████████] 100% | ETA: 00:00:00\n",
      "Total time elapsed: 00:00:20\n"
     ]
    },
    {
     "name": "stdout",
     "output_type": "stream",
     "text": [
      "Finished Epoch 4 || Run Time:   15.5 | Load Time:    6.1 || F1:  50.98 | Prec:  34.89 | Rec:  94.64 || Ex/s: 265.55\n",
      "\n",
      "===>  EVAL Epoch 4\n"
     ]
    },
    {
     "name": "stderr",
     "output_type": "stream",
     "text": [
      "0% [████] 100% | ETA: 00:00:00\n",
      "Total time elapsed: 00:00:03\n"
     ]
    },
    {
     "name": "stdout",
     "output_type": "stream",
     "text": [
      "Finished Epoch 4 || Run Time:    1.8 | Load Time:    2.0 || F1:  51.36 | Prec:  36.36 | Rec:  87.38 || Ex/s: 499.57\n",
      "\n",
      "* Best F1: 51.35520684736092\n",
      "Saving best model...\n",
      "Done.\n",
      "---------------------\n",
      "\n",
      "===>  TRAIN Epoch 5\n"
     ]
    },
    {
     "name": "stderr",
     "output_type": "stream",
     "text": [
      "0% [███████████] 100% | ETA: 00:00:00\n",
      "Total time elapsed: 00:00:20\n"
     ]
    },
    {
     "name": "stdout",
     "output_type": "stream",
     "text": [
      "Finished Epoch 5 || Run Time:   15.5 | Load Time:    6.1 || F1:  62.08 | Prec:  45.73 | Rec:  96.59 || Ex/s: 265.34\n",
      "\n",
      "===>  EVAL Epoch 5\n"
     ]
    },
    {
     "name": "stderr",
     "output_type": "stream",
     "text": [
      "0% [████] 100% | ETA: 00:00:00\n",
      "Total time elapsed: 00:00:03\n"
     ]
    },
    {
     "name": "stdout",
     "output_type": "stream",
     "text": [
      "Finished Epoch 5 || Run Time:    1.8 | Load Time:    2.0 || F1:  49.59 | Prec:  34.54 | Rec:  87.86 || Ex/s: 501.26\n",
      "\n",
      "---------------------\n",
      "\n",
      "===>  TRAIN Epoch 6\n"
     ]
    },
    {
     "name": "stderr",
     "output_type": "stream",
     "text": [
      "0% [███████████] 100% | ETA: 00:00:00\n",
      "Total time elapsed: 00:00:20\n"
     ]
    },
    {
     "name": "stdout",
     "output_type": "stream",
     "text": [
      "Finished Epoch 6 || Run Time:   15.8 | Load Time:    6.4 || F1:  70.21 | Prec:  54.84 | Rec:  97.56 || Ex/s: 257.93\n",
      "\n",
      "===>  EVAL Epoch 6\n"
     ]
    },
    {
     "name": "stderr",
     "output_type": "stream",
     "text": [
      "0% [████] 100% | ETA: 00:00:00\n",
      "Total time elapsed: 00:00:04\n"
     ]
    },
    {
     "name": "stdout",
     "output_type": "stream",
     "text": [
      "Finished Epoch 6 || Run Time:    1.9 | Load Time:    2.2 || F1:  52.84 | Prec:  38.15 | Rec:  85.92 || Ex/s: 471.25\n",
      "\n",
      "* Best F1: 52.83582089552238\n",
      "Saving best model...\n",
      "Done.\n",
      "---------------------\n",
      "\n",
      "===>  TRAIN Epoch 7\n"
     ]
    },
    {
     "name": "stderr",
     "output_type": "stream",
     "text": [
      "0% [███████████] 100% | ETA: 00:00:00\n",
      "Total time elapsed: 00:00:20\n"
     ]
    },
    {
     "name": "stdout",
     "output_type": "stream",
     "text": [
      "Finished Epoch 7 || Run Time:   15.7 | Load Time:    6.4 || F1:  73.63 | Prec:  58.83 | Rec:  98.38 || Ex/s: 259.31\n",
      "\n",
      "===>  EVAL Epoch 7\n"
     ]
    },
    {
     "name": "stderr",
     "output_type": "stream",
     "text": [
      "0% [████] 100% | ETA: 00:00:00\n",
      "Total time elapsed: 00:00:04\n"
     ]
    },
    {
     "name": "stdout",
     "output_type": "stream",
     "text": [
      "Finished Epoch 7 || Run Time:    1.9 | Load Time:    2.2 || F1:  66.25 | Prec:  57.76 | Rec:  77.67 || Ex/s: 466.83\n",
      "\n",
      "* Best F1: 66.25258799171841\n",
      "Saving best model...\n",
      "Done.\n",
      "---------------------\n",
      "\n",
      "===>  TRAIN Epoch 8\n"
     ]
    },
    {
     "name": "stderr",
     "output_type": "stream",
     "text": [
      "0% [███████████] 100% | ETA: 00:00:00\n",
      "Total time elapsed: 00:00:20\n"
     ]
    },
    {
     "name": "stdout",
     "output_type": "stream",
     "text": [
      "Finished Epoch 8 || Run Time:   15.7 | Load Time:    6.4 || F1:  76.81 | Prec:  62.99 | Rec:  98.38 || Ex/s: 260.37\n",
      "\n",
      "===>  EVAL Epoch 8\n"
     ]
    },
    {
     "name": "stderr",
     "output_type": "stream",
     "text": [
      "0% [████] 100% | ETA: 00:00:00\n",
      "Total time elapsed: 00:00:03\n"
     ]
    },
    {
     "name": "stdout",
     "output_type": "stream",
     "text": [
      "Finished Epoch 8 || Run Time:    1.8 | Load Time:    2.1 || F1:  67.80 | Prec:  67.63 | Rec:  67.96 || Ex/s: 487.62\n",
      "\n",
      "* Best F1: 67.79661016949153\n",
      "Saving best model...\n",
      "Done.\n",
      "---------------------\n",
      "\n",
      "===>  TRAIN Epoch 9\n"
     ]
    },
    {
     "name": "stderr",
     "output_type": "stream",
     "text": [
      "0% [███████████] 100% | ETA: 00:00:00\n",
      "Total time elapsed: 00:00:20\n"
     ]
    },
    {
     "name": "stdout",
     "output_type": "stream",
     "text": [
      "Finished Epoch 9 || Run Time:   15.7 | Load Time:    6.5 || F1:  80.58 | Prec:  68.09 | Rec:  98.70 || Ex/s: 258.19\n",
      "\n",
      "===>  EVAL Epoch 9\n"
     ]
    },
    {
     "name": "stderr",
     "output_type": "stream",
     "text": [
      "0% [████] 100% | ETA: 00:00:00\n",
      "Total time elapsed: 00:00:03\n"
     ]
    },
    {
     "name": "stdout",
     "output_type": "stream",
     "text": [
      "Finished Epoch 9 || Run Time:    1.8 | Load Time:    2.1 || F1:  65.53 | Prec:  58.33 | Rec:  74.76 || Ex/s: 494.36\n",
      "\n",
      "---------------------\n",
      "\n",
      "===>  TRAIN Epoch 10\n"
     ]
    },
    {
     "name": "stderr",
     "output_type": "stream",
     "text": [
      "0% [███████████] 100% | ETA: 00:00:00\n",
      "Total time elapsed: 00:00:20\n"
     ]
    },
    {
     "name": "stdout",
     "output_type": "stream",
     "text": [
      "Finished Epoch 10 || Run Time:   15.6 | Load Time:    6.3 || F1:  85.03 | Prec:  74.69 | Rec:  98.70 || Ex/s: 261.64\n",
      "\n",
      "===>  EVAL Epoch 10\n"
     ]
    },
    {
     "name": "stderr",
     "output_type": "stream",
     "text": [
      "0% [████] 100% | ETA: 00:00:00\n",
      "Total time elapsed: 00:00:03\n"
     ]
    },
    {
     "name": "stdout",
     "output_type": "stream",
     "text": [
      "Finished Epoch 10 || Run Time:    1.8 | Load Time:    2.0 || F1:  69.29 | Prec:  70.15 | Rec:  68.45 || Ex/s: 495.95\n",
      "\n",
      "* Best F1: 69.28746928746928\n",
      "Saving best model...\n",
      "Done.\n",
      "---------------------\n",
      "\n",
      "===>  TRAIN Epoch 11\n"
     ]
    },
    {
     "name": "stderr",
     "output_type": "stream",
     "text": [
      "0% [███████████] 100% | ETA: 00:00:00\n",
      "Total time elapsed: 00:00:20\n"
     ]
    },
    {
     "name": "stdout",
     "output_type": "stream",
     "text": [
      "Finished Epoch 11 || Run Time:   15.6 | Load Time:    6.2 || F1:  87.31 | Prec:  78.18 | Rec:  98.86 || Ex/s: 264.06\n",
      "\n",
      "===>  EVAL Epoch 11\n"
     ]
    },
    {
     "name": "stderr",
     "output_type": "stream",
     "text": [
      "0% [████] 100% | ETA: 00:00:00\n",
      "Total time elapsed: 00:00:03\n"
     ]
    },
    {
     "name": "stdout",
     "output_type": "stream",
     "text": [
      "Finished Epoch 11 || Run Time:    1.8 | Load Time:    2.0 || F1:  69.25 | Prec:  74.03 | Rec:  65.05 || Ex/s: 498.19\n",
      "\n",
      "---------------------\n",
      "\n",
      "===>  TRAIN Epoch 12\n"
     ]
    },
    {
     "name": "stderr",
     "output_type": "stream",
     "text": [
      "0% [███████████] 100% | ETA: 00:00:00\n",
      "Total time elapsed: 00:00:20\n"
     ]
    },
    {
     "name": "stdout",
     "output_type": "stream",
     "text": [
      "Finished Epoch 12 || Run Time:   15.6 | Load Time:    6.2 || F1:  88.21 | Prec:  79.53 | Rec:  99.03 || Ex/s: 263.28\n",
      "\n",
      "===>  EVAL Epoch 12\n"
     ]
    },
    {
     "name": "stderr",
     "output_type": "stream",
     "text": [
      "0% [████] 100% | ETA: 00:00:00\n",
      "Total time elapsed: 00:00:04\n"
     ]
    },
    {
     "name": "stdout",
     "output_type": "stream",
     "text": [
      "Finished Epoch 12 || Run Time:    1.9 | Load Time:    2.2 || F1:  68.67 | Prec:  70.98 | Rec:  66.50 || Ex/s: 465.79\n",
      "\n",
      "---------------------\n",
      "\n",
      "===>  TRAIN Epoch 13\n"
     ]
    },
    {
     "name": "stderr",
     "output_type": "stream",
     "text": [
      "0% [███████████] 100% | ETA: 00:00:00\n",
      "Total time elapsed: 00:00:20\n"
     ]
    },
    {
     "name": "stdout",
     "output_type": "stream",
     "text": [
      "Finished Epoch 13 || Run Time:   15.8 | Load Time:    6.3 || F1:  89.77 | Prec:  82.10 | Rec:  99.03 || Ex/s: 259.46\n",
      "\n",
      "===>  EVAL Epoch 13\n"
     ]
    },
    {
     "name": "stderr",
     "output_type": "stream",
     "text": [
      "0% [████] 100% | ETA: 00:00:00\n",
      "Total time elapsed: 00:00:03\n"
     ]
    },
    {
     "name": "stdout",
     "output_type": "stream",
     "text": [
      "Finished Epoch 13 || Run Time:    1.8 | Load Time:    2.1 || F1:  68.45 | Prec:  68.45 | Rec:  68.45 || Ex/s: 489.90\n",
      "\n",
      "---------------------\n",
      "\n",
      "===>  TRAIN Epoch 14\n"
     ]
    },
    {
     "name": "stderr",
     "output_type": "stream",
     "text": [
      "0% [███████████] 100% | ETA: 00:00:00\n",
      "Total time elapsed: 00:00:21\n"
     ]
    },
    {
     "name": "stdout",
     "output_type": "stream",
     "text": [
      "Finished Epoch 14 || Run Time:   15.9 | Load Time:    6.6 || F1:  90.50 | Prec:  83.33 | Rec:  99.03 || Ex/s: 255.18\n",
      "\n",
      "===>  EVAL Epoch 14\n"
     ]
    },
    {
     "name": "stderr",
     "output_type": "stream",
     "text": [
      "0% [████] 100% | ETA: 00:00:00\n",
      "Total time elapsed: 00:00:03\n"
     ]
    },
    {
     "name": "stdout",
     "output_type": "stream",
     "text": [
      "Finished Epoch 14 || Run Time:    1.8 | Load Time:    2.1 || F1:  68.29 | Prec:  68.63 | Rec:  67.96 || Ex/s: 492.73\n",
      "\n",
      "---------------------\n",
      "\n",
      "===>  TRAIN Epoch 15\n"
     ]
    },
    {
     "name": "stderr",
     "output_type": "stream",
     "text": [
      "0% [███████████] 100% | ETA: 00:00:00\n",
      "Total time elapsed: 00:00:20\n"
     ]
    },
    {
     "name": "stdout",
     "output_type": "stream",
     "text": [
      "Finished Epoch 15 || Run Time:   15.6 | Load Time:    6.2 || F1:  90.77 | Prec:  83.79 | Rec:  99.03 || Ex/s: 262.60\n",
      "\n",
      "===>  EVAL Epoch 15\n"
     ]
    },
    {
     "name": "stderr",
     "output_type": "stream",
     "text": [
      "0% [████] 100% | ETA: 00:00:00\n",
      "Total time elapsed: 00:00:03\n"
     ]
    },
    {
     "name": "stdout",
     "output_type": "stream",
     "text": [
      "Finished Epoch 15 || Run Time:    1.8 | Load Time:    2.0 || F1:  67.96 | Prec:  67.96 | Rec:  67.96 || Ex/s: 501.32\n",
      "\n",
      "---------------------\n",
      "\n",
      "Loading best model...\n",
      "Training done.\n"
     ]
    },
    {
     "data": {
      "text/plain": [
       "69.28746928746928"
      ]
     },
     "execution_count": 12,
     "metadata": {},
     "output_type": "execute_result"
    }
   ],
   "source": [
    "model = dm.MatchingModel(attr_summarizer='hybrid')\n",
    "model.run_train(\n",
    "    train,\n",
    "    validation,\n",
    "    epochs=15,\n",
    "    batch_size=100,\n",
    "    best_save_path='hybrid_model.pth',\n",
    "    pos_neg_ratio=10)"
   ]
  },
  {
   "cell_type": "code",
   "execution_count": 13,
   "metadata": {},
   "outputs": [
    {
     "name": "stdout",
     "output_type": "stream",
     "text": [
      "===>  EVAL Epoch 10\n"
     ]
    },
    {
     "name": "stderr",
     "output_type": "stream",
     "text": [
      "0% [████████████] 100% | ETA: 00:00:00\n",
      "Total time elapsed: 00:00:04\n"
     ]
    },
    {
     "name": "stdout",
     "output_type": "stream",
     "text": [
      "Finished Epoch 10 || Run Time:    2.4 | Load Time:    1.9 || F1:  67.45 | Prec:  65.60 | Rec:  69.42 || Ex/s: 445.32\n",
      "\n"
     ]
    },
    {
     "data": {
      "text/plain": [
       "67.45283018867924"
      ]
     },
     "execution_count": 13,
     "metadata": {},
     "output_type": "execute_result"
    }
   ],
   "source": [
    "# The F-1 score for hybird approach\n",
    "model.run_eval(test)"
   ]
  },
  {
   "cell_type": "code",
   "execution_count": 14,
   "metadata": {},
   "outputs": [],
   "source": [
    "import torch\n",
    "import torch.nn as nn\n",
    "import torch.nn.functional as F\n",
    "\n",
    "\n",
    "class attr_sum_simple_cnn(nn.Module):\n",
    "    def __init__(self):\n",
    "        super(attr_sum_simple_cnn, self).__init__()\n",
    "        # Truncate to different length to see the performance change (F1 & Training Time)\n",
    "        self.sentence_length = 80\n",
    "        self.CNN1 = Net()\n",
    "        self.CNN2 = Net()\n",
    "\n",
    "    def forward(self, x1, x2):\n",
    "        x1 = x1.unsqueeze(1)\n",
    "        x2 = x2.unsqueeze(1)\n",
    "        x1 = F.pad(x1, (0, 0, 0, self.sentence_length - x1.size()[2]))\n",
    "        x2 = F.pad(x2, (0, 0, 0, self.sentence_length - x2.size()[2]))\n",
    "        x1 = self.CNN1(x1)\n",
    "        x2 = self.CNN2(x2)\n",
    "        return x1, x2\n",
    "\n",
    "class Net(nn.Module):\n",
    "    def __init__(self):\n",
    "        super(Net, self).__init__()\n",
    "        words_dim = 300\n",
    "        self.conv1 = nn.Conv2d(\n",
    "                in_channels=1,  # input height\n",
    "                out_channels=6,  # n_filters\n",
    "                kernel_size=(3, words_dim),  # filter size\n",
    "                stride=1,  # filter movement/step\n",
    "                padding=(2,0),#padding=(kernel_size-1)/2\n",
    "            )\n",
    "        self.conv2 = nn.Conv2d(\n",
    "            in_channels=1,  # input height\n",
    "            out_channels=6,  # n_filters\n",
    "            kernel_size=(4, words_dim),  # filter size\n",
    "            stride=1,  # filter movement/step\n",
    "            padding=(3, 0),  # padding=(kernel_size-1)/2\n",
    "        )\n",
    "        self.conv3 = nn.Conv2d(\n",
    "            in_channels=1,  # input height\n",
    "            out_channels=6,  # n_filters\n",
    "            kernel_size=(5, words_dim),  # filter size\n",
    "            stride=1,  # filter movement/step\n",
    "            padding=(4, 0),  # padding=(kernel_size-1)/2\n",
    "        )# output = [batch, output_channel, sql_len, 1]\n",
    "\n",
    "    def forward(self, x):\n",
    "        x = [F.relu(self.conv1(x)).squeeze(3), F.relu(self.conv2(x)).squeeze(3), F.relu(self.conv3(x)).squeeze(3)]\n",
    "        # (batch, channel_output, ~=sent_len) * Ks\n",
    "        x = [F.max_pool1d(i, i.size(2)).squeeze(2) for i in x]  # max-over-time pooling\n",
    "        # (batch, channel_output) * Ks\n",
    "        x = torch.cat(x, 1)\n",
    "        return x"
   ]
  },
  {
   "cell_type": "code",
   "execution_count": 15,
   "metadata": {},
   "outputs": [],
   "source": [
    "simple_cnn_attr_summarizer_module = dm.modules.NoMeta(attr_sum_simple_cnn())\n",
    "\n",
    "model = dm.MatchingModel(attr_summarizer=lambda: simple_cnn_attr_summarizer_module, \n",
    "                         attr_comparator='abs-diff',\n",
    "                         classifier='3-layer-residual-relu')"
   ]
  },
  {
   "cell_type": "code",
   "execution_count": 16,
   "metadata": {},
   "outputs": [
    {
     "name": "stdout",
     "output_type": "stream",
     "text": [
      "* Number of trainable parameters: 597038\n",
      "===>  TRAIN Epoch 1\n"
     ]
    },
    {
     "name": "stderr",
     "output_type": "stream",
     "text": [
      "0% [███████████████████████] 100% | ETA: 00:00:00\n",
      "Total time elapsed: 00:00:08\n"
     ]
    },
    {
     "name": "stdout",
     "output_type": "stream",
     "text": [
      "Finished Epoch 1 || Run Time:    2.4 | Load Time:    5.9 || F1:  20.67 | Prec:  11.62 | Rec:  93.34 || Ex/s: 692.36\n",
      "\n",
      "===>  EVAL Epoch 1\n"
     ]
    },
    {
     "name": "stderr",
     "output_type": "stream",
     "text": [
      "0% [███████] 100% | ETA: 00:00:00\n",
      "Total time elapsed: 00:00:02\n"
     ]
    },
    {
     "name": "stdout",
     "output_type": "stream",
     "text": [
      "Finished Epoch 1 || Run Time:    0.4 | Load Time:    2.0 || F1:  22.36 | Prec:  12.63 | Rec:  97.84 || Ex/s: 812.18\n",
      "\n",
      "* Best F1: 22.36453201970443\n",
      "Saving best model...\n",
      "Done.\n",
      "---------------------\n",
      "\n",
      "===>  TRAIN Epoch 2\n"
     ]
    },
    {
     "name": "stderr",
     "output_type": "stream",
     "text": [
      "0% [███████████████████████] 100% | ETA: 00:00:00\n",
      "Total time elapsed: 00:00:08\n"
     ]
    },
    {
     "name": "stdout",
     "output_type": "stream",
     "text": [
      "Finished Epoch 2 || Run Time:    2.4 | Load Time:    5.9 || F1:  21.88 | Prec:  12.39 | Rec:  93.67 || Ex/s: 692.42\n",
      "\n",
      "===>  EVAL Epoch 2\n"
     ]
    },
    {
     "name": "stderr",
     "output_type": "stream",
     "text": [
      "0% [███████] 100% | ETA: 00:00:00\n",
      "Total time elapsed: 00:00:02\n"
     ]
    },
    {
     "name": "stdout",
     "output_type": "stream",
     "text": [
      "Finished Epoch 2 || Run Time:    0.4 | Load Time:    1.9 || F1:  22.84 | Prec:  12.98 | Rec:  95.26 || Ex/s: 816.92\n",
      "\n",
      "* Best F1: 22.842377260981912\n",
      "Saving best model...\n",
      "Done.\n",
      "---------------------\n",
      "\n",
      "===>  TRAIN Epoch 3\n"
     ]
    },
    {
     "name": "stderr",
     "output_type": "stream",
     "text": [
      "0% [███████████████████████] 100% | ETA: 00:00:00\n",
      "Total time elapsed: 00:00:08\n"
     ]
    },
    {
     "name": "stdout",
     "output_type": "stream",
     "text": [
      "Finished Epoch 3 || Run Time:    2.4 | Load Time:    5.8 || F1:  23.87 | Prec:  13.74 | Rec:  91.07 || Ex/s: 699.07\n",
      "\n",
      "===>  EVAL Epoch 3\n"
     ]
    },
    {
     "name": "stderr",
     "output_type": "stream",
     "text": [
      "0% [███████] 100% | ETA: 00:00:00\n",
      "Total time elapsed: 00:00:02\n"
     ]
    },
    {
     "name": "stdout",
     "output_type": "stream",
     "text": [
      "Finished Epoch 3 || Run Time:    0.4 | Load Time:    2.0 || F1:  23.47 | Prec:  13.37 | Rec:  95.69 || Ex/s: 813.04\n",
      "\n",
      "* Best F1: 23.46723044397463\n",
      "Saving best model...\n",
      "Done.\n",
      "---------------------\n",
      "\n",
      "===>  TRAIN Epoch 4\n"
     ]
    },
    {
     "name": "stderr",
     "output_type": "stream",
     "text": [
      "0% [███████████████████████] 100% | ETA: 00:00:00\n",
      "Total time elapsed: 00:00:08\n"
     ]
    },
    {
     "name": "stdout",
     "output_type": "stream",
     "text": [
      "Finished Epoch 4 || Run Time:    2.6 | Load Time:    6.3 || F1:  25.94 | Prec:  15.10 | Rec:  92.05 || Ex/s: 649.69\n",
      "\n",
      "===>  EVAL Epoch 4\n"
     ]
    },
    {
     "name": "stderr",
     "output_type": "stream",
     "text": [
      "0% [███████] 100% | ETA: 00:00:00\n",
      "Total time elapsed: 00:00:02\n"
     ]
    },
    {
     "name": "stdout",
     "output_type": "stream",
     "text": [
      "Finished Epoch 4 || Run Time:    0.4 | Load Time:    2.0 || F1:  26.87 | Prec:  15.69 | Rec:  93.53 || Ex/s: 789.87\n",
      "\n",
      "* Best F1: 26.873065015479877\n",
      "Saving best model...\n",
      "Done.\n",
      "---------------------\n",
      "\n",
      "===>  TRAIN Epoch 5\n"
     ]
    },
    {
     "name": "stderr",
     "output_type": "stream",
     "text": [
      "0% [███████████████████████] 100% | ETA: 00:00:00\n",
      "Total time elapsed: 00:00:08\n"
     ]
    },
    {
     "name": "stdout",
     "output_type": "stream",
     "text": [
      "Finished Epoch 5 || Run Time:    2.4 | Load Time:    6.0 || F1:  27.89 | Prec:  16.48 | Rec:  90.75 || Ex/s: 677.39\n",
      "\n",
      "===>  EVAL Epoch 5\n"
     ]
    },
    {
     "name": "stderr",
     "output_type": "stream",
     "text": [
      "0% [███████] 100% | ETA: 00:00:00\n",
      "Total time elapsed: 00:00:02\n"
     ]
    },
    {
     "name": "stdout",
     "output_type": "stream",
     "text": [
      "Finished Epoch 5 || Run Time:    0.4 | Load Time:    2.0 || F1:  29.39 | Prec:  17.47 | Rec:  92.67 || Ex/s: 807.72\n",
      "\n",
      "* Best F1: 29.391660970608342\n",
      "Saving best model...\n",
      "Done.\n",
      "---------------------\n",
      "\n",
      "===>  TRAIN Epoch 6\n"
     ]
    },
    {
     "name": "stderr",
     "output_type": "stream",
     "text": [
      "0% [███████████████████████] 100% | ETA: 00:00:00\n",
      "Total time elapsed: 00:00:08\n"
     ]
    },
    {
     "name": "stdout",
     "output_type": "stream",
     "text": [
      "Finished Epoch 6 || Run Time:    2.4 | Load Time:    6.1 || F1:  30.71 | Prec:  18.45 | Rec:  91.56 || Ex/s: 671.77\n",
      "\n",
      "===>  EVAL Epoch 6\n"
     ]
    },
    {
     "name": "stderr",
     "output_type": "stream",
     "text": [
      "0% [███████] 100% | ETA: 00:00:00\n",
      "Total time elapsed: 00:00:02\n"
     ]
    },
    {
     "name": "stdout",
     "output_type": "stream",
     "text": [
      "Finished Epoch 6 || Run Time:    0.4 | Load Time:    2.2 || F1:  30.69 | Prec:  18.46 | Rec:  90.95 || Ex/s: 739.63\n",
      "\n",
      "* Best F1: 30.690909090909088\n",
      "Saving best model...\n",
      "Done.\n",
      "---------------------\n",
      "\n",
      "===>  TRAIN Epoch 7\n"
     ]
    },
    {
     "name": "stderr",
     "output_type": "stream",
     "text": [
      "0% [███████████████████████] 100% | ETA: 00:00:00\n",
      "Total time elapsed: 00:00:08\n"
     ]
    },
    {
     "name": "stdout",
     "output_type": "stream",
     "text": [
      "Finished Epoch 7 || Run Time:    2.4 | Load Time:    6.0 || F1:  32.61 | Prec:  19.78 | Rec:  92.86 || Ex/s: 685.99\n",
      "\n",
      "===>  EVAL Epoch 7\n"
     ]
    },
    {
     "name": "stderr",
     "output_type": "stream",
     "text": [
      "0% [███████] 100% | ETA: 00:00:00\n",
      "Total time elapsed: 00:00:02\n"
     ]
    },
    {
     "name": "stdout",
     "output_type": "stream",
     "text": [
      "Finished Epoch 7 || Run Time:    0.4 | Load Time:    2.1 || F1:  33.85 | Prec:  20.86 | Rec:  89.66 || Ex/s: 765.11\n",
      "\n",
      "* Best F1: 33.8486574450773\n",
      "Saving best model...\n",
      "Done.\n",
      "---------------------\n",
      "\n",
      "===>  TRAIN Epoch 8\n"
     ]
    },
    {
     "name": "stderr",
     "output_type": "stream",
     "text": [
      "0% [███████████████████████] 100% | ETA: 00:00:00\n",
      "Total time elapsed: 00:00:08\n"
     ]
    },
    {
     "name": "stdout",
     "output_type": "stream",
     "text": [
      "Finished Epoch 8 || Run Time:    2.6 | Load Time:    6.4 || F1:  34.98 | Prec:  21.52 | Rec:  93.51 || Ex/s: 641.07\n",
      "\n",
      "===>  EVAL Epoch 8\n"
     ]
    },
    {
     "name": "stderr",
     "output_type": "stream",
     "text": [
      "0% [███████] 100% | ETA: 00:00:00\n",
      "Total time elapsed: 00:00:02\n"
     ]
    },
    {
     "name": "stdout",
     "output_type": "stream",
     "text": [
      "Finished Epoch 8 || Run Time:    0.4 | Load Time:    2.0 || F1:  35.33 | Prec:  22.19 | Rec:  86.64 || Ex/s: 782.30\n",
      "\n",
      "* Best F1: 35.32513181019332\n",
      "Saving best model...\n",
      "Done.\n",
      "---------------------\n",
      "\n",
      "===>  TRAIN Epoch 9\n"
     ]
    },
    {
     "name": "stderr",
     "output_type": "stream",
     "text": [
      "0% [███████████████████████] 100% | ETA: 00:00:00\n",
      "Total time elapsed: 00:00:08\n"
     ]
    },
    {
     "name": "stdout",
     "output_type": "stream",
     "text": [
      "Finished Epoch 9 || Run Time:    2.5 | Load Time:    6.3 || F1:  36.74 | Prec:  22.89 | Rec:  93.02 || Ex/s: 656.94\n",
      "\n",
      "===>  EVAL Epoch 9\n"
     ]
    },
    {
     "name": "stderr",
     "output_type": "stream",
     "text": [
      "0% [███████] 100% | ETA: 00:00:00\n",
      "Total time elapsed: 00:00:02\n"
     ]
    },
    {
     "name": "stdout",
     "output_type": "stream",
     "text": [
      "Finished Epoch 9 || Run Time:    0.4 | Load Time:    2.1 || F1:  37.90 | Prec:  24.22 | Rec:  87.07 || Ex/s: 773.98\n",
      "\n",
      "* Best F1: 37.89868667917448\n",
      "Saving best model...\n",
      "Done.\n",
      "---------------------\n",
      "\n",
      "===>  TRAIN Epoch 10\n"
     ]
    },
    {
     "name": "stderr",
     "output_type": "stream",
     "text": [
      "0% [███████████████████████] 100% | ETA: 00:00:00\n",
      "Total time elapsed: 00:00:08\n"
     ]
    },
    {
     "name": "stdout",
     "output_type": "stream",
     "text": [
      "Finished Epoch 10 || Run Time:    2.5 | Load Time:    6.0 || F1:  38.83 | Prec:  24.51 | Rec:  93.34 || Ex/s: 681.23\n",
      "\n",
      "===>  EVAL Epoch 10\n"
     ]
    },
    {
     "name": "stderr",
     "output_type": "stream",
     "text": [
      "0% [███████] 100% | ETA: 00:00:00\n",
      "Total time elapsed: 00:00:02\n"
     ]
    },
    {
     "name": "stdout",
     "output_type": "stream",
     "text": [
      "Finished Epoch 10 || Run Time:    0.4 | Load Time:    2.0 || F1:  38.33 | Prec:  24.57 | Rec:  87.07 || Ex/s: 806.06\n",
      "\n",
      "* Best F1: 38.33017077798861\n",
      "Saving best model...\n",
      "Done.\n",
      "---------------------\n",
      "\n",
      "===>  TRAIN Epoch 11\n"
     ]
    },
    {
     "name": "stderr",
     "output_type": "stream",
     "text": [
      "0% [███████████████████████] 100% | ETA: 00:00:00\n",
      "Total time elapsed: 00:00:08\n"
     ]
    },
    {
     "name": "stdout",
     "output_type": "stream",
     "text": [
      "Finished Epoch 11 || Run Time:    2.5 | Load Time:    6.1 || F1:  40.87 | Prec:  26.17 | Rec:  93.18 || Ex/s: 672.72\n",
      "\n",
      "===>  EVAL Epoch 11\n"
     ]
    },
    {
     "name": "stderr",
     "output_type": "stream",
     "text": [
      "0% [███████] 100% | ETA: 00:00:00\n",
      "Total time elapsed: 00:00:02\n"
     ]
    },
    {
     "name": "stdout",
     "output_type": "stream",
     "text": [
      "Finished Epoch 11 || Run Time:    0.4 | Load Time:    2.0 || F1:  39.30 | Prec:  25.38 | Rec:  87.07 || Ex/s: 786.81\n",
      "\n",
      "* Best F1: 39.29961089494164\n",
      "Saving best model...\n",
      "Done.\n",
      "---------------------\n",
      "\n",
      "===>  TRAIN Epoch 12\n"
     ]
    },
    {
     "name": "stderr",
     "output_type": "stream",
     "text": [
      "0% [███████████████████████] 100% | ETA: 00:00:00\n",
      "Total time elapsed: 00:00:08\n"
     ]
    },
    {
     "name": "stdout",
     "output_type": "stream",
     "text": [
      "Finished Epoch 12 || Run Time:    2.5 | Load Time:    6.1 || F1:  42.92 | Prec:  27.81 | Rec:  93.99 || Ex/s: 667.57\n",
      "\n",
      "===>  EVAL Epoch 12\n"
     ]
    },
    {
     "name": "stderr",
     "output_type": "stream",
     "text": [
      "0% [███████] 100% | ETA: 00:00:00\n",
      "Total time elapsed: 00:00:02\n"
     ]
    },
    {
     "name": "stdout",
     "output_type": "stream",
     "text": [
      "Finished Epoch 12 || Run Time:    0.4 | Load Time:    2.0 || F1:  40.73 | Prec:  26.67 | Rec:  86.21 || Ex/s: 805.35\n",
      "\n",
      "* Best F1: 40.73319755600814\n",
      "Saving best model...\n",
      "Done.\n",
      "---------------------\n",
      "\n",
      "===>  TRAIN Epoch 13\n"
     ]
    },
    {
     "name": "stderr",
     "output_type": "stream",
     "text": [
      "0% [███████████████████████] 100% | ETA: 00:00:00\n",
      "Total time elapsed: 00:00:08\n"
     ]
    },
    {
     "name": "stdout",
     "output_type": "stream",
     "text": [
      "Finished Epoch 13 || Run Time:    2.4 | Load Time:    6.0 || F1:  44.56 | Prec:  29.16 | Rec:  94.48 || Ex/s: 684.63\n",
      "\n",
      "===>  EVAL Epoch 13\n"
     ]
    },
    {
     "name": "stderr",
     "output_type": "stream",
     "text": [
      "0% [███████] 100% | ETA: 00:00:00\n",
      "Total time elapsed: 00:00:02\n"
     ]
    },
    {
     "name": "stdout",
     "output_type": "stream",
     "text": [
      "Finished Epoch 13 || Run Time:    0.4 | Load Time:    2.0 || F1:  41.97 | Prec:  27.92 | Rec:  84.48 || Ex/s: 807.63\n",
      "\n",
      "* Best F1: 41.97002141327623\n",
      "Saving best model...\n",
      "Done.\n",
      "---------------------\n",
      "\n",
      "===>  TRAIN Epoch 14\n"
     ]
    },
    {
     "name": "stderr",
     "output_type": "stream",
     "text": [
      "0% [███████████████████████] 100% | ETA: 00:00:00\n",
      "Total time elapsed: 00:00:08\n"
     ]
    },
    {
     "name": "stdout",
     "output_type": "stream",
     "text": [
      "Finished Epoch 14 || Run Time:    2.4 | Load Time:    5.9 || F1:  45.84 | Prec:  30.23 | Rec:  94.81 || Ex/s: 685.05\n",
      "\n",
      "===>  EVAL Epoch 14\n"
     ]
    },
    {
     "name": "stderr",
     "output_type": "stream",
     "text": [
      "0% [███████] 100% | ETA: 00:00:00\n",
      "Total time elapsed: 00:00:02\n"
     ]
    },
    {
     "name": "stdout",
     "output_type": "stream",
     "text": [
      "Finished Epoch 14 || Run Time:    0.4 | Load Time:    2.0 || F1:  43.92 | Prec:  29.73 | Rec:  84.05 || Ex/s: 809.76\n",
      "\n",
      "* Best F1: 43.91891891891891\n",
      "Saving best model...\n",
      "Done.\n",
      "---------------------\n",
      "\n",
      "===>  TRAIN Epoch 15\n"
     ]
    },
    {
     "name": "stderr",
     "output_type": "stream",
     "text": [
      "0% [███████████████████████] 100% | ETA: 00:00:00\n",
      "Total time elapsed: 00:00:08\n"
     ]
    },
    {
     "name": "stdout",
     "output_type": "stream",
     "text": [
      "Finished Epoch 15 || Run Time:    2.4 | Load Time:    5.9 || F1:  46.59 | Prec:  30.87 | Rec:  94.97 || Ex/s: 690.00\n",
      "\n",
      "===>  EVAL Epoch 15\n"
     ]
    },
    {
     "name": "stderr",
     "output_type": "stream",
     "text": [
      "0% [███████] 100% | ETA: 00:00:00\n",
      "Total time elapsed: 00:00:02\n"
     ]
    },
    {
     "name": "stdout",
     "output_type": "stream",
     "text": [
      "Finished Epoch 15 || Run Time:    0.4 | Load Time:    2.0 || F1:  45.81 | Prec:  31.54 | Rec:  83.62 || Ex/s: 807.36\n",
      "\n",
      "* Best F1: 45.80873671782762\n",
      "Saving best model...\n",
      "Done.\n",
      "---------------------\n",
      "\n",
      "Loading best model...\n",
      "Training done.\n"
     ]
    },
    {
     "data": {
      "text/plain": [
       "45.80873671782762"
      ]
     },
     "execution_count": 16,
     "metadata": {},
     "output_type": "execute_result"
    }
   ],
   "source": [
    "model.run_train(\n",
    "    train,\n",
    "    validation,\n",
    "    epochs=15,\n",
    "    batch_size=50,\n",
    "    best_save_path='cnn_model.pth',\n",
    "    pos_neg_ratio=10)"
   ]
  },
  {
   "cell_type": "code",
   "execution_count": 17,
   "metadata": {},
   "outputs": [
    {
     "name": "stdout",
     "output_type": "stream",
     "text": [
      "===>  EVAL Epoch 15\n"
     ]
    },
    {
     "name": "stderr",
     "output_type": "stream",
     "text": [
      "0% [████████████] 100% | ETA: 00:00:00\n",
      "Total time elapsed: 00:00:02\n"
     ]
    },
    {
     "name": "stdout",
     "output_type": "stream",
     "text": [
      "Finished Epoch 15 || Run Time:    0.5 | Load Time:    2.1 || F1:  37.71 | Prec:  24.33 | Rec:  83.77 || Ex/s: 763.51\n",
      "\n"
     ]
    },
    {
     "data": {
      "text/plain": [
       "37.70812395929695"
      ]
     },
     "execution_count": 17,
     "metadata": {},
     "output_type": "execute_result"
    }
   ],
   "source": [
    "# The F-1 score for naive CNN approach\n",
    "model.run_eval(test)"
   ]
  },
  {
   "cell_type": "code",
   "execution_count": 18,
   "metadata": {},
   "outputs": [],
   "source": [
    "import numpy as np\n",
    "import torch\n",
    "from torch import nn\n",
    "from torch.nn import functional as F\n",
    "\n",
    "\n",
    "class attr_summarization_abcnn(nn.Module):\n",
    "    def __init__(self):\n",
    "        super(attr_summarization_abcnn, self).__init__()\n",
    "        self.emb_dim = 300\n",
    "        self.sentence_length = 80\n",
    "        self.filter_width = 4\n",
    "        self.model_type = '3'\n",
    "        if self.model_type == '3':\n",
    "            self.model = Abcnn3(self.emb_dim, self.sentence_length, self.filter_width)\n",
    "        if self.model_type == '2':\n",
    "            self.model = Abcnn2(self.emb_dim, self.sentence_length, self.filter_width)\n",
    "        if self.model_type == '1':\n",
    "            self.model = Abcnn1(self.emb_dim, self.sentence_length, self.filter_width)\n",
    "\n",
    "    def forward(self, x1, x2):\n",
    "        x1 = x1.unsqueeze(1)\n",
    "        x2 = x2.unsqueeze(1)\n",
    "        x1 = F.pad(x1, (0, 0, 0, self.sentence_length - x1.size()[2]))\n",
    "        x2 = F.pad(x2, (0, 0, 0, self.sentence_length - x2.size()[2]))\n",
    "        return self.model(x1, x2)\n",
    "\n",
    "\n",
    "class Abcnn3(nn.Module):\n",
    "    '''\n",
    "    ABCNN3\n",
    "    1. ABCNN1\n",
    "    2. wide convolution\n",
    "    3. ABCNN2\n",
    "\n",
    "    Attributes\n",
    "    ----------\n",
    "    layer_size : int\n",
    "        the number of (abcnn1 + abcnn2)\n",
    "    distance : function\n",
    "        cosine similarity or manhattan\n",
    "    abcnn1 : list of abcnn1\n",
    "    abcnn2 : list of abcnn2\n",
    "    conv : list of convolution layer\n",
    "    ap : list of pooling layer\n",
    "    fc : last linear layer(in paper use logistic regression)\n",
    "    '''\n",
    "\n",
    "    def __init__(self, emb_dim, sentence_length, filter_width, filter_channel=100, layer_size=2, match='cosine',\n",
    "                 inception=True):\n",
    "        super(Abcnn3, self).__init__()\n",
    "        self.layer_size = layer_size\n",
    "\n",
    "        if match == 'cosine':\n",
    "            self.distance = cosine_similarity\n",
    "        else:\n",
    "            self.distance = manhattan_distance\n",
    "\n",
    "        self.abcnn1 = nn.ModuleList()\n",
    "        self.abcnn2 = nn.ModuleList()\n",
    "        self.conv = nn.ModuleList()\n",
    "        self.ap = nn.ModuleList([ApLayer(emb_dim)])\n",
    "        self.fc = nn.Linear(layer_size + 1, 1)\n",
    "\n",
    "        for i in range(layer_size):\n",
    "            self.abcnn1.append(Abcnn1Portion(sentence_length, emb_dim if i == 0 else filter_channel))\n",
    "            self.abcnn2.append(Abcnn2Portion(sentence_length, filter_width))\n",
    "            self.conv.append(\n",
    "                ConvLayer(False, sentence_length, filter_width, emb_dim if i == 0 else filter_channel, filter_channel,\n",
    "                          inception))\n",
    "            self.ap.append(ApLayer(filter_channel))\n",
    "\n",
    "    def forward(self, x1, x2):\n",
    "        '''\n",
    "        1. stack sentence vector similarity\n",
    "\n",
    "        2. for layer_size\n",
    "            abcnn1\n",
    "            convolution\n",
    "            stack sentence representation vector similarity\n",
    "            abcnn2\n",
    "\n",
    "        3. concatenate similarity list\n",
    "            size (batch_size, layer_size + 1)\n",
    "\n",
    "        4. Linear layer\n",
    "            size (batch_size, 1)\n",
    "\n",
    "        Parameters\n",
    "        ----------\n",
    "        x1, x2 : 4-D torch Tensor\n",
    "            size (batch_size, 1, sentence_length, emb_dim)\n",
    "\n",
    "        Returns\n",
    "        -------\n",
    "        output : 2-D torch Tensor\n",
    "            size (batch_size, 1)\n",
    "        '''\n",
    "        sim = []\n",
    "        # sim.append(self.distance(self.ap[0](x1), self.ap[0](x2)))\n",
    "        representation_x1 = self.ap[0](x1)\n",
    "        representation_x2 = self.ap[0](x2)\n",
    "\n",
    "        for i in range(self.layer_size):\n",
    "            x1, x2 = self.abcnn1[i](x1, x2)\n",
    "            x1 = self.conv[i](x1)\n",
    "            x2 = self.conv[i](x2)\n",
    "            # sim.append(self.distance(self.ap[i + 1](x1), self.ap[i + 1](x2)))\n",
    "            #             print(representation_x1.size())\n",
    "            #             print(self.ap[i + 1](x1).size())\n",
    "            representation_x1 = torch.cat((representation_x1, self.ap[i + 1](x1)), 1)\n",
    "            #             print(representation_x1.size())\n",
    "            representation_x2 = torch.cat((representation_x2, self.ap[i + 1](x2)), 1)\n",
    "            x1, x2 = self.abcnn2[i](x1, x2)\n",
    "\n",
    "        # sim_fc = torch.cat(sim, dim=1)\n",
    "        # output = self.fc(sim_fc)\n",
    "        return representation_x1, representation_x2\n",
    "\n",
    "\n",
    "class Abcnn1(nn.Module):\n",
    "    '''\n",
    "    ABCNN1\n",
    "    1. ABCNN1\n",
    "    2. wide convolution\n",
    "    3. W-ap\n",
    "\n",
    "    Attributes\n",
    "    ----------\n",
    "    layer_size : int\n",
    "        the number of (abcnn1)\n",
    "    distance : function\n",
    "        cosine similarity or manhattan\n",
    "    abcnn : list of abcnn1\n",
    "    conv : list of convolution layer\n",
    "    wp : list of w-ap pooling layer\n",
    "    ap : list of pooling layer\n",
    "    fc : last linear layer(in paper use logistic regression)\n",
    "    '''\n",
    "\n",
    "    def __init__(self, emb_dim, sentence_length, filter_width, filter_channel=100, layer_size=2, match='cosine',\n",
    "                 inception=True):\n",
    "        super(Abcnn1, self).__init__()\n",
    "        self.layer_size = layer_size\n",
    "\n",
    "        if match == 'cosine':\n",
    "            self.distance = cosine_similarity\n",
    "        else:\n",
    "            self.distance = manhattan_distance\n",
    "\n",
    "        self.abcnn = nn.ModuleList()\n",
    "        self.conv = nn.ModuleList()\n",
    "        self.ap = nn.ModuleList([ApLayer(emb_dim)])\n",
    "        self.wp = nn.ModuleList()\n",
    "        self.fc = nn.Linear(layer_size + 1, 1)\n",
    "\n",
    "        for i in range(layer_size):\n",
    "            self.abcnn.append(Abcnn1Portion(sentence_length, emb_dim if i == 0 else filter_channel))\n",
    "            self.conv.append(\n",
    "                ConvLayer(False, sentence_length, filter_width, emb_dim if i == 0 else filter_channel, filter_channel,\n",
    "                          inception))\n",
    "            self.ap.append(ApLayer(filter_channel))\n",
    "            self.wp.append(WpLayer(sentence_length, filter_width, False))\n",
    "\n",
    "    def forward(self, x1, x2):\n",
    "        '''\n",
    "        1. stack sentence vector similarity\n",
    "\n",
    "        2. for layer_size\n",
    "            abcnn1\n",
    "            convolution\n",
    "            stack sentence vector similarity\n",
    "            W-ap for next loop x1, x2\n",
    "\n",
    "        3. concatenate similarity list\n",
    "            size (batch_size, layer_size + 1)\n",
    "\n",
    "        4. Linear layer\n",
    "            size (batch_size, 1)\n",
    "\n",
    "        Parameters\n",
    "        ----------\n",
    "        x1, x2 : 4-D torch Tensor\n",
    "            size (batch_size, 1, sentence_length, emb_dim)\n",
    "\n",
    "        Returns\n",
    "        -------\n",
    "        output : 2-D torch Tensor\n",
    "            size (batch_size, 1)\n",
    "        '''\n",
    "        # sim = []\n",
    "        # sim.append(self.distance(self.ap[0](x1), self.ap[0](x2)))\n",
    "\n",
    "        representation_x1 = self.ap[0](x1)\n",
    "        representation_x2 = self.ap[0](x2)\n",
    "\n",
    "        for i in range(self.layer_size):\n",
    "            x1, x2 = self.abcnn1[i](x1, x2)\n",
    "            x1 = self.conv[i](x1)\n",
    "            x2 = self.conv[i](x2)\n",
    "            # sim.append(self.distance(self.ap[i + 1](x1), self.ap[i + 1](x2)))\n",
    "            representation_x1 = torch.cat((representation_x1, self.ap[i + 1](x1)), 1)\n",
    "            representation_x2 = torch.cat((representation_x2, self.ap[i + 1](x2)), 1)\n",
    "            x1, x2 = self.abcnn2[i](x1, x2)\n",
    "\n",
    "        # sim_fc = torch.cat(sim, dim=1)\n",
    "        # output = self.fc(sim_fc)\n",
    "        return representation_x1, representation_x2\n",
    "\n",
    "\n",
    "class Abcnn2(nn.Module):\n",
    "    '''\n",
    "    ABCNN2\n",
    "    1. wide convolution\n",
    "    2. ABCNN2\n",
    "\n",
    "    Attributes\n",
    "    ----------\n",
    "    layer_size : int\n",
    "        the number of (abcnn2)\n",
    "    distance : function\n",
    "        cosine similarity or manhattan\n",
    "    abcnn : list of abcnn2\n",
    "    conv : list of convolution layer\n",
    "    ap : list of pooling layer\n",
    "    fc : last linear layer(in paper use logistic regression)\n",
    "    '''\n",
    "\n",
    "    def __init__(self, emb_dim, sentence_length, filter_width, filter_channel=100, layer_size=2, match='cosine',\n",
    "                 inception=True):\n",
    "        super(Abcnn2, self).__init__()\n",
    "        self.layer_size = layer_size\n",
    "\n",
    "        if match == 'cosine':\n",
    "            self.distance = cosine_similarity\n",
    "        else:\n",
    "            self.distance = manhattan_distance\n",
    "\n",
    "        self.abcnn = nn.ModuleList()\n",
    "        self.conv = nn.ModuleList()\n",
    "        self.ap = nn.ModuleList([ApLayer(sentence_length)])\n",
    "        self.fc = nn.Linear(layer_size + 1, 1)\n",
    "\n",
    "        for i in range(layer_size):\n",
    "            self.abcnn.append(Abcnn2Portion(sentence_length, filter_width))\n",
    "            self.conv.append(\n",
    "                ConvLayer(True, sentence_length, filter_width, emb_dim if i == 0 else filter_channel, filter_channel,\n",
    "                          inception))\n",
    "            self.ap.append(ApLayer(sentence_length + filter_width - 1))\n",
    "\n",
    "    def forward(self, x1, x2):\n",
    "        '''\n",
    "        1. stack sentence vector similarity\n",
    "\n",
    "        2. for layer_size\n",
    "            convolution\n",
    "            stack sentence vector similarity\n",
    "            abcnn2\n",
    "\n",
    "        3. concatenate similarity list\n",
    "            size (batch_size, layer_size + 1)\n",
    "\n",
    "        4. Linear layer\n",
    "            size (batch_size, 1)\n",
    "\n",
    "        Parameters\n",
    "        ----------\n",
    "        x1, x2 : 4-D torch Tensor\n",
    "            size (batch_size, 1, sentence_length, emb_dim)\n",
    "\n",
    "        Returns\n",
    "        -------\n",
    "        output : 2-D torch Tensor\n",
    "            size (batch_size, 1)\n",
    "        '''\n",
    "        # sim = []\n",
    "        # sim.append(self.distance(self.ap[0](x1), self.ap[0](x2)))\n",
    "\n",
    "        representation_x1 = self.ap[0](x1)\n",
    "        representation_x2 = self.ap[0](x2)\n",
    "\n",
    "        for i in range(self.layer_size):\n",
    "            x1, x2 = self.abcnn1[i](x1, x2)\n",
    "            x1 = self.conv[i](x1)\n",
    "            x2 = self.conv[i](x2)\n",
    "            # sim.append(self.distance(self.ap[i + 1](x1), self.ap[i + 1](x2)))\n",
    "            representation_x1 = torch.cat((representation_x1, self.ap[i + 1](x1)), 1)\n",
    "            representation_x2 = torch.cat((representation_x2, self.ap[i + 1](x2)), 1)\n",
    "            x1, x2 = self.abcnn2[i](x1, x2)\n",
    "\n",
    "        # sim_fc = torch.cat(sim, dim=1)\n",
    "        # output = self.fc(sim_fc)\n",
    "        return representation_x1, representation_x2\n",
    "\n",
    "\n",
    "class Abcnn1Portion(nn.Module):\n",
    "    '''Part of Abcnn1\n",
    "    '''\n",
    "\n",
    "    def __init__(self, in_dim, out_dim):\n",
    "        super(Abcnn1Portion, self).__init__()\n",
    "        self.batchNorm = nn.BatchNorm2d(2)\n",
    "        self.attention_feature_layer = nn.Linear(in_dim, out_dim)\n",
    "\n",
    "    def forward(self, x1, x2):\n",
    "        '''\n",
    "        1. compute attention matrix\n",
    "            attention_m : size (batch_size, sentence_length, sentence_length)\n",
    "        2. generate attention feature map(weight matrix are parameters of the model to be learned)\n",
    "            x_attention : size (batch_size, 1, sentence_length, emb_dim)\n",
    "        3. stack the representation feature map and attention feature map\n",
    "            x : size (batch_size, 2, sentence_length, emb_dim)\n",
    "        4. batch norm(not in paper)\n",
    "\n",
    "        Parameters\n",
    "        ----------\n",
    "        x1, x2 : 4-D torch Tensor\n",
    "            size (batch_size, 1, sentence_length, emb_dim)\n",
    "\n",
    "        Returns\n",
    "        -------\n",
    "        (x1, x2) : list of 4-D torch Tensor\n",
    "            size (batch_size, 2, sentence_length, emb_dim)\n",
    "        '''\n",
    "        #         print(x1.size())\n",
    "        #         print(x2.size())\n",
    "        attention_m = attention_matrix(x1, x2)\n",
    "        #         print(attention_m.size())\n",
    "\n",
    "        x1_attention = self.attention_feature_layer(attention_m.permute(0, 2, 1))\n",
    "        #         print(x1_attention.size())\n",
    "        x1_attention = x1_attention.unsqueeze(1)\n",
    "        x1 = torch.cat([x1, x1_attention], 1)\n",
    "\n",
    "        x2_attention = self.attention_feature_layer(attention_m)\n",
    "        x2_attention = x2_attention.unsqueeze(1)\n",
    "        x2 = torch.cat([x2, x2_attention], 1)\n",
    "\n",
    "        x1 = self.batchNorm(x1)\n",
    "        x2 = self.batchNorm(x2)\n",
    "\n",
    "        return (x1, x2)\n",
    "\n",
    "\n",
    "class Abcnn2Portion(nn.Module):\n",
    "    '''Part of Abcnn2\n",
    "    '''\n",
    "\n",
    "    def __init__(self, sentence_length, filter_width):\n",
    "        super(Abcnn2Portion, self).__init__()\n",
    "        self.wp = WpLayer(sentence_length, filter_width, True)\n",
    "\n",
    "    def forward(self, x1, x2):\n",
    "        '''\n",
    "        1. compute attention matrix\n",
    "            attention_m : size (batch_size, sentence_length + filter_width - 1, sentence_length + filter_width - 1)\n",
    "        2. sum all attention values for a unit to derive a single attention weight for that unit\n",
    "            x_a_conv : size (batch_size, sentence_length + filter_width - 1)\n",
    "        3. average pooling(w-ap)\n",
    "\n",
    "        Parameters\n",
    "        ----------\n",
    "        x1, x2 : 4-D torch Tensor\n",
    "            size (batch_size, 1, sentence_length + filter_width - 1, height)\n",
    "\n",
    "        Returns\n",
    "        -------\n",
    "        (x1, x2) : list of 4-D torch Tensor\n",
    "            size (batch_size, 1, sentence_length, height)\n",
    "        '''\n",
    "        attention_m = attention_matrix(x1, x2)\n",
    "        x1_a_conv = attention_m.sum(dim=1)\n",
    "        x2_a_conv = attention_m.sum(dim=2)\n",
    "        x1 = self.wp(x1, x1_a_conv)\n",
    "        x2 = self.wp(x2, x2_a_conv)\n",
    "\n",
    "        return (x1, x2)\n",
    "\n",
    "\n",
    "class InceptionModule(nn.Module):\n",
    "    '''\n",
    "    inception module(not in paper)\n",
    "    first layer width is filter_width(given)\n",
    "    second layer width is filter_width + 4\n",
    "    third layer width is sentence_length\n",
    "\n",
    "    this helps model to be learned(when the number of layers > 8)\n",
    "    '''\n",
    "\n",
    "    def __init__(self, in_channel, sentence_length, filter_width, filter_height, filter_channel):\n",
    "        super(InceptionModule, self).__init__()\n",
    "        self.conv_1 = convolution(in_channel, filter_width, filter_height,\n",
    "                                  int(filter_channel / 3) + filter_channel - 3 * int(filter_channel / 3),\n",
    "                                  filter_width - 1)\n",
    "        self.conv_2 = convolution(in_channel, filter_width + 4, filter_height, int(filter_channel / 3),\n",
    "                                  filter_width + 1)\n",
    "        self.conv_3 = convolution(in_channel, sentence_length, filter_height, int(filter_channel / 3),\n",
    "                                  int((sentence_length + filter_width - 2) / 2))\n",
    "\n",
    "    def forward(self, x):\n",
    "        out_1 = self.conv_1(x)\n",
    "        out_2 = self.conv_2(x)\n",
    "        out_3 = self.conv_3(x)\n",
    "        output = torch.cat([out_1, out_2, out_3], dim=1)\n",
    "        return output\n",
    "\n",
    "\n",
    "class ConvLayer(nn.Module):\n",
    "    '''\n",
    "    convolution layer for abcnn\n",
    "\n",
    "    Attributes\n",
    "    ----------\n",
    "    inception : bool\n",
    "        whether use inception module\n",
    "    '''\n",
    "\n",
    "    def __init__(self, isAbcnn2, sentence_length, filter_width, filter_height, filter_channel, inception):\n",
    "        super(ConvLayer, self).__init__()\n",
    "        if inception:\n",
    "            self.model = InceptionModule(1 if isAbcnn2 else 2, sentence_length, filter_width, filter_height,\n",
    "                                         filter_channel)\n",
    "        else:\n",
    "            self.model = convolution(1 if isAbcnn2 else 2, filter_width, filter_height, filter_channel,\n",
    "                                     filter_width - 1)\n",
    "\n",
    "    def forward(self, x):\n",
    "        '''\n",
    "        1. convlayer\n",
    "            size (batch_size, filter_channel, height, 1)\n",
    "        2. transpose\n",
    "            size (batch_size, 1, height, filter_channel)\n",
    "\n",
    "        Parameters\n",
    "        ----------\n",
    "        x : 4-D torch Tensor\n",
    "            size (batch_size, 1, height, width)\n",
    "\n",
    "        Returns\n",
    "        -------\n",
    "        output : 4-D torch Tensor\n",
    "            size (batch_size, 1, height, filter_channel)\n",
    "        '''\n",
    "        output = self.model(x)\n",
    "        output = output.permute(0, 3, 2, 1)\n",
    "        return output\n",
    "\n",
    "\n",
    "def cosine_similarity(x1, x2):\n",
    "    '''compute cosine similarity between x1 and x2\n",
    "\n",
    "    Parameters\n",
    "    ----------\n",
    "    x1, x2 : 2-D torch Tensor\n",
    "        size (batch_size, 1)\n",
    "\n",
    "    Returns\n",
    "    -------\n",
    "    distance : 2-D torch Tensor\n",
    "        similarity result of size (batch_size, 1)\n",
    "    '''\n",
    "    return F.cosine_similarity(x1, x2).unsqueeze(1)\n",
    "\n",
    "\n",
    "def manhattan_distance(x1, x2):\n",
    "    '''compute manhattan distance between x1 and x2 (not in paper)\n",
    "\n",
    "    Parameters\n",
    "    ----------\n",
    "    x1, x2 : 2-D torch Tensor\n",
    "        size (batch_size, 1)\n",
    "\n",
    "    Returns\n",
    "    -------\n",
    "    distance : 2-D torch Tensor\n",
    "        similarity result of size (batch_size, 1)\n",
    "    '''\n",
    "    return torch.div(torch.norm((x1 - x2), 1, 1, keepdim=True), x1.size()[1])\n",
    "\n",
    "\n",
    "def convolution(in_channel, filter_width, filter_height, filter_channel, padding):\n",
    "    '''convolution layer\n",
    "    '''\n",
    "    model = nn.Sequential(\n",
    "        nn.Conv2d(in_channel, filter_channel, (filter_width, filter_height), stride=1, padding=(padding, 0)),\n",
    "        nn.BatchNorm2d(filter_channel),\n",
    "        nn.Tanh()\n",
    "    )\n",
    "    return model\n",
    "\n",
    "\n",
    "def attention_matrix(x1, x2, eps=1e-6):\n",
    "    '''compute attention matrix using match score\n",
    "\n",
    "    1 / (1 + |x · y|)\n",
    "    |·| is euclidean distance\n",
    "\n",
    "    Parameters\n",
    "    ----------\n",
    "    x1, x2 : 4-D torch Tensor\n",
    "        size (batch_size, 1, sentence_length, width)\n",
    "\n",
    "    Returns\n",
    "    -------\n",
    "    output : 3-D torch Tensor\n",
    "        match score result of size (batch_size, sentence_length(for x2), sentence_length(for x1))\n",
    "    '''\n",
    "    # eps = torch.tensor(eps)\n",
    "    # one = torch.tensor(1.)\n",
    "    euclidean = (torch.pow(x1 - x2.permute(0, 2, 1, 3), 2).sum(dim=3) + eps).sqrt()\n",
    "    return (euclidean + 1.).reciprocal()\n",
    "\n",
    "\n",
    "class ApLayer(nn.Module):\n",
    "    '''column-wise averaging over all columns\n",
    "    '''\n",
    "\n",
    "    def __init__(self, width):\n",
    "        super(ApLayer, self).__init__()\n",
    "        self.ap = nn.AvgPool2d((1, width), stride=1)\n",
    "\n",
    "    def forward(self, x):\n",
    "        '''\n",
    "        1. average pooling\n",
    "            x size (batch_size, 1, sentence_length, 1)\n",
    "        2. representation vector for the sentence\n",
    "            output size (batch_size, sentence_length)\n",
    "\n",
    "        Parameters\n",
    "        ----------\n",
    "        x : 4-D torch Tensor\n",
    "            convolution output of size (batch_size, 1, sentence_length, width)\n",
    "\n",
    "        Returns\n",
    "        -------\n",
    "        output : 2-D torch Tensor\n",
    "            representation vector of size (batch_size, width)\n",
    "        '''\n",
    "        return self.ap(x).squeeze(1).squeeze(2)\n",
    "\n",
    "\n",
    "class WpLayer(nn.Module):\n",
    "    '''column-wise averaging over windows of w consecutive columns\n",
    "\n",
    "    Attributes\n",
    "    ----------\n",
    "    attention : bool\n",
    "        compute layer with attention matrix\n",
    "    '''\n",
    "\n",
    "    def __init__(self, sentence_length, filter_width, attention):\n",
    "        super(WpLayer, self).__init__()\n",
    "        self.attention = attention\n",
    "        if attention:\n",
    "            self.sentence_length = sentence_length\n",
    "            self.filter_width = filter_width\n",
    "        else:\n",
    "            self.wp = nn.AvgPool2d((filter_width, 1), stride=1)\n",
    "\n",
    "    def forward(self, x, attention_matrix=None):\n",
    "        '''\n",
    "        if attention\n",
    "            reweight the convolution output with attention matrix\n",
    "        else\n",
    "            average pooling\n",
    "\n",
    "        Parameters\n",
    "        ----------\n",
    "        x : 4-D torch Tensor\n",
    "            convolution output of size (batch_size, 1, sentence_length + filter_width - 1, height)\n",
    "        attention_matrix: 2-D torch Tensor\n",
    "            attention matrix between (convolution output x1 and convolution output x2) of size (batch_size, sentence_length + filter_width - 1)\n",
    "\n",
    "        Returns\n",
    "        -------\n",
    "        output : 4-D torch Tensor\n",
    "            size (batch_size, 1, sentence_length, height)\n",
    "        '''\n",
    "        if self.attention:\n",
    "            pools = []\n",
    "            attention_matrix = attention_matrix.unsqueeze(1).unsqueeze(3)\n",
    "            for i in range(self.sentence_length):\n",
    "                pools.append(\n",
    "                    (x[:, :, i:i + self.filter_width, :] * attention_matrix[:, :, i:i + self.filter_width, :]).sum(\n",
    "                        dim=2, keepdim=True))\n",
    "\n",
    "            return torch.cat(pools, dim=2)\n",
    "\n",
    "        else:\n",
    "            return self.wp(x)\n",
    "\n",
    "\n",
    "def weights_init(m):\n",
    "    classname = m.__class__.__name__\n",
    "    if classname.find('Conv') != -1 and classname.find('Layer') == -1:\n",
    "        nn.init.xavier_uniform_(m.weight)\n",
    "    elif classname.find('Linear') != -1:\n",
    "        nn.init.xavier_uniform_(m.weight)\n",
    "        nn.init.constant_(m.bias, 0.1)\n",
    "    elif classname.find('BatchNorm') != -1:\n",
    "        m.weight.data.normal_(1.0, 0.02)\n",
    "        m.bias.data.fill_(0)"
   ]
  },
  {
   "cell_type": "code",
   "execution_count": 19,
   "metadata": {},
   "outputs": [],
   "source": [
    "cnn_attr_summarizer_module = dm.modules.NoMeta(attr_summarization_abcnn())\n",
    "\n",
    "model = dm.MatchingModel(attr_summarizer=lambda: cnn_attr_summarizer_module, \n",
    "                         attr_comparator='abs-diff',\n",
    "                         classifier = '3-layer-residual-relu')"
   ]
  },
  {
   "cell_type": "code",
   "execution_count": 20,
   "metadata": {},
   "outputs": [
    {
     "name": "stdout",
     "output_type": "stream",
     "text": [
      "* Number of trainable parameters: 3155614\n",
      "===>  TRAIN Epoch 1\n"
     ]
    },
    {
     "name": "stderr",
     "output_type": "stream",
     "text": [
      "0% [███████████████████████] 100% | ETA: 00:00:00\n",
      "Total time elapsed: 00:03:20\n"
     ]
    },
    {
     "name": "stdout",
     "output_type": "stream",
     "text": [
      "Finished Epoch 1 || Run Time:  195.0 | Load Time:    6.0 || F1:  19.27 | Prec:  10.68 | Rec:  98.70 || Ex/s:  28.58\n",
      "\n",
      "===>  EVAL Epoch 1\n"
     ]
    },
    {
     "name": "stderr",
     "output_type": "stream",
     "text": [
      "0% [███████] 100% | ETA: 00:00:00\n",
      "Total time elapsed: 00:00:29\n"
     ]
    },
    {
     "name": "stdout",
     "output_type": "stream",
     "text": [
      "Finished Epoch 1 || Run Time:   30.1 | Load Time:    2.0 || F1:  21.60 | Prec:  12.11 | Rec: 100.00 || Ex/s:  59.66\n",
      "\n",
      "* Best F1: 21.60148975791434\n",
      "Saving best model...\n",
      "Done.\n",
      "---------------------\n",
      "\n",
      "===>  TRAIN Epoch 2\n"
     ]
    },
    {
     "name": "stderr",
     "output_type": "stream",
     "text": [
      "0% [███████████████████████] 100% | ETA: 00:00:00\n",
      "Total time elapsed: 00:03:22\n"
     ]
    },
    {
     "name": "stdout",
     "output_type": "stream",
     "text": [
      "Finished Epoch 2 || Run Time:  197.4 | Load Time:    6.1 || F1:  19.37 | Prec:  10.73 | Rec: 100.00 || Ex/s:  28.23\n",
      "\n",
      "===>  EVAL Epoch 2\n"
     ]
    },
    {
     "name": "stderr",
     "output_type": "stream",
     "text": [
      "0% [███████] 100% | ETA: 00:00:00\n",
      "Total time elapsed: 00:00:29\n"
     ]
    },
    {
     "name": "stdout",
     "output_type": "stream",
     "text": [
      "Finished Epoch 2 || Run Time:   30.3 | Load Time:    2.1 || F1:  21.60 | Prec:  12.11 | Rec: 100.00 || Ex/s:  59.23\n",
      "\n",
      "---------------------\n",
      "\n",
      "===>  TRAIN Epoch 3\n"
     ]
    },
    {
     "name": "stderr",
     "output_type": "stream",
     "text": [
      "0% [███████████████████████] 100% | ETA: 00:00:00\n",
      "Total time elapsed: 00:03:23\n"
     ]
    },
    {
     "name": "stdout",
     "output_type": "stream",
     "text": [
      "Finished Epoch 3 || Run Time:  198.4 | Load Time:    6.3 || F1:  19.59 | Prec:  10.87 | Rec:  99.19 || Ex/s:  28.06\n",
      "\n",
      "===>  EVAL Epoch 3\n"
     ]
    },
    {
     "name": "stderr",
     "output_type": "stream",
     "text": [
      "0% [███████] 100% | ETA: 00:00:00\n",
      "Total time elapsed: 00:00:29\n"
     ]
    },
    {
     "name": "stdout",
     "output_type": "stream",
     "text": [
      "Finished Epoch 3 || Run Time:   30.0 | Load Time:    2.0 || F1:  21.95 | Prec:  12.33 | Rec: 100.00 || Ex/s:  59.87\n",
      "\n",
      "* Best F1: 21.94891201513718\n",
      "Saving best model...\n",
      "Done.\n",
      "---------------------\n",
      "\n",
      "===>  TRAIN Epoch 4\n"
     ]
    },
    {
     "name": "stderr",
     "output_type": "stream",
     "text": [
      "0% [███████████████████████] 100% | ETA: 00:00:00\n",
      "Total time elapsed: 00:03:22\n"
     ]
    },
    {
     "name": "stdout",
     "output_type": "stream",
     "text": [
      "Finished Epoch 4 || Run Time:  197.3 | Load Time:    6.2 || F1:  23.19 | Prec:  13.23 | Rec:  93.83 || Ex/s:  28.21\n",
      "\n",
      "===>  EVAL Epoch 4\n"
     ]
    },
    {
     "name": "stderr",
     "output_type": "stream",
     "text": [
      "0% [███████] 100% | ETA: 00:00:00\n",
      "Total time elapsed: 00:00:29\n"
     ]
    },
    {
     "name": "stdout",
     "output_type": "stream",
     "text": [
      "Finished Epoch 4 || Run Time:   30.3 | Load Time:    2.2 || F1:  28.40 | Prec:  17.16 | Rec:  82.33 || Ex/s:  59.00\n",
      "\n",
      "* Best F1: 28.401486988847584\n",
      "Saving best model...\n",
      "Done.\n",
      "---------------------\n",
      "\n",
      "===>  TRAIN Epoch 5\n"
     ]
    },
    {
     "name": "stderr",
     "output_type": "stream",
     "text": [
      "0% [███████████████████████] 100% | ETA: 00:00:00\n",
      "Total time elapsed: 00:03:24\n"
     ]
    },
    {
     "name": "stdout",
     "output_type": "stream",
     "text": [
      "Finished Epoch 5 || Run Time:  198.8 | Load Time:    6.2 || F1:  27.70 | Prec:  16.24 | Rec:  94.16 || Ex/s:  28.01\n",
      "\n",
      "===>  EVAL Epoch 5\n"
     ]
    },
    {
     "name": "stderr",
     "output_type": "stream",
     "text": [
      "0% [███████] 100% | ETA: 00:00:00\n",
      "Total time elapsed: 00:00:29\n"
     ]
    },
    {
     "name": "stdout",
     "output_type": "stream",
     "text": [
      "Finished Epoch 5 || Run Time:   30.2 | Load Time:    2.0 || F1:  34.62 | Prec:  25.40 | Rec:  54.31 || Ex/s:  59.42\n",
      "\n",
      "* Best F1: 34.61538461538461\n",
      "Saving best model...\n",
      "Done.\n",
      "---------------------\n",
      "\n",
      "===>  TRAIN Epoch 6\n"
     ]
    },
    {
     "name": "stderr",
     "output_type": "stream",
     "text": [
      "0% [███████████████████████] 100% | ETA: 00:00:00\n",
      "Total time elapsed: 00:03:20\n"
     ]
    },
    {
     "name": "stdout",
     "output_type": "stream",
     "text": [
      "Finished Epoch 6 || Run Time:  195.3 | Load Time:    6.0 || F1:  31.21 | Prec:  18.73 | Rec:  93.67 || Ex/s:  28.52\n",
      "\n",
      "===>  EVAL Epoch 6\n"
     ]
    },
    {
     "name": "stderr",
     "output_type": "stream",
     "text": [
      "0% [███████] 100% | ETA: 00:00:00\n",
      "Total time elapsed: 00:00:29\n"
     ]
    },
    {
     "name": "stdout",
     "output_type": "stream",
     "text": [
      "Finished Epoch 6 || Run Time:   30.1 | Load Time:    2.0 || F1:  32.07 | Prec:  26.72 | Rec:  40.09 || Ex/s:  59.81\n",
      "\n",
      "---------------------\n",
      "\n",
      "===>  TRAIN Epoch 7\n"
     ]
    },
    {
     "name": "stderr",
     "output_type": "stream",
     "text": [
      "0% [███████████████████████] 100% | ETA: 00:00:00\n",
      "Total time elapsed: 00:03:21\n"
     ]
    },
    {
     "name": "stdout",
     "output_type": "stream",
     "text": [
      "Finished Epoch 7 || Run Time:  196.0 | Load Time:    6.1 || F1:  34.73 | Prec:  21.33 | Rec:  93.51 || Ex/s:  28.41\n",
      "\n",
      "===>  EVAL Epoch 7\n"
     ]
    },
    {
     "name": "stderr",
     "output_type": "stream",
     "text": [
      "0% [███████] 100% | ETA: 00:00:00\n",
      "Total time elapsed: 00:00:29\n"
     ]
    },
    {
     "name": "stdout",
     "output_type": "stream",
     "text": [
      "Finished Epoch 7 || Run Time:   30.2 | Load Time:    2.0 || F1:  29.66 | Prec:  24.71 | Rec:  37.07 || Ex/s:  59.62\n",
      "\n",
      "---------------------\n",
      "\n",
      "===>  TRAIN Epoch 8\n"
     ]
    },
    {
     "name": "stderr",
     "output_type": "stream",
     "text": [
      "0% [███████████████████████] 100% | ETA: 00:00:00\n",
      "Total time elapsed: 00:03:23\n"
     ]
    },
    {
     "name": "stdout",
     "output_type": "stream",
     "text": [
      "Finished Epoch 8 || Run Time:  198.2 | Load Time:    6.2 || F1:  38.85 | Prec:  24.41 | Rec:  95.13 || Ex/s:  28.10\n",
      "\n",
      "===>  EVAL Epoch 8\n"
     ]
    },
    {
     "name": "stderr",
     "output_type": "stream",
     "text": [
      "0% [███████] 100% | ETA: 00:00:00\n",
      "Total time elapsed: 00:00:29\n"
     ]
    },
    {
     "name": "stdout",
     "output_type": "stream",
     "text": [
      "Finished Epoch 8 || Run Time:   30.2 | Load Time:    2.0 || F1:  35.40 | Prec:  25.04 | Rec:  60.34 || Ex/s:  59.39\n",
      "\n",
      "* Best F1: 35.39823008849557\n",
      "Saving best model...\n",
      "Done.\n",
      "---------------------\n",
      "\n",
      "===>  TRAIN Epoch 9\n"
     ]
    },
    {
     "name": "stderr",
     "output_type": "stream",
     "text": [
      "0% [███████████████████████] 100% | ETA: 00:00:00\n",
      "Total time elapsed: 00:03:19\n"
     ]
    },
    {
     "name": "stdout",
     "output_type": "stream",
     "text": [
      "Finished Epoch 9 || Run Time:  194.0 | Load Time:    6.0 || F1:  42.77 | Prec:  27.55 | Rec:  95.62 || Ex/s:  28.70\n",
      "\n",
      "===>  EVAL Epoch 9\n"
     ]
    },
    {
     "name": "stderr",
     "output_type": "stream",
     "text": [
      "0% [███████] 100% | ETA: 00:00:00\n",
      "Total time elapsed: 00:00:29\n"
     ]
    },
    {
     "name": "stdout",
     "output_type": "stream",
     "text": [
      "Finished Epoch 9 || Run Time:   30.0 | Load Time:    1.9 || F1:  36.57 | Prec:  24.14 | Rec:  75.43 || Ex/s:  60.10\n",
      "\n",
      "* Best F1: 36.57262277951933\n",
      "Saving best model...\n",
      "Done.\n",
      "---------------------\n",
      "\n",
      "===>  TRAIN Epoch 10\n"
     ]
    },
    {
     "name": "stderr",
     "output_type": "stream",
     "text": [
      "0% [███████████████████████] 100% | ETA: 00:00:00\n",
      "Total time elapsed: 00:03:21\n"
     ]
    },
    {
     "name": "stdout",
     "output_type": "stream",
     "text": [
      "Finished Epoch 10 || Run Time:  196.0 | Load Time:    6.1 || F1:  44.28 | Prec:  28.90 | Rec:  94.64 || Ex/s:  28.43\n",
      "\n",
      "===>  EVAL Epoch 10\n"
     ]
    },
    {
     "name": "stderr",
     "output_type": "stream",
     "text": [
      "0% [███████] 100% | ETA: 00:00:00\n",
      "Total time elapsed: 00:00:29\n"
     ]
    },
    {
     "name": "stdout",
     "output_type": "stream",
     "text": [
      "Finished Epoch 10 || Run Time:   30.4 | Load Time:    2.0 || F1:  38.45 | Prec:  26.12 | Rec:  72.84 || Ex/s:  59.16\n",
      "\n",
      "* Best F1: 38.45278725824801\n",
      "Saving best model...\n",
      "Done.\n",
      "---------------------\n",
      "\n",
      "===>  TRAIN Epoch 11\n"
     ]
    },
    {
     "name": "stderr",
     "output_type": "stream",
     "text": [
      "0% [███████████████████████] 100% | ETA: 00:00:00\n",
      "Total time elapsed: 00:03:19\n"
     ]
    },
    {
     "name": "stdout",
     "output_type": "stream",
     "text": [
      "Finished Epoch 11 || Run Time:  194.6 | Load Time:    6.0 || F1:  45.77 | Prec:  30.17 | Rec:  94.81 || Ex/s:  28.62\n",
      "\n",
      "===>  EVAL Epoch 11\n"
     ]
    },
    {
     "name": "stderr",
     "output_type": "stream",
     "text": [
      "0% [███████] 100% | ETA: 00:00:00\n",
      "Total time elapsed: 00:00:29\n"
     ]
    },
    {
     "name": "stdout",
     "output_type": "stream",
     "text": [
      "Finished Epoch 11 || Run Time:   29.9 | Load Time:    1.9 || F1:  44.07 | Prec:  32.58 | Rec:  68.10 || Ex/s:  60.24\n",
      "\n",
      "* Best F1: 44.072524407252445\n",
      "Saving best model...\n",
      "Done.\n",
      "---------------------\n",
      "\n",
      "===>  TRAIN Epoch 12\n"
     ]
    },
    {
     "name": "stderr",
     "output_type": "stream",
     "text": [
      "0% [███████████████████████] 100% | ETA: 00:00:00\n",
      "Total time elapsed: 00:03:18\n"
     ]
    },
    {
     "name": "stdout",
     "output_type": "stream",
     "text": [
      "Finished Epoch 12 || Run Time:  193.2 | Load Time:    6.0 || F1:  49.21 | Prec:  33.15 | Rec:  95.45 || Ex/s:  28.84\n",
      "\n",
      "===>  EVAL Epoch 12\n"
     ]
    },
    {
     "name": "stderr",
     "output_type": "stream",
     "text": [
      "0% [███████] 100% | ETA: 00:00:00\n",
      "Total time elapsed: 00:00:29\n"
     ]
    },
    {
     "name": "stdout",
     "output_type": "stream",
     "text": [
      "Finished Epoch 12 || Run Time:   29.9 | Load Time:    1.9 || F1:  43.50 | Prec:  32.35 | Rec:  66.38 || Ex/s:  60.13\n",
      "\n",
      "---------------------\n",
      "\n",
      "===>  TRAIN Epoch 13\n"
     ]
    },
    {
     "name": "stderr",
     "output_type": "stream",
     "text": [
      "0% [███████████████████████] 100% | ETA: 00:00:00\n",
      "Total time elapsed: 00:03:18\n"
     ]
    },
    {
     "name": "stdout",
     "output_type": "stream",
     "text": [
      "Finished Epoch 13 || Run Time:  193.4 | Load Time:    6.0 || F1:  52.13 | Prec:  35.85 | Rec:  95.45 || Ex/s:  28.80\n",
      "\n",
      "===>  EVAL Epoch 13\n"
     ]
    },
    {
     "name": "stderr",
     "output_type": "stream",
     "text": [
      "0% [███████] 100% | ETA: 00:00:00\n",
      "Total time elapsed: 00:00:29\n"
     ]
    },
    {
     "name": "stdout",
     "output_type": "stream",
     "text": [
      "Finished Epoch 13 || Run Time:   29.9 | Load Time:    1.9 || F1:  43.18 | Prec:  31.17 | Rec:  70.26 || Ex/s:  60.18\n",
      "\n",
      "---------------------\n",
      "\n",
      "===>  TRAIN Epoch 14\n"
     ]
    },
    {
     "name": "stderr",
     "output_type": "stream",
     "text": [
      "0% [███████████████████████] 100% | ETA: 00:00:00\n",
      "Total time elapsed: 00:03:18\n"
     ]
    },
    {
     "name": "stdout",
     "output_type": "stream",
     "text": [
      "Finished Epoch 14 || Run Time:  193.1 | Load Time:    6.0 || F1:  55.07 | Prec:  38.59 | Rec:  96.10 || Ex/s:  28.85\n",
      "\n",
      "===>  EVAL Epoch 14\n"
     ]
    },
    {
     "name": "stderr",
     "output_type": "stream",
     "text": [
      "0% [███████] 100% | ETA: 00:00:00\n",
      "Total time elapsed: 00:00:29\n"
     ]
    },
    {
     "name": "stdout",
     "output_type": "stream",
     "text": [
      "Finished Epoch 14 || Run Time:   29.9 | Load Time:    1.9 || F1:  41.81 | Prec:  29.18 | Rec:  73.71 || Ex/s:  60.16\n",
      "\n",
      "---------------------\n",
      "\n",
      "===>  TRAIN Epoch 15\n"
     ]
    },
    {
     "name": "stderr",
     "output_type": "stream",
     "text": [
      "0% [███████████████████████] 100% | ETA: 00:00:00\n",
      "Total time elapsed: 00:03:18\n"
     ]
    },
    {
     "name": "stdout",
     "output_type": "stream",
     "text": [
      "Finished Epoch 15 || Run Time:  193.1 | Load Time:    6.0 || F1:  58.22 | Prec:  41.73 | Rec:  96.27 || Ex/s:  28.85\n",
      "\n",
      "===>  EVAL Epoch 15\n"
     ]
    },
    {
     "name": "stderr",
     "output_type": "stream",
     "text": [
      "0% [███████] 100% | ETA: 00:00:00\n",
      "Total time elapsed: 00:00:29\n"
     ]
    },
    {
     "name": "stdout",
     "output_type": "stream",
     "text": [
      "Finished Epoch 15 || Run Time:   30.0 | Load Time:    1.9 || F1:  41.47 | Prec:  28.99 | Rec:  72.84 || Ex/s:  60.09\n",
      "\n",
      "---------------------\n",
      "\n",
      "Loading best model...\n",
      "Training done.\n"
     ]
    },
    {
     "data": {
      "text/plain": [
       "44.072524407252445"
      ]
     },
     "execution_count": 20,
     "metadata": {},
     "output_type": "execute_result"
    }
   ],
   "source": [
    "model.run_train(\n",
    "    train,\n",
    "    validation,\n",
    "    epochs=15,\n",
    "    batch_size=50,\n",
    "    best_save_path='cnn_model.pth',\n",
    "    pos_neg_ratio=10)"
   ]
  },
  {
   "cell_type": "code",
   "execution_count": 21,
   "metadata": {},
   "outputs": [
    {
     "name": "stdout",
     "output_type": "stream",
     "text": [
      "===>  EVAL Epoch 11\n"
     ]
    },
    {
     "name": "stderr",
     "output_type": "stream",
     "text": [
      "0% [████████████] 100% | ETA: 00:00:00\n",
      "Total time elapsed: 00:00:30\n"
     ]
    },
    {
     "name": "stdout",
     "output_type": "stream",
     "text": [
      "Finished Epoch 11 || Run Time:   28.4 | Load Time:    1.9 || F1:  43.94 | Prec:  30.73 | Rec:  77.04 || Ex/s:  63.25\n",
      "\n"
     ]
    },
    {
     "data": {
      "text/plain": [
       "43.935032012619466"
      ]
     },
     "execution_count": 21,
     "metadata": {},
     "output_type": "execute_result"
    }
   ],
   "source": [
    "# The F-1 score for ABCNN approach\n",
    "model.run_eval(validation)"
   ]
  }
 ],
 "metadata": {
  "kernelspec": {
   "display_name": "Python 3",
   "language": "python",
   "name": "python3"
  },
  "language_info": {
   "codemirror_mode": {
    "name": "ipython",
    "version": 3
   },
   "file_extension": ".py",
   "mimetype": "text/x-python",
   "name": "python",
   "nbconvert_exporter": "python",
   "pygments_lexer": "ipython3",
   "version": "3.6.6"
  }
 },
 "nbformat": 4,
 "nbformat_minor": 2
}
