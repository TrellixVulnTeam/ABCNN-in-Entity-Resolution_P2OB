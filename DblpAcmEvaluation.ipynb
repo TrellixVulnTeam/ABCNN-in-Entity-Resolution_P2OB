{
 "cells": [
  {
   "cell_type": "code",
   "execution_count": 1,
   "metadata": {},
   "outputs": [],
   "source": [
    "import deepmatcher as dm\n",
    "import torch\n",
    "import pandas as pd"
   ]
  },
  {
   "cell_type": "code",
   "execution_count": 2,
   "metadata": {},
   "outputs": [
    {
     "data": {
      "text/plain": [
       "True"
      ]
     },
     "execution_count": 2,
     "metadata": {},
     "output_type": "execute_result"
    }
   ],
   "source": [
    "torch.cuda.is_available()"
   ]
  },
  {
   "cell_type": "code",
   "execution_count": 3,
   "metadata": {},
   "outputs": [],
   "source": [
    "# Data processing and embedding\n",
    "train, validation, test = dm.data.process(\n",
    "    path='evaluation_data/dblp_acm',\n",
    "    train='train.csv',\n",
    "    validation='validation.csv',\n",
    "    test='test.csv')"
   ]
  },
  {
   "cell_type": "code",
   "execution_count": 4,
   "metadata": {},
   "outputs": [
    {
     "name": "stdout",
     "output_type": "stream",
     "text": [
      "* Number of trainable parameters: 542402\n",
      "===>  TRAIN Epoch 1\n"
     ]
    },
    {
     "name": "stderr",
     "output_type": "stream",
     "text": [
      "0% [███████████████] 100% | ETA: 00:00:00\n",
      "Total time elapsed: 00:00:08\n"
     ]
    },
    {
     "name": "stdout",
     "output_type": "stream",
     "text": [
      "Finished Epoch 1 || Run Time:    0.7 | Load Time:    7.4 || F1:  75.28 | Prec:  61.26 | Rec:  97.60 || Ex/s: 914.70\n",
      "\n",
      "===>  EVAL Epoch 1\n"
     ]
    },
    {
     "name": "stderr",
     "output_type": "stream",
     "text": [
      "0% [█████] 100% | ETA: 00:00:00\n",
      "Total time elapsed: 00:00:02\n"
     ]
    },
    {
     "name": "stdout",
     "output_type": "stream",
     "text": [
      "Finished Epoch 1 || Run Time:    0.1 | Load Time:    2.5 || F1:  78.31 | Prec:  64.35 | Rec: 100.00 || Ex/s: 953.62\n",
      "\n",
      "* Best F1: 78.30687830687832\n",
      "Saving best model...\n",
      "Done.\n",
      "---------------------\n",
      "\n",
      "===>  TRAIN Epoch 2\n"
     ]
    },
    {
     "name": "stderr",
     "output_type": "stream",
     "text": [
      "0% [███████████████] 100% | ETA: 00:00:00\n",
      "Total time elapsed: 00:00:08\n"
     ]
    },
    {
     "name": "stdout",
     "output_type": "stream",
     "text": [
      "Finished Epoch 2 || Run Time:    0.5 | Load Time:    7.6 || F1:  87.29 | Prec:  77.90 | Rec:  99.25 || Ex/s: 913.03\n",
      "\n",
      "===>  EVAL Epoch 2\n"
     ]
    },
    {
     "name": "stderr",
     "output_type": "stream",
     "text": [
      "0% [█████] 100% | ETA: 00:00:00\n",
      "Total time elapsed: 00:00:02\n"
     ]
    },
    {
     "name": "stdout",
     "output_type": "stream",
     "text": [
      "Finished Epoch 2 || Run Time:    0.1 | Load Time:    2.6 || F1:  92.20 | Prec:  85.69 | Rec:  99.77 || Ex/s: 926.06\n",
      "\n",
      "* Best F1: 92.19562955254942\n",
      "Saving best model...\n",
      "Done.\n",
      "---------------------\n",
      "\n",
      "===>  TRAIN Epoch 3\n"
     ]
    },
    {
     "name": "stderr",
     "output_type": "stream",
     "text": [
      "0% [███████████████] 100% | ETA: 00:00:00\n",
      "Total time elapsed: 00:00:08\n"
     ]
    },
    {
     "name": "stdout",
     "output_type": "stream",
     "text": [
      "Finished Epoch 3 || Run Time:    0.5 | Load Time:    7.7 || F1:  92.34 | Prec:  86.10 | Rec:  99.55 || Ex/s: 905.56\n",
      "\n",
      "===>  EVAL Epoch 3\n"
     ]
    },
    {
     "name": "stderr",
     "output_type": "stream",
     "text": [
      "0% [█████] 100% | ETA: 00:00:00\n",
      "Total time elapsed: 00:00:02\n"
     ]
    },
    {
     "name": "stdout",
     "output_type": "stream",
     "text": [
      "Finished Epoch 3 || Run Time:    0.1 | Load Time:    2.5 || F1:  92.12 | Prec:  85.38 | Rec: 100.00 || Ex/s: 956.96\n",
      "\n",
      "---------------------\n",
      "\n",
      "===>  TRAIN Epoch 4\n"
     ]
    },
    {
     "name": "stderr",
     "output_type": "stream",
     "text": [
      "0% [███████████████] 100% | ETA: 00:00:00\n",
      "Total time elapsed: 00:00:07\n"
     ]
    },
    {
     "name": "stdout",
     "output_type": "stream",
     "text": [
      "Finished Epoch 4 || Run Time:    0.5 | Load Time:    7.4 || F1:  94.22 | Prec:  89.31 | Rec:  99.70 || Ex/s: 943.00\n",
      "\n",
      "===>  EVAL Epoch 4\n"
     ]
    },
    {
     "name": "stderr",
     "output_type": "stream",
     "text": [
      "0% [█████] 100% | ETA: 00:00:00\n",
      "Total time elapsed: 00:00:02\n"
     ]
    },
    {
     "name": "stdout",
     "output_type": "stream",
     "text": [
      "Finished Epoch 4 || Run Time:    0.1 | Load Time:    2.5 || F1:  92.98 | Prec:  86.89 | Rec: 100.00 || Ex/s: 964.83\n",
      "\n",
      "* Best F1: 92.98429319371728\n",
      "Saving best model...\n",
      "Done.\n",
      "---------------------\n",
      "\n",
      "===>  TRAIN Epoch 5\n"
     ]
    },
    {
     "name": "stderr",
     "output_type": "stream",
     "text": [
      "0% [███████████████] 100% | ETA: 00:00:00\n",
      "Total time elapsed: 00:00:08\n"
     ]
    },
    {
     "name": "stdout",
     "output_type": "stream",
     "text": [
      "Finished Epoch 5 || Run Time:    0.5 | Load Time:    7.8 || F1:  95.00 | Prec:  90.60 | Rec:  99.85 || Ex/s: 892.23\n",
      "\n",
      "===>  EVAL Epoch 5\n"
     ]
    },
    {
     "name": "stderr",
     "output_type": "stream",
     "text": [
      "0% [█████] 100% | ETA: 00:00:00\n",
      "Total time elapsed: 00:00:02\n"
     ]
    },
    {
     "name": "stdout",
     "output_type": "stream",
     "text": [
      "Finished Epoch 5 || Run Time:    0.1 | Load Time:    2.7 || F1:  95.37 | Prec:  91.34 | Rec:  99.77 || Ex/s: 893.02\n",
      "\n",
      "* Best F1: 95.3713670613563\n",
      "Saving best model...\n",
      "Done.\n",
      "---------------------\n",
      "\n",
      "===>  TRAIN Epoch 6\n"
     ]
    },
    {
     "name": "stderr",
     "output_type": "stream",
     "text": [
      "0% [███████████████] 100% | ETA: 00:00:00\n",
      "Total time elapsed: 00:00:07\n"
     ]
    },
    {
     "name": "stdout",
     "output_type": "stream",
     "text": [
      "Finished Epoch 6 || Run Time:    0.5 | Load Time:    7.4 || F1:  95.82 | Prec:  92.05 | Rec:  99.92 || Ex/s: 941.92\n",
      "\n",
      "===>  EVAL Epoch 6\n"
     ]
    },
    {
     "name": "stderr",
     "output_type": "stream",
     "text": [
      "0% [█████] 100% | ETA: 00:00:00\n",
      "Total time elapsed: 00:00:02\n"
     ]
    },
    {
     "name": "stdout",
     "output_type": "stream",
     "text": [
      "Finished Epoch 6 || Run Time:    0.1 | Load Time:    2.5 || F1:  96.40 | Prec:  93.45 | Rec:  99.55 || Ex/s: 960.49\n",
      "\n",
      "* Best F1: 96.40130861504908\n",
      "Saving best model...\n",
      "Done.\n",
      "---------------------\n",
      "\n",
      "===>  TRAIN Epoch 7\n"
     ]
    },
    {
     "name": "stderr",
     "output_type": "stream",
     "text": [
      "0% [███████████████] 100% | ETA: 00:00:00\n",
      "Total time elapsed: 00:00:07\n"
     ]
    },
    {
     "name": "stdout",
     "output_type": "stream",
     "text": [
      "Finished Epoch 7 || Run Time:    0.5 | Load Time:    7.4 || F1:  96.59 | Prec:  93.47 | Rec:  99.92 || Ex/s: 944.19\n",
      "\n",
      "===>  EVAL Epoch 7\n"
     ]
    },
    {
     "name": "stderr",
     "output_type": "stream",
     "text": [
      "0% [█████] 100% | ETA: 00:00:00\n",
      "Total time elapsed: 00:00:02\n"
     ]
    },
    {
     "name": "stdout",
     "output_type": "stream",
     "text": [
      "Finished Epoch 7 || Run Time:    0.1 | Load Time:    2.5 || F1:  96.50 | Prec:  93.83 | Rec:  99.32 || Ex/s: 963.64\n",
      "\n",
      "* Best F1: 96.49890590809628\n",
      "Saving best model...\n",
      "Done.\n",
      "---------------------\n",
      "\n",
      "===>  TRAIN Epoch 8\n"
     ]
    },
    {
     "name": "stderr",
     "output_type": "stream",
     "text": [
      "0% [███████████████] 100% | ETA: 00:00:00\n",
      "Total time elapsed: 00:00:07\n"
     ]
    },
    {
     "name": "stdout",
     "output_type": "stream",
     "text": [
      "Finished Epoch 8 || Run Time:    0.5 | Load Time:    7.4 || F1:  96.94 | Prec:  94.13 | Rec:  99.92 || Ex/s: 941.42\n",
      "\n",
      "===>  EVAL Epoch 8\n"
     ]
    },
    {
     "name": "stderr",
     "output_type": "stream",
     "text": [
      "0% [█████] 100% | ETA: 00:00:00\n",
      "Total time elapsed: 00:00:02\n"
     ]
    },
    {
     "name": "stdout",
     "output_type": "stream",
     "text": [
      "Finished Epoch 8 || Run Time:    0.1 | Load Time:    2.5 || F1:  97.03 | Prec:  94.84 | Rec:  99.32 || Ex/s: 951.51\n",
      "\n",
      "* Best F1: 97.02970297029702\n",
      "Saving best model...\n",
      "Done.\n",
      "---------------------\n",
      "\n",
      "===>  TRAIN Epoch 9\n"
     ]
    },
    {
     "name": "stderr",
     "output_type": "stream",
     "text": [
      "0% [███████████████] 100% | ETA: 00:00:00\n",
      "Total time elapsed: 00:00:07\n"
     ]
    },
    {
     "name": "stdout",
     "output_type": "stream",
     "text": [
      "Finished Epoch 9 || Run Time:    0.5 | Load Time:    7.5 || F1:  97.05 | Prec:  94.33 | Rec:  99.92 || Ex/s: 929.34\n",
      "\n",
      "===>  EVAL Epoch 9\n"
     ]
    },
    {
     "name": "stderr",
     "output_type": "stream",
     "text": [
      "0% [█████] 100% | ETA: 00:00:00\n",
      "Total time elapsed: 00:00:02\n"
     ]
    },
    {
     "name": "stdout",
     "output_type": "stream",
     "text": [
      "Finished Epoch 9 || Run Time:    0.1 | Load Time:    2.5 || F1:  97.14 | Prec:  94.85 | Rec:  99.55 || Ex/s: 955.11\n",
      "\n",
      "* Best F1: 97.14285714285714\n",
      "Saving best model...\n",
      "Done.\n",
      "---------------------\n",
      "\n",
      "===>  TRAIN Epoch 10\n"
     ]
    },
    {
     "name": "stderr",
     "output_type": "stream",
     "text": [
      "0% [███████████████] 100% | ETA: 00:00:00\n",
      "Total time elapsed: 00:00:07\n"
     ]
    },
    {
     "name": "stdout",
     "output_type": "stream",
     "text": [
      "Finished Epoch 10 || Run Time:    0.4 | Load Time:    7.5 || F1:  97.73 | Prec:  95.55 | Rec: 100.00 || Ex/s: 937.30\n",
      "\n",
      "===>  EVAL Epoch 10\n"
     ]
    },
    {
     "name": "stderr",
     "output_type": "stream",
     "text": [
      "0% [█████] 100% | ETA: 00:00:00\n",
      "Total time elapsed: 00:00:02\n"
     ]
    },
    {
     "name": "stdout",
     "output_type": "stream",
     "text": [
      "Finished Epoch 10 || Run Time:    0.1 | Load Time:    2.5 || F1:  97.25 | Prec:  95.05 | Rec:  99.55 || Ex/s: 955.40\n",
      "\n",
      "* Best F1: 97.24972497249725\n",
      "Saving best model...\n",
      "Done.\n",
      "---------------------\n",
      "\n",
      "===>  TRAIN Epoch 11\n"
     ]
    },
    {
     "name": "stderr",
     "output_type": "stream",
     "text": [
      "0% [███████████████] 100% | ETA: 00:00:00\n",
      "Total time elapsed: 00:00:07\n"
     ]
    },
    {
     "name": "stdout",
     "output_type": "stream",
     "text": [
      "Finished Epoch 11 || Run Time:    0.5 | Load Time:    7.4 || F1:  98.09 | Prec:  96.24 | Rec: 100.00 || Ex/s: 938.20\n",
      "\n",
      "===>  EVAL Epoch 11\n"
     ]
    },
    {
     "name": "stderr",
     "output_type": "stream",
     "text": [
      "0% [█████] 100% | ETA: 00:00:00\n",
      "Total time elapsed: 00:00:02\n"
     ]
    },
    {
     "name": "stdout",
     "output_type": "stream",
     "text": [
      "Finished Epoch 11 || Run Time:    0.1 | Load Time:    2.8 || F1:  97.25 | Prec:  95.05 | Rec:  99.55 || Ex/s: 869.42\n",
      "\n",
      "---------------------\n",
      "\n",
      "===>  TRAIN Epoch 12\n"
     ]
    },
    {
     "name": "stderr",
     "output_type": "stream",
     "text": [
      "0% [███████████████] 100% | ETA: 00:00:00\n",
      "Total time elapsed: 00:00:08\n"
     ]
    },
    {
     "name": "stdout",
     "output_type": "stream",
     "text": [
      "Finished Epoch 12 || Run Time:    0.5 | Load Time:    7.8 || F1:  98.12 | Prec:  96.31 | Rec: 100.00 || Ex/s: 892.66\n",
      "\n",
      "===>  EVAL Epoch 12\n"
     ]
    },
    {
     "name": "stderr",
     "output_type": "stream",
     "text": [
      "0% [█████] 100% | ETA: 00:00:00\n",
      "Total time elapsed: 00:00:02\n"
     ]
    },
    {
     "name": "stdout",
     "output_type": "stream",
     "text": [
      "Finished Epoch 12 || Run Time:    0.1 | Load Time:    2.6 || F1:  97.03 | Prec:  94.84 | Rec:  99.32 || Ex/s: 932.30\n",
      "\n",
      "---------------------\n",
      "\n",
      "===>  TRAIN Epoch 13\n"
     ]
    },
    {
     "name": "stderr",
     "output_type": "stream",
     "text": [
      "0% [███████████████] 100% | ETA: 00:00:00\n",
      "Total time elapsed: 00:00:08\n"
     ]
    },
    {
     "name": "stdout",
     "output_type": "stream",
     "text": [
      "Finished Epoch 13 || Run Time:    0.5 | Load Time:    7.9 || F1:  98.16 | Prec:  96.38 | Rec: 100.00 || Ex/s: 883.91\n",
      "\n",
      "===>  EVAL Epoch 13\n"
     ]
    },
    {
     "name": "stderr",
     "output_type": "stream",
     "text": [
      "0% [█████] 100% | ETA: 00:00:00\n",
      "Total time elapsed: 00:00:02\n"
     ]
    },
    {
     "name": "stdout",
     "output_type": "stream",
     "text": [
      "Finished Epoch 13 || Run Time:    0.1 | Load Time:    2.7 || F1:  97.14 | Prec:  95.04 | Rec:  99.32 || Ex/s: 889.78\n",
      "\n",
      "---------------------\n",
      "\n",
      "===>  TRAIN Epoch 14\n"
     ]
    },
    {
     "name": "stderr",
     "output_type": "stream",
     "text": [
      "0% [███████████████] 100% | ETA: 00:00:00\n",
      "Total time elapsed: 00:00:08\n"
     ]
    },
    {
     "name": "stdout",
     "output_type": "stream",
     "text": [
      "Finished Epoch 14 || Run Time:    0.5 | Load Time:    7.6 || F1:  98.16 | Prec:  96.38 | Rec: 100.00 || Ex/s: 920.14\n",
      "\n",
      "===>  EVAL Epoch 14\n"
     ]
    },
    {
     "name": "stderr",
     "output_type": "stream",
     "text": [
      "0% [█████] 100% | ETA: 00:00:00\n",
      "Total time elapsed: 00:00:02\n"
     ]
    },
    {
     "name": "stdout",
     "output_type": "stream",
     "text": [
      "Finished Epoch 14 || Run Time:    0.1 | Load Time:    2.6 || F1:  97.03 | Prec:  94.84 | Rec:  99.32 || Ex/s: 941.51\n",
      "\n",
      "---------------------\n",
      "\n",
      "===>  TRAIN Epoch 15\n"
     ]
    },
    {
     "name": "stderr",
     "output_type": "stream",
     "text": [
      "0% [███████████████] 100% | ETA: 00:00:00\n",
      "Total time elapsed: 00:00:07\n"
     ]
    },
    {
     "name": "stdout",
     "output_type": "stream",
     "text": [
      "Finished Epoch 15 || Run Time:    0.5 | Load Time:    7.4 || F1:  98.16 | Prec:  96.38 | Rec: 100.00 || Ex/s: 939.30\n",
      "\n",
      "===>  EVAL Epoch 15\n"
     ]
    },
    {
     "name": "stderr",
     "output_type": "stream",
     "text": [
      "0% [█████] 100% | ETA: 00:00:00\n",
      "Total time elapsed: 00:00:02\n"
     ]
    },
    {
     "name": "stdout",
     "output_type": "stream",
     "text": [
      "Finished Epoch 15 || Run Time:    0.1 | Load Time:    2.5 || F1:  96.92 | Prec:  94.64 | Rec:  99.32 || Ex/s: 954.05\n",
      "\n",
      "---------------------\n",
      "\n",
      "Loading best model...\n",
      "Training done.\n"
     ]
    },
    {
     "data": {
      "text/plain": [
       "97.24972497249725"
      ]
     },
     "execution_count": 4,
     "metadata": {},
     "output_type": "execute_result"
    }
   ],
   "source": [
    "# Average model\n",
    "average_attr_summarizer_module = dm.modules.NoMeta(\n",
    "    dm.modules.Lambda(\n",
    "        lambda x, y: (x.sum(dim=1) / x.shape[1], y.sum(dim=1) / y.shape[1])))\n",
    "model = dm.MatchingModel(attr_summarizer=lambda: average_attr_summarizer_module, \n",
    "                         attr_comparator='abs-diff')\n",
    "model.run_train(\n",
    "    train,\n",
    "    validation,\n",
    "    epochs=15,\n",
    "    batch_size=100,\n",
    "    best_save_path='average_model.pth',\n",
    "    pos_neg_ratio=6)"
   ]
  },
  {
   "cell_type": "code",
   "execution_count": 5,
   "metadata": {},
   "outputs": [
    {
     "name": "stdout",
     "output_type": "stream",
     "text": [
      "===>  EVAL Epoch 10\n"
     ]
    },
    {
     "name": "stderr",
     "output_type": "stream",
     "text": [
      "0% [███████████████] 100% | ETA: 00:00:00\n",
      "Total time elapsed: 00:00:02\n"
     ]
    },
    {
     "name": "stdout",
     "output_type": "stream",
     "text": [
      "Finished Epoch 10 || Run Time:    0.2 | Load Time:    2.2 || F1:  94.41 | Prec:  95.61 | Rec:  93.24 || Ex/s: 1007.53\n",
      "\n"
     ]
    },
    {
     "data": {
      "text/plain": [
       "94.4127708095781"
      ]
     },
     "execution_count": 5,
     "metadata": {},
     "output_type": "execute_result"
    }
   ],
   "source": [
    "# The F-1 score for average approach\n",
    "model.run_eval(test)"
   ]
  },
  {
   "cell_type": "code",
   "execution_count": 6,
   "metadata": {},
   "outputs": [
    {
     "name": "stdout",
     "output_type": "stream",
     "text": [
      "* Number of trainable parameters: 542402\n",
      "===>  TRAIN Epoch 1\n"
     ]
    },
    {
     "name": "stderr",
     "output_type": "stream",
     "text": [
      "0% [███████████████] 100% | ETA: 00:00:00\n",
      "Total time elapsed: 00:00:08\n"
     ]
    },
    {
     "name": "stdout",
     "output_type": "stream",
     "text": [
      "Finished Epoch 1 || Run Time:    0.8 | Load Time:    7.9 || F1:  71.65 | Prec:  70.58 | Rec:  72.75 || Ex/s: 857.24\n",
      "\n",
      "===>  EVAL Epoch 1\n"
     ]
    },
    {
     "name": "stderr",
     "output_type": "stream",
     "text": [
      "0% [█████] 100% | ETA: 00:00:00\n",
      "Total time elapsed: 00:00:02\n"
     ]
    },
    {
     "name": "stdout",
     "output_type": "stream",
     "text": [
      "Finished Epoch 1 || Run Time:    0.2 | Load Time:    2.7 || F1:  81.89 | Prec:  69.67 | Rec:  99.32 || Ex/s: 861.81\n",
      "\n",
      "* Best F1: 81.8941504178273\n",
      "Saving best model...\n",
      "Done.\n",
      "---------------------\n",
      "\n",
      "===>  TRAIN Epoch 2\n"
     ]
    },
    {
     "name": "stderr",
     "output_type": "stream",
     "text": [
      "0% [███████████████] 100% | ETA: 00:00:00\n",
      "Total time elapsed: 00:00:08\n"
     ]
    },
    {
     "name": "stdout",
     "output_type": "stream",
     "text": [
      "Finished Epoch 2 || Run Time:    0.7 | Load Time:    7.5 || F1:  88.61 | Prec:  79.83 | Rec:  99.55 || Ex/s: 898.66\n",
      "\n",
      "===>  EVAL Epoch 2\n"
     ]
    },
    {
     "name": "stderr",
     "output_type": "stream",
     "text": [
      "0% [█████] 100% | ETA: 00:00:00\n",
      "Total time elapsed: 00:00:02\n"
     ]
    },
    {
     "name": "stdout",
     "output_type": "stream",
     "text": [
      "Finished Epoch 2 || Run Time:    0.1 | Load Time:    2.6 || F1:  89.36 | Prec:  81.22 | Rec:  99.32 || Ex/s: 909.91\n",
      "\n",
      "* Best F1: 89.36170212765958\n",
      "Saving best model...\n",
      "Done.\n",
      "---------------------\n",
      "\n",
      "===>  TRAIN Epoch 3\n"
     ]
    },
    {
     "name": "stderr",
     "output_type": "stream",
     "text": [
      "0% [███████████████] 100% | ETA: 00:00:00\n",
      "Total time elapsed: 00:00:08\n"
     ]
    },
    {
     "name": "stdout",
     "output_type": "stream",
     "text": [
      "Finished Epoch 3 || Run Time:    0.8 | Load Time:    7.9 || F1:  94.76 | Prec:  90.28 | Rec:  99.70 || Ex/s: 857.65\n",
      "\n",
      "===>  EVAL Epoch 3\n"
     ]
    },
    {
     "name": "stderr",
     "output_type": "stream",
     "text": [
      "0% [█████] 100% | ETA: 00:00:00\n",
      "Total time elapsed: 00:00:03\n"
     ]
    },
    {
     "name": "stdout",
     "output_type": "stream",
     "text": [
      "Finished Epoch 3 || Run Time:    0.2 | Load Time:    2.9 || F1:  93.83 | Prec:  88.91 | Rec:  99.32 || Ex/s: 810.33\n",
      "\n",
      "* Best F1: 93.82978723404254\n",
      "Saving best model...\n",
      "Done.\n",
      "---------------------\n",
      "\n",
      "===>  TRAIN Epoch 4\n"
     ]
    },
    {
     "name": "stderr",
     "output_type": "stream",
     "text": [
      "0% [███████████████] 100% | ETA: 00:00:00\n",
      "Total time elapsed: 00:00:08\n"
     ]
    },
    {
     "name": "stdout",
     "output_type": "stream",
     "text": [
      "Finished Epoch 4 || Run Time:    0.8 | Load Time:    8.1 || F1:  96.41 | Prec:  93.14 | Rec:  99.92 || Ex/s: 830.80\n",
      "\n",
      "===>  EVAL Epoch 4\n"
     ]
    },
    {
     "name": "stderr",
     "output_type": "stream",
     "text": [
      "0% [█████] 100% | ETA: 00:00:00\n",
      "Total time elapsed: 00:00:02\n"
     ]
    },
    {
     "name": "stdout",
     "output_type": "stream",
     "text": [
      "Finished Epoch 4 || Run Time:    0.2 | Load Time:    2.8 || F1:  95.36 | Prec:  91.51 | Rec:  99.55 || Ex/s: 843.11\n",
      "\n",
      "* Best F1: 95.36138079827401\n",
      "Saving best model...\n",
      "Done.\n",
      "---------------------\n",
      "\n",
      "===>  TRAIN Epoch 5\n"
     ]
    },
    {
     "name": "stderr",
     "output_type": "stream",
     "text": [
      "0% [███████████████] 100% | ETA: 00:00:00\n",
      "Total time elapsed: 00:00:08\n"
     ]
    },
    {
     "name": "stdout",
     "output_type": "stream",
     "text": [
      "Finished Epoch 5 || Run Time:    0.8 | Load Time:    8.2 || F1:  97.40 | Prec:  94.94 | Rec: 100.00 || Ex/s: 826.00\n",
      "\n",
      "===>  EVAL Epoch 5\n"
     ]
    },
    {
     "name": "stderr",
     "output_type": "stream",
     "text": [
      "0% [█████] 100% | ETA: 00:00:00\n",
      "Total time elapsed: 00:00:02\n"
     ]
    },
    {
     "name": "stdout",
     "output_type": "stream",
     "text": [
      "Finished Epoch 5 || Run Time:    0.2 | Load Time:    2.7 || F1:  96.71 | Prec:  94.23 | Rec:  99.32 || Ex/s: 862.25\n",
      "\n",
      "* Best F1: 96.71052631578947\n",
      "Saving best model...\n",
      "Done.\n",
      "---------------------\n",
      "\n",
      "===>  TRAIN Epoch 6\n"
     ]
    },
    {
     "name": "stderr",
     "output_type": "stream",
     "text": [
      "0% [███████████████] 100% | ETA: 00:00:00\n",
      "Total time elapsed: 00:00:08\n"
     ]
    },
    {
     "name": "stdout",
     "output_type": "stream",
     "text": [
      "Finished Epoch 6 || Run Time:    0.7 | Load Time:    7.7 || F1:  97.98 | Prec:  96.03 | Rec: 100.00 || Ex/s: 882.32\n",
      "\n",
      "===>  EVAL Epoch 6\n"
     ]
    },
    {
     "name": "stderr",
     "output_type": "stream",
     "text": [
      "0% [█████] 100% | ETA: 00:00:00\n",
      "Total time elapsed: 00:00:02\n"
     ]
    },
    {
     "name": "stdout",
     "output_type": "stream",
     "text": [
      "Finished Epoch 6 || Run Time:    0.2 | Load Time:    2.7 || F1:  96.80 | Prec:  94.82 | Rec:  98.87 || Ex/s: 861.53\n",
      "\n",
      "* Best F1: 96.80264608599778\n",
      "Saving best model...\n",
      "Done.\n",
      "---------------------\n",
      "\n",
      "===>  TRAIN Epoch 7\n"
     ]
    },
    {
     "name": "stderr",
     "output_type": "stream",
     "text": [
      "0% [███████████████] 100% | ETA: 00:00:00\n",
      "Total time elapsed: 00:00:08\n"
     ]
    },
    {
     "name": "stdout",
     "output_type": "stream",
     "text": [
      "Finished Epoch 7 || Run Time:    0.8 | Load Time:    8.0 || F1:  98.38 | Prec:  96.80 | Rec: 100.00 || Ex/s: 844.41\n",
      "\n",
      "===>  EVAL Epoch 7\n"
     ]
    },
    {
     "name": "stderr",
     "output_type": "stream",
     "text": [
      "0% [█████] 100% | ETA: 00:00:00\n",
      "Total time elapsed: 00:00:02\n"
     ]
    },
    {
     "name": "stdout",
     "output_type": "stream",
     "text": [
      "Finished Epoch 7 || Run Time:    0.2 | Load Time:    2.7 || F1:  97.23 | Prec:  95.64 | Rec:  98.87 || Ex/s: 880.52\n",
      "\n",
      "* Best F1: 97.2314507198228\n",
      "Saving best model...\n",
      "Done.\n",
      "---------------------\n",
      "\n",
      "===>  TRAIN Epoch 8\n"
     ]
    },
    {
     "name": "stderr",
     "output_type": "stream",
     "text": [
      "0% [███████████████] 100% | ETA: 00:00:00\n",
      "Total time elapsed: 00:00:08\n"
     ]
    },
    {
     "name": "stdout",
     "output_type": "stream",
     "text": [
      "Finished Epoch 8 || Run Time:    0.7 | Load Time:    7.8 || F1:  98.56 | Prec:  97.16 | Rec: 100.00 || Ex/s: 870.49\n",
      "\n",
      "===>  EVAL Epoch 8\n"
     ]
    },
    {
     "name": "stderr",
     "output_type": "stream",
     "text": [
      "0% [█████] 100% | ETA: 00:00:00\n",
      "Total time elapsed: 00:00:02\n"
     ]
    },
    {
     "name": "stdout",
     "output_type": "stream",
     "text": [
      "Finished Epoch 8 || Run Time:    0.2 | Load Time:    2.7 || F1:  97.35 | Prec:  95.65 | Rec:  99.10 || Ex/s: 860.14\n",
      "\n",
      "* Best F1: 97.34513274336284\n",
      "Saving best model...\n",
      "Done.\n",
      "---------------------\n",
      "\n",
      "===>  TRAIN Epoch 9\n"
     ]
    },
    {
     "name": "stderr",
     "output_type": "stream",
     "text": [
      "0% [███████████████] 100% | ETA: 00:00:00\n",
      "Total time elapsed: 00:00:08\n"
     ]
    },
    {
     "name": "stdout",
     "output_type": "stream",
     "text": [
      "Finished Epoch 9 || Run Time:    0.8 | Load Time:    8.2 || F1:  98.70 | Prec:  97.44 | Rec: 100.00 || Ex/s: 825.96\n",
      "\n",
      "===>  EVAL Epoch 9\n"
     ]
    },
    {
     "name": "stderr",
     "output_type": "stream",
     "text": [
      "0% [█████] 100% | ETA: 00:00:00\n",
      "Total time elapsed: 00:00:02\n"
     ]
    },
    {
     "name": "stdout",
     "output_type": "stream",
     "text": [
      "Finished Epoch 9 || Run Time:    0.2 | Load Time:    2.7 || F1:  97.45 | Prec:  95.86 | Rec:  99.10 || Ex/s: 870.65\n",
      "\n",
      "* Best F1: 97.45293466223698\n",
      "Saving best model...\n",
      "Done.\n",
      "---------------------\n",
      "\n",
      "===>  TRAIN Epoch 10\n"
     ]
    },
    {
     "name": "stderr",
     "output_type": "stream",
     "text": [
      "0% [███████████████] 100% | ETA: 00:00:00\n",
      "Total time elapsed: 00:00:08\n"
     ]
    },
    {
     "name": "stdout",
     "output_type": "stream",
     "text": [
      "Finished Epoch 10 || Run Time:    0.7 | Load Time:    7.5 || F1:  98.70 | Prec:  97.44 | Rec: 100.00 || Ex/s: 907.32\n",
      "\n",
      "===>  EVAL Epoch 10\n"
     ]
    },
    {
     "name": "stderr",
     "output_type": "stream",
     "text": [
      "0% [█████] 100% | ETA: 00:00:00\n",
      "Total time elapsed: 00:00:02\n"
     ]
    },
    {
     "name": "stdout",
     "output_type": "stream",
     "text": [
      "Finished Epoch 10 || Run Time:    0.2 | Load Time:    2.6 || F1:  97.56 | Prec:  96.07 | Rec:  99.10 || Ex/s: 897.87\n",
      "\n",
      "* Best F1: 97.5609756097561\n",
      "Saving best model...\n",
      "Done.\n",
      "---------------------\n",
      "\n",
      "===>  TRAIN Epoch 11\n"
     ]
    },
    {
     "name": "stderr",
     "output_type": "stream",
     "text": [
      "0% [███████████████] 100% | ETA: 00:00:00\n",
      "Total time elapsed: 00:00:08\n"
     ]
    },
    {
     "name": "stdout",
     "output_type": "stream",
     "text": [
      "Finished Epoch 11 || Run Time:    0.7 | Load Time:    7.5 || F1:  98.74 | Prec:  97.51 | Rec: 100.00 || Ex/s: 905.61\n",
      "\n",
      "===>  EVAL Epoch 11\n"
     ]
    },
    {
     "name": "stderr",
     "output_type": "stream",
     "text": [
      "0% [█████] 100% | ETA: 00:00:00\n",
      "Total time elapsed: 00:00:02\n"
     ]
    },
    {
     "name": "stdout",
     "output_type": "stream",
     "text": [
      "Finished Epoch 11 || Run Time:    0.1 | Load Time:    2.6 || F1:  97.56 | Prec:  96.07 | Rec:  99.10 || Ex/s: 908.35\n",
      "\n",
      "---------------------\n",
      "\n",
      "===>  TRAIN Epoch 12\n"
     ]
    },
    {
     "name": "stderr",
     "output_type": "stream",
     "text": [
      "0% [███████████████] 100% | ETA: 00:00:00\n",
      "Total time elapsed: 00:00:08\n"
     ]
    },
    {
     "name": "stdout",
     "output_type": "stream",
     "text": [
      "Finished Epoch 12 || Run Time:    0.7 | Load Time:    7.7 || F1:  98.81 | Prec:  97.65 | Rec: 100.00 || Ex/s: 879.19\n",
      "\n",
      "===>  EVAL Epoch 12\n"
     ]
    },
    {
     "name": "stderr",
     "output_type": "stream",
     "text": [
      "0% [█████] 100% | ETA: 00:00:00\n",
      "Total time elapsed: 00:00:02\n"
     ]
    },
    {
     "name": "stdout",
     "output_type": "stream",
     "text": [
      "Finished Epoch 12 || Run Time:    0.2 | Load Time:    2.6 || F1:  97.56 | Prec:  96.07 | Rec:  99.10 || Ex/s: 884.53\n",
      "\n",
      "---------------------\n",
      "\n",
      "===>  TRAIN Epoch 13\n"
     ]
    },
    {
     "name": "stderr",
     "output_type": "stream",
     "text": [
      "0% [███████████████] 100% | ETA: 00:00:00\n",
      "Total time elapsed: 00:00:08\n"
     ]
    },
    {
     "name": "stdout",
     "output_type": "stream",
     "text": [
      "Finished Epoch 13 || Run Time:    0.7 | Load Time:    7.7 || F1:  98.81 | Prec:  97.65 | Rec: 100.00 || Ex/s: 880.80\n",
      "\n",
      "===>  EVAL Epoch 13\n"
     ]
    },
    {
     "name": "stderr",
     "output_type": "stream",
     "text": [
      "0% [█████] 100% | ETA: 00:00:00\n",
      "Total time elapsed: 00:00:03\n"
     ]
    },
    {
     "name": "stdout",
     "output_type": "stream",
     "text": [
      "Finished Epoch 13 || Run Time:    0.2 | Load Time:    2.8 || F1:  97.45 | Prec:  95.86 | Rec:  99.10 || Ex/s: 818.31\n",
      "\n",
      "---------------------\n",
      "\n",
      "===>  TRAIN Epoch 14\n"
     ]
    },
    {
     "name": "stderr",
     "output_type": "stream",
     "text": [
      "0% [███████████████] 100% | ETA: 00:00:00\n",
      "Total time elapsed: 00:00:08\n"
     ]
    },
    {
     "name": "stdout",
     "output_type": "stream",
     "text": [
      "Finished Epoch 14 || Run Time:    0.8 | Load Time:    7.8 || F1:  98.81 | Prec:  97.65 | Rec: 100.00 || Ex/s: 864.57\n",
      "\n",
      "===>  EVAL Epoch 14\n"
     ]
    },
    {
     "name": "stderr",
     "output_type": "stream",
     "text": [
      "0% [█████] 100% | ETA: 00:00:00\n",
      "Total time elapsed: 00:00:02\n"
     ]
    },
    {
     "name": "stdout",
     "output_type": "stream",
     "text": [
      "Finished Epoch 14 || Run Time:    0.2 | Load Time:    2.7 || F1:  97.45 | Prec:  95.86 | Rec:  99.10 || Ex/s: 878.25\n",
      "\n",
      "---------------------\n",
      "\n",
      "===>  TRAIN Epoch 15\n"
     ]
    },
    {
     "name": "stderr",
     "output_type": "stream",
     "text": [
      "0% [███████████████] 100% | ETA: 00:00:00\n",
      "Total time elapsed: 00:00:08\n"
     ]
    },
    {
     "name": "stdout",
     "output_type": "stream",
     "text": [
      "Finished Epoch 15 || Run Time:    0.7 | Load Time:    7.4 || F1:  98.81 | Prec:  97.65 | Rec: 100.00 || Ex/s: 912.90\n",
      "\n",
      "===>  EVAL Epoch 15\n"
     ]
    },
    {
     "name": "stderr",
     "output_type": "stream",
     "text": [
      "0% [█████] 100% | ETA: 00:00:00\n",
      "Total time elapsed: 00:00:02\n"
     ]
    },
    {
     "name": "stdout",
     "output_type": "stream",
     "text": [
      "Finished Epoch 15 || Run Time:    0.1 | Load Time:    2.6 || F1:  97.45 | Prec:  95.86 | Rec:  99.10 || Ex/s: 907.43\n",
      "\n",
      "---------------------\n",
      "\n",
      "Loading best model...\n",
      "Training done.\n"
     ]
    },
    {
     "data": {
      "text/plain": [
       "97.5609756097561"
      ]
     },
     "execution_count": 6,
     "metadata": {},
     "output_type": "execute_result"
    }
   ],
   "source": [
    "model = dm.MatchingModel(attr_summarizer='sif')\n",
    "model.run_train(\n",
    "    train,\n",
    "    validation,\n",
    "    epochs=15,\n",
    "    batch_size=100,\n",
    "    best_save_path='sif_model.pth',\n",
    "    pos_neg_ratio=6)"
   ]
  },
  {
   "cell_type": "code",
   "execution_count": 7,
   "metadata": {},
   "outputs": [
    {
     "name": "stdout",
     "output_type": "stream",
     "text": [
      "===>  EVAL Epoch 10\n"
     ]
    },
    {
     "name": "stderr",
     "output_type": "stream",
     "text": [
      "0% [███████████████] 100% | ETA: 00:00:00\n",
      "Total time elapsed: 00:00:02\n"
     ]
    },
    {
     "name": "stdout",
     "output_type": "stream",
     "text": [
      "Finished Epoch 10 || Run Time:    0.4 | Load Time:    2.1 || F1:  96.57 | Prec:  94.99 | Rec:  98.20 || Ex/s: 980.08\n",
      "\n"
     ]
    },
    {
     "data": {
      "text/plain": [
       "96.5669988925803"
      ]
     },
     "execution_count": 7,
     "metadata": {},
     "output_type": "execute_result"
    }
   ],
   "source": [
    "# The F-1 score for SIF approach\n",
    "model.run_eval(test)"
   ]
  },
  {
   "cell_type": "code",
   "execution_count": 8,
   "metadata": {},
   "outputs": [
    {
     "name": "stdout",
     "output_type": "stream",
     "text": [
      "* Number of trainable parameters: 2169602\n",
      "===>  TRAIN Epoch 1\n"
     ]
    },
    {
     "name": "stderr",
     "output_type": "stream",
     "text": [
      "0% [███████████████] 100% | ETA: 00:00:00\n",
      "Total time elapsed: 00:00:11\n"
     ]
    },
    {
     "name": "stdout",
     "output_type": "stream",
     "text": [
      "Finished Epoch 1 || Run Time:    4.2 | Load Time:    7.7 || F1:  75.97 | Prec:  61.51 | Rec:  99.32 || Ex/s: 623.13\n",
      "\n",
      "===>  EVAL Epoch 1\n"
     ]
    },
    {
     "name": "stderr",
     "output_type": "stream",
     "text": [
      "0% [█████] 100% | ETA: 00:00:00\n",
      "Total time elapsed: 00:00:03\n"
     ]
    },
    {
     "name": "stdout",
     "output_type": "stream",
     "text": [
      "Finished Epoch 1 || Run Time:    0.4 | Load Time:    2.8 || F1:  97.37 | Prec:  94.87 | Rec: 100.00 || Ex/s: 772.85\n",
      "\n",
      "* Best F1: 97.36842105263159\n",
      "Saving best model...\n",
      "Done.\n",
      "---------------------\n",
      "\n",
      "===>  TRAIN Epoch 2\n"
     ]
    },
    {
     "name": "stderr",
     "output_type": "stream",
     "text": [
      "0% [███████████████] 100% | ETA: 00:00:00\n",
      "Total time elapsed: 00:00:11\n"
     ]
    },
    {
     "name": "stdout",
     "output_type": "stream",
     "text": [
      "Finished Epoch 2 || Run Time:    4.2 | Load Time:    7.7 || F1:  97.29 | Prec:  94.93 | Rec:  99.77 || Ex/s: 625.78\n",
      "\n",
      "===>  EVAL Epoch 2\n"
     ]
    },
    {
     "name": "stderr",
     "output_type": "stream",
     "text": [
      "0% [█████] 100% | ETA: 00:00:00\n",
      "Total time elapsed: 00:00:03\n"
     ]
    },
    {
     "name": "stdout",
     "output_type": "stream",
     "text": [
      "Finished Epoch 2 || Run Time:    0.4 | Load Time:    2.7 || F1:  96.63 | Prec:  93.47 | Rec: 100.00 || Ex/s: 788.89\n",
      "\n",
      "---------------------\n",
      "\n",
      "===>  TRAIN Epoch 3\n"
     ]
    },
    {
     "name": "stderr",
     "output_type": "stream",
     "text": [
      "0% [███████████████] 100% | ETA: 00:00:00\n",
      "Total time elapsed: 00:00:11\n"
     ]
    },
    {
     "name": "stdout",
     "output_type": "stream",
     "text": [
      "Finished Epoch 3 || Run Time:    4.1 | Load Time:    7.7 || F1:  98.70 | Prec:  97.51 | Rec:  99.92 || Ex/s: 628.53\n",
      "\n",
      "===>  EVAL Epoch 3\n"
     ]
    },
    {
     "name": "stderr",
     "output_type": "stream",
     "text": [
      "0% [█████] 100% | ETA: 00:00:00\n",
      "Total time elapsed: 00:00:02\n"
     ]
    },
    {
     "name": "stdout",
     "output_type": "stream",
     "text": [
      "Finished Epoch 3 || Run Time:    0.4 | Load Time:    2.6 || F1:  96.84 | Prec:  93.87 | Rec: 100.00 || Ex/s: 824.24\n",
      "\n",
      "---------------------\n",
      "\n",
      "===>  TRAIN Epoch 4\n"
     ]
    },
    {
     "name": "stderr",
     "output_type": "stream",
     "text": [
      "0% [███████████████] 100% | ETA: 00:00:00\n",
      "Total time elapsed: 00:00:11\n"
     ]
    },
    {
     "name": "stdout",
     "output_type": "stream",
     "text": [
      "Finished Epoch 4 || Run Time:    4.1 | Load Time:    7.6 || F1:  98.96 | Prec:  97.94 | Rec: 100.00 || Ex/s: 631.83\n",
      "\n",
      "===>  EVAL Epoch 4\n"
     ]
    },
    {
     "name": "stderr",
     "output_type": "stream",
     "text": [
      "0% [█████] 100% | ETA: 00:00:00\n",
      "Total time elapsed: 00:00:02\n"
     ]
    },
    {
     "name": "stdout",
     "output_type": "stream",
     "text": [
      "Finished Epoch 4 || Run Time:    0.4 | Load Time:    2.5 || F1:  97.69 | Prec:  95.48 | Rec: 100.00 || Ex/s: 835.59\n",
      "\n",
      "* Best F1: 97.68976897689768\n",
      "Saving best model...\n",
      "Done.\n",
      "---------------------\n",
      "\n",
      "===>  TRAIN Epoch 5\n"
     ]
    },
    {
     "name": "stderr",
     "output_type": "stream",
     "text": [
      "0% [███████████████] 100% | ETA: 00:00:00\n",
      "Total time elapsed: 00:00:11\n"
     ]
    },
    {
     "name": "stdout",
     "output_type": "stream",
     "text": [
      "Finished Epoch 5 || Run Time:    4.1 | Load Time:    7.5 || F1:  99.18 | Prec:  98.38 | Rec: 100.00 || Ex/s: 637.56\n",
      "\n",
      "===>  EVAL Epoch 5\n"
     ]
    },
    {
     "name": "stderr",
     "output_type": "stream",
     "text": [
      "0% [█████] 100% | ETA: 00:00:00\n",
      "Total time elapsed: 00:00:02\n"
     ]
    },
    {
     "name": "stdout",
     "output_type": "stream",
     "text": [
      "Finished Epoch 5 || Run Time:    0.4 | Load Time:    2.5 || F1:  98.45 | Prec:  96.94 | Rec: 100.00 || Ex/s: 836.14\n",
      "\n",
      "* Best F1: 98.4478935698448\n",
      "Saving best model...\n",
      "Done.\n",
      "---------------------\n",
      "\n",
      "===>  TRAIN Epoch 6\n"
     ]
    },
    {
     "name": "stderr",
     "output_type": "stream",
     "text": [
      "0% [███████████████] 100% | ETA: 00:00:00\n",
      "Total time elapsed: 00:00:11\n"
     ]
    },
    {
     "name": "stdout",
     "output_type": "stream",
     "text": [
      "Finished Epoch 6 || Run Time:    4.1 | Load Time:    7.5 || F1:  99.37 | Prec:  98.74 | Rec: 100.00 || Ex/s: 638.49\n",
      "\n",
      "===>  EVAL Epoch 6\n"
     ]
    },
    {
     "name": "stderr",
     "output_type": "stream",
     "text": [
      "0% [█████] 100% | ETA: 00:00:00\n",
      "Total time elapsed: 00:00:02\n"
     ]
    },
    {
     "name": "stdout",
     "output_type": "stream",
     "text": [
      "Finished Epoch 6 || Run Time:    0.4 | Load Time:    2.5 || F1:  98.45 | Prec:  96.94 | Rec: 100.00 || Ex/s: 842.82\n",
      "\n",
      "---------------------\n",
      "\n",
      "===>  TRAIN Epoch 7\n"
     ]
    },
    {
     "name": "stderr",
     "output_type": "stream",
     "text": [
      "0% [███████████████] 100% | ETA: 00:00:00\n",
      "Total time elapsed: 00:00:12\n"
     ]
    },
    {
     "name": "stdout",
     "output_type": "stream",
     "text": [
      "Finished Epoch 7 || Run Time:    4.6 | Load Time:    8.4 || F1:  99.48 | Prec:  98.96 | Rec: 100.00 || Ex/s: 573.68\n",
      "\n",
      "===>  EVAL Epoch 7\n"
     ]
    },
    {
     "name": "stderr",
     "output_type": "stream",
     "text": [
      "0% [█████] 100% | ETA: 00:00:00\n",
      "Total time elapsed: 00:00:03\n"
     ]
    },
    {
     "name": "stdout",
     "output_type": "stream",
     "text": [
      "Finished Epoch 7 || Run Time:    0.5 | Load Time:    3.0 || F1:  98.23 | Prec:  96.52 | Rec: 100.00 || Ex/s: 704.25\n",
      "\n",
      "---------------------\n",
      "\n",
      "===>  TRAIN Epoch 8\n"
     ]
    },
    {
     "name": "stderr",
     "output_type": "stream",
     "text": [
      "0% [███████████████] 100% | ETA: 00:00:00\n",
      "Total time elapsed: 00:00:11\n"
     ]
    },
    {
     "name": "stdout",
     "output_type": "stream",
     "text": [
      "Finished Epoch 8 || Run Time:    4.2 | Load Time:    7.8 || F1:  99.48 | Prec:  98.96 | Rec: 100.00 || Ex/s: 615.91\n",
      "\n",
      "===>  EVAL Epoch 8\n"
     ]
    },
    {
     "name": "stderr",
     "output_type": "stream",
     "text": [
      "0% [█████] 100% | ETA: 00:00:00\n",
      "Total time elapsed: 00:00:03\n"
     ]
    },
    {
     "name": "stdout",
     "output_type": "stream",
     "text": [
      "Finished Epoch 8 || Run Time:    0.4 | Load Time:    2.6 || F1:  98.12 | Prec:  96.31 | Rec: 100.00 || Ex/s: 811.81\n",
      "\n",
      "---------------------\n",
      "\n",
      "===>  TRAIN Epoch 9\n"
     ]
    },
    {
     "name": "stderr",
     "output_type": "stream",
     "text": [
      "0% [███████████████] 100% | ETA: 00:00:00\n",
      "Total time elapsed: 00:00:12\n"
     ]
    },
    {
     "name": "stdout",
     "output_type": "stream",
     "text": [
      "Finished Epoch 9 || Run Time:    4.2 | Load Time:    7.8 || F1:  99.48 | Prec:  98.96 | Rec: 100.00 || Ex/s: 615.32\n",
      "\n",
      "===>  EVAL Epoch 9\n"
     ]
    },
    {
     "name": "stderr",
     "output_type": "stream",
     "text": [
      "0% [█████] 100% | ETA: 00:00:00\n",
      "Total time elapsed: 00:00:03\n"
     ]
    },
    {
     "name": "stdout",
     "output_type": "stream",
     "text": [
      "Finished Epoch 9 || Run Time:    0.4 | Load Time:    2.6 || F1:  98.01 | Prec:  96.10 | Rec: 100.00 || Ex/s: 818.16\n",
      "\n",
      "---------------------\n",
      "\n",
      "===>  TRAIN Epoch 10\n"
     ]
    },
    {
     "name": "stderr",
     "output_type": "stream",
     "text": [
      "0% [███████████████] 100% | ETA: 00:00:00\n",
      "Total time elapsed: 00:00:12\n"
     ]
    },
    {
     "name": "stdout",
     "output_type": "stream",
     "text": [
      "Finished Epoch 10 || Run Time:    4.3 | Load Time:    8.1 || F1:  99.48 | Prec:  98.96 | Rec: 100.00 || Ex/s: 597.98\n",
      "\n",
      "===>  EVAL Epoch 10\n"
     ]
    },
    {
     "name": "stderr",
     "output_type": "stream",
     "text": [
      "0% [█████] 100% | ETA: 00:00:00\n",
      "Total time elapsed: 00:00:03\n"
     ]
    },
    {
     "name": "stdout",
     "output_type": "stream",
     "text": [
      "Finished Epoch 10 || Run Time:    0.4 | Load Time:    2.8 || F1:  97.91 | Prec:  95.90 | Rec: 100.00 || Ex/s: 770.38\n",
      "\n",
      "---------------------\n",
      "\n",
      "===>  TRAIN Epoch 11\n"
     ]
    },
    {
     "name": "stderr",
     "output_type": "stream",
     "text": [
      "0% [███████████████] 100% | ETA: 00:00:00\n",
      "Total time elapsed: 00:00:11\n"
     ]
    },
    {
     "name": "stdout",
     "output_type": "stream",
     "text": [
      "Finished Epoch 11 || Run Time:    4.2 | Load Time:    7.8 || F1:  99.48 | Prec:  98.96 | Rec: 100.00 || Ex/s: 617.17\n",
      "\n",
      "===>  EVAL Epoch 11\n"
     ]
    },
    {
     "name": "stderr",
     "output_type": "stream",
     "text": [
      "0% [█████] 100% | ETA: 00:00:00\n",
      "Total time elapsed: 00:00:03\n"
     ]
    },
    {
     "name": "stdout",
     "output_type": "stream",
     "text": [
      "Finished Epoch 11 || Run Time:    0.4 | Load Time:    2.7 || F1:  97.91 | Prec:  95.90 | Rec: 100.00 || Ex/s: 783.91\n",
      "\n",
      "---------------------\n",
      "\n",
      "===>  TRAIN Epoch 12\n"
     ]
    },
    {
     "name": "stderr",
     "output_type": "stream",
     "text": [
      "0% [███████████████] 100% | ETA: 00:00:00\n",
      "Total time elapsed: 00:00:12\n"
     ]
    },
    {
     "name": "stdout",
     "output_type": "stream",
     "text": [
      "Finished Epoch 12 || Run Time:    4.4 | Load Time:    8.0 || F1:  99.48 | Prec:  98.96 | Rec: 100.00 || Ex/s: 598.46\n",
      "\n",
      "===>  EVAL Epoch 12\n"
     ]
    },
    {
     "name": "stderr",
     "output_type": "stream",
     "text": [
      "0% [█████] 100% | ETA: 00:00:00\n",
      "Total time elapsed: 00:00:03\n"
     ]
    },
    {
     "name": "stdout",
     "output_type": "stream",
     "text": [
      "Finished Epoch 12 || Run Time:    0.4 | Load Time:    2.7 || F1:  97.91 | Prec:  95.90 | Rec: 100.00 || Ex/s: 797.61\n",
      "\n",
      "---------------------\n",
      "\n",
      "===>  TRAIN Epoch 13\n"
     ]
    },
    {
     "name": "stderr",
     "output_type": "stream",
     "text": [
      "0% [███████████████] 100% | ETA: 00:00:00\n",
      "Total time elapsed: 00:00:12\n"
     ]
    },
    {
     "name": "stdout",
     "output_type": "stream",
     "text": [
      "Finished Epoch 13 || Run Time:    4.3 | Load Time:    8.0 || F1:  99.48 | Prec:  98.96 | Rec: 100.00 || Ex/s: 602.86\n",
      "\n",
      "===>  EVAL Epoch 13\n"
     ]
    },
    {
     "name": "stderr",
     "output_type": "stream",
     "text": [
      "0% [█████] 100% | ETA: 00:00:00\n",
      "Total time elapsed: 00:00:03\n"
     ]
    },
    {
     "name": "stdout",
     "output_type": "stream",
     "text": [
      "Finished Epoch 13 || Run Time:    0.4 | Load Time:    2.6 || F1:  97.80 | Prec:  95.69 | Rec: 100.00 || Ex/s: 819.11\n",
      "\n",
      "---------------------\n",
      "\n",
      "===>  TRAIN Epoch 14\n"
     ]
    },
    {
     "name": "stderr",
     "output_type": "stream",
     "text": [
      "0% [███████████████] 100% | ETA: 00:00:00\n",
      "Total time elapsed: 00:00:11\n"
     ]
    },
    {
     "name": "stdout",
     "output_type": "stream",
     "text": [
      "Finished Epoch 14 || Run Time:    4.1 | Load Time:    7.5 || F1:  99.48 | Prec:  98.96 | Rec: 100.00 || Ex/s: 639.96\n",
      "\n",
      "===>  EVAL Epoch 14\n"
     ]
    },
    {
     "name": "stderr",
     "output_type": "stream",
     "text": [
      "0% [█████] 100% | ETA: 00:00:00\n",
      "Total time elapsed: 00:00:03\n"
     ]
    },
    {
     "name": "stdout",
     "output_type": "stream",
     "text": [
      "Finished Epoch 14 || Run Time:    0.4 | Load Time:    2.7 || F1:  97.80 | Prec:  95.69 | Rec: 100.00 || Ex/s: 800.50\n",
      "\n",
      "---------------------\n",
      "\n",
      "===>  TRAIN Epoch 15\n"
     ]
    },
    {
     "name": "stderr",
     "output_type": "stream",
     "text": [
      "0% [███████████████] 100% | ETA: 00:00:00\n",
      "Total time elapsed: 00:00:11\n"
     ]
    },
    {
     "name": "stdout",
     "output_type": "stream",
     "text": [
      "Finished Epoch 15 || Run Time:    4.2 | Load Time:    7.7 || F1:  99.48 | Prec:  98.96 | Rec: 100.00 || Ex/s: 621.21\n",
      "\n",
      "===>  EVAL Epoch 15\n"
     ]
    },
    {
     "name": "stderr",
     "output_type": "stream",
     "text": [
      "0% [█████] 100% | ETA: 00:00:00\n",
      "Total time elapsed: 00:00:02\n"
     ]
    },
    {
     "name": "stdout",
     "output_type": "stream",
     "text": [
      "Finished Epoch 15 || Run Time:    0.4 | Load Time:    2.6 || F1:  97.80 | Prec:  95.69 | Rec: 100.00 || Ex/s: 825.34\n",
      "\n",
      "---------------------\n",
      "\n",
      "Loading best model...\n",
      "Training done.\n"
     ]
    },
    {
     "data": {
      "text/plain": [
       "98.4478935698448"
      ]
     },
     "execution_count": 8,
     "metadata": {},
     "output_type": "execute_result"
    }
   ],
   "source": [
    "model = dm.MatchingModel(attr_summarizer='rnn')\n",
    "model.run_train(\n",
    "    train,\n",
    "    validation,\n",
    "    epochs=15,\n",
    "    batch_size=100,\n",
    "    best_save_path='rnn_model.pth',\n",
    "    pos_neg_ratio=6)"
   ]
  },
  {
   "cell_type": "code",
   "execution_count": 9,
   "metadata": {},
   "outputs": [
    {
     "name": "stdout",
     "output_type": "stream",
     "text": [
      "===>  EVAL Epoch 5\n"
     ]
    },
    {
     "name": "stderr",
     "output_type": "stream",
     "text": [
      "0% [███████████████] 100% | ETA: 00:00:00\n",
      "Total time elapsed: 00:00:02\n"
     ]
    },
    {
     "name": "stdout",
     "output_type": "stream",
     "text": [
      "Finished Epoch 5 || Run Time:    0.7 | Load Time:    2.1 || F1:  97.24 | Prec:  95.25 | Rec:  99.32 || Ex/s: 865.43\n",
      "\n"
     ]
    },
    {
     "data": {
      "text/plain": [
       "97.24366041896361"
      ]
     },
     "execution_count": 9,
     "metadata": {},
     "output_type": "execute_result"
    }
   ],
   "source": [
    "# The F-1 score for RNN approach\n",
    "model.run_eval(test)"
   ]
  },
  {
   "cell_type": "code",
   "execution_count": 10,
   "metadata": {},
   "outputs": [
    {
     "name": "stdout",
     "output_type": "stream",
     "text": [
      "* Number of trainable parameters: 4332002\n",
      "===>  TRAIN Epoch 1\n"
     ]
    },
    {
     "name": "stderr",
     "output_type": "stream",
     "text": [
      "0% [███████████████] 100% | ETA: 00:00:00\n",
      "Total time elapsed: 00:00:17\n"
     ]
    },
    {
     "name": "stdout",
     "output_type": "stream",
     "text": [
      "Finished Epoch 1 || Run Time:    9.9 | Load Time:    7.5 || F1:  56.44 | Prec:  39.65 | Rec:  97.90 || Ex/s: 424.83\n",
      "\n",
      "===>  EVAL Epoch 1\n"
     ]
    },
    {
     "name": "stderr",
     "output_type": "stream",
     "text": [
      "0% [█████] 100% | ETA: 00:00:00\n",
      "Total time elapsed: 00:00:03\n"
     ]
    },
    {
     "name": "stdout",
     "output_type": "stream",
     "text": [
      "Finished Epoch 1 || Run Time:    1.3 | Load Time:    2.5 || F1:  92.02 | Prec:  85.22 | Rec: 100.00 || Ex/s: 651.52\n",
      "\n",
      "* Best F1: 92.02072538860104\n",
      "Saving best model...\n",
      "Done.\n",
      "---------------------\n",
      "\n",
      "===>  TRAIN Epoch 2\n"
     ]
    },
    {
     "name": "stderr",
     "output_type": "stream",
     "text": [
      "0% [███████████████] 100% | ETA: 00:00:00\n",
      "Total time elapsed: 00:00:17\n"
     ]
    },
    {
     "name": "stdout",
     "output_type": "stream",
     "text": [
      "Finished Epoch 2 || Run Time:    9.9 | Load Time:    7.5 || F1:  94.85 | Prec:  90.52 | Rec:  99.62 || Ex/s: 426.19\n",
      "\n",
      "===>  EVAL Epoch 2\n"
     ]
    },
    {
     "name": "stderr",
     "output_type": "stream",
     "text": [
      "0% [█████] 100% | ETA: 00:00:00\n",
      "Total time elapsed: 00:00:03\n"
     ]
    },
    {
     "name": "stdout",
     "output_type": "stream",
     "text": [
      "Finished Epoch 2 || Run Time:    1.3 | Load Time:    2.5 || F1:  96.84 | Prec:  93.87 | Rec: 100.00 || Ex/s: 651.85\n",
      "\n",
      "* Best F1: 96.83751363140675\n",
      "Saving best model...\n",
      "Done.\n",
      "---------------------\n",
      "\n",
      "===>  TRAIN Epoch 3\n"
     ]
    },
    {
     "name": "stderr",
     "output_type": "stream",
     "text": [
      "0% [███████████████] 100% | ETA: 00:00:00\n",
      "Total time elapsed: 00:00:17\n"
     ]
    },
    {
     "name": "stdout",
     "output_type": "stream",
     "text": [
      "Finished Epoch 3 || Run Time:    9.9 | Load Time:    7.5 || F1:  96.59 | Prec:  93.53 | Rec:  99.85 || Ex/s: 425.60\n",
      "\n",
      "===>  EVAL Epoch 3\n"
     ]
    },
    {
     "name": "stderr",
     "output_type": "stream",
     "text": [
      "0% [█████] 100% | ETA: 00:00:00\n",
      "Total time elapsed: 00:00:03\n"
     ]
    },
    {
     "name": "stdout",
     "output_type": "stream",
     "text": [
      "Finished Epoch 3 || Run Time:    1.3 | Load Time:    2.5 || F1:  98.22 | Prec:  96.93 | Rec:  99.55 || Ex/s: 650.11\n",
      "\n",
      "* Best F1: 98.22222222222223\n",
      "Saving best model...\n",
      "Done.\n",
      "---------------------\n",
      "\n",
      "===>  TRAIN Epoch 4\n"
     ]
    },
    {
     "name": "stderr",
     "output_type": "stream",
     "text": [
      "0% [███████████████] 100% | ETA: 00:00:00\n",
      "Total time elapsed: 00:00:17\n"
     ]
    },
    {
     "name": "stdout",
     "output_type": "stream",
     "text": [
      "Finished Epoch 4 || Run Time:    9.9 | Load Time:    7.5 || F1:  97.47 | Prec:  95.20 | Rec:  99.85 || Ex/s: 426.13\n",
      "\n",
      "===>  EVAL Epoch 4\n"
     ]
    },
    {
     "name": "stderr",
     "output_type": "stream",
     "text": [
      "0% [█████] 100% | ETA: 00:00:00\n",
      "Total time elapsed: 00:00:03\n"
     ]
    },
    {
     "name": "stdout",
     "output_type": "stream",
     "text": [
      "Finished Epoch 4 || Run Time:    1.3 | Load Time:    2.5 || F1:  98.12 | Prec:  96.31 | Rec: 100.00 || Ex/s: 651.68\n",
      "\n",
      "---------------------\n",
      "\n",
      "===>  TRAIN Epoch 5\n"
     ]
    },
    {
     "name": "stderr",
     "output_type": "stream",
     "text": [
      "0% [███████████████] 100% | ETA: 00:00:00\n",
      "Total time elapsed: 00:00:17\n"
     ]
    },
    {
     "name": "stdout",
     "output_type": "stream",
     "text": [
      "Finished Epoch 5 || Run Time:    9.9 | Load Time:    7.5 || F1:  97.94 | Prec:  96.16 | Rec:  99.77 || Ex/s: 426.94\n",
      "\n",
      "===>  EVAL Epoch 5\n"
     ]
    },
    {
     "name": "stderr",
     "output_type": "stream",
     "text": [
      "0% [█████] 100% | ETA: 00:00:00\n",
      "Total time elapsed: 00:00:03\n"
     ]
    },
    {
     "name": "stdout",
     "output_type": "stream",
     "text": [
      "Finished Epoch 5 || Run Time:    1.3 | Load Time:    2.5 || F1:  98.01 | Prec:  96.10 | Rec: 100.00 || Ex/s: 650.19\n",
      "\n",
      "---------------------\n",
      "\n",
      "===>  TRAIN Epoch 6\n"
     ]
    },
    {
     "name": "stderr",
     "output_type": "stream",
     "text": [
      "0% [███████████████] 100% | ETA: 00:00:00\n",
      "Total time elapsed: 00:00:17\n"
     ]
    },
    {
     "name": "stdout",
     "output_type": "stream",
     "text": [
      "Finished Epoch 6 || Run Time:   10.0 | Load Time:    7.7 || F1:  98.26 | Prec:  96.73 | Rec:  99.85 || Ex/s: 418.43\n",
      "\n",
      "===>  EVAL Epoch 6\n"
     ]
    },
    {
     "name": "stderr",
     "output_type": "stream",
     "text": [
      "0% [█████] 100% | ETA: 00:00:00\n",
      "Total time elapsed: 00:00:04\n"
     ]
    },
    {
     "name": "stdout",
     "output_type": "stream",
     "text": [
      "Finished Epoch 6 || Run Time:    1.4 | Load Time:    2.8 || F1:  96.42 | Prec:  93.08 | Rec: 100.00 || Ex/s: 594.26\n",
      "\n",
      "---------------------\n",
      "\n",
      "===>  TRAIN Epoch 7\n"
     ]
    },
    {
     "name": "stderr",
     "output_type": "stream",
     "text": [
      "0% [███████████████] 100% | ETA: 00:00:00\n",
      "Total time elapsed: 00:00:17\n"
     ]
    },
    {
     "name": "stdout",
     "output_type": "stream",
     "text": [
      "Finished Epoch 7 || Run Time:   10.0 | Load Time:    7.7 || F1:  98.70 | Prec:  97.51 | Rec:  99.92 || Ex/s: 417.58\n",
      "\n",
      "===>  EVAL Epoch 7\n"
     ]
    },
    {
     "name": "stderr",
     "output_type": "stream",
     "text": [
      "0% [█████] 100% | ETA: 00:00:00\n",
      "Total time elapsed: 00:00:03\n"
     ]
    },
    {
     "name": "stdout",
     "output_type": "stream",
     "text": [
      "Finished Epoch 7 || Run Time:    1.3 | Load Time:    2.6 || F1:  96.00 | Prec:  92.31 | Rec: 100.00 || Ex/s: 642.52\n",
      "\n",
      "---------------------\n",
      "\n",
      "===>  TRAIN Epoch 8\n"
     ]
    },
    {
     "name": "stderr",
     "output_type": "stream",
     "text": [
      "0% [███████████████] 100% | ETA: 00:00:00\n",
      "Total time elapsed: 00:00:17\n"
     ]
    },
    {
     "name": "stdout",
     "output_type": "stream",
     "text": [
      "Finished Epoch 8 || Run Time:   10.0 | Load Time:    7.6 || F1:  98.59 | Prec:  97.30 | Rec:  99.92 || Ex/s: 420.43\n",
      "\n",
      "===>  EVAL Epoch 8\n"
     ]
    },
    {
     "name": "stderr",
     "output_type": "stream",
     "text": [
      "0% [█████] 100% | ETA: 00:00:00\n",
      "Total time elapsed: 00:00:03\n"
     ]
    },
    {
     "name": "stdout",
     "output_type": "stream",
     "text": [
      "Finished Epoch 8 || Run Time:    1.3 | Load Time:    2.5 || F1:  96.63 | Prec:  93.47 | Rec: 100.00 || Ex/s: 646.73\n",
      "\n",
      "---------------------\n",
      "\n",
      "===>  TRAIN Epoch 9\n"
     ]
    },
    {
     "name": "stderr",
     "output_type": "stream",
     "text": [
      "0% [███████████████] 100% | ETA: 00:00:00\n",
      "Total time elapsed: 00:00:17\n"
     ]
    },
    {
     "name": "stdout",
     "output_type": "stream",
     "text": [
      "Finished Epoch 9 || Run Time:   10.2 | Load Time:    7.7 || F1:  98.30 | Prec:  97.00 | Rec:  99.62 || Ex/s: 414.84\n",
      "\n",
      "===>  EVAL Epoch 9\n"
     ]
    },
    {
     "name": "stderr",
     "output_type": "stream",
     "text": [
      "0% [█████] 100% | ETA: 00:00:00\n",
      "Total time elapsed: 00:00:03\n"
     ]
    },
    {
     "name": "stdout",
     "output_type": "stream",
     "text": [
      "Finished Epoch 9 || Run Time:    1.3 | Load Time:    2.6 || F1:  98.78 | Prec:  97.58 | Rec: 100.00 || Ex/s: 642.73\n",
      "\n",
      "* Best F1: 98.77641824249166\n",
      "Saving best model...\n",
      "Done.\n",
      "---------------------\n",
      "\n",
      "===>  TRAIN Epoch 10\n"
     ]
    },
    {
     "name": "stderr",
     "output_type": "stream",
     "text": [
      "0% [███████████████] 100% | ETA: 00:00:00\n",
      "Total time elapsed: 00:00:17\n"
     ]
    },
    {
     "name": "stdout",
     "output_type": "stream",
     "text": [
      "Finished Epoch 10 || Run Time:   10.0 | Load Time:    7.7 || F1:  98.56 | Prec:  97.29 | Rec:  99.85 || Ex/s: 418.47\n",
      "\n",
      "===>  EVAL Epoch 10\n"
     ]
    },
    {
     "name": "stderr",
     "output_type": "stream",
     "text": [
      "0% [█████] 100% | ETA: 00:00:00\n",
      "Total time elapsed: 00:00:03\n"
     ]
    },
    {
     "name": "stdout",
     "output_type": "stream",
     "text": [
      "Finished Epoch 10 || Run Time:    1.3 | Load Time:    2.6 || F1:  98.77 | Prec:  98.00 | Rec:  99.55 || Ex/s: 633.53\n",
      "\n",
      "---------------------\n",
      "\n",
      "===>  TRAIN Epoch 11\n"
     ]
    },
    {
     "name": "stderr",
     "output_type": "stream",
     "text": [
      "0% [███████████████] 100% | ETA: 00:00:00\n",
      "Total time elapsed: 00:00:17\n"
     ]
    },
    {
     "name": "stdout",
     "output_type": "stream",
     "text": [
      "Finished Epoch 11 || Run Time:   10.2 | Load Time:    7.7 || F1:  98.70 | Prec:  97.65 | Rec:  99.77 || Ex/s: 413.48\n",
      "\n",
      "===>  EVAL Epoch 11\n"
     ]
    },
    {
     "name": "stderr",
     "output_type": "stream",
     "text": [
      "0% [█████] 100% | ETA: 00:00:00\n",
      "Total time elapsed: 00:00:03\n"
     ]
    },
    {
     "name": "stdout",
     "output_type": "stream",
     "text": [
      "Finished Epoch 11 || Run Time:    1.3 | Load Time:    2.6 || F1:  99.10 | Prec:  98.88 | Rec:  99.32 || Ex/s: 638.07\n",
      "\n",
      "* Best F1: 99.10112359550563\n",
      "Saving best model...\n",
      "Done.\n",
      "---------------------\n",
      "\n",
      "===>  TRAIN Epoch 12\n"
     ]
    },
    {
     "name": "stderr",
     "output_type": "stream",
     "text": [
      "0% [███████████████] 100% | ETA: 00:00:00\n",
      "Total time elapsed: 00:00:17\n"
     ]
    },
    {
     "name": "stdout",
     "output_type": "stream",
     "text": [
      "Finished Epoch 12 || Run Time:   10.0 | Load Time:    7.6 || F1:  98.85 | Prec:  97.80 | Rec:  99.92 || Ex/s: 420.50\n",
      "\n",
      "===>  EVAL Epoch 12\n"
     ]
    },
    {
     "name": "stderr",
     "output_type": "stream",
     "text": [
      "0% [█████] 100% | ETA: 00:00:00\n",
      "Total time elapsed: 00:00:03\n"
     ]
    },
    {
     "name": "stdout",
     "output_type": "stream",
     "text": [
      "Finished Epoch 12 || Run Time:    1.3 | Load Time:    2.6 || F1:  98.99 | Prec:  98.88 | Rec:  99.10 || Ex/s: 636.54\n",
      "\n",
      "---------------------\n",
      "\n",
      "===>  TRAIN Epoch 13\n"
     ]
    },
    {
     "name": "stderr",
     "output_type": "stream",
     "text": [
      "0% [███████████████] 100% | ETA: 00:00:00\n",
      "Total time elapsed: 00:00:17\n"
     ]
    },
    {
     "name": "stdout",
     "output_type": "stream",
     "text": [
      "Finished Epoch 13 || Run Time:   10.1 | Load Time:    7.7 || F1:  98.92 | Prec:  97.94 | Rec:  99.92 || Ex/s: 415.55\n",
      "\n",
      "===>  EVAL Epoch 13\n"
     ]
    },
    {
     "name": "stderr",
     "output_type": "stream",
     "text": [
      "0% [█████] 100% | ETA: 00:00:00\n",
      "Total time elapsed: 00:00:03\n"
     ]
    },
    {
     "name": "stdout",
     "output_type": "stream",
     "text": [
      "Finished Epoch 13 || Run Time:    1.3 | Load Time:    2.5 || F1:  98.99 | Prec:  98.66 | Rec:  99.32 || Ex/s: 644.59\n",
      "\n",
      "---------------------\n",
      "\n",
      "===>  TRAIN Epoch 14\n"
     ]
    },
    {
     "name": "stderr",
     "output_type": "stream",
     "text": [
      "0% [███████████████] 100% | ETA: 00:00:00\n",
      "Total time elapsed: 00:00:18\n"
     ]
    },
    {
     "name": "stdout",
     "output_type": "stream",
     "text": [
      "Finished Epoch 14 || Run Time:   10.5 | Load Time:    7.7 || F1:  98.96 | Prec:  98.01 | Rec:  99.92 || Ex/s: 408.12\n",
      "\n",
      "===>  EVAL Epoch 14\n"
     ]
    },
    {
     "name": "stderr",
     "output_type": "stream",
     "text": [
      "0% [█████] 100% | ETA: 00:00:00\n",
      "Total time elapsed: 00:00:03\n"
     ]
    },
    {
     "name": "stdout",
     "output_type": "stream",
     "text": [
      "Finished Epoch 14 || Run Time:    1.3 | Load Time:    2.6 || F1:  99.10 | Prec:  98.66 | Rec:  99.55 || Ex/s: 639.15\n",
      "\n",
      "* Best F1: 99.10313901345293\n",
      "Saving best model...\n",
      "Done.\n",
      "---------------------\n",
      "\n",
      "===>  TRAIN Epoch 15\n"
     ]
    },
    {
     "name": "stderr",
     "output_type": "stream",
     "text": [
      "0% [███████████████] 100% | ETA: 00:00:00\n",
      "Total time elapsed: 00:00:17\n"
     ]
    },
    {
     "name": "stdout",
     "output_type": "stream",
     "text": [
      "Finished Epoch 15 || Run Time:   10.3 | Load Time:    7.7 || F1:  99.03 | Prec:  98.16 | Rec:  99.92 || Ex/s: 410.57\n",
      "\n",
      "===>  EVAL Epoch 15\n"
     ]
    },
    {
     "name": "stderr",
     "output_type": "stream",
     "text": [
      "0% [█████] 100% | ETA: 00:00:00\n",
      "Total time elapsed: 00:00:03\n"
     ]
    },
    {
     "name": "stdout",
     "output_type": "stream",
     "text": [
      "Finished Epoch 15 || Run Time:    1.3 | Load Time:    2.5 || F1:  99.10 | Prec:  98.66 | Rec:  99.55 || Ex/s: 646.47\n",
      "\n",
      "---------------------\n",
      "\n",
      "Loading best model...\n",
      "Training done.\n"
     ]
    },
    {
     "data": {
      "text/plain": [
       "99.10313901345293"
      ]
     },
     "execution_count": 10,
     "metadata": {},
     "output_type": "execute_result"
    }
   ],
   "source": [
    "model = dm.MatchingModel(attr_summarizer='attention')\n",
    "model.run_train(\n",
    "    train,\n",
    "    validation,\n",
    "    epochs=15,\n",
    "    batch_size=100,\n",
    "    best_save_path='attention_model.pth',\n",
    "    pos_neg_ratio=6)"
   ]
  },
  {
   "cell_type": "code",
   "execution_count": 11,
   "metadata": {},
   "outputs": [
    {
     "name": "stdout",
     "output_type": "stream",
     "text": [
      "===>  EVAL Epoch 14\n"
     ]
    },
    {
     "name": "stderr",
     "output_type": "stream",
     "text": [
      "0% [███████████████] 100% | ETA: 00:00:00\n",
      "Total time elapsed: 00:00:03\n"
     ]
    },
    {
     "name": "stdout",
     "output_type": "stream",
     "text": [
      "Finished Epoch 14 || Run Time:    1.7 | Load Time:    2.2 || F1:  98.21 | Prec:  97.56 | Rec:  98.87 || Ex/s: 645.04\n",
      "\n"
     ]
    },
    {
     "data": {
      "text/plain": [
       "98.2102908277405"
      ]
     },
     "execution_count": 11,
     "metadata": {},
     "output_type": "execute_result"
    }
   ],
   "source": [
    "# The F-1 score for attention approach\n",
    "model.run_eval(test)"
   ]
  },
  {
   "cell_type": "code",
   "execution_count": 12,
   "metadata": {},
   "outputs": [
    {
     "name": "stdout",
     "output_type": "stream",
     "text": [
      "* Number of trainable parameters: 9210006\n",
      "===>  TRAIN Epoch 1\n"
     ]
    },
    {
     "name": "stderr",
     "output_type": "stream",
     "text": [
      "0% [███████████████] 100% | ETA: 00:00:00\n",
      "Total time elapsed: 00:00:27\n"
     ]
    },
    {
     "name": "stdout",
     "output_type": "stream",
     "text": [
      "Finished Epoch 1 || Run Time:   20.0 | Load Time:    7.9 || F1:  46.67 | Prec:  30.57 | Rec:  98.65 || Ex/s: 266.32\n",
      "\n",
      "===>  EVAL Epoch 1\n"
     ]
    },
    {
     "name": "stderr",
     "output_type": "stream",
     "text": [
      "0% [█████] 100% | ETA: 00:00:00\n",
      "Total time elapsed: 00:00:05\n"
     ]
    },
    {
     "name": "stdout",
     "output_type": "stream",
     "text": [
      "Finished Epoch 1 || Run Time:    2.3 | Load Time:    2.7 || F1:  87.92 | Prec:  78.45 | Rec: 100.00 || Ex/s: 493.42\n",
      "\n",
      "* Best F1: 87.92079207920793\n",
      "Saving best model...\n",
      "Done.\n",
      "---------------------\n",
      "\n",
      "===>  TRAIN Epoch 2\n"
     ]
    },
    {
     "name": "stderr",
     "output_type": "stream",
     "text": [
      "0% [███████████████] 100% | ETA: 00:00:00\n",
      "Total time elapsed: 00:00:27\n"
     ]
    },
    {
     "name": "stdout",
     "output_type": "stream",
     "text": [
      "Finished Epoch 2 || Run Time:   20.2 | Load Time:    7.9 || F1:  94.12 | Prec:  89.08 | Rec:  99.77 || Ex/s: 264.22\n",
      "\n",
      "===>  EVAL Epoch 2\n"
     ]
    },
    {
     "name": "stderr",
     "output_type": "stream",
     "text": [
      "0% [█████] 100% | ETA: 00:00:00\n",
      "Total time elapsed: 00:00:04\n"
     ]
    },
    {
     "name": "stdout",
     "output_type": "stream",
     "text": [
      "Finished Epoch 2 || Run Time:    2.3 | Load Time:    2.6 || F1:  91.93 | Prec:  85.06 | Rec: 100.00 || Ex/s: 506.60\n",
      "\n",
      "* Best F1: 91.92546583850931\n",
      "Saving best model...\n",
      "Done.\n",
      "---------------------\n",
      "\n",
      "===>  TRAIN Epoch 3\n"
     ]
    },
    {
     "name": "stderr",
     "output_type": "stream",
     "text": [
      "0% [███████████████] 100% | ETA: 00:00:00\n",
      "Total time elapsed: 00:00:27\n"
     ]
    },
    {
     "name": "stdout",
     "output_type": "stream",
     "text": [
      "Finished Epoch 3 || Run Time:   19.6 | Load Time:    7.7 || F1:  96.27 | Prec:  92.88 | Rec:  99.92 || Ex/s: 271.53\n",
      "\n",
      "===>  EVAL Epoch 3\n"
     ]
    },
    {
     "name": "stderr",
     "output_type": "stream",
     "text": [
      "0% [█████] 100% | ETA: 00:00:00\n",
      "Total time elapsed: 00:00:04\n"
     ]
    },
    {
     "name": "stdout",
     "output_type": "stream",
     "text": [
      "Finished Epoch 3 || Run Time:    2.3 | Load Time:    2.6 || F1:  95.79 | Prec:  91.93 | Rec: 100.00 || Ex/s: 506.28\n",
      "\n",
      "* Best F1: 95.79288025889969\n",
      "Saving best model...\n",
      "Done.\n",
      "---------------------\n",
      "\n",
      "===>  TRAIN Epoch 4\n"
     ]
    },
    {
     "name": "stderr",
     "output_type": "stream",
     "text": [
      "0% [███████████████] 100% | ETA: 00:00:00\n",
      "Total time elapsed: 00:00:27\n"
     ]
    },
    {
     "name": "stdout",
     "output_type": "stream",
     "text": [
      "Finished Epoch 4 || Run Time:   19.6 | Load Time:    7.7 || F1:  97.54 | Prec:  95.28 | Rec:  99.92 || Ex/s: 272.57\n",
      "\n",
      "===>  EVAL Epoch 4\n"
     ]
    },
    {
     "name": "stderr",
     "output_type": "stream",
     "text": [
      "0% [█████] 100% | ETA: 00:00:00\n",
      "Total time elapsed: 00:00:04\n"
     ]
    },
    {
     "name": "stdout",
     "output_type": "stream",
     "text": [
      "Finished Epoch 4 || Run Time:    2.3 | Load Time:    2.6 || F1:  96.84 | Prec:  93.87 | Rec: 100.00 || Ex/s: 506.53\n",
      "\n",
      "* Best F1: 96.83751363140675\n",
      "Saving best model...\n",
      "Done.\n",
      "---------------------\n",
      "\n",
      "===>  TRAIN Epoch 5\n"
     ]
    },
    {
     "name": "stderr",
     "output_type": "stream",
     "text": [
      "0% [███████████████] 100% | ETA: 00:00:00\n",
      "Total time elapsed: 00:00:27\n"
     ]
    },
    {
     "name": "stdout",
     "output_type": "stream",
     "text": [
      "Finished Epoch 5 || Run Time:   19.9 | Load Time:    7.8 || F1:  98.41 | Prec:  96.87 | Rec: 100.00 || Ex/s: 267.55\n",
      "\n",
      "===>  EVAL Epoch 5\n"
     ]
    },
    {
     "name": "stderr",
     "output_type": "stream",
     "text": [
      "0% [█████] 100% | ETA: 00:00:00\n",
      "Total time elapsed: 00:00:05\n"
     ]
    },
    {
     "name": "stdout",
     "output_type": "stream",
     "text": [
      "Finished Epoch 5 || Run Time:    2.4 | Load Time:    2.7 || F1:  97.58 | Prec:  95.47 | Rec:  99.77 || Ex/s: 478.09\n",
      "\n",
      "* Best F1: 97.57709251101322\n",
      "Saving best model...\n",
      "Done.\n",
      "---------------------\n",
      "\n",
      "===>  TRAIN Epoch 6\n"
     ]
    },
    {
     "name": "stderr",
     "output_type": "stream",
     "text": [
      "0% [███████████████] 100% | ETA: 00:00:00\n",
      "Total time elapsed: 00:00:28\n"
     ]
    },
    {
     "name": "stdout",
     "output_type": "stream",
     "text": [
      "Finished Epoch 6 || Run Time:   20.6 | Load Time:    8.1 || F1:  98.89 | Prec:  97.80 | Rec: 100.00 || Ex/s: 258.40\n",
      "\n",
      "===>  EVAL Epoch 6\n"
     ]
    },
    {
     "name": "stderr",
     "output_type": "stream",
     "text": [
      "0% [█████] 100% | ETA: 00:00:00\n",
      "Total time elapsed: 00:00:05\n"
     ]
    },
    {
     "name": "stdout",
     "output_type": "stream",
     "text": [
      "Finished Epoch 6 || Run Time:    2.4 | Load Time:    2.7 || F1:  98.44 | Prec:  97.36 | Rec:  99.55 || Ex/s: 482.61\n",
      "\n",
      "* Best F1: 98.44097995545656\n",
      "Saving best model...\n",
      "Done.\n",
      "---------------------\n",
      "\n",
      "===>  TRAIN Epoch 7\n"
     ]
    },
    {
     "name": "stderr",
     "output_type": "stream",
     "text": [
      "0% [███████████████] 100% | ETA: 00:00:00\n",
      "Total time elapsed: 00:00:28\n"
     ]
    },
    {
     "name": "stdout",
     "output_type": "stream",
     "text": [
      "Finished Epoch 7 || Run Time:   20.7 | Load Time:    8.1 || F1:  99.03 | Prec:  98.09 | Rec: 100.00 || Ex/s: 258.08\n",
      "\n",
      "===>  EVAL Epoch 7\n"
     ]
    },
    {
     "name": "stderr",
     "output_type": "stream",
     "text": [
      "0% [█████] 100% | ETA: 00:00:00\n",
      "Total time elapsed: 00:00:04\n"
     ]
    },
    {
     "name": "stdout",
     "output_type": "stream",
     "text": [
      "Finished Epoch 7 || Run Time:    2.3 | Load Time:    2.6 || F1:  98.33 | Prec:  97.14 | Rec:  99.55 || Ex/s: 504.37\n",
      "\n",
      "---------------------\n",
      "\n",
      "===>  TRAIN Epoch 8\n"
     ]
    },
    {
     "name": "stderr",
     "output_type": "stream",
     "text": [
      "0% [███████████████] 100% | ETA: 00:00:00\n",
      "Total time elapsed: 00:00:27\n"
     ]
    },
    {
     "name": "stdout",
     "output_type": "stream",
     "text": [
      "Finished Epoch 8 || Run Time:   19.6 | Load Time:    7.7 || F1:  99.14 | Prec:  98.30 | Rec: 100.00 || Ex/s: 271.28\n",
      "\n",
      "===>  EVAL Epoch 8\n"
     ]
    },
    {
     "name": "stderr",
     "output_type": "stream",
     "text": [
      "0% [█████] 100% | ETA: 00:00:00\n",
      "Total time elapsed: 00:00:04\n"
     ]
    },
    {
     "name": "stdout",
     "output_type": "stream",
     "text": [
      "Finished Epoch 8 || Run Time:    2.3 | Load Time:    2.6 || F1:  98.12 | Prec:  96.51 | Rec:  99.77 || Ex/s: 502.22\n",
      "\n",
      "---------------------\n",
      "\n",
      "===>  TRAIN Epoch 9\n"
     ]
    },
    {
     "name": "stderr",
     "output_type": "stream",
     "text": [
      "0% [███████████████] 100% | ETA: 00:00:00\n",
      "Total time elapsed: 00:00:27\n"
     ]
    },
    {
     "name": "stdout",
     "output_type": "stream",
     "text": [
      "Finished Epoch 9 || Run Time:   19.8 | Load Time:    7.8 || F1:  99.14 | Prec:  98.30 | Rec: 100.00 || Ex/s: 268.16\n",
      "\n",
      "===>  EVAL Epoch 9\n"
     ]
    },
    {
     "name": "stderr",
     "output_type": "stream",
     "text": [
      "0% [█████] 100% | ETA: 00:00:00\n",
      "Total time elapsed: 00:00:05\n"
     ]
    },
    {
     "name": "stdout",
     "output_type": "stream",
     "text": [
      "Finished Epoch 9 || Run Time:    2.5 | Load Time:    2.9 || F1:  97.90 | Prec:  96.10 | Rec:  99.77 || Ex/s: 462.81\n",
      "\n",
      "---------------------\n",
      "\n",
      "===>  TRAIN Epoch 10\n"
     ]
    },
    {
     "name": "stderr",
     "output_type": "stream",
     "text": [
      "0% [███████████████] 100% | ETA: 00:00:00\n",
      "Total time elapsed: 00:00:28\n"
     ]
    },
    {
     "name": "stdout",
     "output_type": "stream",
     "text": [
      "Finished Epoch 10 || Run Time:   20.6 | Load Time:    8.0 || F1:  99.25 | Prec:  98.52 | Rec: 100.00 || Ex/s: 259.46\n",
      "\n",
      "===>  EVAL Epoch 10\n"
     ]
    },
    {
     "name": "stderr",
     "output_type": "stream",
     "text": [
      "0% [█████] 100% | ETA: 00:00:00\n",
      "Total time elapsed: 00:00:05\n"
     ]
    },
    {
     "name": "stdout",
     "output_type": "stream",
     "text": [
      "Finished Epoch 10 || Run Time:    2.4 | Load Time:    2.7 || F1:  98.01 | Prec:  96.10 | Rec: 100.00 || Ex/s: 487.27\n",
      "\n",
      "---------------------\n",
      "\n",
      "===>  TRAIN Epoch 11\n"
     ]
    },
    {
     "name": "stderr",
     "output_type": "stream",
     "text": [
      "0% [███████████████] 100% | ETA: 00:00:00\n",
      "Total time elapsed: 00:00:28\n"
     ]
    },
    {
     "name": "stdout",
     "output_type": "stream",
     "text": [
      "Finished Epoch 11 || Run Time:   20.7 | Load Time:    8.0 || F1:  99.29 | Prec:  98.59 | Rec: 100.00 || Ex/s: 258.76\n",
      "\n",
      "===>  EVAL Epoch 11\n"
     ]
    },
    {
     "name": "stderr",
     "output_type": "stream",
     "text": [
      "0% [█████] 100% | ETA: 00:00:00\n",
      "Total time elapsed: 00:00:05\n"
     ]
    },
    {
     "name": "stdout",
     "output_type": "stream",
     "text": [
      "Finished Epoch 11 || Run Time:    2.4 | Load Time:    2.7 || F1:  97.90 | Prec:  96.30 | Rec:  99.55 || Ex/s: 479.83\n",
      "\n",
      "---------------------\n",
      "\n",
      "===>  TRAIN Epoch 12\n"
     ]
    },
    {
     "name": "stderr",
     "output_type": "stream",
     "text": [
      "0% [███████████████] 100% | ETA: 00:00:00\n",
      "Total time elapsed: 00:00:28\n"
     ]
    },
    {
     "name": "stdout",
     "output_type": "stream",
     "text": [
      "Finished Epoch 12 || Run Time:   20.6 | Load Time:    7.9 || F1:  99.37 | Prec:  98.74 | Rec: 100.00 || Ex/s: 259.59\n",
      "\n",
      "===>  EVAL Epoch 12\n"
     ]
    },
    {
     "name": "stderr",
     "output_type": "stream",
     "text": [
      "0% [█████] 100% | ETA: 00:00:00\n",
      "Total time elapsed: 00:00:05\n"
     ]
    },
    {
     "name": "stdout",
     "output_type": "stream",
     "text": [
      "Finished Epoch 12 || Run Time:    2.4 | Load Time:    2.7 || F1:  98.22 | Prec:  96.93 | Rec:  99.55 || Ex/s: 485.82\n",
      "\n",
      "---------------------\n",
      "\n",
      "===>  TRAIN Epoch 13\n"
     ]
    },
    {
     "name": "stderr",
     "output_type": "stream",
     "text": [
      "0% [███████████████] 100% | ETA: 00:00:00\n",
      "Total time elapsed: 00:00:28\n"
     ]
    },
    {
     "name": "stdout",
     "output_type": "stream",
     "text": [
      "Finished Epoch 13 || Run Time:   20.9 | Load Time:    8.1 || F1:  99.37 | Prec:  98.74 | Rec: 100.00 || Ex/s: 255.73\n",
      "\n",
      "===>  EVAL Epoch 13\n"
     ]
    },
    {
     "name": "stderr",
     "output_type": "stream",
     "text": [
      "0% [█████] 100% | ETA: 00:00:00\n",
      "Total time elapsed: 00:00:05\n"
     ]
    },
    {
     "name": "stdout",
     "output_type": "stream",
     "text": [
      "Finished Epoch 13 || Run Time:    2.5 | Load Time:    2.8 || F1:  98.11 | Prec:  96.92 | Rec:  99.32 || Ex/s: 469.29\n",
      "\n",
      "---------------------\n",
      "\n",
      "===>  TRAIN Epoch 14\n"
     ]
    },
    {
     "name": "stderr",
     "output_type": "stream",
     "text": [
      "0% [███████████████] 100% | ETA: 00:00:00\n",
      "Total time elapsed: 00:00:29\n"
     ]
    },
    {
     "name": "stdout",
     "output_type": "stream",
     "text": [
      "Finished Epoch 14 || Run Time:   21.0 | Load Time:    8.3 || F1:  99.37 | Prec:  98.74 | Rec: 100.00 || Ex/s: 252.66\n",
      "\n",
      "===>  EVAL Epoch 14\n"
     ]
    },
    {
     "name": "stderr",
     "output_type": "stream",
     "text": [
      "0% [█████] 100% | ETA: 00:00:00\n",
      "Total time elapsed: 00:00:04\n"
     ]
    },
    {
     "name": "stdout",
     "output_type": "stream",
     "text": [
      "Finished Epoch 14 || Run Time:    2.3 | Load Time:    2.6 || F1:  98.11 | Prec:  96.92 | Rec:  99.32 || Ex/s: 506.87\n",
      "\n",
      "---------------------\n",
      "\n",
      "===>  TRAIN Epoch 15\n"
     ]
    },
    {
     "name": "stderr",
     "output_type": "stream",
     "text": [
      "0% [███████████████] 100% | ETA: 00:00:00\n",
      "Total time elapsed: 00:00:27\n"
     ]
    },
    {
     "name": "stdout",
     "output_type": "stream",
     "text": [
      "Finished Epoch 15 || Run Time:   19.9 | Load Time:    7.8 || F1:  99.37 | Prec:  98.74 | Rec: 100.00 || Ex/s: 267.98\n",
      "\n",
      "===>  EVAL Epoch 15\n"
     ]
    },
    {
     "name": "stderr",
     "output_type": "stream",
     "text": [
      "0% [█████] 100% | ETA: 00:00:00\n",
      "Total time elapsed: 00:00:04\n"
     ]
    },
    {
     "name": "stdout",
     "output_type": "stream",
     "text": [
      "Finished Epoch 15 || Run Time:    2.3 | Load Time:    2.6 || F1:  98.11 | Prec:  96.92 | Rec:  99.32 || Ex/s: 503.04\n",
      "\n",
      "---------------------\n",
      "\n",
      "Loading best model...\n",
      "Training done.\n"
     ]
    },
    {
     "data": {
      "text/plain": [
       "98.44097995545656"
      ]
     },
     "execution_count": 12,
     "metadata": {},
     "output_type": "execute_result"
    }
   ],
   "source": [
    "model = dm.MatchingModel(attr_summarizer='hybrid')\n",
    "model.run_train(\n",
    "    train,\n",
    "    validation,\n",
    "    epochs=15,\n",
    "    batch_size=100,\n",
    "    best_save_path='hybrid_model.pth',\n",
    "    pos_neg_ratio=10)"
   ]
  },
  {
   "cell_type": "code",
   "execution_count": 13,
   "metadata": {},
   "outputs": [
    {
     "name": "stdout",
     "output_type": "stream",
     "text": [
      "===>  EVAL Epoch 6\n"
     ]
    },
    {
     "name": "stderr",
     "output_type": "stream",
     "text": [
      "0% [███████████████] 100% | ETA: 00:00:00\n",
      "Total time elapsed: 00:00:05\n"
     ]
    },
    {
     "name": "stdout",
     "output_type": "stream",
     "text": [
      "Finished Epoch 6 || Run Time:    3.2 | Load Time:    2.2 || F1:  97.90 | Prec:  96.30 | Rec:  99.55 || Ex/s: 457.58\n",
      "\n"
     ]
    },
    {
     "data": {
      "text/plain": [
       "97.89590254706535"
      ]
     },
     "execution_count": 13,
     "metadata": {},
     "output_type": "execute_result"
    }
   ],
   "source": [
    "# The F-1 score for hybird approach\n",
    "model.run_eval(test)"
   ]
  },
  {
   "cell_type": "code",
   "execution_count": 14,
   "metadata": {},
   "outputs": [],
   "source": [
    "import torch\n",
    "import torch.nn as nn\n",
    "import torch.nn.functional as F\n",
    "\n",
    "\n",
    "class attr_sum_simple_cnn(nn.Module):\n",
    "    def __init__(self):\n",
    "        super(attr_sum_simple_cnn, self).__init__()\n",
    "        self.sentence_length = 66\n",
    "        self.CNN1 = Net()\n",
    "        self.CNN2 = Net()\n",
    "\n",
    "    def forward(self, x1, x2):\n",
    "        x1 = x1.unsqueeze(1)\n",
    "        x2 = x2.unsqueeze(1)\n",
    "        x1 = F.pad(x1, (0, 0, 0, self.sentence_length - x1.size()[2]))\n",
    "        x2 = F.pad(x2, (0, 0, 0, self.sentence_length - x2.size()[2]))\n",
    "        x1 = self.CNN1(x1)\n",
    "        x2 = self.CNN2(x2)\n",
    "        return x1, x2\n",
    "\n",
    "class Net(nn.Module):\n",
    "    def __init__(self):\n",
    "        super(Net, self).__init__()\n",
    "        words_dim = 300\n",
    "        self.conv1 = nn.Conv2d(\n",
    "                in_channels=1,  # input height\n",
    "                out_channels=6,  # n_filters\n",
    "                kernel_size=(3, words_dim),  # filter size\n",
    "                stride=1,  # filter movement/step\n",
    "                padding=(2,0),#padding=(kernel_size-1)/2\n",
    "            )\n",
    "        self.conv2 = nn.Conv2d(\n",
    "            in_channels=1,  # input height\n",
    "            out_channels=6,  # n_filters\n",
    "            kernel_size=(4, words_dim),  # filter size\n",
    "            stride=1,  # filter movement/step\n",
    "            padding=(3, 0),  # padding=(kernel_size-1)/2\n",
    "        )\n",
    "        self.conv3 = nn.Conv2d(\n",
    "            in_channels=1,  # input height\n",
    "            out_channels=6,  # n_filters\n",
    "            kernel_size=(5, words_dim),  # filter size\n",
    "            stride=1,  # filter movement/step\n",
    "            padding=(4, 0),  # padding=(kernel_size-1)/2\n",
    "        )# output = [batch, output_channel, sql_len, 1]\n",
    "\n",
    "    def forward(self, x):\n",
    "        x = [F.relu(self.conv1(x)).squeeze(3), F.relu(self.conv2(x)).squeeze(3), F.relu(self.conv3(x)).squeeze(3)]\n",
    "        # (batch, channel_output, ~=sent_len) * Ks\n",
    "        x = [F.max_pool1d(i, i.size(2)).squeeze(2) for i in x]  # max-over-time pooling\n",
    "        # (batch, channel_output) * Ks\n",
    "        x = torch.cat(x, 1)\n",
    "        return x"
   ]
  },
  {
   "cell_type": "code",
   "execution_count": 15,
   "metadata": {},
   "outputs": [],
   "source": [
    "simple_cnn_attr_summarizer_module = dm.modules.NoMeta(attr_sum_simple_cnn())\n",
    "\n",
    "model = dm.MatchingModel(attr_summarizer=lambda: simple_cnn_attr_summarizer_module, \n",
    "                         attr_comparator='abs-diff',\n",
    "                         classifier='3-layer-residual-relu')"
   ]
  },
  {
   "cell_type": "code",
   "execution_count": 16,
   "metadata": {},
   "outputs": [
    {
     "name": "stdout",
     "output_type": "stream",
     "text": [
      "* Number of trainable parameters: 597038\n",
      "===>  TRAIN Epoch 1\n"
     ]
    },
    {
     "name": "stderr",
     "output_type": "stream",
     "text": [
      "0% [███████████████] 100% | ETA: 00:00:00\n",
      "Total time elapsed: 00:00:11\n"
     ]
    },
    {
     "name": "stdout",
     "output_type": "stream",
     "text": [
      "Finished Epoch 1 || Run Time:    3.7 | Load Time:    7.5 || F1:  47.52 | Prec:  31.39 | Rec:  97.67 || Ex/s: 663.03\n",
      "\n",
      "===>  EVAL Epoch 1\n"
     ]
    },
    {
     "name": "stderr",
     "output_type": "stream",
     "text": [
      "0% [█████] 100% | ETA: 00:00:00\n",
      "Total time elapsed: 00:00:03\n"
     ]
    },
    {
     "name": "stdout",
     "output_type": "stream",
     "text": [
      "Finished Epoch 1 || Run Time:    0.6 | Load Time:    2.5 || F1:  64.54 | Prec:  47.69 | Rec:  99.77 || Ex/s: 811.72\n",
      "\n",
      "* Best F1: 64.53531598513011\n",
      "Saving best model...\n",
      "Done.\n",
      "---------------------\n",
      "\n",
      "===>  TRAIN Epoch 2\n"
     ]
    },
    {
     "name": "stderr",
     "output_type": "stream",
     "text": [
      "0% [███████████████] 100% | ETA: 00:00:00\n",
      "Total time elapsed: 00:00:10\n"
     ]
    },
    {
     "name": "stdout",
     "output_type": "stream",
     "text": [
      "Finished Epoch 2 || Run Time:    2.9 | Load Time:    7.7 || F1:  77.33 | Prec:  63.56 | Rec:  98.72 || Ex/s: 703.41\n",
      "\n",
      "===>  EVAL Epoch 2\n"
     ]
    },
    {
     "name": "stderr",
     "output_type": "stream",
     "text": [
      "0% [█████] 100% | ETA: 00:00:00\n",
      "Total time elapsed: 00:00:03\n"
     ]
    },
    {
     "name": "stdout",
     "output_type": "stream",
     "text": [
      "Finished Epoch 2 || Run Time:    0.6 | Load Time:    2.5 || F1:  85.91 | Prec:  75.97 | Rec:  98.85 || Ex/s: 800.19\n",
      "\n",
      "* Best F1: 85.91408591408593\n",
      "Saving best model...\n",
      "Done.\n",
      "---------------------\n",
      "\n",
      "===>  TRAIN Epoch 3\n"
     ]
    },
    {
     "name": "stderr",
     "output_type": "stream",
     "text": [
      "0% [███████████████] 100% | ETA: 00:00:00\n",
      "Total time elapsed: 00:00:10\n"
     ]
    },
    {
     "name": "stdout",
     "output_type": "stream",
     "text": [
      "Finished Epoch 3 || Run Time:    2.9 | Load Time:    7.7 || F1:  86.57 | Prec:  76.94 | Rec:  98.95 || Ex/s: 702.80\n",
      "\n",
      "===>  EVAL Epoch 3\n"
     ]
    },
    {
     "name": "stderr",
     "output_type": "stream",
     "text": [
      "0% [█████] 100% | ETA: 00:00:00\n",
      "Total time elapsed: 00:00:03\n"
     ]
    },
    {
     "name": "stdout",
     "output_type": "stream",
     "text": [
      "Finished Epoch 3 || Run Time:    0.6 | Load Time:    2.5 || F1:  88.55 | Prec:  79.74 | Rec:  99.54 || Ex/s: 820.10\n",
      "\n",
      "* Best F1: 88.5480572597137\n",
      "Saving best model...\n",
      "Done.\n",
      "---------------------\n",
      "\n",
      "===>  TRAIN Epoch 4\n"
     ]
    },
    {
     "name": "stderr",
     "output_type": "stream",
     "text": [
      "0% [███████████████] 100% | ETA: 00:00:00\n",
      "Total time elapsed: 00:00:10\n"
     ]
    },
    {
     "name": "stdout",
     "output_type": "stream",
     "text": [
      "Finished Epoch 4 || Run Time:    2.9 | Load Time:    7.7 || F1:  89.90 | Prec:  82.16 | Rec:  99.25 || Ex/s: 704.64\n",
      "\n",
      "===>  EVAL Epoch 4\n"
     ]
    },
    {
     "name": "stderr",
     "output_type": "stream",
     "text": [
      "0% [█████] 100% | ETA: 00:00:00\n",
      "Total time elapsed: 00:00:03\n"
     ]
    },
    {
     "name": "stdout",
     "output_type": "stream",
     "text": [
      "Finished Epoch 4 || Run Time:    0.6 | Load Time:    2.5 || F1:  87.04 | Prec:  77.32 | Rec:  99.54 || Ex/s: 812.87\n",
      "\n",
      "---------------------\n",
      "\n",
      "===>  TRAIN Epoch 5\n"
     ]
    },
    {
     "name": "stderr",
     "output_type": "stream",
     "text": [
      "0% [███████████████] 100% | ETA: 00:00:00\n",
      "Total time elapsed: 00:00:10\n"
     ]
    },
    {
     "name": "stdout",
     "output_type": "stream",
     "text": [
      "Finished Epoch 5 || Run Time:    2.8 | Load Time:    7.5 || F1:  92.25 | Prec:  85.89 | Rec:  99.62 || Ex/s: 716.34\n",
      "\n",
      "===>  EVAL Epoch 5\n"
     ]
    },
    {
     "name": "stderr",
     "output_type": "stream",
     "text": [
      "0% [█████] 100% | ETA: 00:00:00\n",
      "Total time elapsed: 00:00:03\n"
     ]
    },
    {
     "name": "stdout",
     "output_type": "stream",
     "text": [
      "Finished Epoch 5 || Run Time:    0.6 | Load Time:    2.5 || F1:  93.71 | Prec:  88.71 | Rec:  99.31 || Ex/s: 809.05\n",
      "\n",
      "* Best F1: 93.70932754880694\n",
      "Saving best model...\n",
      "Done.\n",
      "---------------------\n",
      "\n",
      "===>  TRAIN Epoch 6\n"
     ]
    },
    {
     "name": "stderr",
     "output_type": "stream",
     "text": [
      "0% [███████████████] 100% | ETA: 00:00:00\n",
      "Total time elapsed: 00:00:10\n"
     ]
    },
    {
     "name": "stdout",
     "output_type": "stream",
     "text": [
      "Finished Epoch 6 || Run Time:    2.8 | Load Time:    7.6 || F1:  94.39 | Prec:  89.56 | Rec:  99.77 || Ex/s: 712.58\n",
      "\n",
      "===>  EVAL Epoch 6\n"
     ]
    },
    {
     "name": "stderr",
     "output_type": "stream",
     "text": [
      "0% [█████] 100% | ETA: 00:00:00\n",
      "Total time elapsed: 00:00:03\n"
     ]
    },
    {
     "name": "stdout",
     "output_type": "stream",
     "text": [
      "Finished Epoch 6 || Run Time:    0.6 | Load Time:    2.5 || F1:  94.14 | Prec:  89.12 | Rec:  99.77 || Ex/s: 815.19\n",
      "\n",
      "* Best F1: 94.14316702819957\n",
      "Saving best model...\n",
      "Done.\n",
      "---------------------\n",
      "\n",
      "===>  TRAIN Epoch 7\n"
     ]
    },
    {
     "name": "stderr",
     "output_type": "stream",
     "text": [
      "0% [███████████████] 100% | ETA: 00:00:00\n",
      "Total time elapsed: 00:00:10\n"
     ]
    },
    {
     "name": "stdout",
     "output_type": "stream",
     "text": [
      "Finished Epoch 7 || Run Time:    2.8 | Load Time:    7.5 || F1:  96.24 | Prec:  92.88 | Rec:  99.85 || Ex/s: 717.24\n",
      "\n",
      "===>  EVAL Epoch 7\n"
     ]
    },
    {
     "name": "stderr",
     "output_type": "stream",
     "text": [
      "0% [█████] 100% | ETA: 00:00:00\n",
      "Total time elapsed: 00:00:03\n"
     ]
    },
    {
     "name": "stdout",
     "output_type": "stream",
     "text": [
      "Finished Epoch 7 || Run Time:    0.6 | Load Time:    2.5 || F1:  93.43 | Prec:  87.85 | Rec:  99.77 || Ex/s: 818.35\n",
      "\n",
      "---------------------\n",
      "\n",
      "===>  TRAIN Epoch 8\n"
     ]
    },
    {
     "name": "stderr",
     "output_type": "stream",
     "text": [
      "0% [███████████████] 100% | ETA: 00:00:00\n",
      "Total time elapsed: 00:00:10\n"
     ]
    },
    {
     "name": "stdout",
     "output_type": "stream",
     "text": [
      "Finished Epoch 8 || Run Time:    2.9 | Load Time:    7.9 || F1:  96.48 | Prec:  93.39 | Rec:  99.77 || Ex/s: 686.91\n",
      "\n",
      "===>  EVAL Epoch 8\n"
     ]
    },
    {
     "name": "stderr",
     "output_type": "stream",
     "text": [
      "0% [█████] 100% | ETA: 00:00:00\n",
      "Total time elapsed: 00:00:03\n"
     ]
    },
    {
     "name": "stdout",
     "output_type": "stream",
     "text": [
      "Finished Epoch 8 || Run Time:    0.6 | Load Time:    2.7 || F1:  95.81 | Prec:  92.14 | Rec:  99.77 || Ex/s: 760.16\n",
      "\n",
      "* Best F1: 95.8057395143488\n",
      "Saving best model...\n",
      "Done.\n",
      "---------------------\n",
      "\n",
      "===>  TRAIN Epoch 9\n"
     ]
    },
    {
     "name": "stderr",
     "output_type": "stream",
     "text": [
      "0% [███████████████] 100% | ETA: 00:00:00\n",
      "Total time elapsed: 00:00:10\n"
     ]
    },
    {
     "name": "stdout",
     "output_type": "stream",
     "text": [
      "Finished Epoch 9 || Run Time:    2.9 | Load Time:    7.7 || F1:  96.97 | Prec:  94.32 | Rec:  99.77 || Ex/s: 700.20\n",
      "\n",
      "===>  EVAL Epoch 9\n"
     ]
    },
    {
     "name": "stderr",
     "output_type": "stream",
     "text": [
      "0% [█████] 100% | ETA: 00:00:00\n",
      "Total time elapsed: 00:00:03\n"
     ]
    },
    {
     "name": "stdout",
     "output_type": "stream",
     "text": [
      "Finished Epoch 9 || Run Time:    0.6 | Load Time:    2.5 || F1:  97.20 | Prec:  94.76 | Rec:  99.77 || Ex/s: 801.93\n",
      "\n",
      "* Best F1: 97.20044792833146\n",
      "Saving best model...\n",
      "Done.\n",
      "---------------------\n",
      "\n",
      "===>  TRAIN Epoch 10\n"
     ]
    },
    {
     "name": "stderr",
     "output_type": "stream",
     "text": [
      "0% [███████████████] 100% | ETA: 00:00:00\n",
      "Total time elapsed: 00:00:10\n"
     ]
    },
    {
     "name": "stdout",
     "output_type": "stream",
     "text": [
      "Finished Epoch 10 || Run Time:    2.8 | Load Time:    7.6 || F1:  97.87 | Prec:  95.89 | Rec:  99.92 || Ex/s: 713.51\n",
      "\n",
      "===>  EVAL Epoch 10\n"
     ]
    },
    {
     "name": "stderr",
     "output_type": "stream",
     "text": [
      "0% [█████] 100% | ETA: 00:00:00\n",
      "Total time elapsed: 00:00:03\n"
     ]
    },
    {
     "name": "stdout",
     "output_type": "stream",
     "text": [
      "Finished Epoch 10 || Run Time:    0.6 | Load Time:    2.5 || F1:  96.88 | Prec:  94.14 | Rec:  99.77 || Ex/s: 818.89\n",
      "\n",
      "---------------------\n",
      "\n",
      "===>  TRAIN Epoch 11\n"
     ]
    },
    {
     "name": "stderr",
     "output_type": "stream",
     "text": [
      "0% [███████████████] 100% | ETA: 00:00:00\n",
      "Total time elapsed: 00:00:10\n"
     ]
    },
    {
     "name": "stdout",
     "output_type": "stream",
     "text": [
      "Finished Epoch 11 || Run Time:    2.9 | Load Time:    7.9 || F1:  98.16 | Prec:  96.45 | Rec:  99.92 || Ex/s: 684.49\n",
      "\n",
      "===>  EVAL Epoch 11\n"
     ]
    },
    {
     "name": "stderr",
     "output_type": "stream",
     "text": [
      "0% [█████] 100% | ETA: 00:00:00\n",
      "Total time elapsed: 00:00:03\n"
     ]
    },
    {
     "name": "stdout",
     "output_type": "stream",
     "text": [
      "Finished Epoch 11 || Run Time:    0.6 | Load Time:    2.6 || F1:  97.64 | Prec:  95.59 | Rec:  99.77 || Ex/s: 788.95\n",
      "\n",
      "* Best F1: 97.63779527559055\n",
      "Saving best model...\n",
      "Done.\n",
      "---------------------\n",
      "\n",
      "===>  TRAIN Epoch 12\n"
     ]
    },
    {
     "name": "stderr",
     "output_type": "stream",
     "text": [
      "0% [███████████████] 100% | ETA: 00:00:00\n",
      "Total time elapsed: 00:00:10\n"
     ]
    },
    {
     "name": "stdout",
     "output_type": "stream",
     "text": [
      "Finished Epoch 12 || Run Time:    2.9 | Load Time:    7.6 || F1:  98.34 | Prec:  96.80 | Rec:  99.92 || Ex/s: 706.12\n",
      "\n",
      "===>  EVAL Epoch 12\n"
     ]
    },
    {
     "name": "stderr",
     "output_type": "stream",
     "text": [
      "0% [█████] 100% | ETA: 00:00:00\n",
      "Total time elapsed: 00:00:03\n"
     ]
    },
    {
     "name": "stdout",
     "output_type": "stream",
     "text": [
      "Finished Epoch 12 || Run Time:    0.6 | Load Time:    2.6 || F1:  97.75 | Prec:  95.81 | Rec:  99.77 || Ex/s: 790.67\n",
      "\n",
      "* Best F1: 97.74774774774775\n",
      "Saving best model...\n",
      "Done.\n",
      "---------------------\n",
      "\n",
      "===>  TRAIN Epoch 13\n"
     ]
    },
    {
     "name": "stderr",
     "output_type": "stream",
     "text": [
      "0% [███████████████] 100% | ETA: 00:00:00\n",
      "Total time elapsed: 00:00:10\n"
     ]
    },
    {
     "name": "stdout",
     "output_type": "stream",
     "text": [
      "Finished Epoch 13 || Run Time:    2.9 | Load Time:    7.6 || F1:  98.52 | Prec:  97.15 | Rec:  99.92 || Ex/s: 706.17\n",
      "\n",
      "===>  EVAL Epoch 13\n"
     ]
    },
    {
     "name": "stderr",
     "output_type": "stream",
     "text": [
      "0% [█████] 100% | ETA: 00:00:00\n",
      "Total time elapsed: 00:00:03\n"
     ]
    },
    {
     "name": "stdout",
     "output_type": "stream",
     "text": [
      "Finished Epoch 13 || Run Time:    0.6 | Load Time:    2.6 || F1:  97.86 | Prec:  96.02 | Rec:  99.77 || Ex/s: 771.88\n",
      "\n",
      "* Best F1: 97.85794813979707\n",
      "Saving best model...\n",
      "Done.\n",
      "---------------------\n",
      "\n",
      "===>  TRAIN Epoch 14\n"
     ]
    },
    {
     "name": "stderr",
     "output_type": "stream",
     "text": [
      "0% [███████████████] 100% | ETA: 00:00:00\n",
      "Total time elapsed: 00:00:10\n"
     ]
    },
    {
     "name": "stdout",
     "output_type": "stream",
     "text": [
      "Finished Epoch 14 || Run Time:    2.9 | Load Time:    7.7 || F1:  98.56 | Prec:  97.22 | Rec:  99.92 || Ex/s: 698.46\n",
      "\n",
      "===>  EVAL Epoch 14\n"
     ]
    },
    {
     "name": "stderr",
     "output_type": "stream",
     "text": [
      "0% [█████] 100% | ETA: 00:00:00\n",
      "Total time elapsed: 00:00:03\n"
     ]
    },
    {
     "name": "stdout",
     "output_type": "stream",
     "text": [
      "Finished Epoch 14 || Run Time:    0.6 | Load Time:    2.5 || F1:  98.08 | Prec:  96.44 | Rec:  99.77 || Ex/s: 796.20\n",
      "\n",
      "* Best F1: 98.07909604519773\n",
      "Saving best model...\n",
      "Done.\n",
      "---------------------\n",
      "\n",
      "===>  TRAIN Epoch 15\n"
     ]
    },
    {
     "name": "stderr",
     "output_type": "stream",
     "text": [
      "0% [███████████████] 100% | ETA: 00:00:00\n",
      "Total time elapsed: 00:00:11\n"
     ]
    },
    {
     "name": "stdout",
     "output_type": "stream",
     "text": [
      "Finished Epoch 15 || Run Time:    3.1 | Load Time:    8.3 || F1:  98.59 | Prec:  97.30 | Rec:  99.92 || Ex/s: 649.46\n",
      "\n",
      "===>  EVAL Epoch 15\n"
     ]
    },
    {
     "name": "stderr",
     "output_type": "stream",
     "text": [
      "0% [█████] 100% | ETA: 00:00:00\n",
      "Total time elapsed: 00:00:03\n"
     ]
    },
    {
     "name": "stdout",
     "output_type": "stream",
     "text": [
      "Finished Epoch 15 || Run Time:    0.6 | Load Time:    2.6 || F1:  98.08 | Prec:  96.44 | Rec:  99.77 || Ex/s: 788.13\n",
      "\n",
      "---------------------\n",
      "\n",
      "Loading best model...\n",
      "Training done.\n"
     ]
    },
    {
     "data": {
      "text/plain": [
       "98.07909604519773"
      ]
     },
     "execution_count": 16,
     "metadata": {},
     "output_type": "execute_result"
    }
   ],
   "source": [
    "model.run_train(\n",
    "    train,\n",
    "    validation,\n",
    "    epochs=15,\n",
    "    batch_size=100,\n",
    "    best_save_path='cnn_model.pth',\n",
    "    pos_neg_ratio=6)"
   ]
  },
  {
   "cell_type": "code",
   "execution_count": 17,
   "metadata": {},
   "outputs": [
    {
     "name": "stdout",
     "output_type": "stream",
     "text": [
      "===>  EVAL Epoch 14\n"
     ]
    },
    {
     "name": "stderr",
     "output_type": "stream",
     "text": [
      "0% [███████████████] 100% | ETA: 00:00:00\n",
      "Total time elapsed: 00:00:02\n"
     ]
    },
    {
     "name": "stdout",
     "output_type": "stream",
     "text": [
      "Finished Epoch 14 || Run Time:    0.8 | Load Time:    2.3 || F1:  97.73 | Prec:  96.57 | Rec: 98.92 || Ex/s: 811.00\n",
      "\n"
     ]
    },
    {
     "data": {
      "text/plain": [
       "97.73087523658498"
      ]
     },
     "execution_count": 17,
     "metadata": {},
     "output_type": "execute_result"
    }
   ],
   "source": [
    "# The F-1 score for naive CNN approach\n",
    "model.run_eval(test)"
   ]
  },
  {
   "cell_type": "code",
   "execution_count": 18,
   "metadata": {},
   "outputs": [],
   "source": [
    "import numpy as np\n",
    "import torch\n",
    "from torch import nn\n",
    "from torch.nn import functional as F\n",
    "\n",
    "\n",
    "class attr_summarization_abcnn(nn.Module):\n",
    "    def __init__(self):\n",
    "        super(attr_summarization_abcnn, self).__init__()\n",
    "        self.emb_dim = 300\n",
    "        self.sentence_length = 66\n",
    "        self.filter_width = 4\n",
    "        self.model_type = '3'\n",
    "        if self.model_type == '3':\n",
    "            self.model = Abcnn3(self.emb_dim, self.sentence_length, self.filter_width)\n",
    "        if self.model_type == '2':\n",
    "            self.model = Abcnn2(self.emb_dim, self.sentence_length, self.filter_width)\n",
    "        if self.model_type == '1':\n",
    "            self.model = Abcnn1(self.emb_dim, self.sentence_length, self.filter_width)\n",
    "\n",
    "    def forward(self, x1, x2):\n",
    "        x1 = x1.unsqueeze(1)\n",
    "        x2 = x2.unsqueeze(1)\n",
    "        x1 = F.pad(x1, (0, 0, 0, self.sentence_length - x1.size()[2]))\n",
    "        x2 = F.pad(x2, (0, 0, 0, self.sentence_length - x2.size()[2]))\n",
    "        return self.model(x1, x2)\n",
    "\n",
    "\n",
    "class Abcnn3(nn.Module):\n",
    "    '''\n",
    "    ABCNN3\n",
    "    1. ABCNN1\n",
    "    2. wide convolution\n",
    "    3. ABCNN2\n",
    "\n",
    "    Attributes\n",
    "    ----------\n",
    "    layer_size : int\n",
    "        the number of (abcnn1 + abcnn2)\n",
    "    distance : function\n",
    "        cosine similarity or manhattan\n",
    "    abcnn1 : list of abcnn1\n",
    "    abcnn2 : list of abcnn2\n",
    "    conv : list of convolution layer\n",
    "    ap : list of pooling layer\n",
    "    fc : last linear layer(in paper use logistic regression)\n",
    "    '''\n",
    "\n",
    "    def __init__(self, emb_dim, sentence_length, filter_width, filter_channel=100, layer_size=2, match='cosine',\n",
    "                 inception=True):\n",
    "        super(Abcnn3, self).__init__()\n",
    "        self.layer_size = layer_size\n",
    "\n",
    "        if match == 'cosine':\n",
    "            self.distance = cosine_similarity\n",
    "        else:\n",
    "            self.distance = manhattan_distance\n",
    "\n",
    "        self.abcnn1 = nn.ModuleList()\n",
    "        self.abcnn2 = nn.ModuleList()\n",
    "        self.conv = nn.ModuleList()\n",
    "        self.ap = nn.ModuleList([ApLayer(emb_dim)])\n",
    "        self.fc = nn.Linear(layer_size + 1, 1)\n",
    "\n",
    "        for i in range(layer_size):\n",
    "            self.abcnn1.append(Abcnn1Portion(sentence_length, emb_dim if i == 0 else filter_channel))\n",
    "            self.abcnn2.append(Abcnn2Portion(sentence_length, filter_width))\n",
    "            self.conv.append(\n",
    "                ConvLayer(False, sentence_length, filter_width, emb_dim if i == 0 else filter_channel, filter_channel,\n",
    "                          inception))\n",
    "            self.ap.append(ApLayer(filter_channel))\n",
    "\n",
    "    def forward(self, x1, x2):\n",
    "        '''\n",
    "        1. stack sentence vector similarity\n",
    "\n",
    "        2. for layer_size\n",
    "            abcnn1\n",
    "            convolution\n",
    "            stack sentence representation vector similarity\n",
    "            abcnn2\n",
    "\n",
    "        3. concatenate similarity list\n",
    "            size (batch_size, layer_size + 1)\n",
    "\n",
    "        4. Linear layer\n",
    "            size (batch_size, 1)\n",
    "\n",
    "        Parameters\n",
    "        ----------\n",
    "        x1, x2 : 4-D torch Tensor\n",
    "            size (batch_size, 1, sentence_length, emb_dim)\n",
    "\n",
    "        Returns\n",
    "        -------\n",
    "        output : 2-D torch Tensor\n",
    "            size (batch_size, 1)\n",
    "        '''\n",
    "        sim = []\n",
    "        # sim.append(self.distance(self.ap[0](x1), self.ap[0](x2)))\n",
    "        representation_x1 = self.ap[0](x1)\n",
    "        representation_x2 = self.ap[0](x2)\n",
    "\n",
    "        for i in range(self.layer_size):\n",
    "            x1, x2 = self.abcnn1[i](x1, x2)\n",
    "            x1 = self.conv[i](x1)\n",
    "            x2 = self.conv[i](x2)\n",
    "            # sim.append(self.distance(self.ap[i + 1](x1), self.ap[i + 1](x2)))\n",
    "            #             print(representation_x1.size())\n",
    "            #             print(self.ap[i + 1](x1).size())\n",
    "            representation_x1 = torch.cat((representation_x1, self.ap[i + 1](x1)), 1)\n",
    "            #             print(representation_x1.size())\n",
    "            representation_x2 = torch.cat((representation_x2, self.ap[i + 1](x2)), 1)\n",
    "            x1, x2 = self.abcnn2[i](x1, x2)\n",
    "\n",
    "        # sim_fc = torch.cat(sim, dim=1)\n",
    "        # output = self.fc(sim_fc)\n",
    "        return representation_x1, representation_x2\n",
    "\n",
    "\n",
    "class Abcnn1(nn.Module):\n",
    "    '''\n",
    "    ABCNN1\n",
    "    1. ABCNN1\n",
    "    2. wide convolution\n",
    "    3. W-ap\n",
    "\n",
    "    Attributes\n",
    "    ----------\n",
    "    layer_size : int\n",
    "        the number of (abcnn1)\n",
    "    distance : function\n",
    "        cosine similarity or manhattan\n",
    "    abcnn : list of abcnn1\n",
    "    conv : list of convolution layer\n",
    "    wp : list of w-ap pooling layer\n",
    "    ap : list of pooling layer\n",
    "    fc : last linear layer(in paper use logistic regression)\n",
    "    '''\n",
    "\n",
    "    def __init__(self, emb_dim, sentence_length, filter_width, filter_channel=100, layer_size=2, match='cosine',\n",
    "                 inception=True):\n",
    "        super(Abcnn1, self).__init__()\n",
    "        self.layer_size = layer_size\n",
    "\n",
    "        if match == 'cosine':\n",
    "            self.distance = cosine_similarity\n",
    "        else:\n",
    "            self.distance = manhattan_distance\n",
    "\n",
    "        self.abcnn = nn.ModuleList()\n",
    "        self.conv = nn.ModuleList()\n",
    "        self.ap = nn.ModuleList([ApLayer(emb_dim)])\n",
    "        self.wp = nn.ModuleList()\n",
    "        self.fc = nn.Linear(layer_size + 1, 1)\n",
    "\n",
    "        for i in range(layer_size):\n",
    "            self.abcnn.append(Abcnn1Portion(sentence_length, emb_dim if i == 0 else filter_channel))\n",
    "            self.conv.append(\n",
    "                ConvLayer(False, sentence_length, filter_width, emb_dim if i == 0 else filter_channel, filter_channel,\n",
    "                          inception))\n",
    "            self.ap.append(ApLayer(filter_channel))\n",
    "            self.wp.append(WpLayer(sentence_length, filter_width, False))\n",
    "\n",
    "    def forward(self, x1, x2):\n",
    "        '''\n",
    "        1. stack sentence vector similarity\n",
    "\n",
    "        2. for layer_size\n",
    "            abcnn1\n",
    "            convolution\n",
    "            stack sentence vector similarity\n",
    "            W-ap for next loop x1, x2\n",
    "\n",
    "        3. concatenate similarity list\n",
    "            size (batch_size, layer_size + 1)\n",
    "\n",
    "        4. Linear layer\n",
    "            size (batch_size, 1)\n",
    "\n",
    "        Parameters\n",
    "        ----------\n",
    "        x1, x2 : 4-D torch Tensor\n",
    "            size (batch_size, 1, sentence_length, emb_dim)\n",
    "\n",
    "        Returns\n",
    "        -------\n",
    "        output : 2-D torch Tensor\n",
    "            size (batch_size, 1)\n",
    "        '''\n",
    "        # sim = []\n",
    "        # sim.append(self.distance(self.ap[0](x1), self.ap[0](x2)))\n",
    "\n",
    "        representation_x1 = self.ap[0](x1)\n",
    "        representation_x2 = self.ap[0](x2)\n",
    "\n",
    "        for i in range(self.layer_size):\n",
    "            x1, x2 = self.abcnn1[i](x1, x2)\n",
    "            x1 = self.conv[i](x1)\n",
    "            x2 = self.conv[i](x2)\n",
    "            # sim.append(self.distance(self.ap[i + 1](x1), self.ap[i + 1](x2)))\n",
    "            representation_x1 = torch.cat((representation_x1, self.ap[i + 1](x1)), 1)\n",
    "            representation_x2 = torch.cat((representation_x2, self.ap[i + 1](x2)), 1)\n",
    "            x1, x2 = self.abcnn2[i](x1, x2)\n",
    "\n",
    "        # sim_fc = torch.cat(sim, dim=1)\n",
    "        # output = self.fc(sim_fc)\n",
    "        return representation_x1, representation_x2\n",
    "\n",
    "\n",
    "class Abcnn2(nn.Module):\n",
    "    '''\n",
    "    ABCNN2\n",
    "    1. wide convolution\n",
    "    2. ABCNN2\n",
    "\n",
    "    Attributes\n",
    "    ----------\n",
    "    layer_size : int\n",
    "        the number of (abcnn2)\n",
    "    distance : function\n",
    "        cosine similarity or manhattan\n",
    "    abcnn : list of abcnn2\n",
    "    conv : list of convolution layer\n",
    "    ap : list of pooling layer\n",
    "    fc : last linear layer(in paper use logistic regression)\n",
    "    '''\n",
    "\n",
    "    def __init__(self, emb_dim, sentence_length, filter_width, filter_channel=100, layer_size=2, match='cosine',\n",
    "                 inception=True):\n",
    "        super(Abcnn2, self).__init__()\n",
    "        self.layer_size = layer_size\n",
    "\n",
    "        if match == 'cosine':\n",
    "            self.distance = cosine_similarity\n",
    "        else:\n",
    "            self.distance = manhattan_distance\n",
    "\n",
    "        self.abcnn = nn.ModuleList()\n",
    "        self.conv = nn.ModuleList()\n",
    "        self.ap = nn.ModuleList([ApLayer(sentence_length)])\n",
    "        self.fc = nn.Linear(layer_size + 1, 1)\n",
    "\n",
    "        for i in range(layer_size):\n",
    "            self.abcnn.append(Abcnn2Portion(sentence_length, filter_width))\n",
    "            self.conv.append(\n",
    "                ConvLayer(True, sentence_length, filter_width, emb_dim if i == 0 else filter_channel, filter_channel,\n",
    "                          inception))\n",
    "            self.ap.append(ApLayer(sentence_length + filter_width - 1))\n",
    "\n",
    "    def forward(self, x1, x2):\n",
    "        '''\n",
    "        1. stack sentence vector similarity\n",
    "\n",
    "        2. for layer_size\n",
    "            convolution\n",
    "            stack sentence vector similarity\n",
    "            abcnn2\n",
    "\n",
    "        3. concatenate similarity list\n",
    "            size (batch_size, layer_size + 1)\n",
    "\n",
    "        4. Linear layer\n",
    "            size (batch_size, 1)\n",
    "\n",
    "        Parameters\n",
    "        ----------\n",
    "        x1, x2 : 4-D torch Tensor\n",
    "            size (batch_size, 1, sentence_length, emb_dim)\n",
    "\n",
    "        Returns\n",
    "        -------\n",
    "        output : 2-D torch Tensor\n",
    "            size (batch_size, 1)\n",
    "        '''\n",
    "        # sim = []\n",
    "        # sim.append(self.distance(self.ap[0](x1), self.ap[0](x2)))\n",
    "\n",
    "        representation_x1 = self.ap[0](x1)\n",
    "        representation_x2 = self.ap[0](x2)\n",
    "\n",
    "        for i in range(self.layer_size):\n",
    "            x1, x2 = self.abcnn1[i](x1, x2)\n",
    "            x1 = self.conv[i](x1)\n",
    "            x2 = self.conv[i](x2)\n",
    "            # sim.append(self.distance(self.ap[i + 1](x1), self.ap[i + 1](x2)))\n",
    "            representation_x1 = torch.cat((representation_x1, self.ap[i + 1](x1)), 1)\n",
    "            representation_x2 = torch.cat((representation_x2, self.ap[i + 1](x2)), 1)\n",
    "            x1, x2 = self.abcnn2[i](x1, x2)\n",
    "\n",
    "        # sim_fc = torch.cat(sim, dim=1)\n",
    "        # output = self.fc(sim_fc)\n",
    "        return representation_x1, representation_x2\n",
    "\n",
    "\n",
    "class Abcnn1Portion(nn.Module):\n",
    "    '''Part of Abcnn1\n",
    "    '''\n",
    "\n",
    "    def __init__(self, in_dim, out_dim):\n",
    "        super(Abcnn1Portion, self).__init__()\n",
    "        self.batchNorm = nn.BatchNorm2d(2)\n",
    "        self.attention_feature_layer = nn.Linear(in_dim, out_dim)\n",
    "\n",
    "    def forward(self, x1, x2):\n",
    "        '''\n",
    "        1. compute attention matrix\n",
    "            attention_m : size (batch_size, sentence_length, sentence_length)\n",
    "        2. generate attention feature map(weight matrix are parameters of the model to be learned)\n",
    "            x_attention : size (batch_size, 1, sentence_length, emb_dim)\n",
    "        3. stack the representation feature map and attention feature map\n",
    "            x : size (batch_size, 2, sentence_length, emb_dim)\n",
    "        4. batch norm(not in paper)\n",
    "\n",
    "        Parameters\n",
    "        ----------\n",
    "        x1, x2 : 4-D torch Tensor\n",
    "            size (batch_size, 1, sentence_length, emb_dim)\n",
    "\n",
    "        Returns\n",
    "        -------\n",
    "        (x1, x2) : list of 4-D torch Tensor\n",
    "            size (batch_size, 2, sentence_length, emb_dim)\n",
    "        '''\n",
    "        #         print(x1.size())\n",
    "        #         print(x2.size())\n",
    "        attention_m = attention_matrix(x1, x2)\n",
    "        #         print(attention_m.size())\n",
    "\n",
    "        x1_attention = self.attention_feature_layer(attention_m.permute(0, 2, 1))\n",
    "        #         print(x1_attention.size())\n",
    "        x1_attention = x1_attention.unsqueeze(1)\n",
    "        x1 = torch.cat([x1, x1_attention], 1)\n",
    "\n",
    "        x2_attention = self.attention_feature_layer(attention_m)\n",
    "        x2_attention = x2_attention.unsqueeze(1)\n",
    "        x2 = torch.cat([x2, x2_attention], 1)\n",
    "\n",
    "        x1 = self.batchNorm(x1)\n",
    "        x2 = self.batchNorm(x2)\n",
    "\n",
    "        return (x1, x2)\n",
    "\n",
    "\n",
    "class Abcnn2Portion(nn.Module):\n",
    "    '''Part of Abcnn2\n",
    "    '''\n",
    "\n",
    "    def __init__(self, sentence_length, filter_width):\n",
    "        super(Abcnn2Portion, self).__init__()\n",
    "        self.wp = WpLayer(sentence_length, filter_width, True)\n",
    "\n",
    "    def forward(self, x1, x2):\n",
    "        '''\n",
    "        1. compute attention matrix\n",
    "            attention_m : size (batch_size, sentence_length + filter_width - 1, sentence_length + filter_width - 1)\n",
    "        2. sum all attention values for a unit to derive a single attention weight for that unit\n",
    "            x_a_conv : size (batch_size, sentence_length + filter_width - 1)\n",
    "        3. average pooling(w-ap)\n",
    "\n",
    "        Parameters\n",
    "        ----------\n",
    "        x1, x2 : 4-D torch Tensor\n",
    "            size (batch_size, 1, sentence_length + filter_width - 1, height)\n",
    "\n",
    "        Returns\n",
    "        -------\n",
    "        (x1, x2) : list of 4-D torch Tensor\n",
    "            size (batch_size, 1, sentence_length, height)\n",
    "        '''\n",
    "        attention_m = attention_matrix(x1, x2)\n",
    "        x1_a_conv = attention_m.sum(dim=1)\n",
    "        x2_a_conv = attention_m.sum(dim=2)\n",
    "        x1 = self.wp(x1, x1_a_conv)\n",
    "        x2 = self.wp(x2, x2_a_conv)\n",
    "\n",
    "        return (x1, x2)\n",
    "\n",
    "\n",
    "class InceptionModule(nn.Module):\n",
    "    '''\n",
    "    inception module(not in paper)\n",
    "    first layer width is filter_width(given)\n",
    "    second layer width is filter_width + 4\n",
    "    third layer width is sentence_length\n",
    "\n",
    "    this helps model to be learned(when the number of layers > 8)\n",
    "    '''\n",
    "\n",
    "    def __init__(self, in_channel, sentence_length, filter_width, filter_height, filter_channel):\n",
    "        super(InceptionModule, self).__init__()\n",
    "        self.conv_1 = convolution(in_channel, filter_width, filter_height,\n",
    "                                  int(filter_channel / 3) + filter_channel - 3 * int(filter_channel / 3),\n",
    "                                  filter_width - 1)\n",
    "        self.conv_2 = convolution(in_channel, filter_width + 4, filter_height, int(filter_channel / 3),\n",
    "                                  filter_width + 1)\n",
    "        self.conv_3 = convolution(in_channel, sentence_length, filter_height, int(filter_channel / 3),\n",
    "                                  int((sentence_length + filter_width - 2) / 2))\n",
    "\n",
    "    def forward(self, x):\n",
    "        out_1 = self.conv_1(x)\n",
    "        out_2 = self.conv_2(x)\n",
    "        out_3 = self.conv_3(x)\n",
    "        output = torch.cat([out_1, out_2, out_3], dim=1)\n",
    "        return output\n",
    "\n",
    "\n",
    "class ConvLayer(nn.Module):\n",
    "    '''\n",
    "    convolution layer for abcnn\n",
    "\n",
    "    Attributes\n",
    "    ----------\n",
    "    inception : bool\n",
    "        whether use inception module\n",
    "    '''\n",
    "\n",
    "    def __init__(self, isAbcnn2, sentence_length, filter_width, filter_height, filter_channel, inception):\n",
    "        super(ConvLayer, self).__init__()\n",
    "        if inception:\n",
    "            self.model = InceptionModule(1 if isAbcnn2 else 2, sentence_length, filter_width, filter_height,\n",
    "                                         filter_channel)\n",
    "        else:\n",
    "            self.model = convolution(1 if isAbcnn2 else 2, filter_width, filter_height, filter_channel,\n",
    "                                     filter_width - 1)\n",
    "\n",
    "    def forward(self, x):\n",
    "        '''\n",
    "        1. convlayer\n",
    "            size (batch_size, filter_channel, height, 1)\n",
    "        2. transpose\n",
    "            size (batch_size, 1, height, filter_channel)\n",
    "\n",
    "        Parameters\n",
    "        ----------\n",
    "        x : 4-D torch Tensor\n",
    "            size (batch_size, 1, height, width)\n",
    "\n",
    "        Returns\n",
    "        -------\n",
    "        output : 4-D torch Tensor\n",
    "            size (batch_size, 1, height, filter_channel)\n",
    "        '''\n",
    "        output = self.model(x)\n",
    "        output = output.permute(0, 3, 2, 1)\n",
    "        return output\n",
    "\n",
    "\n",
    "def cosine_similarity(x1, x2):\n",
    "    '''compute cosine similarity between x1 and x2\n",
    "\n",
    "    Parameters\n",
    "    ----------\n",
    "    x1, x2 : 2-D torch Tensor\n",
    "        size (batch_size, 1)\n",
    "\n",
    "    Returns\n",
    "    -------\n",
    "    distance : 2-D torch Tensor\n",
    "        similarity result of size (batch_size, 1)\n",
    "    '''\n",
    "    return F.cosine_similarity(x1, x2).unsqueeze(1)\n",
    "\n",
    "\n",
    "def manhattan_distance(x1, x2):\n",
    "    '''compute manhattan distance between x1 and x2 (not in paper)\n",
    "\n",
    "    Parameters\n",
    "    ----------\n",
    "    x1, x2 : 2-D torch Tensor\n",
    "        size (batch_size, 1)\n",
    "\n",
    "    Returns\n",
    "    -------\n",
    "    distance : 2-D torch Tensor\n",
    "        similarity result of size (batch_size, 1)\n",
    "    '''\n",
    "    return torch.div(torch.norm((x1 - x2), 1, 1, keepdim=True), x1.size()[1])\n",
    "\n",
    "\n",
    "def convolution(in_channel, filter_width, filter_height, filter_channel, padding):\n",
    "    '''convolution layer\n",
    "    '''\n",
    "    model = nn.Sequential(\n",
    "        nn.Conv2d(in_channel, filter_channel, (filter_width, filter_height), stride=1, padding=(padding, 0)),\n",
    "        nn.BatchNorm2d(filter_channel),\n",
    "        nn.Tanh()\n",
    "    )\n",
    "    return model\n",
    "\n",
    "\n",
    "def attention_matrix(x1, x2, eps=1e-6):\n",
    "    '''compute attention matrix using match score\n",
    "\n",
    "    1 / (1 + |x · y|)\n",
    "    |·| is euclidean distance\n",
    "\n",
    "    Parameters\n",
    "    ----------\n",
    "    x1, x2 : 4-D torch Tensor\n",
    "        size (batch_size, 1, sentence_length, width)\n",
    "\n",
    "    Returns\n",
    "    -------\n",
    "    output : 3-D torch Tensor\n",
    "        match score result of size (batch_size, sentence_length(for x2), sentence_length(for x1))\n",
    "    '''\n",
    "    # eps = torch.tensor(eps)\n",
    "    # one = torch.tensor(1.)\n",
    "    euclidean = (torch.pow(x1 - x2.permute(0, 2, 1, 3), 2).sum(dim=3) + eps).sqrt()\n",
    "    return (euclidean + 1.).reciprocal()\n",
    "\n",
    "\n",
    "class ApLayer(nn.Module):\n",
    "    '''column-wise averaging over all columns\n",
    "    '''\n",
    "\n",
    "    def __init__(self, width):\n",
    "        super(ApLayer, self).__init__()\n",
    "        self.ap = nn.AvgPool2d((1, width), stride=1)\n",
    "\n",
    "    def forward(self, x):\n",
    "        '''\n",
    "        1. average pooling\n",
    "            x size (batch_size, 1, sentence_length, 1)\n",
    "        2. representation vector for the sentence\n",
    "            output size (batch_size, sentence_length)\n",
    "\n",
    "        Parameters\n",
    "        ----------\n",
    "        x : 4-D torch Tensor\n",
    "            convolution output of size (batch_size, 1, sentence_length, width)\n",
    "\n",
    "        Returns\n",
    "        -------\n",
    "        output : 2-D torch Tensor\n",
    "            representation vector of size (batch_size, width)\n",
    "        '''\n",
    "        return self.ap(x).squeeze(1).squeeze(2)\n",
    "\n",
    "\n",
    "class WpLayer(nn.Module):\n",
    "    '''column-wise averaging over windows of w consecutive columns\n",
    "\n",
    "    Attributes\n",
    "    ----------\n",
    "    attention : bool\n",
    "        compute layer with attention matrix\n",
    "    '''\n",
    "\n",
    "    def __init__(self, sentence_length, filter_width, attention):\n",
    "        super(WpLayer, self).__init__()\n",
    "        self.attention = attention\n",
    "        if attention:\n",
    "            self.sentence_length = sentence_length\n",
    "            self.filter_width = filter_width\n",
    "        else:\n",
    "            self.wp = nn.AvgPool2d((filter_width, 1), stride=1)\n",
    "\n",
    "    def forward(self, x, attention_matrix=None):\n",
    "        '''\n",
    "        if attention\n",
    "            reweight the convolution output with attention matrix\n",
    "        else\n",
    "            average pooling\n",
    "\n",
    "        Parameters\n",
    "        ----------\n",
    "        x : 4-D torch Tensor\n",
    "            convolution output of size (batch_size, 1, sentence_length + filter_width - 1, height)\n",
    "        attention_matrix: 2-D torch Tensor\n",
    "            attention matrix between (convolution output x1 and convolution output x2) of size (batch_size, sentence_length + filter_width - 1)\n",
    "\n",
    "        Returns\n",
    "        -------\n",
    "        output : 4-D torch Tensor\n",
    "            size (batch_size, 1, sentence_length, height)\n",
    "        '''\n",
    "        if self.attention:\n",
    "            pools = []\n",
    "            attention_matrix = attention_matrix.unsqueeze(1).unsqueeze(3)\n",
    "            for i in range(self.sentence_length):\n",
    "                pools.append(\n",
    "                    (x[:, :, i:i + self.filter_width, :] * attention_matrix[:, :, i:i + self.filter_width, :]).sum(\n",
    "                        dim=2, keepdim=True))\n",
    "\n",
    "            return torch.cat(pools, dim=2)\n",
    "\n",
    "        else:\n",
    "            return self.wp(x)\n",
    "\n",
    "\n",
    "def weights_init(m):\n",
    "    classname = m.__class__.__name__\n",
    "    if classname.find('Conv') != -1 and classname.find('Layer') == -1:\n",
    "        nn.init.xavier_uniform_(m.weight)\n",
    "    elif classname.find('Linear') != -1:\n",
    "        nn.init.xavier_uniform_(m.weight)\n",
    "        nn.init.constant_(m.bias, 0.1)\n",
    "    elif classname.find('BatchNorm') != -1:\n",
    "        m.weight.data.normal_(1.0, 0.02)\n",
    "        m.bias.data.fill_(0)"
   ]
  },
  {
   "cell_type": "code",
   "execution_count": 19,
   "metadata": {},
   "outputs": [],
   "source": [
    "cnn_attr_summarizer_module = dm.modules.NoMeta(attr_summarization_abcnn())\n",
    "\n",
    "model = dm.MatchingModel(attr_summarizer=lambda: cnn_attr_summarizer_module, \n",
    "                         attr_comparator='abs-diff',\n",
    "                         classifier='3-layer-residual-relu')"
   ]
  },
  {
   "cell_type": "code",
   "execution_count": 20,
   "metadata": {},
   "outputs": [
    {
     "name": "stdout",
     "output_type": "stream",
     "text": [
      "* Number of trainable parameters: 2755214\n",
      "===>  TRAIN Epoch 1\n"
     ]
    },
    {
     "name": "stderr",
     "output_type": "stream",
     "text": [
      "0% [█████████████████████████████] 100% | ETA: 00:00:00\n",
      "Total time elapsed: 00:04:23\n"
     ]
    },
    {
     "name": "stdout",
     "output_type": "stream",
     "text": [
      "Finished Epoch 1 || Run Time:  265.0 | Load Time:    7.2 || F1:  93.17 | Prec:  88.63 | Rec:  98.21 || Ex/s:  27.25\n",
      "\n",
      "===>  EVAL Epoch 1\n"
     ]
    },
    {
     "name": "stderr",
     "output_type": "stream",
     "text": [
      "0% [██████████] 100% | ETA: 00:00:00\n",
      "Total time elapsed: 00:00:39\n"
     ]
    },
    {
     "name": "stdout",
     "output_type": "stream",
     "text": [
      "Finished Epoch 1 || Run Time:   37.0 | Load Time:    2.3 || F1:  92.59 | Prec:  87.99 | Rec:  97.70 || Ex/s:  63.00\n",
      "\n",
      "* Best F1: 92.5925925925926\n",
      "Saving best model...\n",
      "Done.\n",
      "---------------------\n",
      "\n",
      "===>  TRAIN Epoch 2\n"
     ]
    },
    {
     "name": "stderr",
     "output_type": "stream",
     "text": [
      "0% [█████████████████████████████] 100% | ETA: 00:00:00\n",
      "Total time elapsed: 00:04:24\n"
     ]
    },
    {
     "name": "stdout",
     "output_type": "stream",
     "text": [
      "Finished Epoch 2 || Run Time:  265.5 | Load Time:    7.2 || F1:  94.56 | Prec:  90.41 | Rec:  99.10 || Ex/s:  27.19\n",
      "\n",
      "===>  EVAL Epoch 2\n"
     ]
    },
    {
     "name": "stderr",
     "output_type": "stream",
     "text": [
      "0% [██████████] 100% | ETA: 00:00:00\n",
      "Total time elapsed: 00:00:39\n"
     ]
    },
    {
     "name": "stdout",
     "output_type": "stream",
     "text": [
      "Finished Epoch 2 || Run Time:   37.2 | Load Time:    2.3 || F1:  95.67 | Prec:  94.81 | Rec:  96.55 || Ex/s:  62.55\n",
      "\n",
      "* Best F1: 95.67198177676538\n",
      "Saving best model...\n",
      "Done.\n",
      "---------------------\n",
      "\n",
      "===>  TRAIN Epoch 3\n"
     ]
    },
    {
     "name": "stderr",
     "output_type": "stream",
     "text": [
      "0% [█████████████████████████████] 100% | ETA: 00:00:00\n",
      "Total time elapsed: 00:04:27\n"
     ]
    },
    {
     "name": "stdout",
     "output_type": "stream",
     "text": [
      "Finished Epoch 3 || Run Time:  268.3 | Load Time:    7.4 || F1:  96.61 | Prec:  93.97 | Rec:  99.40 || Ex/s:  26.90\n",
      "\n",
      "===>  EVAL Epoch 3\n"
     ]
    },
    {
     "name": "stderr",
     "output_type": "stream",
     "text": [
      "0% [██████████] 100% | ETA: 00:00:00\n",
      "Total time elapsed: 00:00:39\n"
     ]
    },
    {
     "name": "stdout",
     "output_type": "stream",
     "text": [
      "Finished Epoch 3 || Run Time:   37.2 | Load Time:    2.4 || F1:  95.97 | Prec:  93.46 | Rec:  98.62 || Ex/s:  62.54\n",
      "\n",
      "* Best F1: 95.97315436241611\n",
      "Saving best model...\n",
      "Done.\n",
      "---------------------\n",
      "\n",
      "===>  TRAIN Epoch 4\n"
     ]
    },
    {
     "name": "stderr",
     "output_type": "stream",
     "text": [
      "0% [█████████████████████████████] 100% | ETA: 00:00:00\n",
      "Total time elapsed: 00:04:27\n"
     ]
    },
    {
     "name": "stdout",
     "output_type": "stream",
     "text": [
      "Finished Epoch 4 || Run Time:  268.3 | Load Time:    7.4 || F1:  97.94 | Prec:  96.23 | Rec:  99.70 || Ex/s:  26.90\n",
      "\n",
      "===>  EVAL Epoch 4\n"
     ]
    },
    {
     "name": "stderr",
     "output_type": "stream",
     "text": [
      "0% [██████████] 100% | ETA: 00:00:00\n",
      "Total time elapsed: 00:00:39\n"
     ]
    },
    {
     "name": "stdout",
     "output_type": "stream",
     "text": [
      "Finished Epoch 4 || Run Time:   37.0 | Load Time:    2.3 || F1:  96.86 | Prec:  94.53 | Rec:  99.31 || Ex/s:  62.88\n",
      "\n",
      "* Best F1: 96.86098654708519\n",
      "Saving best model...\n",
      "Done.\n",
      "---------------------\n",
      "\n",
      "===>  TRAIN Epoch 5\n"
     ]
    },
    {
     "name": "stderr",
     "output_type": "stream",
     "text": [
      "0% [█████████████████████████████] 100% | ETA: 00:00:00\n",
      "Total time elapsed: 00:04:26\n"
     ]
    },
    {
     "name": "stdout",
     "output_type": "stream",
     "text": [
      "Finished Epoch 5 || Run Time:  267.9 | Load Time:    7.5 || F1:  98.41 | Prec:  97.01 | Rec:  99.85 || Ex/s:  26.94\n",
      "\n",
      "===>  EVAL Epoch 5\n"
     ]
    },
    {
     "name": "stderr",
     "output_type": "stream",
     "text": [
      "0% [██████████] 100% | ETA: 00:00:00\n",
      "Total time elapsed: 00:00:39\n"
     ]
    },
    {
     "name": "stdout",
     "output_type": "stream",
     "text": [
      "Finished Epoch 5 || Run Time:   37.0 | Load Time:    2.3 || F1:  96.75 | Prec:  94.32 | Rec:  99.31 || Ex/s:  62.89\n",
      "\n",
      "---------------------\n",
      "\n",
      "===>  TRAIN Epoch 6\n"
     ]
    },
    {
     "name": "stderr",
     "output_type": "stream",
     "text": [
      "0% [█████████████████████████████] 100% | ETA: 00:00:00\n",
      "Total time elapsed: 00:04:26\n"
     ]
    },
    {
     "name": "stdout",
     "output_type": "stream",
     "text": [
      "Finished Epoch 6 || Run Time:  267.3 | Load Time:    7.3 || F1:  98.96 | Prec:  97.94 | Rec: 100.00 || Ex/s:  27.00\n",
      "\n",
      "===>  EVAL Epoch 6\n"
     ]
    },
    {
     "name": "stderr",
     "output_type": "stream",
     "text": [
      "0% [██████████] 100% | ETA: 00:00:00\n",
      "Total time elapsed: 00:00:39\n"
     ]
    },
    {
     "name": "stdout",
     "output_type": "stream",
     "text": [
      "Finished Epoch 6 || Run Time:   37.2 | Load Time:    2.4 || F1:  97.19 | Prec:  94.96 | Rec:  99.54 || Ex/s:  62.43\n",
      "\n",
      "* Best F1: 97.19416386083053\n",
      "Saving best model...\n",
      "Done.\n",
      "---------------------\n",
      "\n",
      "===>  TRAIN Epoch 7\n"
     ]
    },
    {
     "name": "stderr",
     "output_type": "stream",
     "text": [
      "0% [█████████████████████████████] 100% | ETA: 00:00:00\n",
      "Total time elapsed: 00:04:26\n"
     ]
    },
    {
     "name": "stdout",
     "output_type": "stream",
     "text": [
      "Finished Epoch 7 || Run Time:  268.1 | Load Time:    7.5 || F1:  99.03 | Prec:  98.09 | Rec: 100.00 || Ex/s:  26.92\n",
      "\n",
      "===>  EVAL Epoch 7\n"
     ]
    },
    {
     "name": "stderr",
     "output_type": "stream",
     "text": [
      "0% [██████████] 100% | ETA: 00:00:00\n",
      "Total time elapsed: 00:00:39\n"
     ]
    },
    {
     "name": "stdout",
     "output_type": "stream",
     "text": [
      "Finished Epoch 7 || Run Time:   37.1 | Load Time:    2.3 || F1:  97.42 | Prec:  95.18 | Rec:  99.77 || Ex/s:  62.66\n",
      "\n",
      "* Best F1: 97.4186307519641\n",
      "Saving best model...\n",
      "Done.\n",
      "---------------------\n",
      "\n",
      "===>  TRAIN Epoch 8\n"
     ]
    },
    {
     "name": "stderr",
     "output_type": "stream",
     "text": [
      "0% [█████████████████████████████] 100% | ETA: 00:00:00\n",
      "Total time elapsed: 00:04:25\n"
     ]
    },
    {
     "name": "stdout",
     "output_type": "stream",
     "text": [
      "Finished Epoch 8 || Run Time:  266.9 | Load Time:    7.3 || F1:  99.22 | Prec:  98.45 | Rec: 100.00 || Ex/s:  27.04\n",
      "\n",
      "===>  EVAL Epoch 8\n"
     ]
    },
    {
     "name": "stderr",
     "output_type": "stream",
     "text": [
      "0% [██████████] 100% | ETA: 00:00:00\n",
      "Total time elapsed: 00:00:39\n"
     ]
    },
    {
     "name": "stdout",
     "output_type": "stream",
     "text": [
      "Finished Epoch 8 || Run Time:   37.0 | Load Time:    2.3 || F1:  97.53 | Prec:  95.38 | Rec:  99.77 || Ex/s:  62.90\n",
      "\n",
      "* Best F1: 97.52808988764043\n",
      "Saving best model...\n",
      "Done.\n",
      "---------------------\n",
      "\n",
      "===>  TRAIN Epoch 9\n"
     ]
    },
    {
     "name": "stderr",
     "output_type": "stream",
     "text": [
      "0% [█████████████████████████████] 100% | ETA: 00:00:00\n",
      "Total time elapsed: 00:04:24\n"
     ]
    },
    {
     "name": "stdout",
     "output_type": "stream",
     "text": [
      "Finished Epoch 9 || Run Time:  265.1 | Load Time:    7.3 || F1:  99.25 | Prec:  98.52 | Rec: 100.00 || Ex/s:  27.23\n",
      "\n",
      "===>  EVAL Epoch 9\n"
     ]
    },
    {
     "name": "stderr",
     "output_type": "stream",
     "text": [
      "0% [██████████] 100% | ETA: 00:00:00\n",
      "Total time elapsed: 00:00:39\n"
     ]
    },
    {
     "name": "stdout",
     "output_type": "stream",
     "text": [
      "Finished Epoch 9 || Run Time:   36.9 | Load Time:    2.3 || F1:  97.75 | Prec:  95.60 | Rec: 100.00 || Ex/s:  63.09\n",
      "\n",
      "* Best F1: 97.75280898876404\n",
      "Saving best model...\n",
      "Done.\n",
      "---------------------\n",
      "\n",
      "===>  TRAIN Epoch 10\n"
     ]
    },
    {
     "name": "stderr",
     "output_type": "stream",
     "text": [
      "0% [█████████████████████████████] 100% | ETA: 00:00:00\n",
      "Total time elapsed: 00:04:23\n"
     ]
    },
    {
     "name": "stdout",
     "output_type": "stream",
     "text": [
      "Finished Epoch 10 || Run Time:  265.1 | Load Time:    7.2 || F1:  99.29 | Prec:  98.59 | Rec: 100.00 || Ex/s:  27.23\n",
      "\n",
      "===>  EVAL Epoch 10\n"
     ]
    },
    {
     "name": "stderr",
     "output_type": "stream",
     "text": [
      "0% [██████████] 100% | ETA: 00:00:00\n",
      "Total time elapsed: 00:00:39\n"
     ]
    },
    {
     "name": "stdout",
     "output_type": "stream",
     "text": [
      "Finished Epoch 10 || Run Time:   37.0 | Load Time:    2.3 || F1:  97.86 | Prec:  95.81 | Rec: 100.00 || Ex/s:  62.99\n",
      "\n",
      "* Best F1: 97.86276715410574\n",
      "Saving best model...\n",
      "Done.\n",
      "---------------------\n",
      "\n",
      "===>  TRAIN Epoch 11\n"
     ]
    },
    {
     "name": "stderr",
     "output_type": "stream",
     "text": [
      "0% [█████████████████████████████] 100% | ETA: 00:00:00\n",
      "Total time elapsed: 00:04:23\n"
     ]
    },
    {
     "name": "stdout",
     "output_type": "stream",
     "text": [
      "Finished Epoch 11 || Run Time:  265.0 | Load Time:    7.2 || F1:  99.37 | Prec:  98.74 | Rec: 100.00 || Ex/s:  27.24\n",
      "\n",
      "===>  EVAL Epoch 11\n"
     ]
    },
    {
     "name": "stderr",
     "output_type": "stream",
     "text": [
      "0% [██████████] 100% | ETA: 00:00:00\n",
      "Total time elapsed: 00:00:39\n"
     ]
    },
    {
     "name": "stdout",
     "output_type": "stream",
     "text": [
      "Finished Epoch 11 || Run Time:   36.9 | Load Time:    2.3 || F1:  97.86 | Prec:  95.81 | Rec: 100.00 || Ex/s:  63.12\n",
      "\n",
      "---------------------\n",
      "\n",
      "===>  TRAIN Epoch 12\n"
     ]
    },
    {
     "name": "stderr",
     "output_type": "stream",
     "text": [
      "0% [█████████████████████████████] 100% | ETA: 00:00:00\n",
      "Total time elapsed: 00:04:23\n"
     ]
    },
    {
     "name": "stdout",
     "output_type": "stream",
     "text": [
      "Finished Epoch 12 || Run Time:  265.0 | Load Time:    7.2 || F1:  99.37 | Prec:  98.74 | Rec: 100.00 || Ex/s:  27.24\n",
      "\n",
      "===>  EVAL Epoch 12\n"
     ]
    },
    {
     "name": "stderr",
     "output_type": "stream",
     "text": [
      "0% [██████████] 100% | ETA: 00:00:00\n",
      "Total time elapsed: 00:00:39\n"
     ]
    },
    {
     "name": "stdout",
     "output_type": "stream",
     "text": [
      "Finished Epoch 12 || Run Time:   36.9 | Load Time:    2.3 || F1:  98.08 | Prec:  96.24 | Rec: 100.00 || Ex/s:  63.09\n",
      "\n",
      "* Best F1: 98.08342728297632\n",
      "Saving best model...\n",
      "Done.\n",
      "---------------------\n",
      "\n",
      "===>  TRAIN Epoch 13\n"
     ]
    },
    {
     "name": "stderr",
     "output_type": "stream",
     "text": [
      "0% [█████████████████████████████] 100% | ETA: 00:00:00\n",
      "Total time elapsed: 00:04:24\n"
     ]
    },
    {
     "name": "stdout",
     "output_type": "stream",
     "text": [
      "Finished Epoch 13 || Run Time:  265.4 | Load Time:    7.2 || F1:  99.44 | Prec:  98.89 | Rec: 100.00 || Ex/s:  27.21\n",
      "\n",
      "===>  EVAL Epoch 13\n"
     ]
    },
    {
     "name": "stderr",
     "output_type": "stream",
     "text": [
      "0% [██████████] 100% | ETA: 00:00:00\n",
      "Total time elapsed: 00:00:39\n"
     ]
    },
    {
     "name": "stdout",
     "output_type": "stream",
     "text": [
      "Finished Epoch 13 || Run Time:   37.0 | Load Time:    2.3 || F1:  98.19 | Prec:  96.45 | Rec: 100.00 || Ex/s:  62.99\n",
      "\n",
      "* Best F1: 98.19413092550792\n",
      "Saving best model...\n",
      "Done.\n",
      "---------------------\n",
      "\n",
      "===>  TRAIN Epoch 14\n"
     ]
    },
    {
     "name": "stderr",
     "output_type": "stream",
     "text": [
      "0% [█████████████████████████████] 100% | ETA: 00:00:00\n",
      "Total time elapsed: 00:04:24\n"
     ]
    },
    {
     "name": "stdout",
     "output_type": "stream",
     "text": [
      "Finished Epoch 14 || Run Time:  265.3 | Load Time:    7.2 || F1:  99.44 | Prec:  98.89 | Rec: 100.00 || Ex/s:  27.21\n",
      "\n",
      "===>  EVAL Epoch 14\n"
     ]
    },
    {
     "name": "stderr",
     "output_type": "stream",
     "text": [
      "0% [██████████] 100% | ETA: 00:00:00\n",
      "Total time elapsed: 00:00:39\n"
     ]
    },
    {
     "name": "stdout",
     "output_type": "stream",
     "text": [
      "Finished Epoch 14 || Run Time:   36.8 | Load Time:    2.3 || F1:  98.19 | Prec:  96.45 | Rec: 100.00 || Ex/s:  63.20\n",
      "\n",
      "---------------------\n",
      "\n",
      "===>  TRAIN Epoch 15\n"
     ]
    },
    {
     "name": "stderr",
     "output_type": "stream",
     "text": [
      "0% [█████████████████████████████] 100% | ETA: 00:00:00\n",
      "Total time elapsed: 00:04:24\n"
     ]
    },
    {
     "name": "stdout",
     "output_type": "stream",
     "text": [
      "Finished Epoch 15 || Run Time:  265.3 | Load Time:    7.2 || F1:  99.48 | Prec:  98.96 | Rec: 100.00 || Ex/s:  27.21\n",
      "\n",
      "===>  EVAL Epoch 15\n"
     ]
    },
    {
     "name": "stderr",
     "output_type": "stream",
     "text": [
      "0% [██████████] 100% | ETA: 00:00:00\n",
      "Total time elapsed: 00:00:39\n"
     ]
    },
    {
     "name": "stdout",
     "output_type": "stream",
     "text": [
      "Finished Epoch 15 || Run Time:   36.9 | Load Time:    2.3 || F1:  98.19 | Prec:  96.45 | Rec: 100.00 || Ex/s:  63.04\n",
      "\n",
      "---------------------\n",
      "\n",
      "Loading best model...\n",
      "Training done.\n"
     ]
    },
    {
     "data": {
      "text/plain": [
       "98.19413092550792"
      ]
     },
     "execution_count": 20,
     "metadata": {},
     "output_type": "execute_result"
    }
   ],
   "source": [
    "model.run_train(\n",
    "    train,\n",
    "    validation,\n",
    "    epochs=15,\n",
    "    batch_size=50,\n",
    "    best_save_path='cnn_model.pth',\n",
    "    pos_neg_ratio=6)"
   ]
  },
  {
   "cell_type": "code",
   "execution_count": 21,
   "metadata": {},
   "outputs": [
    {
     "name": "stdout",
     "output_type": "stream",
     "text": [
      "===>  EVAL Epoch 13\n"
     ]
    },
    {
     "name": "stderr",
     "output_type": "stream",
     "text": [
      "0% [███████████████] 100% | ETA: 00:00:00\n",
      "Total time elapsed: 00:00:35\n"
     ]
    },
    {
     "name": "stdout",
     "output_type": "stream",
     "text": [
      "Finished Epoch 13 || Run Time:   34.8 | Load Time:    2.3 || F1:  98.10 | Prec:  96.27 | Rec: 100.00 || Ex/s:  66.74\n",
      "\n"
     ]
    },
    {
     "data": {
      "text/plain": [
       "98.0995567330718"
      ]
     },
     "execution_count": 21,
     "metadata": {},
     "output_type": "execute_result"
    }
   ],
   "source": [
    "model.run_eval(test)"
   ]
  }
 ],
 "metadata": {
  "kernelspec": {
   "display_name": "Python 3",
   "language": "python",
   "name": "python3"
  },
  "language_info": {
   "codemirror_mode": {
    "name": "ipython",
    "version": 3
   },
   "file_extension": ".py",
   "mimetype": "text/x-python",
   "name": "python",
   "nbconvert_exporter": "python",
   "pygments_lexer": "ipython3",
   "version": "3.6.6"
  }
 },
 "nbformat": 4,
 "nbformat_minor": 2
}
