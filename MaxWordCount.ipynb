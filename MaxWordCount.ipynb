{
 "cells": [
  {
   "cell_type": "code",
   "execution_count": 1,
   "metadata": {},
   "outputs": [],
   "source": [
    "import numpy as np\n",
    "import csv"
   ]
  },
  {
   "cell_type": "code",
   "execution_count": 2,
   "metadata": {},
   "outputs": [],
   "source": [
    "path='evaluation_data/dblp_scholar'"
   ]
  },
  {
   "cell_type": "code",
   "execution_count": 3,
   "metadata": {},
   "outputs": [],
   "source": [
    "max_word_count = 0"
   ]
  },
  {
   "cell_type": "code",
   "execution_count": 4,
   "metadata": {},
   "outputs": [],
   "source": [
    "csv_file = open(path + '/train.csv', \"r\")\n",
    "reader = csv.reader(csv_file)\n",
    "for item in reader:\n",
    "    for attr in item:\n",
    "        if max_word_count < len(attr.split(' ')):\n",
    "            max_word_count = len(attr.split(' '))\n",
    "csv_file.close()"
   ]
  },
  {
   "cell_type": "code",
   "execution_count": 5,
   "metadata": {},
   "outputs": [],
   "source": [
    "csv_file = open(path + '/validation.csv', \"r\")\n",
    "reader = csv.reader(csv_file)\n",
    "for item in reader:\n",
    "    for attr in item:\n",
    "        if max_word_count < len(attr.split(' ')):\n",
    "            max_word_count = len(attr.split(' '))\n",
    "csv_file.close()"
   ]
  },
  {
   "cell_type": "code",
   "execution_count": 6,
   "metadata": {},
   "outputs": [],
   "source": [
    "csv_file = open(path + '/test.csv', \"r\")\n",
    "reader = csv.reader(csv_file)\n",
    "for item in reader:\n",
    "    for attr in item:\n",
    "        if max_word_count < len(attr.split(' ')):\n",
    "            max_word_count = len(attr.split(' '))\n",
    "csv_file.close()"
   ]
  },
  {
   "cell_type": "code",
   "execution_count": 7,
   "metadata": {},
   "outputs": [
    {
     "name": "stdout",
     "output_type": "stream",
     "text": [
      "69\n"
     ]
    }
   ],
   "source": [
    "print(max_word_count)"
   ]
  }
 ],
 "metadata": {
  "kernelspec": {
   "display_name": "Python 3",
   "language": "python",
   "name": "python3"
  },
  "language_info": {
   "codemirror_mode": {
    "name": "ipython",
    "version": 3
   },
   "file_extension": ".py",
   "mimetype": "text/x-python",
   "name": "python",
   "nbconvert_exporter": "python",
   "pygments_lexer": "ipython3",
   "version": "3.6.6"
  }
 },
 "nbformat": 4,
 "nbformat_minor": 2
}
