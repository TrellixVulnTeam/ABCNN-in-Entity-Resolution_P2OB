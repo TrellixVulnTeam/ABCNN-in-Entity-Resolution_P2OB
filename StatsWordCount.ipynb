{
 "cells": [
  {
   "cell_type": "code",
   "execution_count": 1,
   "metadata": {},
   "outputs": [],
   "source": [
    "import numpy as np\n",
    "import csv"
   ]
  },
  {
   "cell_type": "code",
   "execution_count": 2,
   "metadata": {},
   "outputs": [],
   "source": [
    "path='evaluation_data/dblp_acm'"
   ]
  },
  {
   "cell_type": "code",
   "execution_count": 3,
   "metadata": {},
   "outputs": [],
   "source": [
    "word_count_dict = {}\n",
    "total_number_of_cell = 0\n",
    "word_list = []"
   ]
  },
  {
   "cell_type": "code",
   "execution_count": 4,
   "metadata": {},
   "outputs": [],
   "source": [
    "csv_file = open(path + '/train.csv', \"r\")\n",
    "reader = csv.reader(csv_file)\n",
    "for item in reader:\n",
    "    for attr in item:\n",
    "        total_number_of_cell += 1\n",
    "        temp_length = len(attr.split(' '))\n",
    "        if temp_length in word_count_dict:\n",
    "            word_count_dict[temp_length] += 1\n",
    "        else:\n",
    "            word_count_dict[temp_length] = 1\n",
    "        word_list.append(temp_length)\n",
    "csv_file.close()"
   ]
  },
  {
   "cell_type": "code",
   "execution_count": 5,
   "metadata": {},
   "outputs": [],
   "source": [
    "csv_file = open(path + '/validation.csv', \"r\")\n",
    "reader = csv.reader(csv_file)\n",
    "for item in reader:\n",
    "    for attr in item:\n",
    "        total_number_of_cell += 1\n",
    "        temp_length = len(attr.split(' '))\n",
    "        if temp_length in word_count_dict:\n",
    "            word_count_dict[temp_length] += 1\n",
    "        else:\n",
    "            word_count_dict[temp_length] = 1\n",
    "        word_list.append(temp_length)\n",
    "csv_file.close()"
   ]
  },
  {
   "cell_type": "code",
   "execution_count": 6,
   "metadata": {},
   "outputs": [],
   "source": [
    "csv_file = open(path + '/test.csv', \"r\")\n",
    "reader = csv.reader(csv_file)\n",
    "for item in reader:\n",
    "    for attr in item:\n",
    "        total_number_of_cell += 1\n",
    "        temp_length = len(attr.split(' '))\n",
    "        if temp_length in word_count_dict:\n",
    "            word_count_dict[temp_length] += 1\n",
    "        else:\n",
    "            word_count_dict[temp_length] = 1\n",
    "        word_list.append(temp_length)\n",
    "csv_file.close()"
   ]
  },
  {
   "cell_type": "code",
   "execution_count": 7,
   "metadata": {},
   "outputs": [
    {
     "data": {
      "text/plain": [
       "111294"
      ]
     },
     "execution_count": 7,
     "metadata": {},
     "output_type": "execute_result"
    }
   ],
   "source": [
    "total_number_of_cell"
   ]
  },
  {
   "cell_type": "code",
   "execution_count": 8,
   "metadata": {},
   "outputs": [],
   "source": [
    "count_list = []\n",
    "for key in word_count_dict:\n",
    "    count_list.append((int(key), word_count_dict[key]))"
   ]
  },
  {
   "cell_type": "code",
   "execution_count": 9,
   "metadata": {},
   "outputs": [],
   "source": [
    "count_list.sort()"
   ]
  },
  {
   "cell_type": "code",
   "execution_count": 10,
   "metadata": {},
   "outputs": [
    {
     "data": {
      "text/plain": [
       "[(1, 41084),\n",
       " (2, 11926),\n",
       " (3, 5133),\n",
       " (4, 4844),\n",
       " (5, 6410),\n",
       " (6, 10981),\n",
       " (7, 4251),\n",
       " (8, 7187),\n",
       " (9, 4353),\n",
       " (10, 3137),\n",
       " (11, 2842),\n",
       " (12, 3225),\n",
       " (13, 1183),\n",
       " (14, 1206),\n",
       " (15, 510),\n",
       " (16, 501),\n",
       " (17, 633),\n",
       " (18, 240),\n",
       " (19, 233),\n",
       " (20, 193),\n",
       " (21, 158),\n",
       " (22, 124),\n",
       " (23, 236),\n",
       " (24, 58),\n",
       " (25, 46),\n",
       " (26, 64),\n",
       " (27, 65),\n",
       " (28, 35),\n",
       " (29, 31),\n",
       " (30, 37),\n",
       " (31, 32),\n",
       " (32, 38),\n",
       " (33, 23),\n",
       " (34, 2),\n",
       " (35, 34),\n",
       " (36, 49),\n",
       " (37, 19),\n",
       " (38, 13),\n",
       " (39, 6),\n",
       " (40, 1),\n",
       " (42, 1),\n",
       " (43, 2),\n",
       " (44, 14),\n",
       " (45, 4),\n",
       " (46, 6),\n",
       " (47, 7),\n",
       " (48, 48),\n",
       " (50, 32),\n",
       " (51, 7),\n",
       " (55, 7),\n",
       " (56, 6),\n",
       " (57, 2),\n",
       " (63, 8),\n",
       " (64, 5),\n",
       " (66, 2)]"
      ]
     },
     "execution_count": 10,
     "metadata": {},
     "output_type": "execute_result"
    }
   ],
   "source": [
    "count_list"
   ]
  }
 ],
 "metadata": {
  "kernelspec": {
   "display_name": "Python 3",
   "language": "python",
   "name": "python3"
  },
  "language_info": {
   "codemirror_mode": {
    "name": "ipython",
    "version": 3
   },
   "file_extension": ".py",
   "mimetype": "text/x-python",
   "name": "python",
   "nbconvert_exporter": "python",
   "pygments_lexer": "ipython3",
   "version": "3.6.6"
  }
 },
 "nbformat": 4,
 "nbformat_minor": 2
}
