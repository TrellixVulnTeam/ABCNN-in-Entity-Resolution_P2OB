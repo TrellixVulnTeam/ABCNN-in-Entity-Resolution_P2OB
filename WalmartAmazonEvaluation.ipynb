{
 "cells": [
  {
   "cell_type": "code",
   "execution_count": 1,
   "metadata": {},
   "outputs": [],
   "source": [
    "import deepmatcher as dm\n",
    "import torch\n",
    "import pandas as pd"
   ]
  },
  {
   "cell_type": "code",
   "execution_count": 2,
   "metadata": {},
   "outputs": [
    {
     "data": {
      "text/plain": [
       "True"
      ]
     },
     "execution_count": 2,
     "metadata": {},
     "output_type": "execute_result"
    }
   ],
   "source": [
    "torch.cuda.is_available()"
   ]
  },
  {
   "cell_type": "code",
   "execution_count": 3,
   "metadata": {},
   "outputs": [],
   "source": [
    "# Data processing and embedding\n",
    "train, validation, test = dm.data.process(\n",
    "    path='evaluation_data/walmart_amazon',\n",
    "    train='train.csv',\n",
    "    validation='validation.csv',\n",
    "    test='test.csv')"
   ]
  },
  {
   "cell_type": "code",
   "execution_count": 4,
   "metadata": {},
   "outputs": [
    {
     "name": "stdout",
     "output_type": "stream",
     "text": [
      "* Number of trainable parameters: 542402\n",
      "===>  TRAIN Epoch 1\n"
     ]
    },
    {
     "name": "stderr",
     "output_type": "stream",
     "text": [
      "0% [████████████████████████] 100% | ETA: 00:00:00\n",
      "Total time elapsed: 00:00:04\n"
     ]
    },
    {
     "name": "stdout",
     "output_type": "stream",
     "text": [
      "Finished Epoch 1 || Run Time:    0.9 | Load Time:    3.7 || F1:  18.26 | Prec:  10.06 | Rec:  98.61 || Ex/s: 1344.35\n",
      "\n",
      "===>  EVAL Epoch 1\n"
     ]
    },
    {
     "name": "stderr",
     "output_type": "stream",
     "text": [
      "0% [████████] 100% | ETA: 00:00:00\n",
      "Total time elapsed: 00:00:01\n"
     ]
    },
    {
     "name": "stdout",
     "output_type": "stream",
     "text": [
      "Finished Epoch 1 || Run Time:    0.1 | Load Time:    1.2 || F1:  20.86 | Prec:  11.66 | Rec:  98.45 || Ex/s: 1525.56\n",
      "\n",
      "* Best F1: 20.85620197585071\n",
      "Saving best model...\n",
      "Done.\n",
      "---------------------\n",
      "\n",
      "===>  TRAIN Epoch 2\n"
     ]
    },
    {
     "name": "stderr",
     "output_type": "stream",
     "text": [
      "0% [████████████████████████] 100% | ETA: 00:00:00\n",
      "Total time elapsed: 00:00:04\n"
     ]
    },
    {
     "name": "stdout",
     "output_type": "stream",
     "text": [
      "Finished Epoch 2 || Run Time:    0.9 | Load Time:    3.8 || F1:  24.82 | Prec:  14.30 | Rec:  94.10 || Ex/s: 1321.44\n",
      "\n",
      "===>  EVAL Epoch 2\n"
     ]
    },
    {
     "name": "stderr",
     "output_type": "stream",
     "text": [
      "0% [████████] 100% | ETA: 00:00:00\n",
      "Total time elapsed: 00:00:01\n"
     ]
    },
    {
     "name": "stdout",
     "output_type": "stream",
     "text": [
      "Finished Epoch 2 || Run Time:    0.1 | Load Time:    1.3 || F1:  26.67 | Prec:  15.47 | Rec:  96.37 || Ex/s: 1385.80\n",
      "\n",
      "* Best F1: 26.666666666666668\n",
      "Saving best model...\n",
      "Done.\n",
      "---------------------\n",
      "\n",
      "===>  TRAIN Epoch 3\n"
     ]
    },
    {
     "name": "stderr",
     "output_type": "stream",
     "text": [
      "0% [████████████████████████] 100% | ETA: 00:00:00\n",
      "Total time elapsed: 00:00:04\n"
     ]
    },
    {
     "name": "stdout",
     "output_type": "stream",
     "text": [
      "Finished Epoch 3 || Run Time:    0.9 | Load Time:    3.7 || F1:  32.88 | Prec:  19.89 | Rec:  94.79 || Ex/s: 1337.65\n",
      "\n",
      "===>  EVAL Epoch 3\n"
     ]
    },
    {
     "name": "stderr",
     "output_type": "stream",
     "text": [
      "0% [████████] 100% | ETA: 00:00:00\n",
      "Total time elapsed: 00:00:01\n"
     ]
    },
    {
     "name": "stdout",
     "output_type": "stream",
     "text": [
      "Finished Epoch 3 || Run Time:    0.1 | Load Time:    1.2 || F1:  32.61 | Prec:  19.93 | Rec:  89.64 || Ex/s: 1539.08\n",
      "\n",
      "* Best F1: 32.61074458058435\n",
      "Saving best model...\n",
      "Done.\n",
      "---------------------\n",
      "\n",
      "===>  TRAIN Epoch 4\n"
     ]
    },
    {
     "name": "stderr",
     "output_type": "stream",
     "text": [
      "0% [████████████████████████] 100% | ETA: 00:00:00\n",
      "Total time elapsed: 00:00:04\n"
     ]
    },
    {
     "name": "stdout",
     "output_type": "stream",
     "text": [
      "Finished Epoch 4 || Run Time:    0.9 | Load Time:    3.7 || F1:  43.12 | Prec:  27.87 | Rec:  95.14 || Ex/s: 1344.22\n",
      "\n",
      "===>  EVAL Epoch 4\n"
     ]
    },
    {
     "name": "stderr",
     "output_type": "stream",
     "text": [
      "0% [████████] 100% | ETA: 00:00:00\n",
      "Total time elapsed: 00:00:01\n"
     ]
    },
    {
     "name": "stdout",
     "output_type": "stream",
     "text": [
      "Finished Epoch 4 || Run Time:    0.1 | Load Time:    1.2 || F1:  38.94 | Prec:  25.39 | Rec:  83.42 || Ex/s: 1532.10\n",
      "\n",
      "* Best F1: 38.93591293833132\n",
      "Saving best model...\n",
      "Done.\n",
      "---------------------\n",
      "\n",
      "===>  TRAIN Epoch 5\n"
     ]
    },
    {
     "name": "stderr",
     "output_type": "stream",
     "text": [
      "0% [████████████████████████] 100% | ETA: 00:00:00\n",
      "Total time elapsed: 00:00:04\n"
     ]
    },
    {
     "name": "stdout",
     "output_type": "stream",
     "text": [
      "Finished Epoch 5 || Run Time:    0.9 | Load Time:    3.7 || F1:  53.88 | Prec:  37.40 | Rec:  96.35 || Ex/s: 1343.76\n",
      "\n",
      "===>  EVAL Epoch 5\n"
     ]
    },
    {
     "name": "stderr",
     "output_type": "stream",
     "text": [
      "0% [████████] 100% | ETA: 00:00:00\n",
      "Total time elapsed: 00:00:01\n"
     ]
    },
    {
     "name": "stdout",
     "output_type": "stream",
     "text": [
      "Finished Epoch 5 || Run Time:    0.1 | Load Time:    1.2 || F1:  39.84 | Prec:  26.61 | Rec:  79.27 || Ex/s: 1534.40\n",
      "\n",
      "* Best F1: 39.84374999999999\n",
      "Saving best model...\n",
      "Done.\n",
      "---------------------\n",
      "\n",
      "===>  TRAIN Epoch 6\n"
     ]
    },
    {
     "name": "stderr",
     "output_type": "stream",
     "text": [
      "0% [████████████████████████] 100% | ETA: 00:00:00\n",
      "Total time elapsed: 00:00:04\n"
     ]
    },
    {
     "name": "stdout",
     "output_type": "stream",
     "text": [
      "Finished Epoch 6 || Run Time:    0.9 | Load Time:    3.7 || F1:  63.50 | Prec:  47.10 | Rec:  97.40 || Ex/s: 1357.34\n",
      "\n",
      "===>  EVAL Epoch 6\n"
     ]
    },
    {
     "name": "stderr",
     "output_type": "stream",
     "text": [
      "0% [████████] 100% | ETA: 00:00:00\n",
      "Total time elapsed: 00:00:01\n"
     ]
    },
    {
     "name": "stdout",
     "output_type": "stream",
     "text": [
      "Finished Epoch 6 || Run Time:    0.1 | Load Time:    1.2 || F1:  41.41 | Prec:  27.65 | Rec:  82.38 || Ex/s: 1536.53\n",
      "\n",
      "* Best F1: 41.40625\n",
      "Saving best model...\n",
      "Done.\n",
      "---------------------\n",
      "\n",
      "===>  TRAIN Epoch 7\n"
     ]
    },
    {
     "name": "stderr",
     "output_type": "stream",
     "text": [
      "0% [████████████████████████] 100% | ETA: 00:00:00\n",
      "Total time elapsed: 00:00:04\n"
     ]
    },
    {
     "name": "stdout",
     "output_type": "stream",
     "text": [
      "Finished Epoch 7 || Run Time:    0.9 | Load Time:    3.6 || F1:  69.32 | Prec:  53.55 | Rec:  98.26 || Ex/s: 1358.68\n",
      "\n",
      "===>  EVAL Epoch 7\n"
     ]
    },
    {
     "name": "stderr",
     "output_type": "stream",
     "text": [
      "0% [████████] 100% | ETA: 00:00:00\n",
      "Total time elapsed: 00:00:01\n"
     ]
    },
    {
     "name": "stdout",
     "output_type": "stream",
     "text": [
      "Finished Epoch 7 || Run Time:    0.1 | Load Time:    1.2 || F1:  46.00 | Prec:  33.91 | Rec:  71.50 || Ex/s: 1547.91\n",
      "\n",
      "* Best F1: 46.0\n",
      "Saving best model...\n",
      "Done.\n",
      "---------------------\n",
      "\n",
      "===>  TRAIN Epoch 8\n"
     ]
    },
    {
     "name": "stderr",
     "output_type": "stream",
     "text": [
      "0% [████████████████████████] 100% | ETA: 00:00:00\n",
      "Total time elapsed: 00:00:04\n"
     ]
    },
    {
     "name": "stdout",
     "output_type": "stream",
     "text": [
      "Finished Epoch 8 || Run Time:    0.9 | Load Time:    3.7 || F1:  74.10 | Prec:  59.54 | Rec:  98.09 || Ex/s: 1356.07\n",
      "\n",
      "===>  EVAL Epoch 8\n"
     ]
    },
    {
     "name": "stderr",
     "output_type": "stream",
     "text": [
      "0% [████████] 100% | ETA: 00:00:00\n",
      "Total time elapsed: 00:00:01\n"
     ]
    },
    {
     "name": "stdout",
     "output_type": "stream",
     "text": [
      "Finished Epoch 8 || Run Time:    0.1 | Load Time:    1.2 || F1:  49.80 | Prec:  40.66 | Rec:  64.25 || Ex/s: 1544.64\n",
      "\n",
      "* Best F1: 49.79919678714859\n",
      "Saving best model...\n",
      "Done.\n",
      "---------------------\n",
      "\n",
      "===>  TRAIN Epoch 9\n"
     ]
    },
    {
     "name": "stderr",
     "output_type": "stream",
     "text": [
      "0% [████████████████████████] 100% | ETA: 00:00:00\n",
      "Total time elapsed: 00:00:04\n"
     ]
    },
    {
     "name": "stdout",
     "output_type": "stream",
     "text": [
      "Finished Epoch 9 || Run Time:    0.9 | Load Time:    3.7 || F1:  77.94 | Prec:  64.51 | Rec:  98.44 || Ex/s: 1357.91\n",
      "\n",
      "===>  EVAL Epoch 9\n"
     ]
    },
    {
     "name": "stderr",
     "output_type": "stream",
     "text": [
      "0% [████████] 100% | ETA: 00:00:00\n",
      "Total time elapsed: 00:00:01\n"
     ]
    },
    {
     "name": "stdout",
     "output_type": "stream",
     "text": [
      "Finished Epoch 9 || Run Time:    0.1 | Load Time:    1.2 || F1:  48.96 | Prec:  40.83 | Rec:  61.14 || Ex/s: 1540.47\n",
      "\n",
      "---------------------\n",
      "\n",
      "===>  TRAIN Epoch 10\n"
     ]
    },
    {
     "name": "stderr",
     "output_type": "stream",
     "text": [
      "0% [████████████████████████] 100% | ETA: 00:00:00\n",
      "Total time elapsed: 00:00:04\n"
     ]
    },
    {
     "name": "stdout",
     "output_type": "stream",
     "text": [
      "Finished Epoch 10 || Run Time:    0.9 | Load Time:    3.7 || F1:  80.91 | Prec:  68.60 | Rec:  98.61 || Ex/s: 1358.18\n",
      "\n",
      "===>  EVAL Epoch 10\n"
     ]
    },
    {
     "name": "stderr",
     "output_type": "stream",
     "text": [
      "0% [████████] 100% | ETA: 00:00:00\n",
      "Total time elapsed: 00:00:01\n"
     ]
    },
    {
     "name": "stdout",
     "output_type": "stream",
     "text": [
      "Finished Epoch 10 || Run Time:    0.1 | Load Time:    1.2 || F1:  47.20 | Prec:  37.65 | Rec:  63.21 || Ex/s: 1537.43\n",
      "\n",
      "---------------------\n",
      "\n",
      "===>  TRAIN Epoch 11\n"
     ]
    },
    {
     "name": "stderr",
     "output_type": "stream",
     "text": [
      "0% [████████████████████████] 100% | ETA: 00:00:00\n",
      "Total time elapsed: 00:00:04\n"
     ]
    },
    {
     "name": "stdout",
     "output_type": "stream",
     "text": [
      "Finished Epoch 11 || Run Time:    0.9 | Load Time:    3.7 || F1:  83.04 | Prec:  71.72 | Rec:  98.61 || Ex/s: 1356.53\n",
      "\n",
      "===>  EVAL Epoch 11\n"
     ]
    },
    {
     "name": "stderr",
     "output_type": "stream",
     "text": [
      "0% [████████] 100% | ETA: 00:00:00\n",
      "Total time elapsed: 00:00:01\n"
     ]
    },
    {
     "name": "stdout",
     "output_type": "stream",
     "text": [
      "Finished Epoch 11 || Run Time:    0.1 | Load Time:    1.2 || F1:  46.13 | Prec:  35.82 | Rec:  64.77 || Ex/s: 1534.06\n",
      "\n",
      "---------------------\n",
      "\n",
      "===>  TRAIN Epoch 12\n"
     ]
    },
    {
     "name": "stderr",
     "output_type": "stream",
     "text": [
      "0% [████████████████████████] 100% | ETA: 00:00:00\n",
      "Total time elapsed: 00:00:04\n"
     ]
    },
    {
     "name": "stdout",
     "output_type": "stream",
     "text": [
      "Finished Epoch 12 || Run Time:    0.9 | Load Time:    3.7 || F1:  84.23 | Prec:  73.42 | Rec:  98.78 || Ex/s: 1360.82\n",
      "\n",
      "===>  EVAL Epoch 12\n"
     ]
    },
    {
     "name": "stderr",
     "output_type": "stream",
     "text": [
      "0% [████████] 100% | ETA: 00:00:00\n",
      "Total time elapsed: 00:00:01\n"
     ]
    },
    {
     "name": "stdout",
     "output_type": "stream",
     "text": [
      "Finished Epoch 12 || Run Time:    0.1 | Load Time:    1.2 || F1:  46.79 | Prec:  36.80 | Rec:  64.25 || Ex/s: 1530.27\n",
      "\n",
      "---------------------\n",
      "\n",
      "===>  TRAIN Epoch 13\n"
     ]
    },
    {
     "name": "stderr",
     "output_type": "stream",
     "text": [
      "0% [████████████████████████] 100% | ETA: 00:00:00\n",
      "Total time elapsed: 00:00:04\n"
     ]
    },
    {
     "name": "stdout",
     "output_type": "stream",
     "text": [
      "Finished Epoch 13 || Run Time:    0.9 | Load Time:    3.7 || F1:  85.05 | Prec:  74.67 | Rec:  98.78 || Ex/s: 1355.41\n",
      "\n",
      "===>  EVAL Epoch 13\n"
     ]
    },
    {
     "name": "stderr",
     "output_type": "stream",
     "text": [
      "0% [████████] 100% | ETA: 00:00:00\n",
      "Total time elapsed: 00:00:01\n"
     ]
    },
    {
     "name": "stdout",
     "output_type": "stream",
     "text": [
      "Finished Epoch 13 || Run Time:    0.1 | Load Time:    1.2 || F1:  46.52 | Prec:  37.74 | Rec:  60.62 || Ex/s: 1547.36\n",
      "\n",
      "---------------------\n",
      "\n",
      "===>  TRAIN Epoch 14\n"
     ]
    },
    {
     "name": "stderr",
     "output_type": "stream",
     "text": [
      "0% [████████████████████████] 100% | ETA: 00:00:00\n",
      "Total time elapsed: 00:00:04\n"
     ]
    },
    {
     "name": "stdout",
     "output_type": "stream",
     "text": [
      "Finished Epoch 14 || Run Time:    0.9 | Load Time:    3.7 || F1:  85.71 | Prec:  75.60 | Rec:  98.96 || Ex/s: 1352.54\n",
      "\n",
      "===>  EVAL Epoch 14\n"
     ]
    },
    {
     "name": "stderr",
     "output_type": "stream",
     "text": [
      "0% [████████] 100% | ETA: 00:00:00\n",
      "Total time elapsed: 00:00:01\n"
     ]
    },
    {
     "name": "stdout",
     "output_type": "stream",
     "text": [
      "Finished Epoch 14 || Run Time:    0.1 | Load Time:    1.2 || F1:  46.54 | Prec:  39.08 | Rec:  57.51 || Ex/s: 1535.41\n",
      "\n",
      "---------------------\n",
      "\n",
      "===>  TRAIN Epoch 15\n"
     ]
    },
    {
     "name": "stderr",
     "output_type": "stream",
     "text": [
      "0% [████████████████████████] 100% | ETA: 00:00:00\n",
      "Total time elapsed: 00:00:04\n"
     ]
    },
    {
     "name": "stdout",
     "output_type": "stream",
     "text": [
      "Finished Epoch 15 || Run Time:    0.9 | Load Time:    3.7 || F1:  87.29 | Prec:  78.08 | Rec:  98.96 || Ex/s: 1355.12\n",
      "\n",
      "===>  EVAL Epoch 15\n"
     ]
    },
    {
     "name": "stderr",
     "output_type": "stream",
     "text": [
      "0% [████████] 100% | ETA: 00:00:00\n",
      "Total time elapsed: 00:00:01\n"
     ]
    },
    {
     "name": "stdout",
     "output_type": "stream",
     "text": [
      "Finished Epoch 15 || Run Time:    0.1 | Load Time:    1.2 || F1:  48.37 | Prec:  41.73 | Rec:  57.51 || Ex/s: 1539.59\n",
      "\n",
      "---------------------\n",
      "\n",
      "Loading best model...\n",
      "Training done.\n"
     ]
    },
    {
     "data": {
      "text/plain": [
       "49.79919678714859"
      ]
     },
     "execution_count": 4,
     "metadata": {},
     "output_type": "execute_result"
    }
   ],
   "source": [
    "# Average model\n",
    "average_attr_summarizer_module = dm.modules.NoMeta(\n",
    "    dm.modules.Lambda(\n",
    "        lambda x, y: (x.sum(dim=1) / x.shape[1], y.sum(dim=1) / y.shape[1])))\n",
    "model = dm.MatchingModel(attr_summarizer=lambda: average_attr_summarizer_module, \n",
    "                         attr_comparator='abs-diff')\n",
    "model.run_train(\n",
    "    train,\n",
    "    validation,\n",
    "    epochs=15,\n",
    "    batch_size=50,\n",
    "    best_save_path='average_model.pth',\n",
    "    pos_neg_ratio=10)"
   ]
  },
  {
   "cell_type": "code",
   "execution_count": 5,
   "metadata": {},
   "outputs": [
    {
     "name": "stdout",
     "output_type": "stream",
     "text": [
      "===>  EVAL Epoch 8\n"
     ]
    },
    {
     "name": "stderr",
     "output_type": "stream",
     "text": [
      "0% [█████████████] 100% | ETA: 00:00:00\n",
      "Total time elapsed: 00:00:01\n"
     ]
    },
    {
     "name": "stdout",
     "output_type": "stream",
     "text": [
      "Finished Epoch 8 || Run Time:    0.2 | Load Time:    1.2 || F1:  46.29 | Prec:  40.00 | Rec:  54.92 || Ex/s: 1462.68\n",
      "\n"
     ]
    },
    {
     "data": {
      "text/plain": [
       "46.28820960698691"
      ]
     },
     "execution_count": 5,
     "metadata": {},
     "output_type": "execute_result"
    }
   ],
   "source": [
    "# The F-1 score for average approach\n",
    "model.run_eval(test)"
   ]
  },
  {
   "cell_type": "code",
   "execution_count": 6,
   "metadata": {},
   "outputs": [
    {
     "name": "stdout",
     "output_type": "stream",
     "text": [
      "* Number of trainable parameters: 542402\n",
      "===>  TRAIN Epoch 1\n"
     ]
    },
    {
     "name": "stderr",
     "output_type": "stream",
     "text": [
      "0% [████████████████████████] 100% | ETA: 00:00:00\n",
      "Total time elapsed: 00:00:04\n"
     ]
    },
    {
     "name": "stdout",
     "output_type": "stream",
     "text": [
      "Finished Epoch 1 || Run Time:    1.3 | Load Time:    3.7 || F1:  19.56 | Prec:  10.95 | Rec:  91.67 || Ex/s: 1251.43\n",
      "\n",
      "===>  EVAL Epoch 1\n"
     ]
    },
    {
     "name": "stderr",
     "output_type": "stream",
     "text": [
      "0% [████████] 100% | ETA: 00:00:00\n",
      "Total time elapsed: 00:00:01\n"
     ]
    },
    {
     "name": "stdout",
     "output_type": "stream",
     "text": [
      "Finished Epoch 1 || Run Time:    0.3 | Load Time:    1.2 || F1:  25.77 | Prec:  14.97 | Rec:  92.75 || Ex/s: 1403.45\n",
      "\n",
      "* Best F1: 25.77393808495321\n",
      "Saving best model...\n",
      "Done.\n",
      "---------------------\n",
      "\n",
      "===>  TRAIN Epoch 2\n"
     ]
    },
    {
     "name": "stderr",
     "output_type": "stream",
     "text": [
      "0% [████████████████████████] 100% | ETA: 00:00:00\n",
      "Total time elapsed: 00:00:04\n"
     ]
    },
    {
     "name": "stdout",
     "output_type": "stream",
     "text": [
      "Finished Epoch 2 || Run Time:    1.3 | Load Time:    3.6 || F1:  31.24 | Prec:  18.87 | Rec:  90.80 || Ex/s: 1251.98\n",
      "\n",
      "===>  EVAL Epoch 2\n"
     ]
    },
    {
     "name": "stderr",
     "output_type": "stream",
     "text": [
      "0% [████████] 100% | ETA: 00:00:00\n",
      "Total time elapsed: 00:00:01\n"
     ]
    },
    {
     "name": "stdout",
     "output_type": "stream",
     "text": [
      "Finished Epoch 2 || Run Time:    0.3 | Load Time:    1.2 || F1:  30.00 | Prec:  17.87 | Rec:  93.26 || Ex/s: 1402.66\n",
      "\n",
      "* Best F1: 30.0\n",
      "Saving best model...\n",
      "Done.\n",
      "---------------------\n",
      "\n",
      "===>  TRAIN Epoch 3\n"
     ]
    },
    {
     "name": "stderr",
     "output_type": "stream",
     "text": [
      "0% [████████████████████████] 100% | ETA: 00:00:00\n",
      "Total time elapsed: 00:00:04\n"
     ]
    },
    {
     "name": "stdout",
     "output_type": "stream",
     "text": [
      "Finished Epoch 3 || Run Time:    1.3 | Load Time:    3.6 || F1:  38.45 | Prec:  24.13 | Rec:  94.62 || Ex/s: 1254.63\n",
      "\n",
      "===>  EVAL Epoch 3\n"
     ]
    },
    {
     "name": "stderr",
     "output_type": "stream",
     "text": [
      "0% [████████] 100% | ETA: 00:00:00\n",
      "Total time elapsed: 00:00:01\n"
     ]
    },
    {
     "name": "stdout",
     "output_type": "stream",
     "text": [
      "Finished Epoch 3 || Run Time:    0.3 | Load Time:    1.2 || F1:  35.21 | Prec:  21.85 | Rec:  90.67 || Ex/s: 1395.00\n",
      "\n",
      "* Best F1: 35.2112676056338\n",
      "Saving best model...\n",
      "Done.\n",
      "---------------------\n",
      "\n",
      "===>  TRAIN Epoch 4\n"
     ]
    },
    {
     "name": "stderr",
     "output_type": "stream",
     "text": [
      "0% [████████████████████████] 100% | ETA: 00:00:00\n",
      "Total time elapsed: 00:00:04\n"
     ]
    },
    {
     "name": "stdout",
     "output_type": "stream",
     "text": [
      "Finished Epoch 4 || Run Time:    1.3 | Load Time:    3.7 || F1:  47.52 | Prec:  31.43 | Rec:  97.40 || Ex/s: 1252.00\n",
      "\n",
      "===>  EVAL Epoch 4\n"
     ]
    },
    {
     "name": "stderr",
     "output_type": "stream",
     "text": [
      "0% [████████] 100% | ETA: 00:00:00\n",
      "Total time elapsed: 00:00:01\n"
     ]
    },
    {
     "name": "stdout",
     "output_type": "stream",
     "text": [
      "Finished Epoch 4 || Run Time:    0.3 | Load Time:    1.2 || F1:  40.09 | Prec:  25.86 | Rec:  89.12 || Ex/s: 1380.20\n",
      "\n",
      "* Best F1: 40.0932400932401\n",
      "Saving best model...\n",
      "Done.\n",
      "---------------------\n",
      "\n",
      "===>  TRAIN Epoch 5\n"
     ]
    },
    {
     "name": "stderr",
     "output_type": "stream",
     "text": [
      "0% [████████████████████████] 100% | ETA: 00:00:00\n",
      "Total time elapsed: 00:00:04\n"
     ]
    },
    {
     "name": "stdout",
     "output_type": "stream",
     "text": [
      "Finished Epoch 5 || Run Time:    1.3 | Load Time:    3.7 || F1:  55.66 | Prec:  38.91 | Rec:  97.74 || Ex/s: 1250.85\n",
      "\n",
      "===>  EVAL Epoch 5\n"
     ]
    },
    {
     "name": "stderr",
     "output_type": "stream",
     "text": [
      "0% [████████] 100% | ETA: 00:00:00\n",
      "Total time elapsed: 00:00:01\n"
     ]
    },
    {
     "name": "stdout",
     "output_type": "stream",
     "text": [
      "Finished Epoch 5 || Run Time:    0.3 | Load Time:    1.2 || F1:  46.66 | Prec:  32.16 | Rec:  84.97 || Ex/s: 1401.43\n",
      "\n",
      "* Best F1: 46.65718349928876\n",
      "Saving best model...\n",
      "Done.\n",
      "---------------------\n",
      "\n",
      "===>  TRAIN Epoch 6\n"
     ]
    },
    {
     "name": "stderr",
     "output_type": "stream",
     "text": [
      "0% [████████████████████████] 100% | ETA: 00:00:00\n",
      "Total time elapsed: 00:00:04\n"
     ]
    },
    {
     "name": "stdout",
     "output_type": "stream",
     "text": [
      "Finished Epoch 6 || Run Time:    1.3 | Load Time:    3.6 || F1:  65.59 | Prec:  49.18 | Rec:  98.44 || Ex/s: 1252.61\n",
      "\n",
      "===>  EVAL Epoch 6\n"
     ]
    },
    {
     "name": "stderr",
     "output_type": "stream",
     "text": [
      "0% [████████] 100% | ETA: 00:00:00\n",
      "Total time elapsed: 00:00:01\n"
     ]
    },
    {
     "name": "stdout",
     "output_type": "stream",
     "text": [
      "Finished Epoch 6 || Run Time:    0.3 | Load Time:    1.2 || F1:  51.55 | Prec:  37.62 | Rec:  81.87 || Ex/s: 1407.99\n",
      "\n",
      "* Best F1: 51.549755301794455\n",
      "Saving best model...\n",
      "Done.\n",
      "---------------------\n",
      "\n",
      "===>  TRAIN Epoch 7\n"
     ]
    },
    {
     "name": "stderr",
     "output_type": "stream",
     "text": [
      "0% [████████████████████████] 100% | ETA: 00:00:00\n",
      "Total time elapsed: 00:00:04\n"
     ]
    },
    {
     "name": "stdout",
     "output_type": "stream",
     "text": [
      "Finished Epoch 7 || Run Time:    1.3 | Load Time:    3.6 || F1:  72.97 | Prec:  57.74 | Rec:  99.13 || Ex/s: 1254.29\n",
      "\n",
      "===>  EVAL Epoch 7\n"
     ]
    },
    {
     "name": "stderr",
     "output_type": "stream",
     "text": [
      "0% [████████] 100% | ETA: 00:00:00\n",
      "Total time elapsed: 00:00:01\n"
     ]
    },
    {
     "name": "stdout",
     "output_type": "stream",
     "text": [
      "Finished Epoch 7 || Run Time:    0.3 | Load Time:    1.2 || F1:  55.58 | Prec:  42.94 | Rec:  78.76 || Ex/s: 1393.57\n",
      "\n",
      "* Best F1: 55.57586837294332\n",
      "Saving best model...\n",
      "Done.\n",
      "---------------------\n",
      "\n",
      "===>  TRAIN Epoch 8\n"
     ]
    },
    {
     "name": "stderr",
     "output_type": "stream",
     "text": [
      "0% [████████████████████████] 100% | ETA: 00:00:00\n",
      "Total time elapsed: 00:00:04\n"
     ]
    },
    {
     "name": "stdout",
     "output_type": "stream",
     "text": [
      "Finished Epoch 8 || Run Time:    1.3 | Load Time:    3.6 || F1:  79.06 | Prec:  65.67 | Rec:  99.31 || Ex/s: 1251.61\n",
      "\n",
      "===>  EVAL Epoch 8\n"
     ]
    },
    {
     "name": "stderr",
     "output_type": "stream",
     "text": [
      "0% [████████] 100% | ETA: 00:00:00\n",
      "Total time elapsed: 00:00:01\n"
     ]
    },
    {
     "name": "stdout",
     "output_type": "stream",
     "text": [
      "Finished Epoch 8 || Run Time:    0.3 | Load Time:    1.2 || F1:  57.98 | Prec:  46.42 | Rec:  77.20 || Ex/s: 1403.69\n",
      "\n",
      "* Best F1: 57.976653696498055\n",
      "Saving best model...\n",
      "Done.\n",
      "---------------------\n",
      "\n",
      "===>  TRAIN Epoch 9\n"
     ]
    },
    {
     "name": "stderr",
     "output_type": "stream",
     "text": [
      "0% [████████████████████████] 100% | ETA: 00:00:00\n",
      "Total time elapsed: 00:00:04\n"
     ]
    },
    {
     "name": "stdout",
     "output_type": "stream",
     "text": [
      "Finished Epoch 9 || Run Time:    1.3 | Load Time:    3.6 || F1:  83.35 | Prec:  71.71 | Rec:  99.48 || Ex/s: 1254.25\n",
      "\n",
      "===>  EVAL Epoch 9\n"
     ]
    },
    {
     "name": "stderr",
     "output_type": "stream",
     "text": [
      "0% [████████] 100% | ETA: 00:00:00\n",
      "Total time elapsed: 00:00:01\n"
     ]
    },
    {
     "name": "stdout",
     "output_type": "stream",
     "text": [
      "Finished Epoch 9 || Run Time:    0.3 | Load Time:    1.2 || F1:  59.50 | Prec:  49.48 | Rec:  74.61 || Ex/s: 1399.02\n",
      "\n",
      "* Best F1: 59.50413223140495\n",
      "Saving best model...\n",
      "Done.\n",
      "---------------------\n",
      "\n",
      "===>  TRAIN Epoch 10\n"
     ]
    },
    {
     "name": "stderr",
     "output_type": "stream",
     "text": [
      "0% [████████████████████████] 100% | ETA: 00:00:00\n",
      "Total time elapsed: 00:00:04\n"
     ]
    },
    {
     "name": "stdout",
     "output_type": "stream",
     "text": [
      "Finished Epoch 10 || Run Time:    1.3 | Load Time:    3.7 || F1:  85.42 | Prec:  74.74 | Rec:  99.65 || Ex/s: 1231.49\n",
      "\n",
      "===>  EVAL Epoch 10\n"
     ]
    },
    {
     "name": "stderr",
     "output_type": "stream",
     "text": [
      "0% [████████] 100% | ETA: 00:00:00\n",
      "Total time elapsed: 00:00:01\n"
     ]
    },
    {
     "name": "stdout",
     "output_type": "stream",
     "text": [
      "Finished Epoch 10 || Run Time:    0.3 | Load Time:    1.2 || F1:  60.59 | Prec:  51.25 | Rec:  74.09 || Ex/s: 1383.84\n",
      "\n",
      "* Best F1: 60.593220338983045\n",
      "Saving best model...\n",
      "Done.\n",
      "---------------------\n",
      "\n",
      "===>  TRAIN Epoch 11\n"
     ]
    },
    {
     "name": "stderr",
     "output_type": "stream",
     "text": [
      "0% [████████████████████████] 100% | ETA: 00:00:00\n",
      "Total time elapsed: 00:00:04\n"
     ]
    },
    {
     "name": "stdout",
     "output_type": "stream",
     "text": [
      "Finished Epoch 11 || Run Time:    1.3 | Load Time:    3.7 || F1:  86.51 | Prec:  76.43 | Rec:  99.65 || Ex/s: 1244.99\n",
      "\n",
      "===>  EVAL Epoch 11\n"
     ]
    },
    {
     "name": "stderr",
     "output_type": "stream",
     "text": [
      "0% [████████] 100% | ETA: 00:00:00\n",
      "Total time elapsed: 00:00:01\n"
     ]
    },
    {
     "name": "stdout",
     "output_type": "stream",
     "text": [
      "Finished Epoch 11 || Run Time:    0.3 | Load Time:    1.2 || F1:  61.00 | Prec:  52.63 | Rec:  72.54 || Ex/s: 1406.64\n",
      "\n",
      "* Best F1: 61.00217864923747\n",
      "Saving best model...\n",
      "Done.\n",
      "---------------------\n",
      "\n",
      "===>  TRAIN Epoch 12\n"
     ]
    },
    {
     "name": "stderr",
     "output_type": "stream",
     "text": [
      "0% [████████████████████████] 100% | ETA: 00:00:00\n",
      "Total time elapsed: 00:00:04\n"
     ]
    },
    {
     "name": "stdout",
     "output_type": "stream",
     "text": [
      "Finished Epoch 12 || Run Time:    1.3 | Load Time:    3.6 || F1:  87.77 | Prec:  78.42 | Rec:  99.65 || Ex/s: 1260.86\n",
      "\n",
      "===>  EVAL Epoch 12\n"
     ]
    },
    {
     "name": "stderr",
     "output_type": "stream",
     "text": [
      "0% [████████] 100% | ETA: 00:00:00\n",
      "Total time elapsed: 00:00:01\n"
     ]
    },
    {
     "name": "stdout",
     "output_type": "stream",
     "text": [
      "Finished Epoch 12 || Run Time:    0.3 | Load Time:    1.2 || F1:  61.54 | Prec:  54.62 | Rec:  70.47 || Ex/s: 1406.31\n",
      "\n",
      "* Best F1: 61.53846153846154\n",
      "Saving best model...\n",
      "Done.\n",
      "---------------------\n",
      "\n",
      "===>  TRAIN Epoch 13\n"
     ]
    },
    {
     "name": "stderr",
     "output_type": "stream",
     "text": [
      "0% [████████████████████████] 100% | ETA: 00:00:00\n",
      "Total time elapsed: 00:00:04\n"
     ]
    },
    {
     "name": "stdout",
     "output_type": "stream",
     "text": [
      "Finished Epoch 13 || Run Time:    1.3 | Load Time:    3.6 || F1:  88.85 | Prec:  80.17 | Rec:  99.65 || Ex/s: 1255.95\n",
      "\n",
      "===>  EVAL Epoch 13\n"
     ]
    },
    {
     "name": "stderr",
     "output_type": "stream",
     "text": [
      "0% [████████] 100% | ETA: 00:00:00\n",
      "Total time elapsed: 00:00:01\n"
     ]
    },
    {
     "name": "stdout",
     "output_type": "stream",
     "text": [
      "Finished Epoch 13 || Run Time:    0.3 | Load Time:    1.2 || F1:  61.61 | Prec:  55.37 | Rec:  69.43 || Ex/s: 1403.19\n",
      "\n",
      "* Best F1: 61.60919540229885\n",
      "Saving best model...\n",
      "Done.\n",
      "---------------------\n",
      "\n",
      "===>  TRAIN Epoch 14\n"
     ]
    },
    {
     "name": "stderr",
     "output_type": "stream",
     "text": [
      "0% [████████████████████████] 100% | ETA: 00:00:00\n",
      "Total time elapsed: 00:00:04\n"
     ]
    },
    {
     "name": "stdout",
     "output_type": "stream",
     "text": [
      "Finished Epoch 14 || Run Time:    1.3 | Load Time:    3.6 || F1:  89.20 | Prec:  80.73 | Rec:  99.65 || Ex/s: 1256.35\n",
      "\n",
      "===>  EVAL Epoch 14\n"
     ]
    },
    {
     "name": "stderr",
     "output_type": "stream",
     "text": [
      "0% [████████] 100% | ETA: 00:00:00\n",
      "Total time elapsed: 00:00:01\n"
     ]
    },
    {
     "name": "stdout",
     "output_type": "stream",
     "text": [
      "Finished Epoch 14 || Run Time:    0.3 | Load Time:    1.2 || F1:  62.23 | Prec:  57.46 | Rec:  67.88 || Ex/s: 1404.71\n",
      "\n",
      "* Best F1: 62.23277909738717\n",
      "Saving best model...\n",
      "Done.\n",
      "---------------------\n",
      "\n",
      "===>  TRAIN Epoch 15\n"
     ]
    },
    {
     "name": "stderr",
     "output_type": "stream",
     "text": [
      "0% [████████████████████████] 100% | ETA: 00:00:00\n",
      "Total time elapsed: 00:00:04\n"
     ]
    },
    {
     "name": "stdout",
     "output_type": "stream",
     "text": [
      "Finished Epoch 15 || Run Time:    1.3 | Load Time:    3.6 || F1:  90.11 | Prec:  82.23 | Rec:  99.65 || Ex/s: 1257.02\n",
      "\n",
      "===>  EVAL Epoch 15\n"
     ]
    },
    {
     "name": "stderr",
     "output_type": "stream",
     "text": [
      "0% [████████] 100% | ETA: 00:00:00\n",
      "Total time elapsed: 00:00:01\n"
     ]
    },
    {
     "name": "stdout",
     "output_type": "stream",
     "text": [
      "Finished Epoch 15 || Run Time:    0.3 | Load Time:    1.2 || F1:  62.65 | Prec:  58.56 | Rec:  67.36 || Ex/s: 1409.31\n",
      "\n",
      "* Best F1: 62.65060240963856\n",
      "Saving best model...\n",
      "Done.\n",
      "---------------------\n",
      "\n",
      "Loading best model...\n",
      "Training done.\n"
     ]
    },
    {
     "data": {
      "text/plain": [
       "62.65060240963856"
      ]
     },
     "execution_count": 6,
     "metadata": {},
     "output_type": "execute_result"
    }
   ],
   "source": [
    "model = dm.MatchingModel(attr_summarizer='sif')\n",
    "model.run_train(\n",
    "    train,\n",
    "    validation,\n",
    "    epochs=15,\n",
    "    batch_size=50,\n",
    "    best_save_path='sif_model.pth',\n",
    "    pos_neg_ratio=10)"
   ]
  },
  {
   "cell_type": "code",
   "execution_count": 7,
   "metadata": {},
   "outputs": [
    {
     "name": "stdout",
     "output_type": "stream",
     "text": [
      "===>  EVAL Epoch 15\n"
     ]
    },
    {
     "name": "stderr",
     "output_type": "stream",
     "text": [
      "0% [█████████████] 100% | ETA: 00:00:00\n",
      "Total time elapsed: 00:00:01\n"
     ]
    },
    {
     "name": "stdout",
     "output_type": "stream",
     "text": [
      "Finished Epoch 15 || Run Time:    0.4 | Load Time:    1.2 || F1:  58.85 | Prec:  54.67 | Rec:  63.73 || Ex/s: 1268.62\n",
      "\n"
     ]
    },
    {
     "data": {
      "text/plain": [
       "58.851674641148314"
      ]
     },
     "execution_count": 7,
     "metadata": {},
     "output_type": "execute_result"
    }
   ],
   "source": [
    "# The F-1 score for SIF approach\n",
    "model.run_eval(test)"
   ]
  },
  {
   "cell_type": "code",
   "execution_count": 8,
   "metadata": {},
   "outputs": [
    {
     "name": "stdout",
     "output_type": "stream",
     "text": [
      "* Number of trainable parameters: 2576402\n",
      "===>  TRAIN Epoch 1\n"
     ]
    },
    {
     "name": "stderr",
     "output_type": "stream",
     "text": [
      "0% [████████████████████████] 100% | ETA: 00:00:00\n",
      "Total time elapsed: 00:00:07\n"
     ]
    },
    {
     "name": "stdout",
     "output_type": "stream",
     "text": [
      "Finished Epoch 1 || Run Time:    3.9 | Load Time:    3.7 || F1:  22.06 | Prec:  12.47 | Rec:  95.31 || Ex/s: 809.87\n",
      "\n",
      "===>  EVAL Epoch 1\n"
     ]
    },
    {
     "name": "stderr",
     "output_type": "stream",
     "text": [
      "0% [████████] 100% | ETA: 00:00:00\n",
      "Total time elapsed: 00:00:01\n"
     ]
    },
    {
     "name": "stdout",
     "output_type": "stream",
     "text": [
      "Finished Epoch 1 || Run Time:    0.4 | Load Time:    1.2 || F1:  28.32 | Prec:  16.71 | Rec:  92.75 || Ex/s: 1282.95\n",
      "\n",
      "* Best F1: 28.32278481012658\n",
      "Saving best model...\n",
      "Done.\n",
      "---------------------\n",
      "\n",
      "===>  TRAIN Epoch 2\n"
     ]
    },
    {
     "name": "stderr",
     "output_type": "stream",
     "text": [
      "0% [████████████████████████] 100% | ETA: 00:00:00\n",
      "Total time elapsed: 00:00:07\n"
     ]
    },
    {
     "name": "stdout",
     "output_type": "stream",
     "text": [
      "Finished Epoch 2 || Run Time:    3.8 | Load Time:    3.7 || F1:  37.89 | Prec:  23.60 | Rec:  96.01 || Ex/s: 824.80\n",
      "\n",
      "===>  EVAL Epoch 2\n"
     ]
    },
    {
     "name": "stderr",
     "output_type": "stream",
     "text": [
      "0% [████████] 100% | ETA: 00:00:00\n",
      "Total time elapsed: 00:00:01\n"
     ]
    },
    {
     "name": "stdout",
     "output_type": "stream",
     "text": [
      "Finished Epoch 2 || Run Time:    0.4 | Load Time:    1.2 || F1:  40.88 | Prec:  26.76 | Rec:  86.53 || Ex/s: 1284.22\n",
      "\n",
      "* Best F1: 40.881272949816406\n",
      "Saving best model...\n",
      "Done.\n",
      "---------------------\n",
      "\n",
      "===>  TRAIN Epoch 3\n"
     ]
    },
    {
     "name": "stderr",
     "output_type": "stream",
     "text": [
      "0% [████████████████████████] 100% | ETA: 00:00:00\n",
      "Total time elapsed: 00:00:07\n"
     ]
    },
    {
     "name": "stdout",
     "output_type": "stream",
     "text": [
      "Finished Epoch 3 || Run Time:    3.8 | Load Time:    3.7 || F1:  60.32 | Prec:  43.38 | Rec:  98.96 || Ex/s: 824.32\n",
      "\n",
      "===>  EVAL Epoch 3\n"
     ]
    },
    {
     "name": "stderr",
     "output_type": "stream",
     "text": [
      "0% [████████] 100% | ETA: 00:00:00\n",
      "Total time elapsed: 00:00:01\n"
     ]
    },
    {
     "name": "stdout",
     "output_type": "stream",
     "text": [
      "Finished Epoch 3 || Run Time:    0.4 | Load Time:    1.2 || F1:  57.95 | Prec:  45.67 | Rec:  79.27 || Ex/s: 1274.33\n",
      "\n",
      "* Best F1: 57.95454545454545\n",
      "Saving best model...\n",
      "Done.\n",
      "---------------------\n",
      "\n",
      "===>  TRAIN Epoch 4\n"
     ]
    },
    {
     "name": "stderr",
     "output_type": "stream",
     "text": [
      "0% [████████████████████████] 100% | ETA: 00:00:00\n",
      "Total time elapsed: 00:00:07\n"
     ]
    },
    {
     "name": "stdout",
     "output_type": "stream",
     "text": [
      "Finished Epoch 4 || Run Time:    3.8 | Load Time:    3.7 || F1:  81.28 | Prec:  68.71 | Rec:  99.48 || Ex/s: 823.11\n",
      "\n",
      "===>  EVAL Epoch 4\n"
     ]
    },
    {
     "name": "stderr",
     "output_type": "stream",
     "text": [
      "0% [████████] 100% | ETA: 00:00:00\n",
      "Total time elapsed: 00:00:01\n"
     ]
    },
    {
     "name": "stdout",
     "output_type": "stream",
     "text": [
      "Finished Epoch 4 || Run Time:    0.4 | Load Time:    1.2 || F1:  59.52 | Prec:  48.23 | Rec:  77.72 || Ex/s: 1277.57\n",
      "\n",
      "* Best F1: 59.523809523809526\n",
      "Saving best model...\n",
      "Done.\n",
      "---------------------\n",
      "\n",
      "===>  TRAIN Epoch 5\n"
     ]
    },
    {
     "name": "stderr",
     "output_type": "stream",
     "text": [
      "0% [████████████████████████] 100% | ETA: 00:00:00\n",
      "Total time elapsed: 00:00:07\n"
     ]
    },
    {
     "name": "stdout",
     "output_type": "stream",
     "text": [
      "Finished Epoch 5 || Run Time:    3.8 | Load Time:    3.7 || F1:  89.76 | Prec:  81.65 | Rec:  99.65 || Ex/s: 822.58\n",
      "\n",
      "===>  EVAL Epoch 5\n"
     ]
    },
    {
     "name": "stderr",
     "output_type": "stream",
     "text": [
      "0% [████████] 100% | ETA: 00:00:00\n",
      "Total time elapsed: 00:00:01\n"
     ]
    },
    {
     "name": "stdout",
     "output_type": "stream",
     "text": [
      "Finished Epoch 5 || Run Time:    0.4 | Load Time:    1.2 || F1:  59.52 | Prec:  48.23 | Rec:  77.72 || Ex/s: 1283.53\n",
      "\n",
      "---------------------\n",
      "\n",
      "===>  TRAIN Epoch 6\n"
     ]
    },
    {
     "name": "stderr",
     "output_type": "stream",
     "text": [
      "0% [████████████████████████] 100% | ETA: 00:00:00\n",
      "Total time elapsed: 00:00:07\n"
     ]
    },
    {
     "name": "stdout",
     "output_type": "stream",
     "text": [
      "Finished Epoch 6 || Run Time:    3.9 | Load Time:    3.7 || F1:  94.11 | Prec:  89.01 | Rec:  99.83 || Ex/s: 813.10\n",
      "\n",
      "===>  EVAL Epoch 6\n"
     ]
    },
    {
     "name": "stderr",
     "output_type": "stream",
     "text": [
      "0% [████████] 100% | ETA: 00:00:00\n",
      "Total time elapsed: 00:00:01\n"
     ]
    },
    {
     "name": "stdout",
     "output_type": "stream",
     "text": [
      "Finished Epoch 6 || Run Time:    0.4 | Load Time:    1.2 || F1:  61.63 | Prec:  50.84 | Rec:  78.24 || Ex/s: 1276.76\n",
      "\n",
      "* Best F1: 61.63265306122449\n",
      "Saving best model...\n",
      "Done.\n",
      "---------------------\n",
      "\n",
      "===>  TRAIN Epoch 7\n"
     ]
    },
    {
     "name": "stderr",
     "output_type": "stream",
     "text": [
      "0% [████████████████████████] 100% | ETA: 00:00:00\n",
      "Total time elapsed: 00:00:07\n"
     ]
    },
    {
     "name": "stdout",
     "output_type": "stream",
     "text": [
      "Finished Epoch 7 || Run Time:    3.8 | Load Time:    3.6 || F1:  97.63 | Prec:  95.36 | Rec: 100.00 || Ex/s: 827.34\n",
      "\n",
      "===>  EVAL Epoch 7\n"
     ]
    },
    {
     "name": "stderr",
     "output_type": "stream",
     "text": [
      "0% [████████] 100% | ETA: 00:00:00\n",
      "Total time elapsed: 00:00:01\n"
     ]
    },
    {
     "name": "stdout",
     "output_type": "stream",
     "text": [
      "Finished Epoch 7 || Run Time:    0.4 | Load Time:    1.2 || F1:  57.69 | Prec:  45.51 | Rec:  78.76 || Ex/s: 1275.91\n",
      "\n",
      "---------------------\n",
      "\n",
      "===>  TRAIN Epoch 8\n"
     ]
    },
    {
     "name": "stderr",
     "output_type": "stream",
     "text": [
      "0% [████████████████████████] 100% | ETA: 00:00:00\n",
      "Total time elapsed: 00:00:07\n"
     ]
    },
    {
     "name": "stdout",
     "output_type": "stream",
     "text": [
      "Finished Epoch 8 || Run Time:    3.8 | Load Time:    3.7 || F1:  98.38 | Prec:  96.81 | Rec: 100.00 || Ex/s: 824.66\n",
      "\n",
      "===>  EVAL Epoch 8\n"
     ]
    },
    {
     "name": "stderr",
     "output_type": "stream",
     "text": [
      "0% [████████] 100% | ETA: 00:00:00\n",
      "Total time elapsed: 00:00:01\n"
     ]
    },
    {
     "name": "stdout",
     "output_type": "stream",
     "text": [
      "Finished Epoch 8 || Run Time:    0.4 | Load Time:    1.2 || F1:  59.68 | Prec:  48.24 | Rec:  78.24 || Ex/s: 1285.89\n",
      "\n",
      "---------------------\n",
      "\n",
      "===>  TRAIN Epoch 9\n"
     ]
    },
    {
     "name": "stderr",
     "output_type": "stream",
     "text": [
      "0% [████████████████████████] 100% | ETA: 00:00:00\n",
      "Total time elapsed: 00:00:07\n"
     ]
    },
    {
     "name": "stdout",
     "output_type": "stream",
     "text": [
      "Finished Epoch 9 || Run Time:    3.8 | Load Time:    3.7 || F1:  98.46 | Prec:  96.97 | Rec: 100.00 || Ex/s: 824.71\n",
      "\n",
      "===>  EVAL Epoch 9\n"
     ]
    },
    {
     "name": "stderr",
     "output_type": "stream",
     "text": [
      "0% [████████] 100% | ETA: 00:00:00\n",
      "Total time elapsed: 00:00:01\n"
     ]
    },
    {
     "name": "stdout",
     "output_type": "stream",
     "text": [
      "Finished Epoch 9 || Run Time:    0.4 | Load Time:    1.2 || F1:  61.41 | Prec:  52.17 | Rec:  74.61 || Ex/s: 1275.11\n",
      "\n",
      "---------------------\n",
      "\n",
      "===>  TRAIN Epoch 10\n"
     ]
    },
    {
     "name": "stderr",
     "output_type": "stream",
     "text": [
      "0% [████████████████████████] 100% | ETA: 00:00:00\n",
      "Total time elapsed: 00:00:07\n"
     ]
    },
    {
     "name": "stdout",
     "output_type": "stream",
     "text": [
      "Finished Epoch 10 || Run Time:    3.8 | Load Time:    3.6 || F1:  99.31 | Prec:  98.63 | Rec: 100.00 || Ex/s: 827.21\n",
      "\n",
      "===>  EVAL Epoch 10\n"
     ]
    },
    {
     "name": "stderr",
     "output_type": "stream",
     "text": [
      "0% [████████] 100% | ETA: 00:00:00\n",
      "Total time elapsed: 00:00:01\n"
     ]
    },
    {
     "name": "stdout",
     "output_type": "stream",
     "text": [
      "Finished Epoch 10 || Run Time:    0.4 | Load Time:    1.2 || F1:  63.55 | Prec:  57.87 | Rec:  70.47 || Ex/s: 1282.97\n",
      "\n",
      "* Best F1: 63.55140186915888\n",
      "Saving best model...\n",
      "Done.\n",
      "---------------------\n",
      "\n",
      "===>  TRAIN Epoch 11\n"
     ]
    },
    {
     "name": "stderr",
     "output_type": "stream",
     "text": [
      "0% [████████████████████████] 100% | ETA: 00:00:00\n",
      "Total time elapsed: 00:00:07\n"
     ]
    },
    {
     "name": "stdout",
     "output_type": "stream",
     "text": [
      "Finished Epoch 11 || Run Time:    3.9 | Load Time:    3.7 || F1:  99.65 | Prec:  99.31 | Rec: 100.00 || Ex/s: 818.01\n",
      "\n",
      "===>  EVAL Epoch 11\n"
     ]
    },
    {
     "name": "stderr",
     "output_type": "stream",
     "text": [
      "0% [████████] 100% | ETA: 00:00:00\n",
      "Total time elapsed: 00:00:01\n"
     ]
    },
    {
     "name": "stdout",
     "output_type": "stream",
     "text": [
      "Finished Epoch 11 || Run Time:    0.4 | Load Time:    1.2 || F1:  64.25 | Prec:  60.18 | Rec:  68.91 || Ex/s: 1292.49\n",
      "\n",
      "* Best F1: 64.25120772946859\n",
      "Saving best model...\n",
      "Done.\n",
      "---------------------\n",
      "\n",
      "===>  TRAIN Epoch 12\n"
     ]
    },
    {
     "name": "stderr",
     "output_type": "stream",
     "text": [
      "0% [████████████████████████] 100% | ETA: 00:00:00\n",
      "Total time elapsed: 00:00:07\n"
     ]
    },
    {
     "name": "stdout",
     "output_type": "stream",
     "text": [
      "Finished Epoch 12 || Run Time:    3.8 | Load Time:    3.7 || F1:  99.83 | Prec:  99.65 | Rec: 100.00 || Ex/s: 822.83\n",
      "\n",
      "===>  EVAL Epoch 12\n"
     ]
    },
    {
     "name": "stderr",
     "output_type": "stream",
     "text": [
      "0% [████████] 100% | ETA: 00:00:00\n",
      "Total time elapsed: 00:00:01\n"
     ]
    },
    {
     "name": "stdout",
     "output_type": "stream",
     "text": [
      "Finished Epoch 12 || Run Time:    0.4 | Load Time:    1.2 || F1:  64.06 | Prec:  60.65 | Rec:  67.88 || Ex/s: 1289.87\n",
      "\n",
      "---------------------\n",
      "\n",
      "===>  TRAIN Epoch 13\n"
     ]
    },
    {
     "name": "stderr",
     "output_type": "stream",
     "text": [
      "0% [████████████████████████] 100% | ETA: 00:00:00\n",
      "Total time elapsed: 00:00:07\n"
     ]
    },
    {
     "name": "stdout",
     "output_type": "stream",
     "text": [
      "Finished Epoch 13 || Run Time:    3.8 | Load Time:    3.7 || F1:  99.83 | Prec:  99.65 | Rec: 100.00 || Ex/s: 823.93\n",
      "\n",
      "===>  EVAL Epoch 13\n"
     ]
    },
    {
     "name": "stderr",
     "output_type": "stream",
     "text": [
      "0% [████████] 100% | ETA: 00:00:00\n",
      "Total time elapsed: 00:00:01\n"
     ]
    },
    {
     "name": "stdout",
     "output_type": "stream",
     "text": [
      "Finished Epoch 13 || Run Time:    0.4 | Load Time:    1.2 || F1:  64.69 | Prec:  61.79 | Rec:  67.88 || Ex/s: 1277.14\n",
      "\n",
      "* Best F1: 64.69135802469134\n",
      "Saving best model...\n",
      "Done.\n",
      "---------------------\n",
      "\n",
      "===>  TRAIN Epoch 14\n"
     ]
    },
    {
     "name": "stderr",
     "output_type": "stream",
     "text": [
      "0% [████████████████████████] 100% | ETA: 00:00:00\n",
      "Total time elapsed: 00:00:07\n"
     ]
    },
    {
     "name": "stdout",
     "output_type": "stream",
     "text": [
      "Finished Epoch 14 || Run Time:    3.8 | Load Time:    3.7 || F1:  99.91 | Prec:  99.83 | Rec: 100.00 || Ex/s: 826.61\n",
      "\n",
      "===>  EVAL Epoch 14\n"
     ]
    },
    {
     "name": "stderr",
     "output_type": "stream",
     "text": [
      "0% [████████] 100% | ETA: 00:00:00\n",
      "Total time elapsed: 00:00:01\n"
     ]
    },
    {
     "name": "stdout",
     "output_type": "stream",
     "text": [
      "Finished Epoch 14 || Run Time:    0.4 | Load Time:    1.2 || F1:  64.52 | Prec:  61.90 | Rec:  67.36 || Ex/s: 1282.07\n",
      "\n",
      "---------------------\n",
      "\n",
      "===>  TRAIN Epoch 15\n"
     ]
    },
    {
     "name": "stderr",
     "output_type": "stream",
     "text": [
      "0% [████████████████████████] 100% | ETA: 00:00:00\n",
      "Total time elapsed: 00:00:07\n"
     ]
    },
    {
     "name": "stdout",
     "output_type": "stream",
     "text": [
      "Finished Epoch 15 || Run Time:    3.8 | Load Time:    3.7 || F1:  99.91 | Prec:  99.83 | Rec: 100.00 || Ex/s: 826.09\n",
      "\n",
      "===>  EVAL Epoch 15\n"
     ]
    },
    {
     "name": "stderr",
     "output_type": "stream",
     "text": [
      "0% [████████] 100% | ETA: 00:00:00\n",
      "Total time elapsed: 00:00:01\n"
     ]
    },
    {
     "name": "stdout",
     "output_type": "stream",
     "text": [
      "Finished Epoch 15 || Run Time:    0.4 | Load Time:    1.2 || F1:  64.50 | Prec:  62.32 | Rec:  66.84 || Ex/s: 1284.08\n",
      "\n",
      "---------------------\n",
      "\n",
      "Loading best model...\n",
      "Training done.\n"
     ]
    },
    {
     "data": {
      "text/plain": [
       "64.69135802469134"
      ]
     },
     "execution_count": 8,
     "metadata": {},
     "output_type": "execute_result"
    }
   ],
   "source": [
    "model = dm.MatchingModel(attr_summarizer='rnn')\n",
    "model.run_train(\n",
    "    train,\n",
    "    validation,\n",
    "    epochs=15,\n",
    "    batch_size=50,\n",
    "    best_save_path='rnn_model.pth',\n",
    "    pos_neg_ratio=10)"
   ]
  },
  {
   "cell_type": "code",
   "execution_count": 9,
   "metadata": {},
   "outputs": [
    {
     "name": "stdout",
     "output_type": "stream",
     "text": [
      "===>  EVAL Epoch 13\n"
     ]
    },
    {
     "name": "stderr",
     "output_type": "stream",
     "text": [
      "0% [█████████████] 100% | ETA: 00:00:00\n",
      "Total time elapsed: 00:00:01\n"
     ]
    },
    {
     "name": "stdout",
     "output_type": "stream",
     "text": [
      "Finished Epoch 13 || Run Time:    0.6 | Load Time:    1.2 || F1:  63.32 | Prec:  64.52 | Rec:  62.18 || Ex/s: 1110.24\n",
      "\n"
     ]
    },
    {
     "data": {
      "text/plain": [
       "63.324538258575195"
      ]
     },
     "execution_count": 9,
     "metadata": {},
     "output_type": "execute_result"
    }
   ],
   "source": [
    "# The F-1 score for RNN approach\n",
    "model.run_eval(test)"
   ]
  },
  {
   "cell_type": "code",
   "execution_count": 10,
   "metadata": {},
   "outputs": [
    {
     "name": "stdout",
     "output_type": "stream",
     "text": [
      "* Number of trainable parameters: 5234402\n",
      "===>  TRAIN Epoch 1\n"
     ]
    },
    {
     "name": "stderr",
     "output_type": "stream",
     "text": [
      "0% [████████████████████████] 100% | ETA: 00:00:00\n",
      "Total time elapsed: 00:00:11\n"
     ]
    },
    {
     "name": "stdout",
     "output_type": "stream",
     "text": [
      "Finished Epoch 1 || Run Time:    8.3 | Load Time:    3.7 || F1:  19.34 | Prec:  10.79 | Rec:  92.88 || Ex/s: 511.93\n",
      "\n",
      "===>  EVAL Epoch 1\n"
     ]
    },
    {
     "name": "stderr",
     "output_type": "stream",
     "text": [
      "0% [████████] 100% | ETA: 00:00:00\n",
      "Total time elapsed: 00:00:02\n"
     ]
    },
    {
     "name": "stdout",
     "output_type": "stream",
     "text": [
      "Finished Epoch 1 || Run Time:    1.0 | Load Time:    1.2 || F1:  22.04 | Prec:  12.43 | Rec:  96.89 || Ex/s: 956.25\n",
      "\n",
      "* Best F1: 22.03889216263995\n",
      "Saving best model...\n",
      "Done.\n",
      "---------------------\n",
      "\n",
      "===>  TRAIN Epoch 2\n"
     ]
    },
    {
     "name": "stderr",
     "output_type": "stream",
     "text": [
      "0% [████████████████████████] 100% | ETA: 00:00:00\n",
      "Total time elapsed: 00:00:11\n"
     ]
    },
    {
     "name": "stdout",
     "output_type": "stream",
     "text": [
      "Finished Epoch 2 || Run Time:    8.2 | Load Time:    3.7 || F1:  25.16 | Prec:  14.49 | Rec:  95.49 || Ex/s: 515.53\n",
      "\n",
      "===>  EVAL Epoch 2\n"
     ]
    },
    {
     "name": "stderr",
     "output_type": "stream",
     "text": [
      "0% [████████] 100% | ETA: 00:00:00\n",
      "Total time elapsed: 00:00:02\n"
     ]
    },
    {
     "name": "stdout",
     "output_type": "stream",
     "text": [
      "Finished Epoch 2 || Run Time:    1.0 | Load Time:    1.2 || F1:  23.51 | Prec:  13.39 | Rec:  96.37 || Ex/s: 941.03\n",
      "\n",
      "* Best F1: 23.51453855878635\n",
      "Saving best model...\n",
      "Done.\n",
      "---------------------\n",
      "\n",
      "===>  TRAIN Epoch 3\n"
     ]
    },
    {
     "name": "stderr",
     "output_type": "stream",
     "text": [
      "0% [████████████████████████] 100% | ETA: 00:00:00\n",
      "Total time elapsed: 00:00:11\n"
     ]
    },
    {
     "name": "stdout",
     "output_type": "stream",
     "text": [
      "Finished Epoch 3 || Run Time:    8.2 | Load Time:    3.7 || F1:  34.71 | Prec:  21.22 | Rec:  95.31 || Ex/s: 515.90\n",
      "\n",
      "===>  EVAL Epoch 3\n"
     ]
    },
    {
     "name": "stderr",
     "output_type": "stream",
     "text": [
      "0% [████████] 100% | ETA: 00:00:00\n",
      "Total time elapsed: 00:00:02\n"
     ]
    },
    {
     "name": "stdout",
     "output_type": "stream",
     "text": [
      "Finished Epoch 3 || Run Time:    1.0 | Load Time:    1.2 || F1:  31.45 | Prec:  19.02 | Rec:  90.67 || Ex/s: 954.66\n",
      "\n",
      "* Best F1: 31.446540880503143\n",
      "Saving best model...\n",
      "Done.\n",
      "---------------------\n",
      "\n",
      "===>  TRAIN Epoch 4\n"
     ]
    },
    {
     "name": "stderr",
     "output_type": "stream",
     "text": [
      "0% [████████████████████████] 100% | ETA: 00:00:00\n",
      "Total time elapsed: 00:00:11\n"
     ]
    },
    {
     "name": "stdout",
     "output_type": "stream",
     "text": [
      "Finished Epoch 4 || Run Time:    8.2 | Load Time:    3.7 || F1:  45.12 | Prec:  29.49 | Rec:  96.01 || Ex/s: 515.91\n",
      "\n",
      "===>  EVAL Epoch 4\n"
     ]
    },
    {
     "name": "stderr",
     "output_type": "stream",
     "text": [
      "0% [████████] 100% | ETA: 00:00:00\n",
      "Total time elapsed: 00:00:02\n"
     ]
    },
    {
     "name": "stdout",
     "output_type": "stream",
     "text": [
      "Finished Epoch 4 || Run Time:    1.0 | Load Time:    1.2 || F1:  40.32 | Prec:  27.09 | Rec:  78.76 || Ex/s: 957.34\n",
      "\n",
      "* Best F1: 40.318302387267906\n",
      "Saving best model...\n",
      "Done.\n",
      "---------------------\n",
      "\n",
      "===>  TRAIN Epoch 5\n"
     ]
    },
    {
     "name": "stderr",
     "output_type": "stream",
     "text": [
      "0% [████████████████████████] 100% | ETA: 00:00:00\n",
      "Total time elapsed: 00:00:11\n"
     ]
    },
    {
     "name": "stdout",
     "output_type": "stream",
     "text": [
      "Finished Epoch 5 || Run Time:    8.3 | Load Time:    3.7 || F1:  54.07 | Prec:  37.58 | Rec:  96.35 || Ex/s: 513.36\n",
      "\n",
      "===>  EVAL Epoch 5\n"
     ]
    },
    {
     "name": "stderr",
     "output_type": "stream",
     "text": [
      "0% [████████] 100% | ETA: 00:00:00\n",
      "Total time elapsed: 00:00:02\n"
     ]
    },
    {
     "name": "stdout",
     "output_type": "stream",
     "text": [
      "Finished Epoch 5 || Run Time:    1.0 | Load Time:    1.2 || F1:  37.06 | Prec:  23.70 | Rec:  84.97 || Ex/s: 947.85\n",
      "\n",
      "---------------------\n",
      "\n",
      "===>  TRAIN Epoch 6\n"
     ]
    },
    {
     "name": "stderr",
     "output_type": "stream",
     "text": [
      "0% [████████████████████████] 100% | ETA: 00:00:00\n",
      "Total time elapsed: 00:00:11\n"
     ]
    },
    {
     "name": "stdout",
     "output_type": "stream",
     "text": [
      "Finished Epoch 6 || Run Time:    8.2 | Load Time:    3.7 || F1:  60.45 | Prec:  43.83 | Rec:  97.40 || Ex/s: 516.39\n",
      "\n",
      "===>  EVAL Epoch 6\n"
     ]
    },
    {
     "name": "stderr",
     "output_type": "stream",
     "text": [
      "0% [████████] 100% | ETA: 00:00:00\n",
      "Total time elapsed: 00:00:02\n"
     ]
    },
    {
     "name": "stdout",
     "output_type": "stream",
     "text": [
      "Finished Epoch 6 || Run Time:    1.0 | Load Time:    1.2 || F1:  44.41 | Prec:  33.00 | Rec:  67.88 || Ex/s: 955.99\n",
      "\n",
      "* Best F1: 44.40677966101695\n",
      "Saving best model...\n",
      "Done.\n",
      "---------------------\n",
      "\n",
      "===>  TRAIN Epoch 7\n"
     ]
    },
    {
     "name": "stderr",
     "output_type": "stream",
     "text": [
      "0% [████████████████████████] 100% | ETA: 00:00:00\n",
      "Total time elapsed: 00:00:11\n"
     ]
    },
    {
     "name": "stdout",
     "output_type": "stream",
     "text": [
      "Finished Epoch 7 || Run Time:    8.2 | Load Time:    3.7 || F1:  64.13 | Prec:  47.68 | Rec:  97.92 || Ex/s: 516.40\n",
      "\n",
      "===>  EVAL Epoch 7\n"
     ]
    },
    {
     "name": "stderr",
     "output_type": "stream",
     "text": [
      "0% [████████] 100% | ETA: 00:00:00\n",
      "Total time elapsed: 00:00:02\n"
     ]
    },
    {
     "name": "stdout",
     "output_type": "stream",
     "text": [
      "Finished Epoch 7 || Run Time:    1.0 | Load Time:    1.2 || F1:  45.88 | Prec:  37.50 | Rec:  59.07 || Ex/s: 957.60\n",
      "\n",
      "* Best F1: 45.87525150905432\n",
      "Saving best model...\n",
      "Done.\n",
      "---------------------\n",
      "\n",
      "===>  TRAIN Epoch 8\n"
     ]
    },
    {
     "name": "stderr",
     "output_type": "stream",
     "text": [
      "0% [████████████████████████] 100% | ETA: 00:00:00\n",
      "Total time elapsed: 00:00:11\n"
     ]
    },
    {
     "name": "stdout",
     "output_type": "stream",
     "text": [
      "Finished Epoch 8 || Run Time:    8.2 | Load Time:    3.7 || F1:  67.38 | Prec:  51.32 | Rec:  98.09 || Ex/s: 517.62\n",
      "\n",
      "===>  EVAL Epoch 8\n"
     ]
    },
    {
     "name": "stderr",
     "output_type": "stream",
     "text": [
      "0% [████████] 100% | ETA: 00:00:00\n",
      "Total time elapsed: 00:00:02\n"
     ]
    },
    {
     "name": "stdout",
     "output_type": "stream",
     "text": [
      "Finished Epoch 8 || Run Time:    1.0 | Load Time:    1.2 || F1:  40.17 | Prec:  27.55 | Rec:  74.09 || Ex/s: 961.00\n",
      "\n",
      "---------------------\n",
      "\n",
      "===>  TRAIN Epoch 9\n"
     ]
    },
    {
     "name": "stderr",
     "output_type": "stream",
     "text": [
      "0% [████████████████████████] 100% | ETA: 00:00:00\n",
      "Total time elapsed: 00:00:11\n"
     ]
    },
    {
     "name": "stdout",
     "output_type": "stream",
     "text": [
      "Finished Epoch 9 || Run Time:    8.2 | Load Time:    3.7 || F1:  75.53 | Prec:  61.21 | Rec:  98.61 || Ex/s: 518.14\n",
      "\n",
      "===>  EVAL Epoch 9\n"
     ]
    },
    {
     "name": "stderr",
     "output_type": "stream",
     "text": [
      "0% [████████] 100% | ETA: 00:00:00\n",
      "Total time elapsed: 00:00:02\n"
     ]
    },
    {
     "name": "stdout",
     "output_type": "stream",
     "text": [
      "Finished Epoch 9 || Run Time:    1.0 | Load Time:    1.2 || F1:  46.69 | Prec:  35.17 | Rec:  69.43 || Ex/s: 958.46\n",
      "\n",
      "* Best F1: 46.68989547038327\n",
      "Saving best model...\n",
      "Done.\n",
      "---------------------\n",
      "\n",
      "===>  TRAIN Epoch 10\n"
     ]
    },
    {
     "name": "stderr",
     "output_type": "stream",
     "text": [
      "0% [████████████████████████] 100% | ETA: 00:00:00\n",
      "Total time elapsed: 00:00:11\n"
     ]
    },
    {
     "name": "stdout",
     "output_type": "stream",
     "text": [
      "Finished Epoch 10 || Run Time:    8.3 | Load Time:    3.7 || F1:  80.06 | Prec:  67.22 | Rec:  98.96 || Ex/s: 513.57\n",
      "\n",
      "===>  EVAL Epoch 10\n"
     ]
    },
    {
     "name": "stderr",
     "output_type": "stream",
     "text": [
      "0% [████████] 100% | ETA: 00:00:00\n",
      "Total time elapsed: 00:00:02\n"
     ]
    },
    {
     "name": "stdout",
     "output_type": "stream",
     "text": [
      "Finished Epoch 10 || Run Time:    1.0 | Load Time:    1.2 || F1:  49.12 | Prec:  39.38 | Rec:  65.28 || Ex/s: 958.85\n",
      "\n",
      "* Best F1: 49.12280701754386\n",
      "Saving best model...\n",
      "Done.\n",
      "---------------------\n",
      "\n",
      "===>  TRAIN Epoch 11\n"
     ]
    },
    {
     "name": "stderr",
     "output_type": "stream",
     "text": [
      "0% [████████████████████████] 100% | ETA: 00:00:00\n",
      "Total time elapsed: 00:00:11\n"
     ]
    },
    {
     "name": "stdout",
     "output_type": "stream",
     "text": [
      "Finished Epoch 11 || Run Time:    8.2 | Load Time:    3.7 || F1:  82.73 | Prec:  71.07 | Rec:  98.96 || Ex/s: 515.34\n",
      "\n",
      "===>  EVAL Epoch 11\n"
     ]
    },
    {
     "name": "stderr",
     "output_type": "stream",
     "text": [
      "0% [████████] 100% | ETA: 00:00:00\n",
      "Total time elapsed: 00:00:02\n"
     ]
    },
    {
     "name": "stdout",
     "output_type": "stream",
     "text": [
      "Finished Epoch 11 || Run Time:    1.0 | Load Time:    1.2 || F1:  49.61 | Prec:  40.00 | Rec:  65.28 || Ex/s: 953.91\n",
      "\n",
      "* Best F1: 49.60629921259843\n",
      "Saving best model...\n",
      "Done.\n",
      "---------------------\n",
      "\n",
      "===>  TRAIN Epoch 12\n"
     ]
    },
    {
     "name": "stderr",
     "output_type": "stream",
     "text": [
      "0% [████████████████████████] 100% | ETA: 00:00:00\n",
      "Total time elapsed: 00:00:11\n"
     ]
    },
    {
     "name": "stdout",
     "output_type": "stream",
     "text": [
      "Finished Epoch 12 || Run Time:    8.2 | Load Time:    3.7 || F1:  84.80 | Prec:  74.00 | Rec:  99.31 || Ex/s: 517.43\n",
      "\n",
      "===>  EVAL Epoch 12\n"
     ]
    },
    {
     "name": "stderr",
     "output_type": "stream",
     "text": [
      "0% [████████] 100% | ETA: 00:00:00\n",
      "Total time elapsed: 00:00:02\n"
     ]
    },
    {
     "name": "stdout",
     "output_type": "stream",
     "text": [
      "Finished Epoch 12 || Run Time:    1.0 | Load Time:    1.2 || F1:  49.14 | Prec:  39.02 | Rec:  66.32 || Ex/s: 956.36\n",
      "\n",
      "---------------------\n",
      "\n",
      "===>  TRAIN Epoch 13\n"
     ]
    },
    {
     "name": "stderr",
     "output_type": "stream",
     "text": [
      "0% [████████████████████████] 100% | ETA: 00:00:00\n",
      "Total time elapsed: 00:00:11\n"
     ]
    },
    {
     "name": "stdout",
     "output_type": "stream",
     "text": [
      "Finished Epoch 13 || Run Time:    8.2 | Load Time:    3.7 || F1:  86.27 | Prec:  76.27 | Rec:  99.31 || Ex/s: 517.14\n",
      "\n",
      "===>  EVAL Epoch 13\n"
     ]
    },
    {
     "name": "stderr",
     "output_type": "stream",
     "text": [
      "0% [████████] 100% | ETA: 00:00:00\n",
      "Total time elapsed: 00:00:02\n"
     ]
    },
    {
     "name": "stdout",
     "output_type": "stream",
     "text": [
      "Finished Epoch 13 || Run Time:    1.0 | Load Time:    1.2 || F1:  49.53 | Prec:  38.66 | Rec:  68.91 || Ex/s: 959.13\n",
      "\n",
      "---------------------\n",
      "\n",
      "===>  TRAIN Epoch 14\n"
     ]
    },
    {
     "name": "stderr",
     "output_type": "stream",
     "text": [
      "0% [████████████████████████] 100% | ETA: 00:00:00\n",
      "Total time elapsed: 00:00:11\n"
     ]
    },
    {
     "name": "stdout",
     "output_type": "stream",
     "text": [
      "Finished Epoch 14 || Run Time:    8.2 | Load Time:    3.7 || F1:  86.69 | Prec:  76.81 | Rec:  99.48 || Ex/s: 515.76\n",
      "\n",
      "===>  EVAL Epoch 14\n"
     ]
    },
    {
     "name": "stderr",
     "output_type": "stream",
     "text": [
      "0% [████████] 100% | ETA: 00:00:00\n",
      "Total time elapsed: 00:00:02\n"
     ]
    },
    {
     "name": "stdout",
     "output_type": "stream",
     "text": [
      "Finished Epoch 14 || Run Time:    1.0 | Load Time:    1.2 || F1:  50.00 | Prec:  39.07 | Rec:  69.43 || Ex/s: 957.45\n",
      "\n",
      "* Best F1: 50.0\n",
      "Saving best model...\n",
      "Done.\n",
      "---------------------\n",
      "\n",
      "===>  TRAIN Epoch 15\n"
     ]
    },
    {
     "name": "stderr",
     "output_type": "stream",
     "text": [
      "0% [████████████████████████] 100% | ETA: 00:00:00\n",
      "Total time elapsed: 00:00:11\n"
     ]
    },
    {
     "name": "stdout",
     "output_type": "stream",
     "text": [
      "Finished Epoch 15 || Run Time:    8.3 | Load Time:    3.7 || F1:  87.55 | Prec:  78.17 | Rec:  99.48 || Ex/s: 512.36\n",
      "\n",
      "===>  EVAL Epoch 15\n"
     ]
    },
    {
     "name": "stderr",
     "output_type": "stream",
     "text": [
      "0% [████████] 100% | ETA: 00:00:00\n",
      "Total time elapsed: 00:00:02\n"
     ]
    },
    {
     "name": "stdout",
     "output_type": "stream",
     "text": [
      "Finished Epoch 15 || Run Time:    1.0 | Load Time:    1.2 || F1:  50.19 | Prec:  39.82 | Rec:  67.88 || Ex/s: 961.56\n",
      "\n",
      "* Best F1: 50.19157088122605\n",
      "Saving best model...\n",
      "Done.\n",
      "---------------------\n",
      "\n",
      "Loading best model...\n",
      "Training done.\n"
     ]
    },
    {
     "data": {
      "text/plain": [
       "50.19157088122605"
      ]
     },
     "execution_count": 10,
     "metadata": {},
     "output_type": "execute_result"
    }
   ],
   "source": [
    "model = dm.MatchingModel(attr_summarizer='attention')\n",
    "model.run_train(\n",
    "    train,\n",
    "    validation,\n",
    "    epochs=15,\n",
    "    batch_size=50,\n",
    "    best_save_path='attention_model.pth',\n",
    "    pos_neg_ratio=10)"
   ]
  },
  {
   "cell_type": "code",
   "execution_count": 11,
   "metadata": {},
   "outputs": [
    {
     "name": "stdout",
     "output_type": "stream",
     "text": [
      "===>  EVAL Epoch 15\n"
     ]
    },
    {
     "name": "stderr",
     "output_type": "stream",
     "text": [
      "0% [█████████████] 100% | ETA: 00:00:00\n",
      "Total time elapsed: 00:00:02\n"
     ]
    },
    {
     "name": "stdout",
     "output_type": "stream",
     "text": [
      "Finished Epoch 15 || Run Time:    1.3 | Load Time:    1.2 || F1:  49.09 | Prec:  40.13 | Rec:  63.21 || Ex/s: 813.88\n",
      "\n"
     ]
    },
    {
     "data": {
      "text/plain": [
       "49.094567404426556"
      ]
     },
     "execution_count": 11,
     "metadata": {},
     "output_type": "execute_result"
    }
   ],
   "source": [
    "# The F-1 score for attention approach\n",
    "model.run_eval(test)"
   ]
  },
  {
   "cell_type": "code",
   "execution_count": 12,
   "metadata": {},
   "outputs": [
    {
     "name": "stdout",
     "output_type": "stream",
     "text": [
      "* Number of trainable parameters: 11286907\n",
      "===>  TRAIN Epoch 1\n"
     ]
    },
    {
     "name": "stderr",
     "output_type": "stream",
     "text": [
      "0% [████████████████████████] 100% | ETA: 00:00:00\n",
      "Total time elapsed: 00:00:20\n"
     ]
    },
    {
     "name": "stdout",
     "output_type": "stream",
     "text": [
      "Finished Epoch 1 || Run Time:   17.0 | Load Time:    4.0 || F1:  20.48 | Prec:  11.45 | Rec:  96.53 || Ex/s: 292.02\n",
      "\n",
      "===>  EVAL Epoch 1\n"
     ]
    },
    {
     "name": "stderr",
     "output_type": "stream",
     "text": [
      "0% [████████] 100% | ETA: 00:00:00\n",
      "Total time elapsed: 00:00:02\n"
     ]
    },
    {
     "name": "stdout",
     "output_type": "stream",
     "text": [
      "Finished Epoch 1 || Run Time:    1.8 | Load Time:    1.2 || F1:  26.69 | Prec:  15.54 | Rec:  94.30 || Ex/s: 688.95\n",
      "\n",
      "* Best F1: 26.68621700879765\n",
      "Saving best model...\n",
      "Done.\n",
      "---------------------\n",
      "\n",
      "===>  TRAIN Epoch 2\n"
     ]
    },
    {
     "name": "stderr",
     "output_type": "stream",
     "text": [
      "0% [████████████████████████] 100% | ETA: 00:00:00\n",
      "Total time elapsed: 00:00:21\n"
     ]
    },
    {
     "name": "stdout",
     "output_type": "stream",
     "text": [
      "Finished Epoch 2 || Run Time:   17.8 | Load Time:    4.2 || F1:  29.27 | Prec:  17.36 | Rec:  93.23 || Ex/s: 279.24\n",
      "\n",
      "===>  EVAL Epoch 2\n"
     ]
    },
    {
     "name": "stderr",
     "output_type": "stream",
     "text": [
      "0% [████████] 100% | ETA: 00:00:00\n",
      "Total time elapsed: 00:00:03\n"
     ]
    },
    {
     "name": "stdout",
     "output_type": "stream",
     "text": [
      "Finished Epoch 2 || Run Time:    2.1 | Load Time:    1.3 || F1:  29.72 | Prec:  17.79 | Rec:  90.16 || Ex/s: 601.97\n",
      "\n",
      "* Best F1: 29.71818958155422\n",
      "Saving best model...\n",
      "Done.\n",
      "---------------------\n",
      "\n",
      "===>  TRAIN Epoch 3\n"
     ]
    },
    {
     "name": "stderr",
     "output_type": "stream",
     "text": [
      "0% [████████████████████████] 100% | ETA: 00:00:00\n",
      "Total time elapsed: 00:00:20\n"
     ]
    },
    {
     "name": "stdout",
     "output_type": "stream",
     "text": [
      "Finished Epoch 3 || Run Time:   17.1 | Load Time:    4.0 || F1:  39.26 | Prec:  24.73 | Rec:  95.14 || Ex/s: 291.02\n",
      "\n",
      "===>  EVAL Epoch 3\n"
     ]
    },
    {
     "name": "stderr",
     "output_type": "stream",
     "text": [
      "0% [████████] 100% | ETA: 00:00:00\n",
      "Total time elapsed: 00:00:02\n"
     ]
    },
    {
     "name": "stdout",
     "output_type": "stream",
     "text": [
      "Finished Epoch 3 || Run Time:    1.8 | Load Time:    1.2 || F1:  46.24 | Prec:  32.30 | Rec:  81.35 || Ex/s: 690.45\n",
      "\n",
      "* Best F1: 46.24447717231222\n",
      "Saving best model...\n",
      "Done.\n",
      "---------------------\n",
      "\n",
      "===>  TRAIN Epoch 4\n"
     ]
    },
    {
     "name": "stderr",
     "output_type": "stream",
     "text": [
      "0% [████████████████████████] 100% | ETA: 00:00:00\n",
      "Total time elapsed: 00:00:19\n"
     ]
    },
    {
     "name": "stdout",
     "output_type": "stream",
     "text": [
      "Finished Epoch 4 || Run Time:   16.5 | Load Time:    3.9 || F1:  52.53 | Prec:  36.08 | Rec:  96.53 || Ex/s: 301.15\n",
      "\n",
      "===>  EVAL Epoch 4\n"
     ]
    },
    {
     "name": "stderr",
     "output_type": "stream",
     "text": [
      "0% [████████] 100% | ETA: 00:00:00\n",
      "Total time elapsed: 00:00:02\n"
     ]
    },
    {
     "name": "stdout",
     "output_type": "stream",
     "text": [
      "Finished Epoch 4 || Run Time:    1.8 | Load Time:    1.2 || F1:  49.53 | Prec:  35.41 | Rec:  82.38 || Ex/s: 691.60\n",
      "\n",
      "* Best F1: 49.532710280373834\n",
      "Saving best model...\n",
      "Done.\n",
      "---------------------\n",
      "\n",
      "===>  TRAIN Epoch 5\n"
     ]
    },
    {
     "name": "stderr",
     "output_type": "stream",
     "text": [
      "0% [████████████████████████] 100% | ETA: 00:00:00\n",
      "Total time elapsed: 00:00:20\n"
     ]
    },
    {
     "name": "stdout",
     "output_type": "stream",
     "text": [
      "Finished Epoch 5 || Run Time:   17.1 | Load Time:    4.1 || F1:  64.24 | Prec:  47.76 | Rec:  98.09 || Ex/s: 290.55\n",
      "\n",
      "===>  EVAL Epoch 5\n"
     ]
    },
    {
     "name": "stderr",
     "output_type": "stream",
     "text": [
      "0% [████████] 100% | ETA: 00:00:00\n",
      "Total time elapsed: 00:00:03\n"
     ]
    },
    {
     "name": "stdout",
     "output_type": "stream",
     "text": [
      "Finished Epoch 5 || Run Time:    2.0 | Load Time:    1.3 || F1:  58.00 | Prec:  49.28 | Rec:  70.47 || Ex/s: 624.13\n",
      "\n",
      "* Best F1: 57.995735607675904\n",
      "Saving best model...\n",
      "Done.\n",
      "---------------------\n",
      "\n",
      "===>  TRAIN Epoch 6\n"
     ]
    },
    {
     "name": "stderr",
     "output_type": "stream",
     "text": [
      "0% [████████████████████████] 100% | ETA: 00:00:00\n",
      "Total time elapsed: 00:00:20\n"
     ]
    },
    {
     "name": "stdout",
     "output_type": "stream",
     "text": [
      "Finished Epoch 6 || Run Time:   17.0 | Load Time:    4.0 || F1:  74.22 | Prec:  59.38 | Rec:  98.96 || Ex/s: 293.11\n",
      "\n",
      "===>  EVAL Epoch 6\n"
     ]
    },
    {
     "name": "stderr",
     "output_type": "stream",
     "text": [
      "0% [████████] 100% | ETA: 00:00:00\n",
      "Total time elapsed: 00:00:02\n"
     ]
    },
    {
     "name": "stdout",
     "output_type": "stream",
     "text": [
      "Finished Epoch 6 || Run Time:    1.8 | Load Time:    1.2 || F1:  56.76 | Prec:  44.88 | Rec:  77.20 || Ex/s: 691.00\n",
      "\n",
      "---------------------\n",
      "\n",
      "===>  TRAIN Epoch 7\n"
     ]
    },
    {
     "name": "stderr",
     "output_type": "stream",
     "text": [
      "0% [████████████████████████] 100% | ETA: 00:00:00\n",
      "Total time elapsed: 00:00:19\n"
     ]
    },
    {
     "name": "stdout",
     "output_type": "stream",
     "text": [
      "Finished Epoch 7 || Run Time:   16.4 | Load Time:    3.9 || F1:  81.53 | Prec:  68.99 | Rec:  99.65 || Ex/s: 302.55\n",
      "\n",
      "===>  EVAL Epoch 7\n"
     ]
    },
    {
     "name": "stderr",
     "output_type": "stream",
     "text": [
      "0% [████████] 100% | ETA: 00:00:00\n",
      "Total time elapsed: 00:00:03\n"
     ]
    },
    {
     "name": "stdout",
     "output_type": "stream",
     "text": [
      "Finished Epoch 7 || Run Time:    1.9 | Load Time:    1.2 || F1:  53.81 | Prec:  40.86 | Rec:  78.76 || Ex/s: 652.58\n",
      "\n",
      "---------------------\n",
      "\n",
      "===>  TRAIN Epoch 8\n"
     ]
    },
    {
     "name": "stderr",
     "output_type": "stream",
     "text": [
      "0% [████████████████████████] 100% | ETA: 00:00:00\n",
      "Total time elapsed: 00:00:22\n"
     ]
    },
    {
     "name": "stdout",
     "output_type": "stream",
     "text": [
      "Finished Epoch 8 || Run Time:   19.0 | Load Time:    4.5 || F1:  89.76 | Prec:  81.65 | Rec:  99.65 || Ex/s: 261.24\n",
      "\n",
      "===>  EVAL Epoch 8\n"
     ]
    },
    {
     "name": "stderr",
     "output_type": "stream",
     "text": [
      "0% [████████] 100% | ETA: 00:00:00\n",
      "Total time elapsed: 00:00:02\n"
     ]
    },
    {
     "name": "stdout",
     "output_type": "stream",
     "text": [
      "Finished Epoch 8 || Run Time:    1.8 | Load Time:    1.2 || F1:  56.62 | Prec:  46.64 | Rec:  72.02 || Ex/s: 673.87\n",
      "\n",
      "---------------------\n",
      "\n",
      "===>  TRAIN Epoch 9\n"
     ]
    },
    {
     "name": "stderr",
     "output_type": "stream",
     "text": [
      "0% [████████████████████████] 100% | ETA: 00:00:00\n",
      "Total time elapsed: 00:00:21\n"
     ]
    },
    {
     "name": "stdout",
     "output_type": "stream",
     "text": [
      "Finished Epoch 9 || Run Time:   17.8 | Load Time:    4.2 || F1:  92.22 | Prec:  85.69 | Rec:  99.83 || Ex/s: 278.88\n",
      "\n",
      "===>  EVAL Epoch 9\n"
     ]
    },
    {
     "name": "stderr",
     "output_type": "stream",
     "text": [
      "0% [████████] 100% | ETA: 00:00:00\n",
      "Total time elapsed: 00:00:03\n"
     ]
    },
    {
     "name": "stdout",
     "output_type": "stream",
     "text": [
      "Finished Epoch 9 || Run Time:    2.0 | Load Time:    1.3 || F1:  56.40 | Prec:  45.93 | Rec:  73.06 || Ex/s: 611.37\n",
      "\n",
      "---------------------\n",
      "\n",
      "===>  TRAIN Epoch 10\n"
     ]
    },
    {
     "name": "stderr",
     "output_type": "stream",
     "text": [
      "0% [████████████████████████] 100% | ETA: 00:00:00\n",
      "Total time elapsed: 00:00:20\n"
     ]
    },
    {
     "name": "stdout",
     "output_type": "stream",
     "text": [
      "Finished Epoch 10 || Run Time:   17.3 | Load Time:    4.1 || F1:  92.90 | Prec:  86.75 | Rec: 100.00 || Ex/s: 287.77\n",
      "\n",
      "===>  EVAL Epoch 10\n"
     ]
    },
    {
     "name": "stderr",
     "output_type": "stream",
     "text": [
      "0% [████████] 100% | ETA: 00:00:00\n",
      "Total time elapsed: 00:00:03\n"
     ]
    },
    {
     "name": "stdout",
     "output_type": "stream",
     "text": [
      "Finished Epoch 10 || Run Time:    2.0 | Load Time:    1.3 || F1:  56.06 | Prec:  45.48 | Rec:  73.06 || Ex/s: 615.00\n",
      "\n",
      "---------------------\n",
      "\n",
      "===>  TRAIN Epoch 11\n"
     ]
    },
    {
     "name": "stderr",
     "output_type": "stream",
     "text": [
      "0% [████████████████████████] 100% | ETA: 00:00:00\n",
      "Total time elapsed: 00:00:20\n"
     ]
    },
    {
     "name": "stdout",
     "output_type": "stream",
     "text": [
      "Finished Epoch 11 || Run Time:   17.1 | Load Time:    4.0 || F1:  93.89 | Prec:  88.48 | Rec: 100.00 || Ex/s: 290.31\n",
      "\n",
      "===>  EVAL Epoch 11\n"
     ]
    },
    {
     "name": "stderr",
     "output_type": "stream",
     "text": [
      "0% [████████] 100% | ETA: 00:00:00\n",
      "Total time elapsed: 00:00:03\n"
     ]
    },
    {
     "name": "stdout",
     "output_type": "stream",
     "text": [
      "Finished Epoch 11 || Run Time:    1.9 | Load Time:    1.3 || F1:  54.34 | Prec:  42.73 | Rec:  74.61 || Ex/s: 645.84\n",
      "\n",
      "---------------------\n",
      "\n",
      "===>  TRAIN Epoch 12\n"
     ]
    },
    {
     "name": "stderr",
     "output_type": "stream",
     "text": [
      "0% [████████████████████████] 100% | ETA: 00:00:00\n",
      "Total time elapsed: 00:00:21\n"
     ]
    },
    {
     "name": "stdout",
     "output_type": "stream",
     "text": [
      "Finished Epoch 12 || Run Time:   17.7 | Load Time:    4.1 || F1:  95.44 | Prec:  91.28 | Rec: 100.00 || Ex/s: 281.90\n",
      "\n",
      "===>  EVAL Epoch 12\n"
     ]
    },
    {
     "name": "stderr",
     "output_type": "stream",
     "text": [
      "0% [████████] 100% | ETA: 00:00:00\n",
      "Total time elapsed: 00:00:03\n"
     ]
    },
    {
     "name": "stdout",
     "output_type": "stream",
     "text": [
      "Finished Epoch 12 || Run Time:    1.9 | Load Time:    1.3 || F1:  57.91 | Prec:  47.96 | Rec:  73.06 || Ex/s: 646.06\n",
      "\n",
      "---------------------\n",
      "\n",
      "===>  TRAIN Epoch 13\n"
     ]
    },
    {
     "name": "stderr",
     "output_type": "stream",
     "text": [
      "0% [████████████████████████] 100% | ETA: 00:00:00\n",
      "Total time elapsed: 00:00:20\n"
     ]
    },
    {
     "name": "stdout",
     "output_type": "stream",
     "text": [
      "Finished Epoch 13 || Run Time:   17.2 | Load Time:    4.0 || F1:  96.81 | Prec:  93.81 | Rec: 100.00 || Ex/s: 289.20\n",
      "\n",
      "===>  EVAL Epoch 13\n"
     ]
    },
    {
     "name": "stderr",
     "output_type": "stream",
     "text": [
      "0% [████████] 100% | ETA: 00:00:00\n",
      "Total time elapsed: 00:00:02\n"
     ]
    },
    {
     "name": "stdout",
     "output_type": "stream",
     "text": [
      "Finished Epoch 13 || Run Time:    1.8 | Load Time:    1.2 || F1:  61.22 | Prec:  54.44 | Rec:  69.95 || Ex/s: 681.62\n",
      "\n",
      "* Best F1: 61.224489795918366\n",
      "Saving best model...\n",
      "Done.\n",
      "---------------------\n",
      "\n",
      "===>  TRAIN Epoch 14\n"
     ]
    },
    {
     "name": "stderr",
     "output_type": "stream",
     "text": [
      "0% [████████████████████████] 100% | ETA: 00:00:00\n",
      "Total time elapsed: 00:00:20\n"
     ]
    },
    {
     "name": "stdout",
     "output_type": "stream",
     "text": [
      "Finished Epoch 14 || Run Time:   17.0 | Load Time:    4.0 || F1:  97.79 | Prec:  95.68 | Rec: 100.00 || Ex/s: 292.36\n",
      "\n",
      "===>  EVAL Epoch 14\n"
     ]
    },
    {
     "name": "stderr",
     "output_type": "stream",
     "text": [
      "0% [████████] 100% | ETA: 00:00:00\n",
      "Total time elapsed: 00:00:03\n"
     ]
    },
    {
     "name": "stdout",
     "output_type": "stream",
     "text": [
      "Finished Epoch 14 || Run Time:    1.9 | Load Time:    1.2 || F1:  61.36 | Prec:  55.98 | Rec:  67.88 || Ex/s: 655.58\n",
      "\n",
      "* Best F1: 61.35831381733021\n",
      "Saving best model...\n",
      "Done.\n",
      "---------------------\n",
      "\n",
      "===>  TRAIN Epoch 15\n"
     ]
    },
    {
     "name": "stderr",
     "output_type": "stream",
     "text": [
      "0% [████████████████████████] 100% | ETA: 00:00:00\n",
      "Total time elapsed: 00:00:20\n"
     ]
    },
    {
     "name": "stdout",
     "output_type": "stream",
     "text": [
      "Finished Epoch 15 || Run Time:   17.0 | Load Time:    4.0 || F1:  98.21 | Prec:  96.48 | Rec: 100.00 || Ex/s: 292.59\n",
      "\n",
      "===>  EVAL Epoch 15\n"
     ]
    },
    {
     "name": "stderr",
     "output_type": "stream",
     "text": [
      "0% [████████] 100% | ETA: 00:00:00\n",
      "Total time elapsed: 00:00:03\n"
     ]
    },
    {
     "name": "stdout",
     "output_type": "stream",
     "text": [
      "Finished Epoch 15 || Run Time:    1.9 | Load Time:    1.3 || F1:  61.61 | Prec:  56.77 | Rec:  67.36 || Ex/s: 641.05\n",
      "\n",
      "* Best F1: 61.611374407582936\n",
      "Saving best model...\n",
      "Done.\n",
      "---------------------\n",
      "\n",
      "Loading best model...\n",
      "Training done.\n"
     ]
    },
    {
     "data": {
      "text/plain": [
       "61.611374407582936"
      ]
     },
     "execution_count": 12,
     "metadata": {},
     "output_type": "execute_result"
    }
   ],
   "source": [
    "model = dm.MatchingModel(attr_summarizer='hybrid')\n",
    "model.run_train(\n",
    "    train,\n",
    "    validation,\n",
    "    epochs=15,\n",
    "    batch_size=50,\n",
    "    best_save_path='hybrid_model.pth',\n",
    "    pos_neg_ratio=10)"
   ]
  },
  {
   "cell_type": "code",
   "execution_count": 13,
   "metadata": {},
   "outputs": [
    {
     "name": "stdout",
     "output_type": "stream",
     "text": [
      "===>  EVAL Epoch 15\n"
     ]
    },
    {
     "name": "stderr",
     "output_type": "stream",
     "text": [
      "0% [█████████████] 100% | ETA: 00:00:00\n",
      "Total time elapsed: 00:00:03\n"
     ]
    },
    {
     "name": "stdout",
     "output_type": "stream",
     "text": [
      "Finished Epoch 15 || Run Time:    2.6 | Load Time:    1.2 || F1:  63.48 | Prec:  61.76 | Rec:  65.28 || Ex/s: 531.42\n",
      "\n"
     ]
    },
    {
     "data": {
      "text/plain": [
       "63.476070528967256"
      ]
     },
     "execution_count": 13,
     "metadata": {},
     "output_type": "execute_result"
    }
   ],
   "source": [
    "# The F-1 score for hybird approach\n",
    "model.run_eval(test)"
   ]
  },
  {
   "cell_type": "code",
   "execution_count": 14,
   "metadata": {},
   "outputs": [],
   "source": [
    "import torch\n",
    "import torch.nn as nn\n",
    "import torch.nn.functional as F\n",
    "\n",
    "\n",
    "class attr_sum_simple_cnn(nn.Module):\n",
    "    def __init__(self):\n",
    "        super(attr_sum_simple_cnn, self).__init__()\n",
    "        self.sentence_length = 36\n",
    "        self.CNN1 = Net()\n",
    "        self.CNN2 = Net()\n",
    "\n",
    "    def forward(self, x1, x2):\n",
    "        x1 = x1.unsqueeze(1)\n",
    "        x2 = x2.unsqueeze(1)\n",
    "        x1 = F.pad(x1, (0, 0, 0, self.sentence_length - x1.size()[2]))\n",
    "        x2 = F.pad(x2, (0, 0, 0, self.sentence_length - x2.size()[2]))\n",
    "        x1 = self.CNN1(x1)\n",
    "        x2 = self.CNN2(x2)\n",
    "        return x1, x2\n",
    "\n",
    "class Net(nn.Module):\n",
    "    def __init__(self):\n",
    "        super(Net, self).__init__()\n",
    "        words_dim = 300\n",
    "        self.conv1 = nn.Conv2d(\n",
    "                in_channels=1,  # input height\n",
    "                out_channels=6,  # n_filters\n",
    "                kernel_size=(3, words_dim),  # filter size\n",
    "                stride=1,  # filter movement/step\n",
    "                padding=(2,0),#padding=(kernel_size-1)/2\n",
    "            )\n",
    "        self.conv2 = nn.Conv2d(\n",
    "            in_channels=1,  # input height\n",
    "            out_channels=6,  # n_filters\n",
    "            kernel_size=(4, words_dim),  # filter size\n",
    "            stride=1,  # filter movement/step\n",
    "            padding=(3, 0),  # padding=(kernel_size-1)/2\n",
    "        )\n",
    "        self.conv3 = nn.Conv2d(\n",
    "            in_channels=1,  # input height\n",
    "            out_channels=6,  # n_filters\n",
    "            kernel_size=(5, words_dim),  # filter size\n",
    "            stride=1,  # filter movement/step\n",
    "            padding=(4, 0),  # padding=(kernel_size-1)/2\n",
    "        )# output = [batch, output_channel, sql_len, 1]\n",
    "\n",
    "    def forward(self, x):\n",
    "        x = [F.relu(self.conv1(x)).squeeze(3), F.relu(self.conv2(x)).squeeze(3), F.relu(self.conv3(x)).squeeze(3)]\n",
    "        # (batch, channel_output, ~=sent_len) * Ks\n",
    "        x = [F.max_pool1d(i, i.size(2)).squeeze(2) for i in x]  # max-over-time pooling\n",
    "        # (batch, channel_output) * Ks\n",
    "        x = torch.cat(x, 1)\n",
    "        return x"
   ]
  },
  {
   "cell_type": "code",
   "execution_count": 15,
   "metadata": {},
   "outputs": [],
   "source": [
    "simple_cnn_attr_summarizer_module = dm.modules.NoMeta(attr_sum_simple_cnn())\n",
    "\n",
    "model = dm.MatchingModel(attr_summarizer=lambda: simple_cnn_attr_summarizer_module, \n",
    "                         attr_comparator='abs-diff',\n",
    "                         classifier='3-layer-residual-relu')"
   ]
  },
  {
   "cell_type": "code",
   "execution_count": 16,
   "metadata": {},
   "outputs": [
    {
     "name": "stdout",
     "output_type": "stream",
     "text": [
      "* Number of trainable parameters: 597038\n",
      "===>  TRAIN Epoch 1\n"
     ]
    },
    {
     "name": "stderr",
     "output_type": "stream",
     "text": [
      "0% [████████████████████████] 100% | ETA: 00:00:00\n",
      "Total time elapsed: 00:00:06\n"
     ]
    },
    {
     "name": "stdout",
     "output_type": "stream",
     "text": [
      "Finished Epoch 1 || Run Time:    3.3 | Load Time:    3.7 || F1:  18.77 | Prec:  10.42 | Rec:  94.27 || Ex/s: 885.66\n",
      "\n",
      "===>  EVAL Epoch 1\n"
     ]
    },
    {
     "name": "stderr",
     "output_type": "stream",
     "text": [
      "0% [████████] 100% | ETA: 00:00:00\n",
      "Total time elapsed: 00:00:01\n"
     ]
    },
    {
     "name": "stdout",
     "output_type": "stream",
     "text": [
      "Finished Epoch 1 || Run Time:    0.4 | Load Time:    1.2 || F1:  19.01 | Prec:  10.52 | Rec:  98.92 || Ex/s: 1254.99\n",
      "\n",
      "* Best F1: 19.012987012987015\n",
      "Saving best model...\n",
      "Done.\n",
      "---------------------\n",
      "\n",
      "===>  TRAIN Epoch 2\n"
     ]
    },
    {
     "name": "stderr",
     "output_type": "stream",
     "text": [
      "0% [████████████████████████] 100% | ETA: 00:00:00\n",
      "Total time elapsed: 00:00:06\n"
     ]
    },
    {
     "name": "stdout",
     "output_type": "stream",
     "text": [
      "Finished Epoch 2 || Run Time:    2.9 | Load Time:    3.8 || F1:  22.28 | Prec:  12.61 | Rec:  96.01 || Ex/s: 912.05\n",
      "\n",
      "===>  EVAL Epoch 2\n"
     ]
    },
    {
     "name": "stderr",
     "output_type": "stream",
     "text": [
      "0% [████████] 100% | ETA: 00:00:00\n",
      "Total time elapsed: 00:00:01\n"
     ]
    },
    {
     "name": "stdout",
     "output_type": "stream",
     "text": [
      "Finished Epoch 2 || Run Time:    0.4 | Load Time:    1.3 || F1:  19.65 | Prec:  10.90 | Rec:  99.46 || Ex/s: 1187.02\n",
      "\n",
      "* Best F1: 19.647624132407902\n",
      "Saving best model...\n",
      "Done.\n",
      "---------------------\n",
      "\n",
      "===>  TRAIN Epoch 3\n"
     ]
    },
    {
     "name": "stderr",
     "output_type": "stream",
     "text": [
      "0% [████████████████████████] 100% | ETA: 00:00:00\n",
      "Total time elapsed: 00:00:06\n"
     ]
    },
    {
     "name": "stdout",
     "output_type": "stream",
     "text": [
      "Finished Epoch 3 || Run Time:    2.9 | Load Time:    3.9 || F1:  25.26 | Prec:  14.60 | Rec:  93.40 || Ex/s: 911.00\n",
      "\n",
      "===>  EVAL Epoch 3\n"
     ]
    },
    {
     "name": "stderr",
     "output_type": "stream",
     "text": [
      "0% [████████] 100% | ETA: 00:00:00\n",
      "Total time elapsed: 00:00:01\n"
     ]
    },
    {
     "name": "stdout",
     "output_type": "stream",
     "text": [
      "Finished Epoch 3 || Run Time:    0.5 | Load Time:    1.4 || F1:  23.37 | Prec:  13.29 | Rec:  96.76 || Ex/s: 1131.23\n",
      "\n",
      "* Best F1: 23.368146214099216\n",
      "Saving best model...\n",
      "Done.\n",
      "---------------------\n",
      "\n",
      "===>  TRAIN Epoch 4\n"
     ]
    },
    {
     "name": "stderr",
     "output_type": "stream",
     "text": [
      "0% [████████████████████████] 100% | ETA: 00:00:00\n",
      "Total time elapsed: 00:00:06\n"
     ]
    },
    {
     "name": "stdout",
     "output_type": "stream",
     "text": [
      "Finished Epoch 4 || Run Time:    2.9 | Load Time:    3.8 || F1:  30.09 | Prec:  17.94 | Rec:  93.06 || Ex/s: 930.16\n",
      "\n",
      "===>  EVAL Epoch 4\n"
     ]
    },
    {
     "name": "stderr",
     "output_type": "stream",
     "text": [
      "0% [████████] 100% | ETA: 00:00:00\n",
      "Total time elapsed: 00:00:01\n"
     ]
    },
    {
     "name": "stdout",
     "output_type": "stream",
     "text": [
      "Finished Epoch 4 || Run Time:    0.4 | Load Time:    1.3 || F1:  26.30 | Prec:  15.29 | Rec:  94.05 || Ex/s: 1172.87\n",
      "\n",
      "* Best F1: 26.303854875283445\n",
      "Saving best model...\n",
      "Done.\n",
      "---------------------\n",
      "\n",
      "===>  TRAIN Epoch 5\n"
     ]
    },
    {
     "name": "stderr",
     "output_type": "stream",
     "text": [
      "0% [████████████████████████] 100% | ETA: 00:00:00\n",
      "Total time elapsed: 00:00:07\n"
     ]
    },
    {
     "name": "stdout",
     "output_type": "stream",
     "text": [
      "Finished Epoch 5 || Run Time:    3.1 | Load Time:    4.1 || F1:  36.27 | Prec:  22.46 | Rec:  94.10 || Ex/s: 852.31\n",
      "\n",
      "===>  EVAL Epoch 5\n"
     ]
    },
    {
     "name": "stderr",
     "output_type": "stream",
     "text": [
      "0% [████████] 100% | ETA: 00:00:00\n",
      "Total time elapsed: 00:00:01\n"
     ]
    },
    {
     "name": "stdout",
     "output_type": "stream",
     "text": [
      "Finished Epoch 5 || Run Time:    0.4 | Load Time:    1.2 || F1:  31.16 | Prec:  18.72 | Rec:  92.97 || Ex/s: 1227.27\n",
      "\n",
      "* Best F1: 31.159420289855078\n",
      "Saving best model...\n",
      "Done.\n",
      "---------------------\n",
      "\n",
      "===>  TRAIN Epoch 6\n"
     ]
    },
    {
     "name": "stderr",
     "output_type": "stream",
     "text": [
      "0% [████████████████████████] 100% | ETA: 00:00:00\n",
      "Total time elapsed: 00:00:07\n"
     ]
    },
    {
     "name": "stdout",
     "output_type": "stream",
     "text": [
      "Finished Epoch 6 || Run Time:    3.1 | Load Time:    4.1 || F1:  42.49 | Prec:  27.34 | Rec:  95.31 || Ex/s: 856.44\n",
      "\n",
      "===>  EVAL Epoch 6\n"
     ]
    },
    {
     "name": "stderr",
     "output_type": "stream",
     "text": [
      "0% [████████] 100% | ETA: 00:00:00\n",
      "Total time elapsed: 00:00:01\n"
     ]
    },
    {
     "name": "stdout",
     "output_type": "stream",
     "text": [
      "Finished Epoch 6 || Run Time:    0.5 | Load Time:    1.3 || F1:  30.67 | Prec:  18.47 | Rec:  90.27 || Ex/s: 1135.10\n",
      "\n",
      "---------------------\n",
      "\n",
      "===>  TRAIN Epoch 7\n"
     ]
    },
    {
     "name": "stderr",
     "output_type": "stream",
     "text": [
      "0% [████████████████████████] 100% | ETA: 00:00:00\n",
      "Total time elapsed: 00:00:06\n"
     ]
    },
    {
     "name": "stdout",
     "output_type": "stream",
     "text": [
      "Finished Epoch 7 || Run Time:    3.0 | Load Time:    3.9 || F1:  47.60 | Prec:  31.70 | Rec:  95.49 || Ex/s: 893.82\n",
      "\n",
      "===>  EVAL Epoch 7\n"
     ]
    },
    {
     "name": "stderr",
     "output_type": "stream",
     "text": [
      "0% [████████] 100% | ETA: 00:00:00\n",
      "Total time elapsed: 00:00:01\n"
     ]
    },
    {
     "name": "stdout",
     "output_type": "stream",
     "text": [
      "Finished Epoch 7 || Run Time:    0.4 | Load Time:    1.2 || F1:  48.37 | Prec:  33.91 | Rec:  84.32 || Ex/s: 1275.18\n",
      "\n",
      "* Best F1: 48.37209302325581\n",
      "Saving best model...\n",
      "Done.\n",
      "---------------------\n",
      "\n",
      "===>  TRAIN Epoch 8\n"
     ]
    },
    {
     "name": "stderr",
     "output_type": "stream",
     "text": [
      "0% [████████████████████████] 100% | ETA: 00:00:00\n",
      "Total time elapsed: 00:00:06\n"
     ]
    },
    {
     "name": "stdout",
     "output_type": "stream",
     "text": [
      "Finished Epoch 8 || Run Time:    3.1 | Load Time:    4.1 || F1:  50.67 | Prec:  34.48 | Rec:  95.49 || Ex/s: 860.14\n",
      "\n",
      "===>  EVAL Epoch 8\n"
     ]
    },
    {
     "name": "stderr",
     "output_type": "stream",
     "text": [
      "0% [████████] 100% | ETA: 00:00:00\n",
      "Total time elapsed: 00:00:01\n"
     ]
    },
    {
     "name": "stdout",
     "output_type": "stream",
     "text": [
      "Finished Epoch 8 || Run Time:    0.5 | Load Time:    1.4 || F1:  56.77 | Prec:  43.52 | Rec:  81.62 || Ex/s: 1116.87\n",
      "\n",
      "* Best F1: 56.76691729323308\n",
      "Saving best model...\n",
      "Done.\n",
      "---------------------\n",
      "\n",
      "===>  TRAIN Epoch 9\n"
     ]
    },
    {
     "name": "stderr",
     "output_type": "stream",
     "text": [
      "0% [████████████████████████] 100% | ETA: 00:00:00\n",
      "Total time elapsed: 00:00:06\n"
     ]
    },
    {
     "name": "stdout",
     "output_type": "stream",
     "text": [
      "Finished Epoch 9 || Run Time:    2.9 | Load Time:    3.8 || F1:  51.86 | Prec:  35.74 | Rec:  94.44 || Ex/s: 905.39\n",
      "\n",
      "===>  EVAL Epoch 9\n"
     ]
    },
    {
     "name": "stderr",
     "output_type": "stream",
     "text": [
      "0% [████████] 100% | ETA: 00:00:00\n",
      "Total time elapsed: 00:00:01\n"
     ]
    },
    {
     "name": "stdout",
     "output_type": "stream",
     "text": [
      "Finished Epoch 9 || Run Time:    0.4 | Load Time:    1.2 || F1:  40.85 | Prec:  26.54 | Rec:  88.65 || Ex/s: 1228.67\n",
      "\n",
      "---------------------\n",
      "\n",
      "===>  TRAIN Epoch 10\n"
     ]
    },
    {
     "name": "stderr",
     "output_type": "stream",
     "text": [
      "0% [████████████████████████] 100% | ETA: 00:00:00\n",
      "Total time elapsed: 00:00:06\n"
     ]
    },
    {
     "name": "stdout",
     "output_type": "stream",
     "text": [
      "Finished Epoch 10 || Run Time:    3.0 | Load Time:    4.0 || F1:  58.38 | Prec:  41.98 | Rec:  95.83 || Ex/s: 880.61\n",
      "\n",
      "===>  EVAL Epoch 10\n"
     ]
    },
    {
     "name": "stderr",
     "output_type": "stream",
     "text": [
      "0% [████████] 100% | ETA: 00:00:00\n",
      "Total time elapsed: 00:00:01\n"
     ]
    },
    {
     "name": "stdout",
     "output_type": "stream",
     "text": [
      "Finished Epoch 10 || Run Time:    0.5 | Load Time:    1.4 || F1:  44.60 | Prec:  29.98 | Rec:  87.03 || Ex/s: 1117.68\n",
      "\n",
      "---------------------\n",
      "\n",
      "===>  TRAIN Epoch 11\n"
     ]
    },
    {
     "name": "stderr",
     "output_type": "stream",
     "text": [
      "0% [████████████████████████] 100% | ETA: 00:00:00\n",
      "Total time elapsed: 00:00:06\n"
     ]
    },
    {
     "name": "stdout",
     "output_type": "stream",
     "text": [
      "Finished Epoch 11 || Run Time:    3.1 | Load Time:    4.0 || F1:  62.81 | Prec:  46.63 | Rec:  96.18 || Ex/s: 873.54\n",
      "\n",
      "===>  EVAL Epoch 11\n"
     ]
    },
    {
     "name": "stderr",
     "output_type": "stream",
     "text": [
      "0% [████████] 100% | ETA: 00:00:00\n",
      "Total time elapsed: 00:00:01\n"
     ]
    },
    {
     "name": "stdout",
     "output_type": "stream",
     "text": [
      "Finished Epoch 11 || Run Time:    0.4 | Load Time:    1.2 || F1:  51.71 | Prec:  36.98 | Rec:  85.95 || Ex/s: 1256.45\n",
      "\n",
      "---------------------\n",
      "\n",
      "===>  TRAIN Epoch 12\n"
     ]
    },
    {
     "name": "stderr",
     "output_type": "stream",
     "text": [
      "0% [████████████████████████] 100% | ETA: 00:00:00\n",
      "Total time elapsed: 00:00:07\n"
     ]
    },
    {
     "name": "stdout",
     "output_type": "stream",
     "text": [
      "Finished Epoch 12 || Run Time:    3.2 | Load Time:    4.2 || F1:  65.29 | Prec:  49.38 | Rec:  96.35 || Ex/s: 830.55\n",
      "\n",
      "===>  EVAL Epoch 12\n"
     ]
    },
    {
     "name": "stderr",
     "output_type": "stream",
     "text": [
      "0% [████████] 100% | ETA: 00:00:00\n",
      "Total time elapsed: 00:00:01\n"
     ]
    },
    {
     "name": "stdout",
     "output_type": "stream",
     "text": [
      "Finished Epoch 12 || Run Time:    0.5 | Load Time:    1.4 || F1:  56.26 | Prec:  42.35 | Rec:  83.78 || Ex/s: 1129.38\n",
      "\n",
      "---------------------\n",
      "\n",
      "===>  TRAIN Epoch 13\n"
     ]
    },
    {
     "name": "stderr",
     "output_type": "stream",
     "text": [
      "0% [████████████████████████] 100% | ETA: 00:00:00\n",
      "Total time elapsed: 00:00:06\n"
     ]
    },
    {
     "name": "stdout",
     "output_type": "stream",
     "text": [
      "Finished Epoch 13 || Run Time:    3.0 | Load Time:    3.8 || F1:  68.39 | Prec:  53.01 | Rec:  96.35 || Ex/s: 899.01\n",
      "\n",
      "===>  EVAL Epoch 13\n"
     ]
    },
    {
     "name": "stderr",
     "output_type": "stream",
     "text": [
      "0% [████████] 100% | ETA: 00:00:00\n",
      "Total time elapsed: 00:00:01\n"
     ]
    },
    {
     "name": "stdout",
     "output_type": "stream",
     "text": [
      "Finished Epoch 13 || Run Time:    0.4 | Load Time:    1.3 || F1:  57.56 | Prec:  43.70 | Rec:  84.32 || Ex/s: 1167.13\n",
      "\n",
      "* Best F1: 57.56457564575645\n",
      "Saving best model...\n",
      "Done.\n",
      "---------------------\n",
      "\n",
      "===>  TRAIN Epoch 14\n"
     ]
    },
    {
     "name": "stderr",
     "output_type": "stream",
     "text": [
      "0% [████████████████████████] 100% | ETA: 00:00:00\n",
      "Total time elapsed: 00:00:06\n"
     ]
    },
    {
     "name": "stdout",
     "output_type": "stream",
     "text": [
      "Finished Epoch 14 || Run Time:    3.1 | Load Time:    4.0 || F1:  71.01 | Prec:  56.16 | Rec:  96.53 || Ex/s: 865.37\n",
      "\n",
      "===>  EVAL Epoch 14\n"
     ]
    },
    {
     "name": "stderr",
     "output_type": "stream",
     "text": [
      "0% [████████] 100% | ETA: 00:00:00\n",
      "Total time elapsed: 00:00:01\n"
     ]
    },
    {
     "name": "stdout",
     "output_type": "stream",
     "text": [
      "Finished Epoch 14 || Run Time:    0.4 | Load Time:    1.2 || F1:  55.18 | Prec:  40.89 | Rec:  84.86 || Ex/s: 1254.45\n",
      "\n",
      "---------------------\n",
      "\n",
      "===>  TRAIN Epoch 15\n"
     ]
    },
    {
     "name": "stderr",
     "output_type": "stream",
     "text": [
      "0% [████████████████████████] 100% | ETA: 00:00:00\n",
      "Total time elapsed: 00:00:06\n"
     ]
    },
    {
     "name": "stdout",
     "output_type": "stream",
     "text": [
      "Finished Epoch 15 || Run Time:    3.0 | Load Time:    4.1 || F1:  73.30 | Prec:  58.82 | Rec:  97.22 || Ex/s: 863.01\n",
      "\n",
      "===>  EVAL Epoch 15\n"
     ]
    },
    {
     "name": "stderr",
     "output_type": "stream",
     "text": [
      "0% [████████] 100% | ETA: 00:00:00\n",
      "Total time elapsed: 00:00:01\n"
     ]
    },
    {
     "name": "stdout",
     "output_type": "stream",
     "text": [
      "Finished Epoch 15 || Run Time:    0.5 | Load Time:    1.3 || F1:  52.95 | Prec:  38.48 | Rec:  84.86 || Ex/s: 1137.60\n",
      "\n",
      "---------------------\n",
      "\n",
      "Loading best model...\n",
      "Training done.\n"
     ]
    },
    {
     "data": {
      "text/plain": [
       "57.56457564575645"
      ]
     },
     "execution_count": 16,
     "metadata": {},
     "output_type": "execute_result"
    }
   ],
   "source": [
    "model.run_train(\n",
    "    train,\n",
    "    validation,\n",
    "    epochs=15,\n",
    "    batch_size=50,\n",
    "    best_save_path='cnn_model.pth',\n",
    "    pos_neg_ratio=10)"
   ]
  },
  {
   "cell_type": "code",
   "execution_count": 17,
   "metadata": {},
   "outputs": [
    {
     "name": "stdout",
     "output_type": "stream",
     "text": [
      "===>  EVAL Epoch 13\n"
     ]
    },
    {
     "name": "stderr",
     "output_type": "stream",
     "text": [
      "0% [█████████████] 100% | ETA: 00:00:00\n",
      "Total time elapsed: 00:00:01\n"
     ]
    },
    {
     "name": "stdout",
     "output_type": "stream",
     "text": [
      "Finished Epoch 13 || Run Time:    0.6 | Load Time:    1.3 || F1:  53.10 | Prec:  37.78 | Rec:  89.33 || Ex/s: 1042.77\n",
      "\n"
     ]
    },
    {
     "data": {
      "text/plain": [
       "53.10183935174258"
      ]
     },
     "execution_count": 17,
     "metadata": {},
     "output_type": "execute_result"
    }
   ],
   "source": [
    "# The F-1 score for naive CNN approach\n",
    "model.run_eval(test)"
   ]
  },
  {
   "cell_type": "code",
   "execution_count": 18,
   "metadata": {},
   "outputs": [],
   "source": [
    "import numpy as np\n",
    "import torch\n",
    "from torch import nn\n",
    "from torch.nn import functional as F\n",
    "\n",
    "\n",
    "class attr_summarization_abcnn(nn.Module):\n",
    "    def __init__(self):\n",
    "        super(attr_summarization_abcnn, self).__init__()\n",
    "        self.emb_dim = 300\n",
    "        self.sentence_length = 36\n",
    "        self.filter_width = 4\n",
    "        self.model_type = '3'\n",
    "        if self.model_type == '3':\n",
    "            self.model = Abcnn3(self.emb_dim, self.sentence_length, self.filter_width)\n",
    "        if self.model_type == '2':\n",
    "            self.model = Abcnn2(self.emb_dim, self.sentence_length, self.filter_width)\n",
    "        if self.model_type == '1':\n",
    "            self.model = Abcnn1(self.emb_dim, self.sentence_length, self.filter_width)\n",
    "\n",
    "    def forward(self, x1, x2):\n",
    "        x1 = x1.unsqueeze(1)\n",
    "        x2 = x2.unsqueeze(1)\n",
    "        x1 = F.pad(x1, (0, 0, 0, self.sentence_length - x1.size()[2]))\n",
    "        x2 = F.pad(x2, (0, 0, 0, self.sentence_length - x2.size()[2]))\n",
    "        return self.model(x1, x2)\n",
    "\n",
    "\n",
    "class Abcnn3(nn.Module):\n",
    "    '''\n",
    "    ABCNN3\n",
    "    1. ABCNN1\n",
    "    2. wide convolution\n",
    "    3. ABCNN2\n",
    "\n",
    "    Attributes\n",
    "    ----------\n",
    "    layer_size : int\n",
    "        the number of (abcnn1 + abcnn2)\n",
    "    distance : function\n",
    "        cosine similarity or manhattan\n",
    "    abcnn1 : list of abcnn1\n",
    "    abcnn2 : list of abcnn2\n",
    "    conv : list of convolution layer\n",
    "    ap : list of pooling layer\n",
    "    fc : last linear layer(in paper use logistic regression)\n",
    "    '''\n",
    "\n",
    "    def __init__(self, emb_dim, sentence_length, filter_width, filter_channel=100, layer_size=2, match='cosine',\n",
    "                 inception=True):\n",
    "        super(Abcnn3, self).__init__()\n",
    "        self.layer_size = layer_size\n",
    "\n",
    "        if match == 'cosine':\n",
    "            self.distance = cosine_similarity\n",
    "        else:\n",
    "            self.distance = manhattan_distance\n",
    "\n",
    "        self.abcnn1 = nn.ModuleList()\n",
    "        self.abcnn2 = nn.ModuleList()\n",
    "        self.conv = nn.ModuleList()\n",
    "        self.ap = nn.ModuleList([ApLayer(emb_dim)])\n",
    "        self.fc = nn.Linear(layer_size + 1, 1)\n",
    "\n",
    "        for i in range(layer_size):\n",
    "            self.abcnn1.append(Abcnn1Portion(sentence_length, emb_dim if i == 0 else filter_channel))\n",
    "            self.abcnn2.append(Abcnn2Portion(sentence_length, filter_width))\n",
    "            self.conv.append(\n",
    "                ConvLayer(False, sentence_length, filter_width, emb_dim if i == 0 else filter_channel, filter_channel,\n",
    "                          inception))\n",
    "            self.ap.append(ApLayer(filter_channel))\n",
    "\n",
    "    def forward(self, x1, x2):\n",
    "        '''\n",
    "        1. stack sentence vector similarity\n",
    "\n",
    "        2. for layer_size\n",
    "            abcnn1\n",
    "            convolution\n",
    "            stack sentence representation vector similarity\n",
    "            abcnn2\n",
    "\n",
    "        3. concatenate similarity list\n",
    "            size (batch_size, layer_size + 1)\n",
    "\n",
    "        4. Linear layer\n",
    "            size (batch_size, 1)\n",
    "\n",
    "        Parameters\n",
    "        ----------\n",
    "        x1, x2 : 4-D torch Tensor\n",
    "            size (batch_size, 1, sentence_length, emb_dim)\n",
    "\n",
    "        Returns\n",
    "        -------\n",
    "        output : 2-D torch Tensor\n",
    "            size (batch_size, 1)\n",
    "        '''\n",
    "        sim = []\n",
    "        # sim.append(self.distance(self.ap[0](x1), self.ap[0](x2)))\n",
    "        representation_x1 = self.ap[0](x1)\n",
    "        representation_x2 = self.ap[0](x2)\n",
    "\n",
    "        for i in range(self.layer_size):\n",
    "            x1, x2 = self.abcnn1[i](x1, x2)\n",
    "            x1 = self.conv[i](x1)\n",
    "            x2 = self.conv[i](x2)\n",
    "            # sim.append(self.distance(self.ap[i + 1](x1), self.ap[i + 1](x2)))\n",
    "            #             print(representation_x1.size())\n",
    "            #             print(self.ap[i + 1](x1).size())\n",
    "            representation_x1 = torch.cat((representation_x1, self.ap[i + 1](x1)), 1)\n",
    "            #             print(representation_x1.size())\n",
    "            representation_x2 = torch.cat((representation_x2, self.ap[i + 1](x2)), 1)\n",
    "            x1, x2 = self.abcnn2[i](x1, x2)\n",
    "\n",
    "        # sim_fc = torch.cat(sim, dim=1)\n",
    "        # output = self.fc(sim_fc)\n",
    "        return representation_x1, representation_x2\n",
    "\n",
    "\n",
    "class Abcnn1(nn.Module):\n",
    "    '''\n",
    "    ABCNN1\n",
    "    1. ABCNN1\n",
    "    2. wide convolution\n",
    "    3. W-ap\n",
    "\n",
    "    Attributes\n",
    "    ----------\n",
    "    layer_size : int\n",
    "        the number of (abcnn1)\n",
    "    distance : function\n",
    "        cosine similarity or manhattan\n",
    "    abcnn : list of abcnn1\n",
    "    conv : list of convolution layer\n",
    "    wp : list of w-ap pooling layer\n",
    "    ap : list of pooling layer\n",
    "    fc : last linear layer(in paper use logistic regression)\n",
    "    '''\n",
    "\n",
    "    def __init__(self, emb_dim, sentence_length, filter_width, filter_channel=100, layer_size=2, match='cosine',\n",
    "                 inception=True):\n",
    "        super(Abcnn1, self).__init__()\n",
    "        self.layer_size = layer_size\n",
    "\n",
    "        if match == 'cosine':\n",
    "            self.distance = cosine_similarity\n",
    "        else:\n",
    "            self.distance = manhattan_distance\n",
    "\n",
    "        self.abcnn = nn.ModuleList()\n",
    "        self.conv = nn.ModuleList()\n",
    "        self.ap = nn.ModuleList([ApLayer(emb_dim)])\n",
    "        self.wp = nn.ModuleList()\n",
    "        self.fc = nn.Linear(layer_size + 1, 1)\n",
    "\n",
    "        for i in range(layer_size):\n",
    "            self.abcnn.append(Abcnn1Portion(sentence_length, emb_dim if i == 0 else filter_channel))\n",
    "            self.conv.append(\n",
    "                ConvLayer(False, sentence_length, filter_width, emb_dim if i == 0 else filter_channel, filter_channel,\n",
    "                          inception))\n",
    "            self.ap.append(ApLayer(filter_channel))\n",
    "            self.wp.append(WpLayer(sentence_length, filter_width, False))\n",
    "\n",
    "    def forward(self, x1, x2):\n",
    "        '''\n",
    "        1. stack sentence vector similarity\n",
    "\n",
    "        2. for layer_size\n",
    "            abcnn1\n",
    "            convolution\n",
    "            stack sentence vector similarity\n",
    "            W-ap for next loop x1, x2\n",
    "\n",
    "        3. concatenate similarity list\n",
    "            size (batch_size, layer_size + 1)\n",
    "\n",
    "        4. Linear layer\n",
    "            size (batch_size, 1)\n",
    "\n",
    "        Parameters\n",
    "        ----------\n",
    "        x1, x2 : 4-D torch Tensor\n",
    "            size (batch_size, 1, sentence_length, emb_dim)\n",
    "\n",
    "        Returns\n",
    "        -------\n",
    "        output : 2-D torch Tensor\n",
    "            size (batch_size, 1)\n",
    "        '''\n",
    "        # sim = []\n",
    "        # sim.append(self.distance(self.ap[0](x1), self.ap[0](x2)))\n",
    "\n",
    "        representation_x1 = self.ap[0](x1)\n",
    "        representation_x2 = self.ap[0](x2)\n",
    "\n",
    "        for i in range(self.layer_size):\n",
    "            x1, x2 = self.abcnn1[i](x1, x2)\n",
    "            x1 = self.conv[i](x1)\n",
    "            x2 = self.conv[i](x2)\n",
    "            # sim.append(self.distance(self.ap[i + 1](x1), self.ap[i + 1](x2)))\n",
    "            representation_x1 = torch.cat((representation_x1, self.ap[i + 1](x1)), 1)\n",
    "            representation_x2 = torch.cat((representation_x2, self.ap[i + 1](x2)), 1)\n",
    "            x1, x2 = self.abcnn2[i](x1, x2)\n",
    "\n",
    "        # sim_fc = torch.cat(sim, dim=1)\n",
    "        # output = self.fc(sim_fc)\n",
    "        return representation_x1, representation_x2\n",
    "\n",
    "\n",
    "class Abcnn2(nn.Module):\n",
    "    '''\n",
    "    ABCNN2\n",
    "    1. wide convolution\n",
    "    2. ABCNN2\n",
    "\n",
    "    Attributes\n",
    "    ----------\n",
    "    layer_size : int\n",
    "        the number of (abcnn2)\n",
    "    distance : function\n",
    "        cosine similarity or manhattan\n",
    "    abcnn : list of abcnn2\n",
    "    conv : list of convolution layer\n",
    "    ap : list of pooling layer\n",
    "    fc : last linear layer(in paper use logistic regression)\n",
    "    '''\n",
    "\n",
    "    def __init__(self, emb_dim, sentence_length, filter_width, filter_channel=100, layer_size=2, match='cosine',\n",
    "                 inception=True):\n",
    "        super(Abcnn2, self).__init__()\n",
    "        self.layer_size = layer_size\n",
    "\n",
    "        if match == 'cosine':\n",
    "            self.distance = cosine_similarity\n",
    "        else:\n",
    "            self.distance = manhattan_distance\n",
    "\n",
    "        self.abcnn = nn.ModuleList()\n",
    "        self.conv = nn.ModuleList()\n",
    "        self.ap = nn.ModuleList([ApLayer(sentence_length)])\n",
    "        self.fc = nn.Linear(layer_size + 1, 1)\n",
    "\n",
    "        for i in range(layer_size):\n",
    "            self.abcnn.append(Abcnn2Portion(sentence_length, filter_width))\n",
    "            self.conv.append(\n",
    "                ConvLayer(True, sentence_length, filter_width, emb_dim if i == 0 else filter_channel, filter_channel,\n",
    "                          inception))\n",
    "            self.ap.append(ApLayer(sentence_length + filter_width - 1))\n",
    "\n",
    "    def forward(self, x1, x2):\n",
    "        '''\n",
    "        1. stack sentence vector similarity\n",
    "\n",
    "        2. for layer_size\n",
    "            convolution\n",
    "            stack sentence vector similarity\n",
    "            abcnn2\n",
    "\n",
    "        3. concatenate similarity list\n",
    "            size (batch_size, layer_size + 1)\n",
    "\n",
    "        4. Linear layer\n",
    "            size (batch_size, 1)\n",
    "\n",
    "        Parameters\n",
    "        ----------\n",
    "        x1, x2 : 4-D torch Tensor\n",
    "            size (batch_size, 1, sentence_length, emb_dim)\n",
    "\n",
    "        Returns\n",
    "        -------\n",
    "        output : 2-D torch Tensor\n",
    "            size (batch_size, 1)\n",
    "        '''\n",
    "        # sim = []\n",
    "        # sim.append(self.distance(self.ap[0](x1), self.ap[0](x2)))\n",
    "\n",
    "        representation_x1 = self.ap[0](x1)\n",
    "        representation_x2 = self.ap[0](x2)\n",
    "\n",
    "        for i in range(self.layer_size):\n",
    "            x1, x2 = self.abcnn1[i](x1, x2)\n",
    "            x1 = self.conv[i](x1)\n",
    "            x2 = self.conv[i](x2)\n",
    "            # sim.append(self.distance(self.ap[i + 1](x1), self.ap[i + 1](x2)))\n",
    "            representation_x1 = torch.cat((representation_x1, self.ap[i + 1](x1)), 1)\n",
    "            representation_x2 = torch.cat((representation_x2, self.ap[i + 1](x2)), 1)\n",
    "            x1, x2 = self.abcnn2[i](x1, x2)\n",
    "\n",
    "        # sim_fc = torch.cat(sim, dim=1)\n",
    "        # output = self.fc(sim_fc)\n",
    "        return representation_x1, representation_x2\n",
    "\n",
    "\n",
    "class Abcnn1Portion(nn.Module):\n",
    "    '''Part of Abcnn1\n",
    "    '''\n",
    "\n",
    "    def __init__(self, in_dim, out_dim):\n",
    "        super(Abcnn1Portion, self).__init__()\n",
    "        self.batchNorm = nn.BatchNorm2d(2)\n",
    "        self.attention_feature_layer = nn.Linear(in_dim, out_dim)\n",
    "\n",
    "    def forward(self, x1, x2):\n",
    "        '''\n",
    "        1. compute attention matrix\n",
    "            attention_m : size (batch_size, sentence_length, sentence_length)\n",
    "        2. generate attention feature map(weight matrix are parameters of the model to be learned)\n",
    "            x_attention : size (batch_size, 1, sentence_length, emb_dim)\n",
    "        3. stack the representation feature map and attention feature map\n",
    "            x : size (batch_size, 2, sentence_length, emb_dim)\n",
    "        4. batch norm(not in paper)\n",
    "\n",
    "        Parameters\n",
    "        ----------\n",
    "        x1, x2 : 4-D torch Tensor\n",
    "            size (batch_size, 1, sentence_length, emb_dim)\n",
    "\n",
    "        Returns\n",
    "        -------\n",
    "        (x1, x2) : list of 4-D torch Tensor\n",
    "            size (batch_size, 2, sentence_length, emb_dim)\n",
    "        '''\n",
    "        #         print(x1.size())\n",
    "        #         print(x2.size())\n",
    "        attention_m = attention_matrix(x1, x2)\n",
    "        #         print(attention_m.size())\n",
    "\n",
    "        x1_attention = self.attention_feature_layer(attention_m.permute(0, 2, 1))\n",
    "        #         print(x1_attention.size())\n",
    "        x1_attention = x1_attention.unsqueeze(1)\n",
    "        x1 = torch.cat([x1, x1_attention], 1)\n",
    "\n",
    "        x2_attention = self.attention_feature_layer(attention_m)\n",
    "        x2_attention = x2_attention.unsqueeze(1)\n",
    "        x2 = torch.cat([x2, x2_attention], 1)\n",
    "\n",
    "        x1 = self.batchNorm(x1)\n",
    "        x2 = self.batchNorm(x2)\n",
    "\n",
    "        return (x1, x2)\n",
    "\n",
    "\n",
    "class Abcnn2Portion(nn.Module):\n",
    "    '''Part of Abcnn2\n",
    "    '''\n",
    "\n",
    "    def __init__(self, sentence_length, filter_width):\n",
    "        super(Abcnn2Portion, self).__init__()\n",
    "        self.wp = WpLayer(sentence_length, filter_width, True)\n",
    "\n",
    "    def forward(self, x1, x2):\n",
    "        '''\n",
    "        1. compute attention matrix\n",
    "            attention_m : size (batch_size, sentence_length + filter_width - 1, sentence_length + filter_width - 1)\n",
    "        2. sum all attention values for a unit to derive a single attention weight for that unit\n",
    "            x_a_conv : size (batch_size, sentence_length + filter_width - 1)\n",
    "        3. average pooling(w-ap)\n",
    "\n",
    "        Parameters\n",
    "        ----------\n",
    "        x1, x2 : 4-D torch Tensor\n",
    "            size (batch_size, 1, sentence_length + filter_width - 1, height)\n",
    "\n",
    "        Returns\n",
    "        -------\n",
    "        (x1, x2) : list of 4-D torch Tensor\n",
    "            size (batch_size, 1, sentence_length, height)\n",
    "        '''\n",
    "        attention_m = attention_matrix(x1, x2)\n",
    "        x1_a_conv = attention_m.sum(dim=1)\n",
    "        x2_a_conv = attention_m.sum(dim=2)\n",
    "        x1 = self.wp(x1, x1_a_conv)\n",
    "        x2 = self.wp(x2, x2_a_conv)\n",
    "\n",
    "        return (x1, x2)\n",
    "\n",
    "\n",
    "class InceptionModule(nn.Module):\n",
    "    '''\n",
    "    inception module(not in paper)\n",
    "    first layer width is filter_width(given)\n",
    "    second layer width is filter_width + 4\n",
    "    third layer width is sentence_length\n",
    "\n",
    "    this helps model to be learned(when the number of layers > 8)\n",
    "    '''\n",
    "\n",
    "    def __init__(self, in_channel, sentence_length, filter_width, filter_height, filter_channel):\n",
    "        super(InceptionModule, self).__init__()\n",
    "        self.conv_1 = convolution(in_channel, filter_width, filter_height,\n",
    "                                  int(filter_channel / 3) + filter_channel - 3 * int(filter_channel / 3),\n",
    "                                  filter_width - 1)\n",
    "        self.conv_2 = convolution(in_channel, filter_width + 4, filter_height, int(filter_channel / 3),\n",
    "                                  filter_width + 1)\n",
    "        self.conv_3 = convolution(in_channel, sentence_length, filter_height, int(filter_channel / 3),\n",
    "                                  int((sentence_length + filter_width - 2) / 2))\n",
    "\n",
    "    def forward(self, x):\n",
    "        out_1 = self.conv_1(x)\n",
    "        out_2 = self.conv_2(x)\n",
    "        out_3 = self.conv_3(x)\n",
    "        output = torch.cat([out_1, out_2, out_3], dim=1)\n",
    "        return output\n",
    "\n",
    "\n",
    "class ConvLayer(nn.Module):\n",
    "    '''\n",
    "    convolution layer for abcnn\n",
    "\n",
    "    Attributes\n",
    "    ----------\n",
    "    inception : bool\n",
    "        whether use inception module\n",
    "    '''\n",
    "\n",
    "    def __init__(self, isAbcnn2, sentence_length, filter_width, filter_height, filter_channel, inception):\n",
    "        super(ConvLayer, self).__init__()\n",
    "        if inception:\n",
    "            self.model = InceptionModule(1 if isAbcnn2 else 2, sentence_length, filter_width, filter_height,\n",
    "                                         filter_channel)\n",
    "        else:\n",
    "            self.model = convolution(1 if isAbcnn2 else 2, filter_width, filter_height, filter_channel,\n",
    "                                     filter_width - 1)\n",
    "\n",
    "    def forward(self, x):\n",
    "        '''\n",
    "        1. convlayer\n",
    "            size (batch_size, filter_channel, height, 1)\n",
    "        2. transpose\n",
    "            size (batch_size, 1, height, filter_channel)\n",
    "\n",
    "        Parameters\n",
    "        ----------\n",
    "        x : 4-D torch Tensor\n",
    "            size (batch_size, 1, height, width)\n",
    "\n",
    "        Returns\n",
    "        -------\n",
    "        output : 4-D torch Tensor\n",
    "            size (batch_size, 1, height, filter_channel)\n",
    "        '''\n",
    "        output = self.model(x)\n",
    "        output = output.permute(0, 3, 2, 1)\n",
    "        return output\n",
    "\n",
    "\n",
    "def cosine_similarity(x1, x2):\n",
    "    '''compute cosine similarity between x1 and x2\n",
    "\n",
    "    Parameters\n",
    "    ----------\n",
    "    x1, x2 : 2-D torch Tensor\n",
    "        size (batch_size, 1)\n",
    "\n",
    "    Returns\n",
    "    -------\n",
    "    distance : 2-D torch Tensor\n",
    "        similarity result of size (batch_size, 1)\n",
    "    '''\n",
    "    return F.cosine_similarity(x1, x2).unsqueeze(1)\n",
    "\n",
    "\n",
    "def manhattan_distance(x1, x2):\n",
    "    '''compute manhattan distance between x1 and x2 (not in paper)\n",
    "\n",
    "    Parameters\n",
    "    ----------\n",
    "    x1, x2 : 2-D torch Tensor\n",
    "        size (batch_size, 1)\n",
    "\n",
    "    Returns\n",
    "    -------\n",
    "    distance : 2-D torch Tensor\n",
    "        similarity result of size (batch_size, 1)\n",
    "    '''\n",
    "    return torch.div(torch.norm((x1 - x2), 1, 1, keepdim=True), x1.size()[1])\n",
    "\n",
    "\n",
    "def convolution(in_channel, filter_width, filter_height, filter_channel, padding):\n",
    "    '''convolution layer\n",
    "    '''\n",
    "    model = nn.Sequential(\n",
    "        nn.Conv2d(in_channel, filter_channel, (filter_width, filter_height), stride=1, padding=(padding, 0)),\n",
    "        nn.BatchNorm2d(filter_channel),\n",
    "        nn.Tanh()\n",
    "    )\n",
    "    return model\n",
    "\n",
    "\n",
    "def attention_matrix(x1, x2, eps=1e-6):\n",
    "    '''compute attention matrix using match score\n",
    "\n",
    "    1 / (1 + |x · y|)\n",
    "    |·| is euclidean distance\n",
    "\n",
    "    Parameters\n",
    "    ----------\n",
    "    x1, x2 : 4-D torch Tensor\n",
    "        size (batch_size, 1, sentence_length, width)\n",
    "\n",
    "    Returns\n",
    "    -------\n",
    "    output : 3-D torch Tensor\n",
    "        match score result of size (batch_size, sentence_length(for x2), sentence_length(for x1))\n",
    "    '''\n",
    "    # eps = torch.tensor(eps)\n",
    "    # one = torch.tensor(1.)\n",
    "    euclidean = (torch.pow(x1 - x2.permute(0, 2, 1, 3), 2).sum(dim=3) + eps).sqrt()\n",
    "    return (euclidean + 1.).reciprocal()\n",
    "\n",
    "\n",
    "class ApLayer(nn.Module):\n",
    "    '''column-wise averaging over all columns\n",
    "    '''\n",
    "\n",
    "    def __init__(self, width):\n",
    "        super(ApLayer, self).__init__()\n",
    "        self.ap = nn.AvgPool2d((1, width), stride=1)\n",
    "\n",
    "    def forward(self, x):\n",
    "        '''\n",
    "        1. average pooling\n",
    "            x size (batch_size, 1, sentence_length, 1)\n",
    "        2. representation vector for the sentence\n",
    "            output size (batch_size, sentence_length)\n",
    "\n",
    "        Parameters\n",
    "        ----------\n",
    "        x : 4-D torch Tensor\n",
    "            convolution output of size (batch_size, 1, sentence_length, width)\n",
    "\n",
    "        Returns\n",
    "        -------\n",
    "        output : 2-D torch Tensor\n",
    "            representation vector of size (batch_size, width)\n",
    "        '''\n",
    "        return self.ap(x).squeeze(1).squeeze(2)\n",
    "\n",
    "\n",
    "class WpLayer(nn.Module):\n",
    "    '''column-wise averaging over windows of w consecutive columns\n",
    "\n",
    "    Attributes\n",
    "    ----------\n",
    "    attention : bool\n",
    "        compute layer with attention matrix\n",
    "    '''\n",
    "\n",
    "    def __init__(self, sentence_length, filter_width, attention):\n",
    "        super(WpLayer, self).__init__()\n",
    "        self.attention = attention\n",
    "        if attention:\n",
    "            self.sentence_length = sentence_length\n",
    "            self.filter_width = filter_width\n",
    "        else:\n",
    "            self.wp = nn.AvgPool2d((filter_width, 1), stride=1)\n",
    "\n",
    "    def forward(self, x, attention_matrix=None):\n",
    "        '''\n",
    "        if attention\n",
    "            reweight the convolution output with attention matrix\n",
    "        else\n",
    "            average pooling\n",
    "\n",
    "        Parameters\n",
    "        ----------\n",
    "        x : 4-D torch Tensor\n",
    "            convolution output of size (batch_size, 1, sentence_length + filter_width - 1, height)\n",
    "        attention_matrix: 2-D torch Tensor\n",
    "            attention matrix between (convolution output x1 and convolution output x2) of size (batch_size, sentence_length + filter_width - 1)\n",
    "\n",
    "        Returns\n",
    "        -------\n",
    "        output : 4-D torch Tensor\n",
    "            size (batch_size, 1, sentence_length, height)\n",
    "        '''\n",
    "        if self.attention:\n",
    "            pools = []\n",
    "            attention_matrix = attention_matrix.unsqueeze(1).unsqueeze(3)\n",
    "            for i in range(self.sentence_length):\n",
    "                pools.append(\n",
    "                    (x[:, :, i:i + self.filter_width, :] * attention_matrix[:, :, i:i + self.filter_width, :]).sum(\n",
    "                        dim=2, keepdim=True))\n",
    "\n",
    "            return torch.cat(pools, dim=2)\n",
    "\n",
    "        else:\n",
    "            return self.wp(x)\n",
    "\n",
    "\n",
    "def weights_init(m):\n",
    "    classname = m.__class__.__name__\n",
    "    if classname.find('Conv') != -1 and classname.find('Layer') == -1:\n",
    "        nn.init.xavier_uniform_(m.weight)\n",
    "    elif classname.find('Linear') != -1:\n",
    "        nn.init.xavier_uniform_(m.weight)\n",
    "        nn.init.constant_(m.bias, 0.1)\n",
    "    elif classname.find('BatchNorm') != -1:\n",
    "        m.weight.data.normal_(1.0, 0.02)\n",
    "        m.bias.data.fill_(0)"
   ]
  },
  {
   "cell_type": "code",
   "execution_count": 19,
   "metadata": {},
   "outputs": [],
   "source": [
    "cnn_attr_summarizer_module = dm.modules.NoMeta(attr_summarization_abcnn())\n",
    "\n",
    "model = dm.MatchingModel(attr_summarizer=lambda: cnn_attr_summarizer_module, \n",
    "                         attr_comparator='abs-diff',\n",
    "                         classifier = '3-layer-residual-relu')"
   ]
  },
  {
   "cell_type": "code",
   "execution_count": 20,
   "metadata": {},
   "outputs": [
    {
     "name": "stdout",
     "output_type": "stream",
     "text": [
      "* Number of trainable parameters: 1897214\n",
      "===>  TRAIN Epoch 1\n"
     ]
    },
    {
     "name": "stderr",
     "output_type": "stream",
     "text": [
      "0% [████████████████████████] 100% | ETA: 00:00:00\n",
      "Total time elapsed: 00:03:05\n"
     ]
    },
    {
     "name": "stdout",
     "output_type": "stream",
     "text": [
      "Finished Epoch 1 || Run Time:  186.0 | Load Time:    4.1 || F1:  17.41 | Prec:   9.58 | Rec:  95.14 || Ex/s:  32.32\n",
      "\n",
      "===>  EVAL Epoch 1\n"
     ]
    },
    {
     "name": "stderr",
     "output_type": "stream",
     "text": [
      "0% [████████] 100% | ETA: 00:00:00\n",
      "Total time elapsed: 00:00:14\n"
     ]
    },
    {
     "name": "stdout",
     "output_type": "stream",
     "text": [
      "Finished Epoch 1 || Run Time:   13.2 | Load Time:    1.2 || F1:  16.56 | Prec:   9.03 | Rec: 100.00 || Ex/s: 142.57\n",
      "\n",
      "* Best F1: 16.56222023276634\n",
      "Saving best model...\n",
      "Done.\n",
      "---------------------\n",
      "\n",
      "===>  TRAIN Epoch 2\n"
     ]
    },
    {
     "name": "stderr",
     "output_type": "stream",
     "text": [
      "0% [████████████████████████] 100% | ETA: 00:00:00\n",
      "Total time elapsed: 00:02:56\n"
     ]
    },
    {
     "name": "stdout",
     "output_type": "stream",
     "text": [
      "Finished Epoch 2 || Run Time:  177.5 | Load Time:    3.7 || F1:  20.71 | Prec:  11.63 | Rec:  94.27 || Ex/s:  33.90\n",
      "\n",
      "===>  EVAL Epoch 2\n"
     ]
    },
    {
     "name": "stderr",
     "output_type": "stream",
     "text": [
      "0% [████████] 100% | ETA: 00:00:00\n",
      "Total time elapsed: 00:00:13\n"
     ]
    },
    {
     "name": "stdout",
     "output_type": "stream",
     "text": [
      "Finished Epoch 2 || Run Time:   13.0 | Load Time:    1.2 || F1:  20.12 | Prec:  11.22 | Rec:  97.30 || Ex/s: 144.45\n",
      "\n",
      "* Best F1: 20.122973728339854\n",
      "Saving best model...\n",
      "Done.\n",
      "---------------------\n",
      "\n",
      "===>  TRAIN Epoch 3\n"
     ]
    },
    {
     "name": "stderr",
     "output_type": "stream",
     "text": [
      "0% [████████████████████████] 100% | ETA: 00:00:00\n",
      "Total time elapsed: 00:02:55\n"
     ]
    },
    {
     "name": "stdout",
     "output_type": "stream",
     "text": [
      "Finished Epoch 3 || Run Time:  176.3 | Load Time:    3.7 || F1:  26.28 | Prec:  15.33 | Rec:  92.01 || Ex/s:  34.13\n",
      "\n",
      "===>  EVAL Epoch 3\n"
     ]
    },
    {
     "name": "stderr",
     "output_type": "stream",
     "text": [
      "0% [████████] 100% | ETA: 00:00:00\n",
      "Total time elapsed: 00:00:13\n"
     ]
    },
    {
     "name": "stdout",
     "output_type": "stream",
     "text": [
      "Finished Epoch 3 || Run Time:   13.0 | Load Time:    1.2 || F1:  25.71 | Prec:  14.90 | Rec:  93.51 || Ex/s: 144.15\n",
      "\n",
      "* Best F1: 25.70579494799406\n",
      "Saving best model...\n",
      "Done.\n",
      "---------------------\n",
      "\n",
      "===>  TRAIN Epoch 4\n"
     ]
    },
    {
     "name": "stderr",
     "output_type": "stream",
     "text": [
      "0% [████████████████████████] 100% | ETA: 00:00:00\n",
      "Total time elapsed: 00:02:58\n"
     ]
    },
    {
     "name": "stdout",
     "output_type": "stream",
     "text": [
      "Finished Epoch 4 || Run Time:  179.2 | Load Time:    3.8 || F1:  34.85 | Prec:  21.47 | Rec:  92.53 || Ex/s:  33.57\n",
      "\n",
      "===>  EVAL Epoch 4\n"
     ]
    },
    {
     "name": "stderr",
     "output_type": "stream",
     "text": [
      "0% [████████] 100% | ETA: 00:00:00\n",
      "Total time elapsed: 00:00:14\n"
     ]
    },
    {
     "name": "stdout",
     "output_type": "stream",
     "text": [
      "Finished Epoch 4 || Run Time:   13.2 | Load Time:    1.2 || F1:  37.64 | Prec:  24.36 | Rec:  82.70 || Ex/s: 142.26\n",
      "\n",
      "* Best F1: 37.638376383763834\n",
      "Saving best model...\n",
      "Done.\n",
      "---------------------\n",
      "\n",
      "===>  TRAIN Epoch 5\n"
     ]
    },
    {
     "name": "stderr",
     "output_type": "stream",
     "text": [
      "0% [████████████████████████] 100% | ETA: 00:00:00\n",
      "Total time elapsed: 00:02:58\n"
     ]
    },
    {
     "name": "stdout",
     "output_type": "stream",
     "text": [
      "Finished Epoch 5 || Run Time:  179.2 | Load Time:    3.8 || F1:  45.15 | Prec:  29.70 | Rec:  94.10 || Ex/s:  33.57\n",
      "\n",
      "===>  EVAL Epoch 5\n"
     ]
    },
    {
     "name": "stderr",
     "output_type": "stream",
     "text": [
      "0% [████████] 100% | ETA: 00:00:00\n",
      "Total time elapsed: 00:00:14\n"
     ]
    },
    {
     "name": "stdout",
     "output_type": "stream",
     "text": [
      "Finished Epoch 5 || Run Time:   13.2 | Load Time:    1.2 || F1:  49.80 | Prec:  39.81 | Rec:  66.49 || Ex/s: 142.15\n",
      "\n",
      "* Best F1: 49.79757085020244\n",
      "Saving best model...\n",
      "Done.\n",
      "---------------------\n",
      "\n",
      "===>  TRAIN Epoch 6\n"
     ]
    },
    {
     "name": "stderr",
     "output_type": "stream",
     "text": [
      "0% [████████████████████████] 100% | ETA: 00:00:00\n",
      "Total time elapsed: 00:02:57\n"
     ]
    },
    {
     "name": "stdout",
     "output_type": "stream",
     "text": [
      "Finished Epoch 6 || Run Time:  178.1 | Load Time:    3.8 || F1:  52.36 | Prec:  36.25 | Rec:  94.27 || Ex/s:  33.78\n",
      "\n",
      "===>  EVAL Epoch 6\n"
     ]
    },
    {
     "name": "stderr",
     "output_type": "stream",
     "text": [
      "0% [████████] 100% | ETA: 00:00:00\n",
      "Total time elapsed: 00:00:14\n"
     ]
    },
    {
     "name": "stdout",
     "output_type": "stream",
     "text": [
      "Finished Epoch 6 || Run Time:   13.2 | Load Time:    1.2 || F1:  49.77 | Prec:  34.93 | Rec:  86.49 || Ex/s: 141.92\n",
      "\n",
      "---------------------\n",
      "\n",
      "===>  TRAIN Epoch 7\n"
     ]
    },
    {
     "name": "stderr",
     "output_type": "stream",
     "text": [
      "0% [████████████████████████] 100% | ETA: 00:00:00\n",
      "Total time elapsed: 00:02:55\n"
     ]
    },
    {
     "name": "stdout",
     "output_type": "stream",
     "text": [
      "Finished Epoch 7 || Run Time:  176.6 | Load Time:    3.7 || F1:  62.79 | Prec:  46.53 | Rec:  96.53 || Ex/s:  34.09\n",
      "\n",
      "===>  EVAL Epoch 7\n"
     ]
    },
    {
     "name": "stderr",
     "output_type": "stream",
     "text": [
      "0% [████████] 100% | ETA: 00:00:00\n",
      "Total time elapsed: 00:00:14\n"
     ]
    },
    {
     "name": "stdout",
     "output_type": "stream",
     "text": [
      "Finished Epoch 7 || Run Time:   13.2 | Load Time:    1.3 || F1:  49.92 | Prec:  35.09 | Rec:  86.49 || Ex/s: 141.78\n",
      "\n",
      "* Best F1: 49.921996879875195\n",
      "Saving best model...\n",
      "Done.\n",
      "---------------------\n",
      "\n",
      "===>  TRAIN Epoch 8\n"
     ]
    },
    {
     "name": "stderr",
     "output_type": "stream",
     "text": [
      "0% [████████████████████████] 100% | ETA: 00:00:00\n",
      "Total time elapsed: 00:02:58\n"
     ]
    },
    {
     "name": "stdout",
     "output_type": "stream",
     "text": [
      "Finished Epoch 8 || Run Time:  180.0 | Load Time:    3.8 || F1:  71.13 | Prec:  56.49 | Rec:  96.01 || Ex/s:  33.43\n",
      "\n",
      "===>  EVAL Epoch 8\n"
     ]
    },
    {
     "name": "stderr",
     "output_type": "stream",
     "text": [
      "0% [████████] 100% | ETA: 00:00:00\n",
      "Total time elapsed: 00:00:14\n"
     ]
    },
    {
     "name": "stdout",
     "output_type": "stream",
     "text": [
      "Finished Epoch 8 || Run Time:   13.5 | Load Time:    1.3 || F1:  61.28 | Prec:  50.53 | Rec:  77.84 || Ex/s: 139.06\n",
      "\n",
      "* Best F1: 61.27659574468086\n",
      "Saving best model...\n",
      "Done.\n",
      "---------------------\n",
      "\n",
      "===>  TRAIN Epoch 9\n"
     ]
    },
    {
     "name": "stderr",
     "output_type": "stream",
     "text": [
      "0% [████████████████████████] 100% | ETA: 00:00:00\n",
      "Total time elapsed: 00:03:01\n"
     ]
    },
    {
     "name": "stdout",
     "output_type": "stream",
     "text": [
      "Finished Epoch 9 || Run Time:  181.7 | Load Time:    4.0 || F1:  76.09 | Prec:  62.50 | Rec:  97.22 || Ex/s:  33.09\n",
      "\n",
      "===>  EVAL Epoch 9\n"
     ]
    },
    {
     "name": "stderr",
     "output_type": "stream",
     "text": [
      "0% [████████] 100% | ETA: 00:00:00\n",
      "Total time elapsed: 00:00:13\n"
     ]
    },
    {
     "name": "stdout",
     "output_type": "stream",
     "text": [
      "Finished Epoch 9 || Run Time:   13.0 | Load Time:    1.2 || F1:  65.44 | Prec:  57.03 | Rec:  76.76 || Ex/s: 144.53\n",
      "\n",
      "* Best F1: 65.43778801843317\n",
      "Saving best model...\n",
      "Done.\n",
      "---------------------\n",
      "\n",
      "===>  TRAIN Epoch 10\n"
     ]
    },
    {
     "name": "stderr",
     "output_type": "stream",
     "text": [
      "0% [████████████████████████] 100% | ETA: 00:00:00\n",
      "Total time elapsed: 00:02:54\n"
     ]
    },
    {
     "name": "stdout",
     "output_type": "stream",
     "text": [
      "Finished Epoch 10 || Run Time:  175.5 | Load Time:    3.7 || F1:  83.17 | Prec:  72.57 | Rec:  97.40 || Ex/s:  34.29\n",
      "\n",
      "===>  EVAL Epoch 10\n"
     ]
    },
    {
     "name": "stderr",
     "output_type": "stream",
     "text": [
      "0% [████████] 100% | ETA: 00:00:00\n",
      "Total time elapsed: 00:00:13\n"
     ]
    },
    {
     "name": "stdout",
     "output_type": "stream",
     "text": [
      "Finished Epoch 10 || Run Time:   12.9 | Load Time:    1.2 || F1:  63.58 | Prec:  52.07 | Rec:  81.62 || Ex/s: 144.78\n",
      "\n",
      "---------------------\n",
      "\n",
      "===>  TRAIN Epoch 11\n"
     ]
    },
    {
     "name": "stderr",
     "output_type": "stream",
     "text": [
      "0% [████████████████████████] 100% | ETA: 00:00:00\n",
      "Total time elapsed: 00:02:54\n"
     ]
    },
    {
     "name": "stdout",
     "output_type": "stream",
     "text": [
      "Finished Epoch 11 || Run Time:  175.6 | Load Time:    3.7 || F1:  88.00 | Prec:  80.26 | Rec:  97.40 || Ex/s:  34.28\n",
      "\n",
      "===>  EVAL Epoch 11\n"
     ]
    },
    {
     "name": "stderr",
     "output_type": "stream",
     "text": [
      "0% [████████] 100% | ETA: 00:00:00\n",
      "Total time elapsed: 00:00:13\n"
     ]
    },
    {
     "name": "stdout",
     "output_type": "stream",
     "text": [
      "Finished Epoch 11 || Run Time:   13.1 | Load Time:    1.2 || F1:  64.67 | Prec:  53.55 | Rec:  81.62 || Ex/s: 143.44\n",
      "\n",
      "---------------------\n",
      "\n",
      "===>  TRAIN Epoch 12\n"
     ]
    },
    {
     "name": "stderr",
     "output_type": "stream",
     "text": [
      "0% [████████████████████████] 100% | ETA: 00:00:00\n",
      "Total time elapsed: 00:02:55\n"
     ]
    },
    {
     "name": "stdout",
     "output_type": "stream",
     "text": [
      "Finished Epoch 12 || Run Time:  176.4 | Load Time:    3.7 || F1:  90.51 | Prec:  84.28 | Rec:  97.74 || Ex/s:  34.11\n",
      "\n",
      "===>  EVAL Epoch 12\n"
     ]
    },
    {
     "name": "stderr",
     "output_type": "stream",
     "text": [
      "0% [████████] 100% | ETA: 00:00:00\n",
      "Total time elapsed: 00:00:13\n"
     ]
    },
    {
     "name": "stdout",
     "output_type": "stream",
     "text": [
      "Finished Epoch 12 || Run Time:   13.0 | Load Time:    1.2 || F1:  67.74 | Prec:  59.04 | Rec:  79.46 || Ex/s: 144.34\n",
      "\n",
      "* Best F1: 67.74193548387098\n",
      "Saving best model...\n",
      "Done.\n",
      "---------------------\n",
      "\n",
      "===>  TRAIN Epoch 13\n"
     ]
    },
    {
     "name": "stderr",
     "output_type": "stream",
     "text": [
      "0% [████████████████████████] 100% | ETA: 00:00:00\n",
      "Total time elapsed: 00:02:54\n"
     ]
    },
    {
     "name": "stdout",
     "output_type": "stream",
     "text": [
      "Finished Epoch 13 || Run Time:  175.5 | Load Time:    3.6 || F1:  92.61 | Prec:  87.85 | Rec:  97.92 || Ex/s:  34.30\n",
      "\n",
      "===>  EVAL Epoch 13\n"
     ]
    },
    {
     "name": "stderr",
     "output_type": "stream",
     "text": [
      "0% [████████] 100% | ETA: 00:00:00\n",
      "Total time elapsed: 00:00:13\n"
     ]
    },
    {
     "name": "stdout",
     "output_type": "stream",
     "text": [
      "Finished Epoch 13 || Run Time:   12.9 | Load Time:    1.2 || F1:  69.42 | Prec:  63.00 | Rec:  77.30 || Ex/s: 144.73\n",
      "\n",
      "* Best F1: 69.41747572815534\n",
      "Saving best model...\n",
      "Done.\n",
      "---------------------\n",
      "\n",
      "===>  TRAIN Epoch 14\n"
     ]
    },
    {
     "name": "stderr",
     "output_type": "stream",
     "text": [
      "0% [████████████████████████] 100% | ETA: 00:00:00\n",
      "Total time elapsed: 00:02:54\n"
     ]
    },
    {
     "name": "stdout",
     "output_type": "stream",
     "text": [
      "Finished Epoch 14 || Run Time:  175.3 | Load Time:    3.7 || F1:  94.32 | Prec:  90.84 | Rec:  98.09 || Ex/s:  34.33\n",
      "\n",
      "===>  EVAL Epoch 14\n"
     ]
    },
    {
     "name": "stderr",
     "output_type": "stream",
     "text": [
      "0% [████████] 100% | ETA: 00:00:00\n",
      "Total time elapsed: 00:00:13\n"
     ]
    },
    {
     "name": "stdout",
     "output_type": "stream",
     "text": [
      "Finished Epoch 14 || Run Time:   12.9 | Load Time:    1.2 || F1:  69.44 | Prec:  63.39 | Rec:  76.76 || Ex/s: 144.95\n",
      "\n",
      "* Best F1: 69.43765281173594\n",
      "Saving best model...\n",
      "Done.\n",
      "---------------------\n",
      "\n",
      "===>  TRAIN Epoch 15\n"
     ]
    },
    {
     "name": "stderr",
     "output_type": "stream",
     "text": [
      "0% [████████████████████████] 100% | ETA: 00:00:00\n",
      "Total time elapsed: 00:02:54\n"
     ]
    },
    {
     "name": "stdout",
     "output_type": "stream",
     "text": [
      "Finished Epoch 15 || Run Time:  175.3 | Load Time:    3.6 || F1:  95.44 | Prec:  92.93 | Rec:  98.09 || Ex/s:  34.33\n",
      "\n",
      "===>  EVAL Epoch 15\n"
     ]
    },
    {
     "name": "stderr",
     "output_type": "stream",
     "text": [
      "0% [████████] 100% | ETA: 00:00:00\n",
      "Total time elapsed: 00:00:13\n"
     ]
    },
    {
     "name": "stdout",
     "output_type": "stream",
     "text": [
      "Finished Epoch 15 || Run Time:   12.9 | Load Time:    1.2 || F1:  69.31 | Prec:  63.93 | Rec:  75.68 || Ex/s: 144.93\n",
      "\n",
      "---------------------\n",
      "\n",
      "Loading best model...\n",
      "Training done.\n"
     ]
    },
    {
     "data": {
      "text/plain": [
       "69.43765281173594"
      ]
     },
     "execution_count": 20,
     "metadata": {},
     "output_type": "execute_result"
    }
   ],
   "source": [
    "model.run_train(\n",
    "    train,\n",
    "    validation,\n",
    "    epochs=15,\n",
    "    batch_size=50,\n",
    "    best_save_path='cnn_model.pth',\n",
    "    pos_neg_ratio=10)"
   ]
  },
  {
   "cell_type": "code",
   "execution_count": 21,
   "metadata": {},
   "outputs": [
    {
     "name": "stdout",
     "output_type": "stream",
     "text": [
      "===>  EVAL Epoch 15\n"
     ]
    },
    {
     "name": "stderr",
     "output_type": "stream",
     "text": [
      "0% [█████████████] 100% | ETA: 00:00:00\n",
      "Total time elapsed: 00:00:03\n"
     ]
    },
    {
     "name": "stdout",
     "output_type": "stream",
     "text": [
      "Finished Epoch 14 || Run Time:   12.9 | Load Time:    1.2 || F1:  66.15 | Prec:  61.01 | Rec:  72.24 || Ex/s: 546.64\n",
      "\n"
     ]
    },
    {
     "data": {
      "text/plain": [
       "66.1517808630394"
      ]
     },
     "execution_count": 21,
     "metadata": {},
     "output_type": "execute_result"
    }
   ],
   "source": [
    "# The F-1 score for abcnn approach\n",
    "model.run_eval(test)"
   ]
  }
 ],
 "metadata": {
  "kernelspec": {
   "display_name": "Python 3",
   "language": "python",
   "name": "python3"
  },
  "language_info": {
   "codemirror_mode": {
    "name": "ipython",
    "version": 3
   },
   "file_extension": ".py",
   "mimetype": "text/x-python",
   "name": "python",
   "nbconvert_exporter": "python",
   "pygments_lexer": "ipython3",
   "version": "3.6.6"
  }
 },
 "nbformat": 4,
 "nbformat_minor": 2
}
