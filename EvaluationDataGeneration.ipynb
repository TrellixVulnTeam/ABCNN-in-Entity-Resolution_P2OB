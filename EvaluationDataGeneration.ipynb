{
 "cells": [
  {
   "cell_type": "code",
   "execution_count": 1,
   "metadata": {},
   "outputs": [],
   "source": [
    "import pandas as pd"
   ]
  },
  {
   "cell_type": "code",
   "execution_count": 2,
   "metadata": {},
   "outputs": [],
   "source": [
    "# Change the parameters below to different dataset\n",
    "table_a = pd.read_csv('experiment_data/dblp_acm_exp_data/tableA.csv')\n",
    "table_b = pd.read_csv('experiment_data/dblp_acm_exp_data/tableB.csv')\n",
    "original_train = pd.read_csv('experiment_data/dblp_acm_exp_data/train.csv')\n",
    "original_validation = pd.read_csv('experiment_data/dblp_acm_exp_data/valid.csv')\n",
    "original_test = pd.read_csv('experiment_data/dblp_acm_exp_data/test.csv')"
   ]
  },
  {
   "cell_type": "code",
   "execution_count": 3,
   "metadata": {},
   "outputs": [],
   "source": [
    "# Get the attributes for given table\n",
    "attributes = table_a.columns[1:]\n",
    "left_attributes = []\n",
    "right_attributes = []\n",
    "for attr in attributes:\n",
    "    left_attributes.append('left_' + attr)\n",
    "for attr in attributes:\n",
    "    right_attributes.append('right_' + attr)\n",
    "columns = ['label'] + left_attributes + right_attributes"
   ]
  },
  {
   "cell_type": "code",
   "execution_count": 4,
   "metadata": {},
   "outputs": [],
   "source": [
    "# Join the table, construct train dataframe and out to CSV\n",
    "train_df = pd.DataFrame(columns=columns)\n",
    "for i in original_train.index:\n",
    "    left_id = original_train.loc[i,'ltable_id']\n",
    "    right_id = original_train.loc[i,'rtable_id']\n",
    "    label = original_train.loc[i,'label']\n",
    "    temp_row = {}\n",
    "    temp_row['label'] = label\n",
    "    for left_attr in attributes:\n",
    "        if len(table_a[table_a['id'] == left_id][left_attr].values) == 0:\n",
    "            temp_row['left_' + left_attr] = ''\n",
    "        else:\n",
    "            temp_row['left_' + left_attr] = table_a[table_a['id'] == left_id][left_attr].values[0]\n",
    "    for right_attr in attributes:\n",
    "        if len(table_b[table_b['id'] == right_id][right_attr].values) == 0:\n",
    "            temp_row['right_' + right_attr] = ''\n",
    "        else:\n",
    "            temp_row['right_' + right_attr] = table_b[table_b['id'] == right_id][right_attr].values[0]\n",
    "    train_df.loc[i] = temp_row\n",
    "train_df.to_csv('train.csv',columns=columns,index=False,sep=',')"
   ]
  },
  {
   "cell_type": "code",
   "execution_count": 5,
   "metadata": {},
   "outputs": [],
   "source": [
    "# Join the table, construct validation dataframe and out to CSV\n",
    "validation_df = pd.DataFrame(columns=columns)\n",
    "for i in original_validation.index:\n",
    "    left_id = original_validation.loc[i,'ltable_id']\n",
    "    right_id = original_validation.loc[i,'rtable_id']\n",
    "    label = original_validation.loc[i,'label']\n",
    "    temp_row = {}\n",
    "    temp_row['label'] = label\n",
    "    for left_attr in attributes:\n",
    "        if len(table_a[table_a['id'] == left_id][left_attr].values) == 0:\n",
    "            temp_row['left_' + left_attr] = ''\n",
    "        else:\n",
    "            temp_row['left_' + left_attr] = table_a[table_a['id'] == left_id][left_attr].values[0]\n",
    "    for right_attr in attributes:\n",
    "        if len(table_b[table_b['id'] == right_id][right_attr].values) == 0:\n",
    "            temp_row['right_' + right_attr] = ''\n",
    "        else:\n",
    "            temp_row['right_' + right_attr] = table_b[table_b['id'] == right_id][right_attr].values[0]\n",
    "    validation_df.loc[i] = temp_row\n",
    "validation_df.to_csv('validation.csv',columns=columns,index=False,sep=',')"
   ]
  },
  {
   "cell_type": "code",
   "execution_count": 6,
   "metadata": {},
   "outputs": [],
   "source": [
    "# Join the table, construct test dataframe and out to CSV\n",
    "test_df = pd.DataFrame(columns=columns)\n",
    "for i in original_test.index:\n",
    "    left_id = original_test.loc[i,'ltable_id']\n",
    "    right_id = original_test.loc[i,'rtable_id']\n",
    "    label = original_test.loc[i,'label']\n",
    "    temp_row = {}\n",
    "    temp_row['label'] = label\n",
    "    for left_attr in attributes:\n",
    "        if len(table_a[table_a['id'] == left_id][left_attr].values) == 0:\n",
    "            temp_row['left_' + left_attr] = ''\n",
    "        else:\n",
    "            temp_row['left_' + left_attr] = table_a[table_a['id'] == left_id][left_attr].values[0]\n",
    "    for right_attr in attributes:\n",
    "        if len(table_b[table_b['id'] == right_id][right_attr].values) == 0:\n",
    "            temp_row['right_' + right_attr] = ''\n",
    "        else:\n",
    "            temp_row['right_' + right_attr] = table_b[table_b['id'] == right_id][right_attr].values[0]\n",
    "    test_df.loc[i] = temp_row\n",
    "test_df.to_csv('test.csv',columns=columns,index=False,sep=',')"
   ]
  }
 ],
 "metadata": {
  "kernelspec": {
   "display_name": "Python 3",
   "language": "python",
   "name": "python3"
  },
  "language_info": {
   "codemirror_mode": {
    "name": "ipython",
    "version": 3
   },
   "file_extension": ".py",
   "mimetype": "text/x-python",
   "name": "python",
   "nbconvert_exporter": "python",
   "pygments_lexer": "ipython3",
   "version": "3.6.6"
  }
 },
 "nbformat": 4,
 "nbformat_minor": 2
}
