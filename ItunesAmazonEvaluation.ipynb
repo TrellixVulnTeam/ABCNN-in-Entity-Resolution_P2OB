{
 "cells": [
  {
   "cell_type": "code",
   "execution_count": 1,
   "metadata": {},
   "outputs": [],
   "source": [
    "import deepmatcher as dm\n",
    "import pandas as pd\n",
    "import torch"
   ]
  },
  {
   "cell_type": "code",
   "execution_count": 2,
   "metadata": {},
   "outputs": [
    {
     "data": {
      "text/plain": [
       "True"
      ]
     },
     "execution_count": 2,
     "metadata": {},
     "output_type": "execute_result"
    }
   ],
   "source": [
    "torch.cuda.is_available()"
   ]
  },
  {
   "cell_type": "code",
   "execution_count": 3,
   "metadata": {},
   "outputs": [],
   "source": [
    "train, validation, test = dm.data.process(\n",
    "    path='sample_data/itunes-amazon',\n",
    "    train='train.csv',\n",
    "    validation='validation.csv',\n",
    "    test='test.csv')"
   ]
  },
  {
   "cell_type": "code",
   "execution_count": 4,
   "metadata": {},
   "outputs": [
    {
     "name": "stdout",
     "output_type": "stream",
     "text": [
      "* Number of trainable parameters: 662602\n",
      "===>  TRAIN Epoch 1\n"
     ]
    },
    {
     "name": "stderr",
     "output_type": "stream",
     "text": [
      "0% [███] 100% | ETA: 00:00:00\n",
      "Total time elapsed: 00:00:00\n"
     ]
    },
    {
     "name": "stdout",
     "output_type": "stream",
     "text": [
      "Finished Epoch 1 || Run Time:    0.2 | Load Time:    0.5 || F1:  20.37 | Prec:  35.48 | Rec:  14.29 || Ex/s: 478.34\n",
      "\n",
      "===>  EVAL Epoch 1\n"
     ]
    },
    {
     "name": "stderr",
     "output_type": "stream",
     "text": [
      "0% [█] 100% | ETA: 00:00:00\n",
      "Total time elapsed: 00:00:00\n"
     ]
    },
    {
     "name": "stdout",
     "output_type": "stream",
     "text": [
      "Finished Epoch 1 || Run Time:    0.0 | Load Time:    0.2 || F1:  34.48 | Prec: 100.00 | Rec:  20.83 || Ex/s: 560.95\n",
      "\n",
      "* Best F1: 34.48275862068965\n",
      "Saving best model...\n",
      "Done.\n",
      "---------------------\n",
      "\n",
      "===>  TRAIN Epoch 2\n"
     ]
    },
    {
     "name": "stderr",
     "output_type": "stream",
     "text": [
      "0% [███] 100% | ETA: 00:00:00\n",
      "Total time elapsed: 00:00:00\n"
     ]
    },
    {
     "name": "stdout",
     "output_type": "stream",
     "text": [
      "Finished Epoch 2 || Run Time:    0.2 | Load Time:    0.5 || F1:  85.07 | Prec: 100.00 | Rec:  74.03 || Ex/s: 489.18\n",
      "\n",
      "===>  EVAL Epoch 2\n"
     ]
    },
    {
     "name": "stderr",
     "output_type": "stream",
     "text": [
      "0% [█] 100% | ETA: 00:00:00\n",
      "Total time elapsed: 00:00:00\n"
     ]
    },
    {
     "name": "stdout",
     "output_type": "stream",
     "text": [
      "Finished Epoch 2 || Run Time:    0.0 | Load Time:    0.2 || F1:  75.00 | Prec:  93.75 | Rec:  62.50 || Ex/s: 570.91\n",
      "\n",
      "* Best F1: 75.0\n",
      "Saving best model...\n",
      "Done.\n",
      "---------------------\n",
      "\n",
      "===>  TRAIN Epoch 3\n"
     ]
    },
    {
     "name": "stderr",
     "output_type": "stream",
     "text": [
      "0% [███] 100% | ETA: 00:00:00\n",
      "Total time elapsed: 00:00:00\n"
     ]
    },
    {
     "name": "stdout",
     "output_type": "stream",
     "text": [
      "Finished Epoch 3 || Run Time:    0.2 | Load Time:    0.5 || F1:  92.52 | Prec:  97.14 | Rec:  88.31 || Ex/s: 442.31\n",
      "\n",
      "===>  EVAL Epoch 3\n"
     ]
    },
    {
     "name": "stderr",
     "output_type": "stream",
     "text": [
      "0% [█] 100% | ETA: 00:00:00\n",
      "Total time elapsed: 00:00:00\n"
     ]
    },
    {
     "name": "stdout",
     "output_type": "stream",
     "text": [
      "Finished Epoch 3 || Run Time:    0.0 | Load Time:    0.2 || F1:  79.17 | Prec:  79.17 | Rec:  79.17 || Ex/s: 536.71\n",
      "\n",
      "* Best F1: 79.16666666666667\n",
      "Saving best model...\n",
      "Done.\n",
      "---------------------\n",
      "\n",
      "===>  TRAIN Epoch 4\n"
     ]
    },
    {
     "name": "stderr",
     "output_type": "stream",
     "text": [
      "0% [███] 100% | ETA: 00:00:00\n",
      "Total time elapsed: 00:00:00\n"
     ]
    },
    {
     "name": "stdout",
     "output_type": "stream",
     "text": [
      "Finished Epoch 4 || Run Time:    0.2 | Load Time:    0.5 || F1:  87.43 | Prec:  81.11 | Rec:  94.81 || Ex/s: 477.03\n",
      "\n",
      "===>  EVAL Epoch 4\n"
     ]
    },
    {
     "name": "stderr",
     "output_type": "stream",
     "text": [
      "0% [█] 100% | ETA: 00:00:00\n",
      "Total time elapsed: 00:00:00\n"
     ]
    },
    {
     "name": "stdout",
     "output_type": "stream",
     "text": [
      "Finished Epoch 4 || Run Time:    0.0 | Load Time:    0.2 || F1:  75.86 | Prec:  64.71 | Rec:  91.67 || Ex/s: 518.90\n",
      "\n",
      "---------------------\n",
      "\n",
      "===>  TRAIN Epoch 5\n"
     ]
    },
    {
     "name": "stderr",
     "output_type": "stream",
     "text": [
      "0% [███] 100% | ETA: 00:00:00\n",
      "Total time elapsed: 00:00:00\n"
     ]
    },
    {
     "name": "stdout",
     "output_type": "stream",
     "text": [
      "Finished Epoch 5 || Run Time:    0.2 | Load Time:    0.5 || F1:  88.24 | Prec:  80.65 | Rec:  97.40 || Ex/s: 468.09\n",
      "\n",
      "===>  EVAL Epoch 5\n"
     ]
    },
    {
     "name": "stderr",
     "output_type": "stream",
     "text": [
      "0% [█] 100% | ETA: 00:00:00\n",
      "Total time elapsed: 00:00:00\n"
     ]
    },
    {
     "name": "stdout",
     "output_type": "stream",
     "text": [
      "Finished Epoch 5 || Run Time:    0.0 | Load Time:    0.2 || F1:  78.57 | Prec:  68.75 | Rec:  91.67 || Ex/s: 534.01\n",
      "\n",
      "---------------------\n",
      "\n",
      "===>  TRAIN Epoch 6\n"
     ]
    },
    {
     "name": "stderr",
     "output_type": "stream",
     "text": [
      "0% [███] 100% | ETA: 00:00:00\n",
      "Total time elapsed: 00:00:00\n"
     ]
    },
    {
     "name": "stdout",
     "output_type": "stream",
     "text": [
      "Finished Epoch 6 || Run Time:    0.2 | Load Time:    0.5 || F1:  90.91 | Prec:  85.23 | Rec:  97.40 || Ex/s: 486.20\n",
      "\n",
      "===>  EVAL Epoch 6\n"
     ]
    },
    {
     "name": "stderr",
     "output_type": "stream",
     "text": [
      "0% [█] 100% | ETA: 00:00:00\n",
      "Total time elapsed: 00:00:00\n"
     ]
    },
    {
     "name": "stdout",
     "output_type": "stream",
     "text": [
      "Finished Epoch 6 || Run Time:    0.0 | Load Time:    0.2 || F1:  81.48 | Prec:  73.33 | Rec:  91.67 || Ex/s: 423.30\n",
      "\n",
      "* Best F1: 81.48148148148148\n",
      "Saving best model...\n",
      "Done.\n",
      "---------------------\n",
      "\n",
      "===>  TRAIN Epoch 7\n"
     ]
    },
    {
     "name": "stderr",
     "output_type": "stream",
     "text": [
      "0% [███] 100% | ETA: 00:00:00\n",
      "Total time elapsed: 00:00:00\n"
     ]
    },
    {
     "name": "stdout",
     "output_type": "stream",
     "text": [
      "Finished Epoch 7 || Run Time:    0.2 | Load Time:    0.5 || F1:  93.17 | Prec:  89.29 | Rec:  97.40 || Ex/s: 469.70\n",
      "\n",
      "===>  EVAL Epoch 7\n"
     ]
    },
    {
     "name": "stderr",
     "output_type": "stream",
     "text": [
      "0% [█] 100% | ETA: 00:00:00\n",
      "Total time elapsed: 00:00:00\n"
     ]
    },
    {
     "name": "stdout",
     "output_type": "stream",
     "text": [
      "Finished Epoch 7 || Run Time:    0.0 | Load Time:    0.2 || F1:  85.19 | Prec:  76.67 | Rec:  95.83 || Ex/s: 584.57\n",
      "\n",
      "* Best F1: 85.18518518518519\n",
      "Saving best model...\n",
      "Done.\n",
      "---------------------\n",
      "\n",
      "===>  TRAIN Epoch 8\n"
     ]
    },
    {
     "name": "stderr",
     "output_type": "stream",
     "text": [
      "0% [███] 100% | ETA: 00:00:00\n",
      "Total time elapsed: 00:00:00\n"
     ]
    },
    {
     "name": "stdout",
     "output_type": "stream",
     "text": [
      "Finished Epoch 8 || Run Time:    0.2 | Load Time:    0.5 || F1:  96.86 | Prec:  93.90 | Rec: 100.00 || Ex/s: 475.46\n",
      "\n",
      "===>  EVAL Epoch 8\n"
     ]
    },
    {
     "name": "stderr",
     "output_type": "stream",
     "text": [
      "0% [█] 100% | ETA: 00:00:00\n",
      "Total time elapsed: 00:00:00\n"
     ]
    },
    {
     "name": "stdout",
     "output_type": "stream",
     "text": [
      "Finished Epoch 8 || Run Time:    0.0 | Load Time:    0.2 || F1:  85.19 | Prec:  76.67 | Rec:  95.83 || Ex/s: 598.41\n",
      "\n",
      "---------------------\n",
      "\n",
      "===>  TRAIN Epoch 9\n"
     ]
    },
    {
     "name": "stderr",
     "output_type": "stream",
     "text": [
      "0% [███] 100% | ETA: 00:00:00\n",
      "Total time elapsed: 00:00:00\n"
     ]
    },
    {
     "name": "stdout",
     "output_type": "stream",
     "text": [
      "Finished Epoch 9 || Run Time:    0.2 | Load Time:    0.5 || F1:  96.86 | Prec:  93.90 | Rec: 100.00 || Ex/s: 508.33\n",
      "\n",
      "===>  EVAL Epoch 9\n"
     ]
    },
    {
     "name": "stderr",
     "output_type": "stream",
     "text": [
      "0% [█] 100% | ETA: 00:00:00\n",
      "Total time elapsed: 00:00:00\n"
     ]
    },
    {
     "name": "stdout",
     "output_type": "stream",
     "text": [
      "Finished Epoch 9 || Run Time:    0.0 | Load Time:    0.2 || F1:  85.19 | Prec:  76.67 | Rec:  95.83 || Ex/s: 577.03\n",
      "\n",
      "---------------------\n",
      "\n",
      "===>  TRAIN Epoch 10\n"
     ]
    },
    {
     "name": "stderr",
     "output_type": "stream",
     "text": [
      "0% [███] 100% | ETA: 00:00:00\n",
      "Total time elapsed: 00:00:00\n"
     ]
    },
    {
     "name": "stdout",
     "output_type": "stream",
     "text": [
      "Finished Epoch 10 || Run Time:    0.2 | Load Time:    0.5 || F1:  97.47 | Prec:  95.06 | Rec: 100.00 || Ex/s: 506.15\n",
      "\n",
      "===>  EVAL Epoch 10\n"
     ]
    },
    {
     "name": "stderr",
     "output_type": "stream",
     "text": [
      "0% [█] 100% | ETA: 00:00:00\n",
      "Total time elapsed: 00:00:00\n"
     ]
    },
    {
     "name": "stdout",
     "output_type": "stream",
     "text": [
      "Finished Epoch 10 || Run Time:    0.0 | Load Time:    0.2 || F1:  85.19 | Prec:  76.67 | Rec:  95.83 || Ex/s: 577.15\n",
      "\n",
      "---------------------\n",
      "\n",
      "Loading best model...\n",
      "Training done.\n"
     ]
    },
    {
     "data": {
      "text/plain": [
       "85.18518518518519"
      ]
     },
     "execution_count": 4,
     "metadata": {},
     "output_type": "execute_result"
    }
   ],
   "source": [
    "# Average model\n",
    "average_attr_summarizer_module = dm.modules.NoMeta(\n",
    "    dm.modules.Lambda(\n",
    "        lambda x, y: (x.sum(dim=1) / x.shape[1], y.sum(dim=1) / y.shape[1])))\n",
    "model = dm.MatchingModel(attr_summarizer=lambda: average_attr_summarizer_module, \n",
    "                         attr_comparator='abs-diff')\n",
    "model.run_train(\n",
    "    train,\n",
    "    validation,\n",
    "    epochs=10,\n",
    "    batch_size=20,\n",
    "    best_save_path='average_model.pth',\n",
    "    pos_neg_ratio=3)"
   ]
  },
  {
   "cell_type": "code",
   "execution_count": 5,
   "metadata": {},
   "outputs": [
    {
     "name": "stdout",
     "output_type": "stream",
     "text": [
      "===>  EVAL Epoch 7\n",
      "Finished Epoch 7 || Run Time:    0.0 | Load Time:    0.2 || F1:  82.76 | Prec:  88.89 | Rec:  77.42 || Ex/s: 504.18\n",
      "\n"
     ]
    },
    {
     "data": {
      "text/plain": [
       "82.75862068965519"
      ]
     },
     "execution_count": 5,
     "metadata": {},
     "output_type": "execute_result"
    }
   ],
   "source": [
    "# The F-1 score for average approach\n",
    "model.run_eval(test)"
   ]
  },
  {
   "cell_type": "code",
   "execution_count": 6,
   "metadata": {},
   "outputs": [
    {
     "name": "stdout",
     "output_type": "stream",
     "text": [
      "* Number of trainable parameters: 662602\n",
      "===>  TRAIN Epoch 1\n"
     ]
    },
    {
     "name": "stderr",
     "output_type": "stream",
     "text": [
      "0% [███] 100% | ETA: 00:00:00\n",
      "Total time elapsed: 00:00:00\n"
     ]
    },
    {
     "name": "stdout",
     "output_type": "stream",
     "text": [
      "Finished Epoch 1 || Run Time:    0.3 | Load Time:    0.5 || F1:  48.86 | Prec:  43.43 | Rec:  55.84 || Ex/s: 420.87\n",
      "\n",
      "===>  EVAL Epoch 1\n"
     ]
    },
    {
     "name": "stderr",
     "output_type": "stream",
     "text": [
      "0% [█] 100% | ETA: 00:00:00\n",
      "Total time elapsed: 00:00:00\n"
     ]
    },
    {
     "name": "stdout",
     "output_type": "stream",
     "text": [
      "Finished Epoch 1 || Run Time:    0.1 | Load Time:    0.2 || F1:  54.55 | Prec: 100.00 | Rec:  37.50 || Ex/s: 422.69\n",
      "\n",
      "* Best F1: 54.54545454545455\n",
      "Saving best model...\n",
      "Done.\n",
      "---------------------\n",
      "\n",
      "===>  TRAIN Epoch 2\n"
     ]
    },
    {
     "name": "stderr",
     "output_type": "stream",
     "text": [
      "0% [███] 100% | ETA: 00:00:00\n",
      "Total time elapsed: 00:00:00\n"
     ]
    },
    {
     "name": "stdout",
     "output_type": "stream",
     "text": [
      "Finished Epoch 2 || Run Time:    0.3 | Load Time:    0.5 || F1:  80.62 | Prec: 100.00 | Rec:  67.53 || Ex/s: 433.40\n",
      "\n",
      "===>  EVAL Epoch 2\n"
     ]
    },
    {
     "name": "stderr",
     "output_type": "stream",
     "text": [
      "0% [█] 100% | ETA: 00:00:00\n",
      "Total time elapsed: 00:00:00\n"
     ]
    },
    {
     "name": "stdout",
     "output_type": "stream",
     "text": [
      "Finished Epoch 2 || Run Time:    0.1 | Load Time:    0.2 || F1:  78.05 | Prec:  94.12 | Rec:  66.67 || Ex/s: 474.84\n",
      "\n",
      "* Best F1: 78.04878048780488\n",
      "Saving best model...\n",
      "Done.\n",
      "---------------------\n",
      "\n",
      "===>  TRAIN Epoch 3\n"
     ]
    },
    {
     "name": "stderr",
     "output_type": "stream",
     "text": [
      "0% [███] 100% | ETA: 00:00:00\n",
      "Total time elapsed: 00:00:00\n"
     ]
    },
    {
     "name": "stdout",
     "output_type": "stream",
     "text": [
      "Finished Epoch 3 || Run Time:    0.3 | Load Time:    0.5 || F1:  92.31 | Prec: 100.00 | Rec:  85.71 || Ex/s: 430.66\n",
      "\n",
      "===>  EVAL Epoch 3\n"
     ]
    },
    {
     "name": "stderr",
     "output_type": "stream",
     "text": [
      "0% [█] 100% | ETA: 00:00:00\n",
      "Total time elapsed: 00:00:00\n"
     ]
    },
    {
     "name": "stdout",
     "output_type": "stream",
     "text": [
      "Finished Epoch 3 || Run Time:    0.1 | Load Time:    0.2 || F1:  79.07 | Prec:  89.47 | Rec:  70.83 || Ex/s: 424.25\n",
      "\n",
      "* Best F1: 79.06976744186046\n",
      "Saving best model...\n",
      "Done.\n",
      "---------------------\n",
      "\n",
      "===>  TRAIN Epoch 4\n"
     ]
    },
    {
     "name": "stderr",
     "output_type": "stream",
     "text": [
      "0% [███] 100% | ETA: 00:00:00\n",
      "Total time elapsed: 00:00:00\n"
     ]
    },
    {
     "name": "stdout",
     "output_type": "stream",
     "text": [
      "Finished Epoch 4 || Run Time:    0.3 | Load Time:    0.5 || F1:  95.42 | Prec:  96.05 | Rec:  94.81 || Ex/s: 409.65\n",
      "\n",
      "===>  EVAL Epoch 4\n"
     ]
    },
    {
     "name": "stderr",
     "output_type": "stream",
     "text": [
      "0% [█] 100% | ETA: 00:00:00\n",
      "Total time elapsed: 00:00:00\n"
     ]
    },
    {
     "name": "stdout",
     "output_type": "stream",
     "text": [
      "Finished Epoch 4 || Run Time:    0.1 | Load Time:    0.2 || F1:  79.17 | Prec:  79.17 | Rec:  79.17 || Ex/s: 470.72\n",
      "\n",
      "* Best F1: 79.16666666666667\n",
      "Saving best model...\n",
      "Done.\n",
      "---------------------\n",
      "\n",
      "===>  TRAIN Epoch 5\n"
     ]
    },
    {
     "name": "stderr",
     "output_type": "stream",
     "text": [
      "0% [███] 100% | ETA: 00:00:00\n",
      "Total time elapsed: 00:00:00\n"
     ]
    },
    {
     "name": "stdout",
     "output_type": "stream",
     "text": [
      "Finished Epoch 5 || Run Time:    0.4 | Load Time:    0.5 || F1:  94.81 | Prec:  94.81 | Rec:  94.81 || Ex/s: 353.90\n",
      "\n",
      "===>  EVAL Epoch 5\n"
     ]
    },
    {
     "name": "stderr",
     "output_type": "stream",
     "text": [
      "0% [█] 100% | ETA: 00:00:00\n",
      "Total time elapsed: 00:00:00\n"
     ]
    },
    {
     "name": "stdout",
     "output_type": "stream",
     "text": [
      "Finished Epoch 5 || Run Time:    0.1 | Load Time:    0.2 || F1:  86.27 | Prec:  81.48 | Rec:  91.67 || Ex/s: 471.03\n",
      "\n",
      "* Best F1: 86.27450980392157\n",
      "Saving best model...\n",
      "Done.\n",
      "---------------------\n",
      "\n",
      "===>  TRAIN Epoch 6\n"
     ]
    },
    {
     "name": "stderr",
     "output_type": "stream",
     "text": [
      "0% [███] 100% | ETA: 00:00:00\n",
      "Total time elapsed: 00:00:00\n"
     ]
    },
    {
     "name": "stdout",
     "output_type": "stream",
     "text": [
      "Finished Epoch 6 || Run Time:    0.3 | Load Time:    0.5 || F1:  94.87 | Prec:  93.67 | Rec:  96.10 || Ex/s: 369.02\n",
      "\n",
      "===>  EVAL Epoch 6\n"
     ]
    },
    {
     "name": "stderr",
     "output_type": "stream",
     "text": [
      "0% [█] 100% | ETA: 00:00:00\n",
      "Total time elapsed: 00:00:00\n"
     ]
    },
    {
     "name": "stdout",
     "output_type": "stream",
     "text": [
      "Finished Epoch 6 || Run Time:    0.1 | Load Time:    0.2 || F1:  83.02 | Prec:  75.86 | Rec:  91.67 || Ex/s: 426.24\n",
      "\n",
      "---------------------\n",
      "\n",
      "===>  TRAIN Epoch 7\n"
     ]
    },
    {
     "name": "stderr",
     "output_type": "stream",
     "text": [
      "0% [███] 100% | ETA: 00:00:00\n",
      "Total time elapsed: 00:00:00\n"
     ]
    },
    {
     "name": "stdout",
     "output_type": "stream",
     "text": [
      "Finished Epoch 7 || Run Time:    0.4 | Load Time:    0.5 || F1:  94.87 | Prec:  93.67 | Rec:  96.10 || Ex/s: 357.47\n",
      "\n",
      "===>  EVAL Epoch 7\n"
     ]
    },
    {
     "name": "stderr",
     "output_type": "stream",
     "text": [
      "0% [█] 100% | ETA: 00:00:00\n",
      "Total time elapsed: 00:00:00\n"
     ]
    },
    {
     "name": "stdout",
     "output_type": "stream",
     "text": [
      "Finished Epoch 7 || Run Time:    0.1 | Load Time:    0.2 || F1:  83.02 | Prec:  75.86 | Rec:  91.67 || Ex/s: 382.59\n",
      "\n",
      "---------------------\n",
      "\n",
      "===>  TRAIN Epoch 8\n"
     ]
    },
    {
     "name": "stderr",
     "output_type": "stream",
     "text": [
      "0% [███] 100% | ETA: 00:00:00\n",
      "Total time elapsed: 00:00:00\n"
     ]
    },
    {
     "name": "stdout",
     "output_type": "stream",
     "text": [
      "Finished Epoch 8 || Run Time:    0.3 | Load Time:    0.5 || F1:  94.87 | Prec:  93.67 | Rec:  96.10 || Ex/s: 381.37\n",
      "\n",
      "===>  EVAL Epoch 8\n"
     ]
    },
    {
     "name": "stderr",
     "output_type": "stream",
     "text": [
      "0% [█] 100% | ETA: 00:00:00\n",
      "Total time elapsed: 00:00:00\n"
     ]
    },
    {
     "name": "stdout",
     "output_type": "stream",
     "text": [
      "Finished Epoch 8 || Run Time:    0.1 | Load Time:    0.2 || F1:  83.02 | Prec:  75.86 | Rec:  91.67 || Ex/s: 373.28\n",
      "\n",
      "---------------------\n",
      "\n",
      "===>  TRAIN Epoch 9\n"
     ]
    },
    {
     "name": "stderr",
     "output_type": "stream",
     "text": [
      "0% [███] 100% | ETA: 00:00:00\n",
      "Total time elapsed: 00:00:00\n"
     ]
    },
    {
     "name": "stdout",
     "output_type": "stream",
     "text": [
      "Finished Epoch 9 || Run Time:    0.4 | Load Time:    0.6 || F1:  94.87 | Prec:  93.67 | Rec:  96.10 || Ex/s: 344.20\n",
      "\n",
      "===>  EVAL Epoch 9\n"
     ]
    },
    {
     "name": "stderr",
     "output_type": "stream",
     "text": [
      "0% [█] 100% | ETA: 00:00:00\n",
      "Total time elapsed: 00:00:00\n"
     ]
    },
    {
     "name": "stdout",
     "output_type": "stream",
     "text": [
      "Finished Epoch 9 || Run Time:    0.1 | Load Time:    0.2 || F1:  83.02 | Prec:  75.86 | Rec:  91.67 || Ex/s: 388.30\n",
      "\n",
      "---------------------\n",
      "\n",
      "===>  TRAIN Epoch 10\n"
     ]
    },
    {
     "name": "stderr",
     "output_type": "stream",
     "text": [
      "0% [███] 100% | ETA: 00:00:00\n",
      "Total time elapsed: 00:00:00\n"
     ]
    },
    {
     "name": "stdout",
     "output_type": "stream",
     "text": [
      "Finished Epoch 10 || Run Time:    0.3 | Load Time:    0.5 || F1:  96.20 | Prec:  93.83 | Rec:  98.70 || Ex/s: 381.16\n",
      "\n",
      "===>  EVAL Epoch 10\n"
     ]
    },
    {
     "name": "stderr",
     "output_type": "stream",
     "text": [
      "0% [█] 100% | ETA: 00:00:00\n",
      "Total time elapsed: 00:00:00\n"
     ]
    },
    {
     "name": "stdout",
     "output_type": "stream",
     "text": [
      "Finished Epoch 10 || Run Time:    0.1 | Load Time:    0.2 || F1:  81.48 | Prec:  73.33 | Rec:  91.67 || Ex/s: 395.85\n",
      "\n",
      "---------------------\n",
      "\n",
      "Loading best model...\n",
      "Training done.\n"
     ]
    },
    {
     "data": {
      "text/plain": [
       "86.27450980392157"
      ]
     },
     "execution_count": 6,
     "metadata": {},
     "output_type": "execute_result"
    }
   ],
   "source": [
    "model = dm.MatchingModel(attr_summarizer='sif')\n",
    "model.run_train(\n",
    "    train,\n",
    "    validation,\n",
    "    epochs=10,\n",
    "    batch_size=20,\n",
    "    best_save_path='sif_model.pth',\n",
    "    pos_neg_ratio=3)"
   ]
  },
  {
   "cell_type": "code",
   "execution_count": 7,
   "metadata": {},
   "outputs": [
    {
     "name": "stdout",
     "output_type": "stream",
     "text": [
      "===>  EVAL Epoch 5\n",
      "Finished Epoch 5 || Run Time:    0.0 | Load Time:    0.2 || F1:  84.75 | Prec:  89.29 | Rec:  80.65 || Ex/s: 466.09\n",
      "\n"
     ]
    },
    {
     "data": {
      "text/plain": [
       "84.7457627118644"
      ]
     },
     "execution_count": 7,
     "metadata": {},
     "output_type": "execute_result"
    }
   ],
   "source": [
    "# The F-1 score for SIF approach\n",
    "model.run_eval(test)"
   ]
  },
  {
   "cell_type": "code",
   "execution_count": 8,
   "metadata": {},
   "outputs": [
    {
     "name": "stdout",
     "output_type": "stream",
     "text": [
      "* Number of trainable parameters: 3917002\n",
      "===>  TRAIN Epoch 1\n"
     ]
    },
    {
     "name": "stderr",
     "output_type": "stream",
     "text": [
      "0% [██████] 100% | ETA: 00:00:00\n",
      "Total time elapsed: 00:00:01\n"
     ]
    },
    {
     "name": "stdout",
     "output_type": "stream",
     "text": [
      "Finished Epoch 1 || Run Time:    1.5 | Load Time:    0.5 || F1:  61.69 | Prec:  50.00 | Rec:  80.52 || Ex/s: 158.79\n",
      "\n",
      "===>  EVAL Epoch 1\n"
     ]
    },
    {
     "name": "stderr",
     "output_type": "stream",
     "text": [
      "0% [██] 100% | ETA: 00:00:00\n",
      "Total time elapsed: 00:00:00\n"
     ]
    },
    {
     "name": "stdout",
     "output_type": "stream",
     "text": [
      "Finished Epoch 1 || Run Time:    0.2 | Load Time:    0.2 || F1:  66.67 | Prec:  53.85 | Rec:  87.50 || Ex/s: 304.84\n",
      "\n",
      "* Best F1: 66.66666666666667\n",
      "Saving best model...\n",
      "Done.\n",
      "---------------------\n",
      "\n",
      "===>  TRAIN Epoch 2\n"
     ]
    },
    {
     "name": "stderr",
     "output_type": "stream",
     "text": [
      "0% [██████] 100% | ETA: 00:00:00\n",
      "Total time elapsed: 00:00:01\n"
     ]
    },
    {
     "name": "stdout",
     "output_type": "stream",
     "text": [
      "Finished Epoch 2 || Run Time:    1.5 | Load Time:    0.5 || F1:  87.36 | Prec:  78.35 | Rec:  98.70 || Ex/s: 161.15\n",
      "\n",
      "===>  EVAL Epoch 2\n"
     ]
    },
    {
     "name": "stderr",
     "output_type": "stream",
     "text": [
      "0% [██] 100% | ETA: 00:00:00\n",
      "Total time elapsed: 00:00:00\n"
     ]
    },
    {
     "name": "stdout",
     "output_type": "stream",
     "text": [
      "Finished Epoch 2 || Run Time:    0.2 | Load Time:    0.2 || F1:  68.66 | Prec:  53.49 | Rec:  95.83 || Ex/s: 288.54\n",
      "\n",
      "* Best F1: 68.65671641791046\n",
      "Saving best model...\n",
      "Done.\n",
      "---------------------\n",
      "\n",
      "===>  TRAIN Epoch 3\n"
     ]
    },
    {
     "name": "stderr",
     "output_type": "stream",
     "text": [
      "0% [██████] 100% | ETA: 00:00:00\n",
      "Total time elapsed: 00:00:01\n"
     ]
    },
    {
     "name": "stdout",
     "output_type": "stream",
     "text": [
      "Finished Epoch 3 || Run Time:    1.6 | Load Time:    0.5 || F1:  96.25 | Prec:  92.77 | Rec: 100.00 || Ex/s: 154.51\n",
      "\n",
      "===>  EVAL Epoch 3\n"
     ]
    },
    {
     "name": "stderr",
     "output_type": "stream",
     "text": [
      "0% [██] 100% | ETA: 00:00:00\n",
      "Total time elapsed: 00:00:00\n"
     ]
    },
    {
     "name": "stdout",
     "output_type": "stream",
     "text": [
      "Finished Epoch 3 || Run Time:    0.2 | Load Time:    0.2 || F1:  88.00 | Prec:  84.62 | Rec:  91.67 || Ex/s: 296.70\n",
      "\n",
      "* Best F1: 88.00000000000001\n",
      "Saving best model...\n",
      "Done.\n",
      "---------------------\n",
      "\n",
      "===>  TRAIN Epoch 4\n"
     ]
    },
    {
     "name": "stderr",
     "output_type": "stream",
     "text": [
      "0% [██████] 100% | ETA: 00:00:00\n",
      "Total time elapsed: 00:00:01\n"
     ]
    },
    {
     "name": "stdout",
     "output_type": "stream",
     "text": [
      "Finished Epoch 4 || Run Time:    1.5 | Load Time:    0.5 || F1: 100.00 | Prec: 100.00 | Rec: 100.00 || Ex/s: 165.49\n",
      "\n",
      "===>  EVAL Epoch 4\n"
     ]
    },
    {
     "name": "stderr",
     "output_type": "stream",
     "text": [
      "0% [██] 100% | ETA: 00:00:00\n",
      "Total time elapsed: 00:00:00\n"
     ]
    },
    {
     "name": "stdout",
     "output_type": "stream",
     "text": [
      "Finished Epoch 4 || Run Time:    0.2 | Load Time:    0.2 || F1:  86.27 | Prec:  81.48 | Rec:  91.67 || Ex/s: 304.76\n",
      "\n",
      "---------------------\n",
      "\n",
      "===>  TRAIN Epoch 5\n"
     ]
    },
    {
     "name": "stderr",
     "output_type": "stream",
     "text": [
      "0% [██████] 100% | ETA: 00:00:00\n",
      "Total time elapsed: 00:00:01\n"
     ]
    },
    {
     "name": "stdout",
     "output_type": "stream",
     "text": [
      "Finished Epoch 5 || Run Time:    1.5 | Load Time:    0.5 || F1: 100.00 | Prec: 100.00 | Rec: 100.00 || Ex/s: 162.46\n",
      "\n",
      "===>  EVAL Epoch 5\n"
     ]
    },
    {
     "name": "stderr",
     "output_type": "stream",
     "text": [
      "0% [██] 100% | ETA: 00:00:00\n",
      "Total time elapsed: 00:00:00\n"
     ]
    },
    {
     "name": "stdout",
     "output_type": "stream",
     "text": [
      "Finished Epoch 5 || Run Time:    0.2 | Load Time:    0.2 || F1:  88.00 | Prec:  84.62 | Rec:  91.67 || Ex/s: 297.59\n",
      "\n",
      "---------------------\n",
      "\n",
      "===>  TRAIN Epoch 6\n"
     ]
    },
    {
     "name": "stderr",
     "output_type": "stream",
     "text": [
      "0% [██████] 100% | ETA: 00:00:00\n",
      "Total time elapsed: 00:00:01\n"
     ]
    },
    {
     "name": "stdout",
     "output_type": "stream",
     "text": [
      "Finished Epoch 6 || Run Time:    1.5 | Load Time:    0.5 || F1: 100.00 | Prec: 100.00 | Rec: 100.00 || Ex/s: 163.41\n",
      "\n",
      "===>  EVAL Epoch 6\n"
     ]
    },
    {
     "name": "stderr",
     "output_type": "stream",
     "text": [
      "0% [██] 100% | ETA: 00:00:00\n",
      "Total time elapsed: 00:00:00\n"
     ]
    },
    {
     "name": "stdout",
     "output_type": "stream",
     "text": [
      "Finished Epoch 6 || Run Time:    0.2 | Load Time:    0.2 || F1:  86.27 | Prec:  81.48 | Rec:  91.67 || Ex/s: 308.68\n",
      "\n",
      "---------------------\n",
      "\n",
      "===>  TRAIN Epoch 7\n"
     ]
    },
    {
     "name": "stderr",
     "output_type": "stream",
     "text": [
      "0% [██████] 100% | ETA: 00:00:00\n",
      "Total time elapsed: 00:00:01\n"
     ]
    },
    {
     "name": "stdout",
     "output_type": "stream",
     "text": [
      "Finished Epoch 7 || Run Time:    1.6 | Load Time:    0.5 || F1: 100.00 | Prec: 100.00 | Rec: 100.00 || Ex/s: 154.76\n",
      "\n",
      "===>  EVAL Epoch 7\n"
     ]
    },
    {
     "name": "stderr",
     "output_type": "stream",
     "text": [
      "0% [██] 100% | ETA: 00:00:00\n",
      "Total time elapsed: 00:00:00\n"
     ]
    },
    {
     "name": "stdout",
     "output_type": "stream",
     "text": [
      "Finished Epoch 7 || Run Time:    0.2 | Load Time:    0.2 || F1:  84.62 | Prec:  78.57 | Rec:  91.67 || Ex/s: 295.52\n",
      "\n",
      "---------------------\n",
      "\n",
      "===>  TRAIN Epoch 8\n"
     ]
    },
    {
     "name": "stderr",
     "output_type": "stream",
     "text": [
      "0% [██████] 100% | ETA: 00:00:00\n",
      "Total time elapsed: 00:00:01\n"
     ]
    },
    {
     "name": "stdout",
     "output_type": "stream",
     "text": [
      "Finished Epoch 8 || Run Time:    1.6 | Load Time:    0.5 || F1: 100.00 | Prec: 100.00 | Rec: 100.00 || Ex/s: 157.30\n",
      "\n",
      "===>  EVAL Epoch 8\n"
     ]
    },
    {
     "name": "stderr",
     "output_type": "stream",
     "text": [
      "0% [██] 100% | ETA: 00:00:00\n",
      "Total time elapsed: 00:00:00\n"
     ]
    },
    {
     "name": "stdout",
     "output_type": "stream",
     "text": [
      "Finished Epoch 8 || Run Time:    0.2 | Load Time:    0.2 || F1:  84.62 | Prec:  78.57 | Rec:  91.67 || Ex/s: 288.86\n",
      "\n",
      "---------------------\n",
      "\n",
      "===>  TRAIN Epoch 9\n"
     ]
    },
    {
     "name": "stderr",
     "output_type": "stream",
     "text": [
      "0% [██████] 100% | ETA: 00:00:00\n",
      "Total time elapsed: 00:00:01\n"
     ]
    },
    {
     "name": "stdout",
     "output_type": "stream",
     "text": [
      "Finished Epoch 9 || Run Time:    1.6 | Load Time:    0.5 || F1: 100.00 | Prec: 100.00 | Rec: 100.00 || Ex/s: 150.92\n",
      "\n",
      "===>  EVAL Epoch 9\n"
     ]
    },
    {
     "name": "stderr",
     "output_type": "stream",
     "text": [
      "0% [██] 100% | ETA: 00:00:00\n",
      "Total time elapsed: 00:00:00\n"
     ]
    },
    {
     "name": "stdout",
     "output_type": "stream",
     "text": [
      "Finished Epoch 9 || Run Time:    0.2 | Load Time:    0.2 || F1:  83.02 | Prec:  75.86 | Rec:  91.67 || Ex/s: 302.68\n",
      "\n",
      "---------------------\n",
      "\n",
      "===>  TRAIN Epoch 10\n"
     ]
    },
    {
     "name": "stderr",
     "output_type": "stream",
     "text": [
      "0% [██████] 100% | ETA: 00:00:00\n",
      "Total time elapsed: 00:00:01\n"
     ]
    },
    {
     "name": "stdout",
     "output_type": "stream",
     "text": [
      "Finished Epoch 10 || Run Time:    1.7 | Load Time:    0.5 || F1: 100.00 | Prec: 100.00 | Rec: 100.00 || Ex/s: 150.12\n",
      "\n",
      "===>  EVAL Epoch 10\n"
     ]
    },
    {
     "name": "stderr",
     "output_type": "stream",
     "text": [
      "0% [██] 100% | ETA: 00:00:00\n",
      "Total time elapsed: 00:00:00\n"
     ]
    },
    {
     "name": "stdout",
     "output_type": "stream",
     "text": [
      "Finished Epoch 10 || Run Time:    0.2 | Load Time:    0.2 || F1:  83.02 | Prec:  75.86 | Rec:  91.67 || Ex/s: 309.51\n",
      "\n",
      "---------------------\n",
      "\n",
      "Loading best model...\n",
      "Training done.\n"
     ]
    },
    {
     "data": {
      "text/plain": [
       "88.00000000000001"
      ]
     },
     "execution_count": 8,
     "metadata": {},
     "output_type": "execute_result"
    }
   ],
   "source": [
    "model = dm.MatchingModel(attr_summarizer='rnn')\n",
    "model.run_train(\n",
    "    train,\n",
    "    validation,\n",
    "    epochs=10,\n",
    "    batch_size=10,\n",
    "    best_save_path='rnn_model.pth',\n",
    "    pos_neg_ratio=3)"
   ]
  },
  {
   "cell_type": "code",
   "execution_count": 9,
   "metadata": {},
   "outputs": [
    {
     "name": "stdout",
     "output_type": "stream",
     "text": [
      "===>  EVAL Epoch 3\n",
      "Finished Epoch 3 || Run Time:    0.1 | Load Time:    0.2 || F1:  84.21 | Prec:  92.31 | Rec:  77.42 || Ex/s: 432.71\n",
      "\n"
     ]
    },
    {
     "data": {
      "text/plain": [
       "84.21052631578948"
      ]
     },
     "execution_count": 9,
     "metadata": {},
     "output_type": "execute_result"
    }
   ],
   "source": [
    "# The F-1 score for RNN approach\n",
    "model.run_eval(test)"
   ]
  },
  {
   "cell_type": "code",
   "execution_count": 10,
   "metadata": {},
   "outputs": [
    {
     "name": "stdout",
     "output_type": "stream",
     "text": [
      "* Number of trainable parameters: 8121802\n",
      "===>  TRAIN Epoch 1\n"
     ]
    },
    {
     "name": "stderr",
     "output_type": "stream",
     "text": [
      "0% [██████] 100% | ETA: 00:00:00\n",
      "Total time elapsed: 00:00:03\n"
     ]
    },
    {
     "name": "stdout",
     "output_type": "stream",
     "text": [
      "Finished Epoch 1 || Run Time:    2.8 | Load Time:    0.5 || F1:  51.38 | Prec:  39.72 | Rec:  72.73 || Ex/s:  96.38\n",
      "\n",
      "===>  EVAL Epoch 1\n"
     ]
    },
    {
     "name": "stderr",
     "output_type": "stream",
     "text": [
      "0% [██] 100% | ETA: 00:00:00\n",
      "Total time elapsed: 00:00:00\n"
     ]
    },
    {
     "name": "stdout",
     "output_type": "stream",
     "text": [
      "Finished Epoch 1 || Run Time:    0.4 | Load Time:    0.2 || F1:  56.34 | Prec:  42.55 | Rec:  83.33 || Ex/s: 200.29\n",
      "\n",
      "* Best F1: 56.33802816901408\n",
      "Saving best model...\n",
      "Done.\n",
      "---------------------\n",
      "\n",
      "===>  TRAIN Epoch 2\n"
     ]
    },
    {
     "name": "stderr",
     "output_type": "stream",
     "text": [
      "0% [██████] 100% | ETA: 00:00:00\n",
      "Total time elapsed: 00:00:02\n"
     ]
    },
    {
     "name": "stdout",
     "output_type": "stream",
     "text": [
      "Finished Epoch 2 || Run Time:    2.8 | Load Time:    0.5 || F1:  73.63 | Prec:  63.81 | Rec:  87.01 || Ex/s:  98.93\n",
      "\n",
      "===>  EVAL Epoch 2\n"
     ]
    },
    {
     "name": "stderr",
     "output_type": "stream",
     "text": [
      "0% [██] 100% | ETA: 00:00:00\n",
      "Total time elapsed: 00:00:00\n"
     ]
    },
    {
     "name": "stdout",
     "output_type": "stream",
     "text": [
      "Finished Epoch 2 || Run Time:    0.3 | Load Time:    0.2 || F1:  65.52 | Prec:  55.88 | Rec:  79.17 || Ex/s: 214.02\n",
      "\n",
      "* Best F1: 65.51724137931033\n",
      "Saving best model...\n",
      "Done.\n",
      "---------------------\n",
      "\n",
      "===>  TRAIN Epoch 3\n"
     ]
    },
    {
     "name": "stderr",
     "output_type": "stream",
     "text": [
      "0% [██████] 100% | ETA: 00:00:00\n",
      "Total time elapsed: 00:00:02\n"
     ]
    },
    {
     "name": "stdout",
     "output_type": "stream",
     "text": [
      "Finished Epoch 3 || Run Time:    2.6 | Load Time:    0.5 || F1:  89.29 | Prec:  82.42 | Rec:  97.40 || Ex/s: 103.65\n",
      "\n",
      "===>  EVAL Epoch 3\n"
     ]
    },
    {
     "name": "stderr",
     "output_type": "stream",
     "text": [
      "0% [██] 100% | ETA: 00:00:00\n",
      "Total time elapsed: 00:00:00\n"
     ]
    },
    {
     "name": "stdout",
     "output_type": "stream",
     "text": [
      "Finished Epoch 3 || Run Time:    0.4 | Load Time:    0.2 || F1:  83.64 | Prec:  74.19 | Rec:  95.83 || Ex/s: 206.35\n",
      "\n",
      "* Best F1: 83.63636363636364\n",
      "Saving best model...\n",
      "Done.\n",
      "---------------------\n",
      "\n",
      "===>  TRAIN Epoch 4\n"
     ]
    },
    {
     "name": "stderr",
     "output_type": "stream",
     "text": [
      "0% [██████] 100% | ETA: 00:00:00\n",
      "Total time elapsed: 00:00:02\n"
     ]
    },
    {
     "name": "stdout",
     "output_type": "stream",
     "text": [
      "Finished Epoch 4 || Run Time:    2.6 | Load Time:    0.5 || F1:  97.47 | Prec:  95.06 | Rec: 100.00 || Ex/s: 105.88\n",
      "\n",
      "===>  EVAL Epoch 4\n"
     ]
    },
    {
     "name": "stderr",
     "output_type": "stream",
     "text": [
      "0% [██] 100% | ETA: 00:00:00\n",
      "Total time elapsed: 00:00:00\n"
     ]
    },
    {
     "name": "stdout",
     "output_type": "stream",
     "text": [
      "Finished Epoch 4 || Run Time:    0.3 | Load Time:    0.2 || F1:  82.14 | Prec:  71.88 | Rec:  95.83 || Ex/s: 217.70\n",
      "\n",
      "---------------------\n",
      "\n",
      "===>  TRAIN Epoch 5\n"
     ]
    },
    {
     "name": "stderr",
     "output_type": "stream",
     "text": [
      "0% [██████] 100% | ETA: 00:00:00\n",
      "Total time elapsed: 00:00:02\n"
     ]
    },
    {
     "name": "stdout",
     "output_type": "stream",
     "text": [
      "Finished Epoch 5 || Run Time:    2.6 | Load Time:    0.5 || F1:  98.72 | Prec:  97.47 | Rec: 100.00 || Ex/s: 106.24\n",
      "\n",
      "===>  EVAL Epoch 5\n"
     ]
    },
    {
     "name": "stderr",
     "output_type": "stream",
     "text": [
      "0% [██] 100% | ETA: 00:00:00\n",
      "Total time elapsed: 00:00:00\n"
     ]
    },
    {
     "name": "stdout",
     "output_type": "stream",
     "text": [
      "Finished Epoch 5 || Run Time:    0.4 | Load Time:    0.2 || F1:  88.46 | Prec:  82.14 | Rec:  95.83 || Ex/s: 213.53\n",
      "\n",
      "* Best F1: 88.46153846153845\n",
      "Saving best model...\n",
      "Done.\n",
      "---------------------\n",
      "\n",
      "===>  TRAIN Epoch 6\n"
     ]
    },
    {
     "name": "stderr",
     "output_type": "stream",
     "text": [
      "0% [██████] 100% | ETA: 00:00:00\n",
      "Total time elapsed: 00:00:02\n"
     ]
    },
    {
     "name": "stdout",
     "output_type": "stream",
     "text": [
      "Finished Epoch 6 || Run Time:    2.6 | Load Time:    0.5 || F1: 100.00 | Prec: 100.00 | Rec: 100.00 || Ex/s: 106.43\n",
      "\n",
      "===>  EVAL Epoch 6\n"
     ]
    },
    {
     "name": "stderr",
     "output_type": "stream",
     "text": [
      "0% [██] 100% | ETA: 00:00:00\n",
      "Total time elapsed: 00:00:00\n"
     ]
    },
    {
     "name": "stdout",
     "output_type": "stream",
     "text": [
      "Finished Epoch 6 || Run Time:    0.3 | Load Time:    0.2 || F1:  88.46 | Prec:  82.14 | Rec:  95.83 || Ex/s: 217.73\n",
      "\n",
      "---------------------\n",
      "\n",
      "===>  TRAIN Epoch 7\n"
     ]
    },
    {
     "name": "stderr",
     "output_type": "stream",
     "text": [
      "0% [██████] 100% | ETA: 00:00:00\n",
      "Total time elapsed: 00:00:02\n"
     ]
    },
    {
     "name": "stdout",
     "output_type": "stream",
     "text": [
      "Finished Epoch 7 || Run Time:    2.7 | Load Time:    0.5 || F1: 100.00 | Prec: 100.00 | Rec: 100.00 || Ex/s: 100.15\n",
      "\n",
      "===>  EVAL Epoch 7\n"
     ]
    },
    {
     "name": "stderr",
     "output_type": "stream",
     "text": [
      "0% [██] 100% | ETA: 00:00:00\n",
      "Total time elapsed: 00:00:00\n"
     ]
    },
    {
     "name": "stdout",
     "output_type": "stream",
     "text": [
      "Finished Epoch 7 || Run Time:    0.4 | Load Time:    0.2 || F1:  88.00 | Prec:  84.62 | Rec:  91.67 || Ex/s: 172.18\n",
      "\n",
      "---------------------\n",
      "\n",
      "===>  TRAIN Epoch 8\n"
     ]
    },
    {
     "name": "stderr",
     "output_type": "stream",
     "text": [
      "0% [██████] 100% | ETA: 00:00:00\n",
      "Total time elapsed: 00:00:02\n"
     ]
    },
    {
     "name": "stdout",
     "output_type": "stream",
     "text": [
      "Finished Epoch 8 || Run Time:    2.7 | Load Time:    0.5 || F1: 100.00 | Prec: 100.00 | Rec: 100.00 || Ex/s: 100.70\n",
      "\n",
      "===>  EVAL Epoch 8\n"
     ]
    },
    {
     "name": "stderr",
     "output_type": "stream",
     "text": [
      "0% [██] 100% | ETA: 00:00:00\n",
      "Total time elapsed: 00:00:00\n"
     ]
    },
    {
     "name": "stdout",
     "output_type": "stream",
     "text": [
      "Finished Epoch 8 || Run Time:    0.4 | Load Time:    0.2 || F1:  85.71 | Prec:  84.00 | Rec:  87.50 || Ex/s: 207.96\n",
      "\n",
      "---------------------\n",
      "\n",
      "===>  TRAIN Epoch 9\n"
     ]
    },
    {
     "name": "stderr",
     "output_type": "stream",
     "text": [
      "0% [██████] 100% | ETA: 00:00:00\n",
      "Total time elapsed: 00:00:02\n"
     ]
    },
    {
     "name": "stdout",
     "output_type": "stream",
     "text": [
      "Finished Epoch 9 || Run Time:    2.7 | Load Time:    0.5 || F1: 100.00 | Prec: 100.00 | Rec: 100.00 || Ex/s: 100.92\n",
      "\n",
      "===>  EVAL Epoch 9\n"
     ]
    },
    {
     "name": "stderr",
     "output_type": "stream",
     "text": [
      "0% [██] 100% | ETA: 00:00:00\n",
      "Total time elapsed: 00:00:00\n"
     ]
    },
    {
     "name": "stdout",
     "output_type": "stream",
     "text": [
      "Finished Epoch 9 || Run Time:    0.4 | Load Time:    0.2 || F1:  88.00 | Prec:  84.62 | Rec:  91.67 || Ex/s: 208.61\n",
      "\n",
      "---------------------\n",
      "\n",
      "===>  TRAIN Epoch 10\n"
     ]
    },
    {
     "name": "stderr",
     "output_type": "stream",
     "text": [
      "0% [██████] 100% | ETA: 00:00:00\n",
      "Total time elapsed: 00:00:03\n"
     ]
    },
    {
     "name": "stdout",
     "output_type": "stream",
     "text": [
      "Finished Epoch 10 || Run Time:    3.0 | Load Time:    0.5 || F1: 100.00 | Prec: 100.00 | Rec: 100.00 || Ex/s:  93.02\n",
      "\n",
      "===>  EVAL Epoch 10\n"
     ]
    },
    {
     "name": "stderr",
     "output_type": "stream",
     "text": [
      "0% [██] 100% | ETA: 00:00:00\n",
      "Total time elapsed: 00:00:00\n"
     ]
    },
    {
     "name": "stdout",
     "output_type": "stream",
     "text": [
      "Finished Epoch 10 || Run Time:    0.4 | Load Time:    0.2 || F1:  88.00 | Prec:  84.62 | Rec:  91.67 || Ex/s: 187.74\n",
      "\n",
      "---------------------\n",
      "\n",
      "Loading best model...\n",
      "Training done.\n"
     ]
    },
    {
     "data": {
      "text/plain": [
       "88.46153846153845"
      ]
     },
     "execution_count": 10,
     "metadata": {},
     "output_type": "execute_result"
    }
   ],
   "source": [
    "model = dm.MatchingModel(attr_summarizer='attention')\n",
    "model.run_train(\n",
    "    train,\n",
    "    validation,\n",
    "    epochs=10,\n",
    "    batch_size=10,\n",
    "    best_save_path='attention_model.pth',\n",
    "    pos_neg_ratio=3)"
   ]
  },
  {
   "cell_type": "code",
   "execution_count": 11,
   "metadata": {},
   "outputs": [
    {
     "name": "stdout",
     "output_type": "stream",
     "text": [
      "===>  EVAL Epoch 5\n",
      "Finished Epoch 5 || Run Time:    0.2 | Load Time:    0.2 || F1:  80.65 | Prec:  80.65 | Rec:  80.65 || Ex/s: 330.71\n",
      "\n"
     ]
    },
    {
     "data": {
      "text/plain": [
       "80.64516129032258"
      ]
     },
     "execution_count": 11,
     "metadata": {},
     "output_type": "execute_result"
    }
   ],
   "source": [
    "# The F-1 score for attention approach\n",
    "model.run_eval(test)"
   ]
  },
  {
   "cell_type": "code",
   "execution_count": 12,
   "metadata": {},
   "outputs": [
    {
     "name": "stdout",
     "output_type": "stream",
     "text": [
      "* Number of trainable parameters: 17757810\n",
      "===>  TRAIN Epoch 1\n"
     ]
    },
    {
     "name": "stderr",
     "output_type": "stream",
     "text": [
      "0% [██████] 100% | ETA: 00:00:00\n",
      "Total time elapsed: 00:00:05\n"
     ]
    },
    {
     "name": "stdout",
     "output_type": "stream",
     "text": [
      "Finished Epoch 1 || Run Time:    5.3 | Load Time:    0.5 || F1:  42.72 | Prec:  28.05 | Rec:  89.61 || Ex/s:  55.60\n",
      "\n",
      "===>  EVAL Epoch 1\n"
     ]
    },
    {
     "name": "stderr",
     "output_type": "stream",
     "text": [
      "0% [██] 100% | ETA: 00:00:00\n",
      "Total time elapsed: 00:00:00\n"
     ]
    },
    {
     "name": "stdout",
     "output_type": "stream",
     "text": [
      "Finished Epoch 1 || Run Time:    0.7 | Load Time:    0.2 || F1:  59.46 | Prec:  44.00 | Rec:  91.67 || Ex/s: 130.26\n",
      "\n",
      "* Best F1: 59.45945945945945\n",
      "Saving best model...\n",
      "Done.\n",
      "---------------------\n",
      "\n",
      "===>  TRAIN Epoch 2\n"
     ]
    },
    {
     "name": "stderr",
     "output_type": "stream",
     "text": [
      "0% [██████] 100% | ETA: 00:00:00\n",
      "Total time elapsed: 00:00:05\n"
     ]
    },
    {
     "name": "stdout",
     "output_type": "stream",
     "text": [
      "Finished Epoch 2 || Run Time:    5.5 | Load Time:    0.5 || F1:  79.17 | Prec:  66.09 | Rec:  98.70 || Ex/s:  53.81\n",
      "\n",
      "===>  EVAL Epoch 2\n"
     ]
    },
    {
     "name": "stderr",
     "output_type": "stream",
     "text": [
      "0% [██] 100% | ETA: 00:00:00\n",
      "Total time elapsed: 00:00:00\n"
     ]
    },
    {
     "name": "stdout",
     "output_type": "stream",
     "text": [
      "Finished Epoch 2 || Run Time:    0.8 | Load Time:    0.2 || F1:  68.66 | Prec:  53.49 | Rec:  95.83 || Ex/s: 116.00\n",
      "\n",
      "* Best F1: 68.65671641791046\n",
      "Saving best model...\n",
      "Done.\n",
      "---------------------\n",
      "\n",
      "===>  TRAIN Epoch 3\n"
     ]
    },
    {
     "name": "stderr",
     "output_type": "stream",
     "text": [
      "0% [██████] 100% | ETA: 00:00:00\n",
      "Total time elapsed: 00:00:05\n"
     ]
    },
    {
     "name": "stdout",
     "output_type": "stream",
     "text": [
      "Finished Epoch 3 || Run Time:    5.7 | Load Time:    0.5 || F1:  89.41 | Prec:  81.72 | Rec:  98.70 || Ex/s:  52.09\n",
      "\n",
      "===>  EVAL Epoch 3\n"
     ]
    },
    {
     "name": "stderr",
     "output_type": "stream",
     "text": [
      "0% [██] 100% | ETA: 00:00:00\n",
      "Total time elapsed: 00:00:00\n"
     ]
    },
    {
     "name": "stdout",
     "output_type": "stream",
     "text": [
      "Finished Epoch 3 || Run Time:    0.7 | Load Time:    0.2 || F1:  80.70 | Prec:  69.70 | Rec:  95.83 || Ex/s: 126.41\n",
      "\n",
      "* Best F1: 80.70175438596492\n",
      "Saving best model...\n",
      "Done.\n",
      "---------------------\n",
      "\n",
      "===>  TRAIN Epoch 4\n"
     ]
    },
    {
     "name": "stderr",
     "output_type": "stream",
     "text": [
      "0% [██████] 100% | ETA: 00:00:00\n",
      "Total time elapsed: 00:00:05\n"
     ]
    },
    {
     "name": "stdout",
     "output_type": "stream",
     "text": [
      "Finished Epoch 4 || Run Time:    5.4 | Load Time:    0.5 || F1:  95.00 | Prec:  91.57 | Rec:  98.70 || Ex/s:  54.82\n",
      "\n",
      "===>  EVAL Epoch 4\n"
     ]
    },
    {
     "name": "stderr",
     "output_type": "stream",
     "text": [
      "0% [██] 100% | ETA: 00:00:00\n",
      "Total time elapsed: 00:00:00\n"
     ]
    },
    {
     "name": "stdout",
     "output_type": "stream",
     "text": [
      "Finished Epoch 4 || Run Time:    0.7 | Load Time:    0.2 || F1:  82.14 | Prec:  71.88 | Rec:  95.83 || Ex/s: 131.54\n",
      "\n",
      "* Best F1: 82.14285714285715\n",
      "Saving best model...\n",
      "Done.\n",
      "---------------------\n",
      "\n",
      "===>  TRAIN Epoch 5\n"
     ]
    },
    {
     "name": "stderr",
     "output_type": "stream",
     "text": [
      "0% [██████] 100% | ETA: 00:00:00\n",
      "Total time elapsed: 00:00:05\n"
     ]
    },
    {
     "name": "stdout",
     "output_type": "stream",
     "text": [
      "Finished Epoch 5 || Run Time:    5.2 | Load Time:    0.5 || F1:  98.09 | Prec:  96.25 | Rec: 100.00 || Ex/s:  56.41\n",
      "\n",
      "===>  EVAL Epoch 5\n"
     ]
    },
    {
     "name": "stderr",
     "output_type": "stream",
     "text": [
      "0% [██] 100% | ETA: 00:00:00\n",
      "Total time elapsed: 00:00:00\n"
     ]
    },
    {
     "name": "stdout",
     "output_type": "stream",
     "text": [
      "Finished Epoch 5 || Run Time:    0.7 | Load Time:    0.2 || F1:  80.70 | Prec:  69.70 | Rec:  95.83 || Ex/s: 125.00\n",
      "\n",
      "---------------------\n",
      "\n",
      "===>  TRAIN Epoch 6\n"
     ]
    },
    {
     "name": "stderr",
     "output_type": "stream",
     "text": [
      "0% [██████] 100% | ETA: 00:00:00\n",
      "Total time elapsed: 00:00:05\n"
     ]
    },
    {
     "name": "stdout",
     "output_type": "stream",
     "text": [
      "Finished Epoch 6 || Run Time:    5.4 | Load Time:    0.5 || F1: 100.00 | Prec: 100.00 | Rec: 100.00 || Ex/s:  54.77\n",
      "\n",
      "===>  EVAL Epoch 6\n"
     ]
    },
    {
     "name": "stderr",
     "output_type": "stream",
     "text": [
      "0% [██] 100% | ETA: 00:00:00\n",
      "Total time elapsed: 00:00:00\n"
     ]
    },
    {
     "name": "stdout",
     "output_type": "stream",
     "text": [
      "Finished Epoch 6 || Run Time:    0.7 | Load Time:    0.2 || F1:  86.79 | Prec:  79.31 | Rec:  95.83 || Ex/s: 125.29\n",
      "\n",
      "* Best F1: 86.79245283018868\n",
      "Saving best model...\n",
      "Done.\n",
      "---------------------\n",
      "\n",
      "===>  TRAIN Epoch 7\n"
     ]
    },
    {
     "name": "stderr",
     "output_type": "stream",
     "text": [
      "0% [██████] 100% | ETA: 00:00:00\n",
      "Total time elapsed: 00:00:05\n"
     ]
    },
    {
     "name": "stdout",
     "output_type": "stream",
     "text": [
      "Finished Epoch 7 || Run Time:    5.2 | Load Time:    0.5 || F1: 100.00 | Prec: 100.00 | Rec: 100.00 || Ex/s:  56.53\n",
      "\n",
      "===>  EVAL Epoch 7\n"
     ]
    },
    {
     "name": "stderr",
     "output_type": "stream",
     "text": [
      "0% [██] 100% | ETA: 00:00:00\n",
      "Total time elapsed: 00:00:00\n"
     ]
    },
    {
     "name": "stdout",
     "output_type": "stream",
     "text": [
      "Finished Epoch 7 || Run Time:    0.7 | Load Time:    0.2 || F1:  88.46 | Prec:  82.14 | Rec:  95.83 || Ex/s: 134.21\n",
      "\n",
      "* Best F1: 88.46153846153845\n",
      "Saving best model...\n",
      "Done.\n",
      "---------------------\n",
      "\n",
      "===>  TRAIN Epoch 8\n"
     ]
    },
    {
     "name": "stderr",
     "output_type": "stream",
     "text": [
      "0% [██████] 100% | ETA: 00:00:00\n",
      "Total time elapsed: 00:00:05\n"
     ]
    },
    {
     "name": "stdout",
     "output_type": "stream",
     "text": [
      "Finished Epoch 8 || Run Time:    5.2 | Load Time:    0.5 || F1: 100.00 | Prec: 100.00 | Rec: 100.00 || Ex/s:  56.40\n",
      "\n",
      "===>  EVAL Epoch 8\n"
     ]
    },
    {
     "name": "stderr",
     "output_type": "stream",
     "text": [
      "0% [██] 100% | ETA: 00:00:00\n",
      "Total time elapsed: 00:00:00\n"
     ]
    },
    {
     "name": "stdout",
     "output_type": "stream",
     "text": [
      "Finished Epoch 8 || Run Time:    0.7 | Load Time:    0.2 || F1:  90.20 | Prec:  85.19 | Rec:  95.83 || Ex/s: 133.69\n",
      "\n",
      "* Best F1: 90.19607843137254\n",
      "Saving best model...\n",
      "Done.\n",
      "---------------------\n",
      "\n",
      "===>  TRAIN Epoch 9\n"
     ]
    },
    {
     "name": "stderr",
     "output_type": "stream",
     "text": [
      "0% [██████] 100% | ETA: 00:00:00\n",
      "Total time elapsed: 00:00:05\n"
     ]
    },
    {
     "name": "stdout",
     "output_type": "stream",
     "text": [
      "Finished Epoch 9 || Run Time:    5.9 | Load Time:    0.5 || F1: 100.00 | Prec: 100.00 | Rec: 100.00 || Ex/s:  49.80\n",
      "\n",
      "===>  EVAL Epoch 9\n"
     ]
    },
    {
     "name": "stderr",
     "output_type": "stream",
     "text": [
      "0% [██] 100% | ETA: 00:00:00\n",
      "Total time elapsed: 00:00:00\n"
     ]
    },
    {
     "name": "stdout",
     "output_type": "stream",
     "text": [
      "Finished Epoch 9 || Run Time:    0.7 | Load Time:    0.2 || F1:  90.20 | Prec:  85.19 | Rec:  95.83 || Ex/s: 131.92\n",
      "\n",
      "---------------------\n",
      "\n",
      "===>  TRAIN Epoch 10\n"
     ]
    },
    {
     "name": "stderr",
     "output_type": "stream",
     "text": [
      "0% [██████] 100% | ETA: 00:00:00\n",
      "Total time elapsed: 00:00:05\n"
     ]
    },
    {
     "name": "stdout",
     "output_type": "stream",
     "text": [
      "Finished Epoch 10 || Run Time:    5.4 | Load Time:    0.5 || F1: 100.00 | Prec: 100.00 | Rec: 100.00 || Ex/s:  54.89\n",
      "\n",
      "===>  EVAL Epoch 10\n"
     ]
    },
    {
     "name": "stderr",
     "output_type": "stream",
     "text": [
      "0% [██] 100% | ETA: 00:00:00\n",
      "Total time elapsed: 00:00:00\n"
     ]
    },
    {
     "name": "stdout",
     "output_type": "stream",
     "text": [
      "Finished Epoch 10 || Run Time:    0.7 | Load Time:    0.2 || F1:  90.20 | Prec:  85.19 | Rec:  95.83 || Ex/s: 118.64\n",
      "\n",
      "---------------------\n",
      "\n",
      "Loading best model...\n",
      "Training done.\n"
     ]
    },
    {
     "data": {
      "text/plain": [
       "90.19607843137254"
      ]
     },
     "execution_count": 12,
     "metadata": {},
     "output_type": "execute_result"
    }
   ],
   "source": [
    "model = dm.MatchingModel(attr_summarizer='hybrid')\n",
    "model.run_train(\n",
    "    train,\n",
    "    validation,\n",
    "    epochs=10,\n",
    "    batch_size=10,\n",
    "    best_save_path='hybrid_model.pth',\n",
    "    pos_neg_ratio=5)"
   ]
  },
  {
   "cell_type": "code",
   "execution_count": 13,
   "metadata": {},
   "outputs": [
    {
     "name": "stdout",
     "output_type": "stream",
     "text": [
      "===>  EVAL Epoch 8\n",
      "Finished Epoch 8 || Run Time:    0.3 | Load Time:    0.2 || F1:  84.37 | Prec:  81.82 | Rec:  87.10 || Ex/s: 220.55\n",
      "\n"
     ]
    },
    {
     "data": {
      "text/plain": [
       "84.37499999999999"
      ]
     },
     "execution_count": 13,
     "metadata": {},
     "output_type": "execute_result"
    }
   ],
   "source": [
    "# The F-1 score for hybrid approach\n",
    "model.run_eval(test)"
   ]
  },
  {
   "cell_type": "code",
   "execution_count": 14,
   "metadata": {},
   "outputs": [],
   "source": [
    "import torch\n",
    "import torch.nn as nn\n",
    "import torch.nn.functional as F\n",
    "\n",
    "\n",
    "class attr_sum_simple_cnn(nn.Module):\n",
    "    def __init__(self):\n",
    "        super(attr_sum_simple_cnn, self).__init__()\n",
    "        # Truncate to different length to see the performance change (F1 & Training Time)\n",
    "        self.sentence_length = 46\n",
    "        self.CNN1 = Net()\n",
    "        self.CNN2 = Net()\n",
    "\n",
    "    def forward(self, x1, x2):\n",
    "        x1 = x1.unsqueeze(1)\n",
    "        x2 = x2.unsqueeze(1)\n",
    "        x1 = F.pad(x1, (0, 0, 0, self.sentence_length - x1.size()[2]))\n",
    "        x2 = F.pad(x2, (0, 0, 0, self.sentence_length - x2.size()[2]))\n",
    "        x1 = self.CNN1(x1)\n",
    "        x2 = self.CNN2(x2)\n",
    "        return x1, x2\n",
    "\n",
    "class Net(nn.Module):\n",
    "    def __init__(self):\n",
    "        super(Net, self).__init__()\n",
    "        words_dim = 300\n",
    "        self.conv1 = nn.Conv2d(\n",
    "                in_channels=1,  # input height\n",
    "                out_channels=6,  # n_filters\n",
    "                kernel_size=(3, words_dim),  # filter size\n",
    "                stride=1,  # filter movement/step\n",
    "                padding=(2,0),#padding=(kernel_size-1)/2\n",
    "            )\n",
    "        self.conv2 = nn.Conv2d(\n",
    "            in_channels=1,  # input height\n",
    "            out_channels=6,  # n_filters\n",
    "            kernel_size=(4, words_dim),  # filter size\n",
    "            stride=1,  # filter movement/step\n",
    "            padding=(3, 0),  # padding=(kernel_size-1)/2\n",
    "        )\n",
    "        self.conv3 = nn.Conv2d(\n",
    "            in_channels=1,  # input height\n",
    "            out_channels=6,  # n_filters\n",
    "            kernel_size=(5, words_dim),  # filter size\n",
    "            stride=1,  # filter movement/step\n",
    "            padding=(4, 0),  # padding=(kernel_size-1)/2\n",
    "        )# output = [batch, output_channel, sql_len, 1]\n",
    "\n",
    "    def forward(self, x):\n",
    "        x = [F.relu(self.conv1(x)).squeeze(3), F.relu(self.conv2(x)).squeeze(3), F.relu(self.conv3(x)).squeeze(3)]\n",
    "        # (batch, channel_output, ~=sent_len) * Ks\n",
    "        x = [F.max_pool1d(i, i.size(2)).squeeze(2) for i in x]  # max-over-time pooling\n",
    "        # (batch, channel_output) * Ks\n",
    "        x = torch.cat(x, 1)\n",
    "        return x"
   ]
  },
  {
   "cell_type": "code",
   "execution_count": 15,
   "metadata": {},
   "outputs": [],
   "source": [
    "simple_cnn_attr_summarizer_module = dm.modules.NoMeta(attr_sum_simple_cnn())\n",
    "\n",
    "model = dm.MatchingModel(attr_summarizer=lambda: simple_cnn_attr_summarizer_module, \n",
    "                         attr_comparator='abs-diff',\n",
    "                         classifier='3-layer-residual-relu')"
   ]
  },
  {
   "cell_type": "code",
   "execution_count": 16,
   "metadata": {},
   "outputs": [
    {
     "name": "stdout",
     "output_type": "stream",
     "text": [
      "* Number of trainable parameters: 660838\n",
      "===>  TRAIN Epoch 1\n"
     ]
    },
    {
     "name": "stderr",
     "output_type": "stream",
     "text": [
      "0% [██████] 100% | ETA: 00:00:00\n",
      "Total time elapsed: 00:00:01\n"
     ]
    },
    {
     "name": "stdout",
     "output_type": "stream",
     "text": [
      "Finished Epoch 1 || Run Time:    0.9 | Load Time:    0.5 || F1:   4.60 | Prec:  20.00 | Rec:   2.60 || Ex/s: 235.78\n",
      "\n",
      "===>  EVAL Epoch 1\n"
     ]
    },
    {
     "name": "stderr",
     "output_type": "stream",
     "text": [
      "0% [██] 100% | ETA: 00:00:00\n",
      "Total time elapsed: 00:00:00\n"
     ]
    },
    {
     "name": "stdout",
     "output_type": "stream",
     "text": [
      "Finished Epoch 1 || Run Time:    0.1 | Load Time:    0.2 || F1:   0.00 | Prec:   0.00 | Rec:   0.00 || Ex/s: 358.38\n",
      "\n",
      "* Best F1: 0.0\n",
      "Saving best model...\n",
      "Done.\n",
      "---------------------\n",
      "\n",
      "===>  TRAIN Epoch 2\n"
     ]
    },
    {
     "name": "stderr",
     "output_type": "stream",
     "text": [
      "0% [██████] 100% | ETA: 00:00:00\n",
      "Total time elapsed: 00:00:01\n"
     ]
    },
    {
     "name": "stdout",
     "output_type": "stream",
     "text": [
      "Finished Epoch 2 || Run Time:    0.9 | Load Time:    0.5 || F1:  50.94 | Prec:  93.10 | Rec:  35.06 || Ex/s: 238.56\n",
      "\n",
      "===>  EVAL Epoch 2\n"
     ]
    },
    {
     "name": "stderr",
     "output_type": "stream",
     "text": [
      "0% [██] 100% | ETA: 00:00:00\n",
      "Total time elapsed: 00:00:00\n"
     ]
    },
    {
     "name": "stdout",
     "output_type": "stream",
     "text": [
      "Finished Epoch 2 || Run Time:    0.1 | Load Time:    0.2 || F1:  20.00 | Prec:  50.00 | Rec:  12.50 || Ex/s: 358.67\n",
      "\n",
      "* Best F1: 20.0\n",
      "Saving best model...\n",
      "Done.\n",
      "---------------------\n",
      "\n",
      "===>  TRAIN Epoch 3\n"
     ]
    },
    {
     "name": "stderr",
     "output_type": "stream",
     "text": [
      "0% [██████] 100% | ETA: 00:00:00\n",
      "Total time elapsed: 00:00:01\n"
     ]
    },
    {
     "name": "stdout",
     "output_type": "stream",
     "text": [
      "Finished Epoch 3 || Run Time:    0.9 | Load Time:    0.5 || F1:  71.21 | Prec:  85.45 | Rec:  61.04 || Ex/s: 217.69\n",
      "\n",
      "===>  EVAL Epoch 3\n"
     ]
    },
    {
     "name": "stderr",
     "output_type": "stream",
     "text": [
      "0% [██] 100% | ETA: 00:00:00\n",
      "Total time elapsed: 00:00:00\n"
     ]
    },
    {
     "name": "stdout",
     "output_type": "stream",
     "text": [
      "Finished Epoch 3 || Run Time:    0.2 | Load Time:    0.2 || F1:  48.65 | Prec:  69.23 | Rec:  37.50 || Ex/s: 317.48\n",
      "\n",
      "* Best F1: 48.64864864864865\n",
      "Saving best model...\n",
      "Done.\n",
      "---------------------\n",
      "\n",
      "===>  TRAIN Epoch 4\n"
     ]
    },
    {
     "name": "stderr",
     "output_type": "stream",
     "text": [
      "0% [██████] 100% | ETA: 00:00:00\n",
      "Total time elapsed: 00:00:01\n"
     ]
    },
    {
     "name": "stdout",
     "output_type": "stream",
     "text": [
      "Finished Epoch 4 || Run Time:    0.9 | Load Time:    0.5 || F1:  80.00 | Prec:  88.89 | Rec:  72.73 || Ex/s: 222.84\n",
      "\n",
      "===>  EVAL Epoch 4\n"
     ]
    },
    {
     "name": "stderr",
     "output_type": "stream",
     "text": [
      "0% [██] 100% | ETA: 00:00:00\n",
      "Total time elapsed: 00:00:00\n"
     ]
    },
    {
     "name": "stdout",
     "output_type": "stream",
     "text": [
      "Finished Epoch 4 || Run Time:    0.1 | Load Time:    0.2 || F1:  65.31 | Prec:  64.00 | Rec:  66.67 || Ex/s: 340.00\n",
      "\n",
      "* Best F1: 65.3061224489796\n",
      "Saving best model...\n",
      "Done.\n",
      "---------------------\n",
      "\n",
      "===>  TRAIN Epoch 5\n"
     ]
    },
    {
     "name": "stderr",
     "output_type": "stream",
     "text": [
      "0% [██████] 100% | ETA: 00:00:00\n",
      "Total time elapsed: 00:00:01\n"
     ]
    },
    {
     "name": "stdout",
     "output_type": "stream",
     "text": [
      "Finished Epoch 5 || Run Time:    0.9 | Load Time:    0.5 || F1:  85.92 | Prec:  93.85 | Rec:  79.22 || Ex/s: 233.08\n",
      "\n",
      "===>  EVAL Epoch 5\n"
     ]
    },
    {
     "name": "stderr",
     "output_type": "stream",
     "text": [
      "0% [██] 100% | ETA: 00:00:00\n",
      "Total time elapsed: 00:00:00\n"
     ]
    },
    {
     "name": "stdout",
     "output_type": "stream",
     "text": [
      "Finished Epoch 5 || Run Time:    0.1 | Load Time:    0.2 || F1:  66.67 | Prec:  60.00 | Rec:  75.00 || Ex/s: 359.64\n",
      "\n",
      "* Best F1: 66.66666666666667\n",
      "Saving best model...\n",
      "Done.\n",
      "---------------------\n",
      "\n",
      "===>  TRAIN Epoch 6\n"
     ]
    },
    {
     "name": "stderr",
     "output_type": "stream",
     "text": [
      "0% [██████] 100% | ETA: 00:00:00\n",
      "Total time elapsed: 00:00:01\n"
     ]
    },
    {
     "name": "stdout",
     "output_type": "stream",
     "text": [
      "Finished Epoch 6 || Run Time:    0.9 | Load Time:    0.5 || F1:  93.33 | Prec:  95.89 | Rec:  90.91 || Ex/s: 238.93\n",
      "\n",
      "===>  EVAL Epoch 6\n"
     ]
    },
    {
     "name": "stderr",
     "output_type": "stream",
     "text": [
      "0% [██] 100% | ETA: 00:00:00\n",
      "Total time elapsed: 00:00:00\n"
     ]
    },
    {
     "name": "stdout",
     "output_type": "stream",
     "text": [
      "Finished Epoch 6 || Run Time:    0.1 | Load Time:    0.2 || F1:  68.00 | Prec:  65.38 | Rec:  70.83 || Ex/s: 362.66\n",
      "\n",
      "* Best F1: 67.99999999999999\n",
      "Saving best model...\n",
      "Done.\n",
      "---------------------\n",
      "\n",
      "===>  TRAIN Epoch 7\n"
     ]
    },
    {
     "name": "stderr",
     "output_type": "stream",
     "text": [
      "0% [██████] 100% | ETA: 00:00:00\n",
      "Total time elapsed: 00:00:01\n"
     ]
    },
    {
     "name": "stdout",
     "output_type": "stream",
     "text": [
      "Finished Epoch 7 || Run Time:    0.9 | Load Time:    0.5 || F1:  96.00 | Prec:  98.63 | Rec:  93.51 || Ex/s: 238.07\n",
      "\n",
      "===>  EVAL Epoch 7\n"
     ]
    },
    {
     "name": "stderr",
     "output_type": "stream",
     "text": [
      "0% [██] 100% | ETA: 00:00:00\n",
      "Total time elapsed: 00:00:00\n"
     ]
    },
    {
     "name": "stdout",
     "output_type": "stream",
     "text": [
      "Finished Epoch 7 || Run Time:    0.1 | Load Time:    0.2 || F1:  64.00 | Prec:  61.54 | Rec:  66.67 || Ex/s: 368.86\n",
      "\n",
      "---------------------\n",
      "\n",
      "===>  TRAIN Epoch 8\n"
     ]
    },
    {
     "name": "stderr",
     "output_type": "stream",
     "text": [
      "0% [██████] 100% | ETA: 00:00:00\n",
      "Total time elapsed: 00:00:01\n"
     ]
    },
    {
     "name": "stdout",
     "output_type": "stream",
     "text": [
      "Finished Epoch 8 || Run Time:    0.9 | Load Time:    0.5 || F1:  96.00 | Prec:  98.63 | Rec:  93.51 || Ex/s: 238.64\n",
      "\n",
      "===>  EVAL Epoch 8\n"
     ]
    },
    {
     "name": "stderr",
     "output_type": "stream",
     "text": [
      "0% [██] 100% | ETA: 00:00:00\n",
      "Total time elapsed: 00:00:00\n"
     ]
    },
    {
     "name": "stdout",
     "output_type": "stream",
     "text": [
      "Finished Epoch 8 || Run Time:    0.1 | Load Time:    0.2 || F1:  62.75 | Prec:  59.26 | Rec:  66.67 || Ex/s: 365.23\n",
      "\n",
      "---------------------\n",
      "\n",
      "===>  TRAIN Epoch 9\n"
     ]
    },
    {
     "name": "stderr",
     "output_type": "stream",
     "text": [
      "0% [██████] 100% | ETA: 00:00:00\n",
      "Total time elapsed: 00:00:01\n"
     ]
    },
    {
     "name": "stdout",
     "output_type": "stream",
     "text": [
      "Finished Epoch 9 || Run Time:    0.9 | Load Time:    0.5 || F1:  98.04 | Prec:  98.68 | Rec:  97.40 || Ex/s: 236.54\n",
      "\n",
      "===>  EVAL Epoch 9\n"
     ]
    },
    {
     "name": "stderr",
     "output_type": "stream",
     "text": [
      "0% [██] 100% | ETA: 00:00:00\n",
      "Total time elapsed: 00:00:00\n"
     ]
    },
    {
     "name": "stdout",
     "output_type": "stream",
     "text": [
      "Finished Epoch 9 || Run Time:    0.1 | Load Time:    0.2 || F1:  60.38 | Prec:  55.17 | Rec:  66.67 || Ex/s: 366.58\n",
      "\n",
      "---------------------\n",
      "\n",
      "===>  TRAIN Epoch 10\n"
     ]
    },
    {
     "name": "stderr",
     "output_type": "stream",
     "text": [
      "0% [██████] 100% | ETA: 00:00:00\n",
      "Total time elapsed: 00:00:01\n"
     ]
    },
    {
     "name": "stdout",
     "output_type": "stream",
     "text": [
      "Finished Epoch 10 || Run Time:    0.9 | Load Time:    0.5 || F1:  97.37 | Prec:  98.67 | Rec:  96.10 || Ex/s: 239.36\n",
      "\n",
      "===>  EVAL Epoch 10\n"
     ]
    },
    {
     "name": "stderr",
     "output_type": "stream",
     "text": [
      "0% [██] 100% | ETA: 00:00:00\n",
      "Total time elapsed: 00:00:00\n"
     ]
    },
    {
     "name": "stdout",
     "output_type": "stream",
     "text": [
      "Finished Epoch 10 || Run Time:    0.1 | Load Time:    0.2 || F1:  61.54 | Prec:  57.14 | Rec:  66.67 || Ex/s: 370.06\n",
      "\n",
      "---------------------\n",
      "\n",
      "===>  TRAIN Epoch 11\n"
     ]
    },
    {
     "name": "stderr",
     "output_type": "stream",
     "text": [
      "0% [██████] 100% | ETA: 00:00:00\n",
      "Total time elapsed: 00:00:01\n"
     ]
    },
    {
     "name": "stdout",
     "output_type": "stream",
     "text": [
      "Finished Epoch 11 || Run Time:    0.9 | Load Time:    0.5 || F1:  98.70 | Prec:  98.70 | Rec:  98.70 || Ex/s: 239.76\n",
      "\n",
      "===>  EVAL Epoch 11\n"
     ]
    },
    {
     "name": "stderr",
     "output_type": "stream",
     "text": [
      "0% [██] 100% | ETA: 00:00:00\n",
      "Total time elapsed: 00:00:00\n"
     ]
    },
    {
     "name": "stdout",
     "output_type": "stream",
     "text": [
      "Finished Epoch 11 || Run Time:    0.1 | Load Time:    0.2 || F1:  66.67 | Prec:  66.67 | Rec:  66.67 || Ex/s: 366.64\n",
      "\n",
      "---------------------\n",
      "\n",
      "===>  TRAIN Epoch 12\n"
     ]
    },
    {
     "name": "stderr",
     "output_type": "stream",
     "text": [
      "0% [██████] 100% | ETA: 00:00:00\n",
      "Total time elapsed: 00:00:01\n"
     ]
    },
    {
     "name": "stdout",
     "output_type": "stream",
     "text": [
      "Finished Epoch 12 || Run Time:    0.9 | Load Time:    0.5 || F1: 100.00 | Prec: 100.00 | Rec: 100.00 || Ex/s: 237.28\n",
      "\n",
      "===>  EVAL Epoch 12\n"
     ]
    },
    {
     "name": "stderr",
     "output_type": "stream",
     "text": [
      "0% [██] 100% | ETA: 00:00:00\n",
      "Total time elapsed: 00:00:00\n"
     ]
    },
    {
     "name": "stdout",
     "output_type": "stream",
     "text": [
      "Finished Epoch 12 || Run Time:    0.1 | Load Time:    0.2 || F1:  68.09 | Prec:  69.57 | Rec:  66.67 || Ex/s: 366.18\n",
      "\n",
      "* Best F1: 68.08510638297874\n",
      "Saving best model...\n",
      "Done.\n",
      "---------------------\n",
      "\n",
      "===>  TRAIN Epoch 13\n"
     ]
    },
    {
     "name": "stderr",
     "output_type": "stream",
     "text": [
      "0% [██████] 100% | ETA: 00:00:00\n",
      "Total time elapsed: 00:00:01\n"
     ]
    },
    {
     "name": "stdout",
     "output_type": "stream",
     "text": [
      "Finished Epoch 13 || Run Time:    0.9 | Load Time:    0.5 || F1: 100.00 | Prec: 100.00 | Rec: 100.00 || Ex/s: 235.55\n",
      "\n",
      "===>  EVAL Epoch 13\n"
     ]
    },
    {
     "name": "stderr",
     "output_type": "stream",
     "text": [
      "0% [██] 100% | ETA: 00:00:00\n",
      "Total time elapsed: 00:00:00\n"
     ]
    },
    {
     "name": "stdout",
     "output_type": "stream",
     "text": [
      "Finished Epoch 13 || Run Time:    0.1 | Load Time:    0.2 || F1:  68.09 | Prec:  69.57 | Rec:  66.67 || Ex/s: 369.75\n",
      "\n",
      "---------------------\n",
      "\n",
      "===>  TRAIN Epoch 14\n"
     ]
    },
    {
     "name": "stderr",
     "output_type": "stream",
     "text": [
      "0% [██████] 100% | ETA: 00:00:00\n",
      "Total time elapsed: 00:00:01\n"
     ]
    },
    {
     "name": "stdout",
     "output_type": "stream",
     "text": [
      "Finished Epoch 14 || Run Time:    0.9 | Load Time:    0.5 || F1: 100.00 | Prec: 100.00 | Rec: 100.00 || Ex/s: 234.17\n",
      "\n",
      "===>  EVAL Epoch 14\n"
     ]
    },
    {
     "name": "stderr",
     "output_type": "stream",
     "text": [
      "0% [██] 100% | ETA: 00:00:00\n",
      "Total time elapsed: 00:00:00\n"
     ]
    },
    {
     "name": "stdout",
     "output_type": "stream",
     "text": [
      "Finished Epoch 14 || Run Time:    0.1 | Load Time:    0.2 || F1:  68.09 | Prec:  69.57 | Rec:  66.67 || Ex/s: 367.10\n",
      "\n",
      "---------------------\n",
      "\n",
      "===>  TRAIN Epoch 15\n"
     ]
    },
    {
     "name": "stderr",
     "output_type": "stream",
     "text": [
      "0% [██████] 100% | ETA: 00:00:00\n",
      "Total time elapsed: 00:00:01\n"
     ]
    },
    {
     "name": "stdout",
     "output_type": "stream",
     "text": [
      "Finished Epoch 15 || Run Time:    0.9 | Load Time:    0.5 || F1: 100.00 | Prec: 100.00 | Rec: 100.00 || Ex/s: 229.09\n",
      "\n",
      "===>  EVAL Epoch 15\n"
     ]
    },
    {
     "name": "stderr",
     "output_type": "stream",
     "text": [
      "0% [██] 100% | ETA: 00:00:00\n",
      "Total time elapsed: 00:00:00\n"
     ]
    },
    {
     "name": "stdout",
     "output_type": "stream",
     "text": [
      "Finished Epoch 15 || Run Time:    0.2 | Load Time:    0.2 || F1:  68.09 | Prec:  69.57 | Rec:  66.67 || Ex/s: 312.10\n",
      "\n",
      "---------------------\n",
      "\n",
      "===>  TRAIN Epoch 16\n"
     ]
    },
    {
     "name": "stderr",
     "output_type": "stream",
     "text": [
      "0% [██████] 100% | ETA: 00:00:00\n",
      "Total time elapsed: 00:00:01\n"
     ]
    },
    {
     "name": "stdout",
     "output_type": "stream",
     "text": [
      "Finished Epoch 16 || Run Time:    1.0 | Load Time:    0.6 || F1: 100.00 | Prec: 100.00 | Rec: 100.00 || Ex/s: 212.08\n",
      "\n",
      "===>  EVAL Epoch 16\n"
     ]
    },
    {
     "name": "stderr",
     "output_type": "stream",
     "text": [
      "0% [██] 100% | ETA: 00:00:00\n",
      "Total time elapsed: 00:00:00\n"
     ]
    },
    {
     "name": "stdout",
     "output_type": "stream",
     "text": [
      "Finished Epoch 16 || Run Time:    0.2 | Load Time:    0.2 || F1:  68.09 | Prec:  69.57 | Rec:  66.67 || Ex/s: 299.09\n",
      "\n",
      "---------------------\n",
      "\n",
      "===>  TRAIN Epoch 17\n"
     ]
    },
    {
     "name": "stderr",
     "output_type": "stream",
     "text": [
      "0% [██████] 100% | ETA: 00:00:00\n",
      "Total time elapsed: 00:00:01\n"
     ]
    },
    {
     "name": "stdout",
     "output_type": "stream",
     "text": [
      "Finished Epoch 17 || Run Time:    0.9 | Load Time:    0.5 || F1: 100.00 | Prec: 100.00 | Rec: 100.00 || Ex/s: 219.94\n",
      "\n",
      "===>  EVAL Epoch 17\n"
     ]
    },
    {
     "name": "stderr",
     "output_type": "stream",
     "text": [
      "0% [██] 100% | ETA: 00:00:00\n",
      "Total time elapsed: 00:00:00\n"
     ]
    },
    {
     "name": "stdout",
     "output_type": "stream",
     "text": [
      "Finished Epoch 17 || Run Time:    0.1 | Load Time:    0.2 || F1:  68.09 | Prec:  69.57 | Rec:  66.67 || Ex/s: 356.52\n",
      "\n",
      "---------------------\n",
      "\n",
      "===>  TRAIN Epoch 18\n"
     ]
    },
    {
     "name": "stderr",
     "output_type": "stream",
     "text": [
      "0% [██████] 100% | ETA: 00:00:00\n",
      "Total time elapsed: 00:00:01\n"
     ]
    },
    {
     "name": "stdout",
     "output_type": "stream",
     "text": [
      "Finished Epoch 18 || Run Time:    0.9 | Load Time:    0.5 || F1: 100.00 | Prec: 100.00 | Rec: 100.00 || Ex/s: 233.90\n",
      "\n",
      "===>  EVAL Epoch 18\n"
     ]
    },
    {
     "name": "stderr",
     "output_type": "stream",
     "text": [
      "0% [██] 100% | ETA: 00:00:00\n",
      "Total time elapsed: 00:00:00\n"
     ]
    },
    {
     "name": "stdout",
     "output_type": "stream",
     "text": [
      "Finished Epoch 18 || Run Time:    0.2 | Load Time:    0.2 || F1:  68.09 | Prec:  69.57 | Rec:  66.67 || Ex/s: 297.50\n",
      "\n",
      "---------------------\n",
      "\n",
      "===>  TRAIN Epoch 19\n"
     ]
    },
    {
     "name": "stderr",
     "output_type": "stream",
     "text": [
      "0% [██████] 100% | ETA: 00:00:00\n",
      "Total time elapsed: 00:00:01\n"
     ]
    },
    {
     "name": "stdout",
     "output_type": "stream",
     "text": [
      "Finished Epoch 19 || Run Time:    0.9 | Load Time:    0.5 || F1: 100.00 | Prec: 100.00 | Rec: 100.00 || Ex/s: 218.87\n",
      "\n",
      "===>  EVAL Epoch 19\n"
     ]
    },
    {
     "name": "stderr",
     "output_type": "stream",
     "text": [
      "0% [██] 100% | ETA: 00:00:00\n",
      "Total time elapsed: 00:00:00\n"
     ]
    },
    {
     "name": "stdout",
     "output_type": "stream",
     "text": [
      "Finished Epoch 19 || Run Time:    0.1 | Load Time:    0.2 || F1:  68.09 | Prec:  69.57 | Rec:  66.67 || Ex/s: 365.62\n",
      "\n",
      "---------------------\n",
      "\n",
      "===>  TRAIN Epoch 20\n"
     ]
    },
    {
     "name": "stderr",
     "output_type": "stream",
     "text": [
      "0% [██████] 100% | ETA: 00:00:00\n",
      "Total time elapsed: 00:00:01\n"
     ]
    },
    {
     "name": "stdout",
     "output_type": "stream",
     "text": [
      "Finished Epoch 20 || Run Time:    0.9 | Load Time:    0.5 || F1: 100.00 | Prec: 100.00 | Rec: 100.00 || Ex/s: 233.90\n",
      "\n",
      "===>  EVAL Epoch 20\n"
     ]
    },
    {
     "name": "stderr",
     "output_type": "stream",
     "text": [
      "0% [██] 100% | ETA: 00:00:00\n",
      "Total time elapsed: 00:00:00\n"
     ]
    },
    {
     "name": "stdout",
     "output_type": "stream",
     "text": [
      "Finished Epoch 20 || Run Time:    0.2 | Load Time:    0.2 || F1:  68.09 | Prec:  69.57 | Rec:  66.67 || Ex/s: 328.67\n",
      "\n",
      "---------------------\n",
      "\n",
      "Loading best model...\n",
      "Training done.\n"
     ]
    },
    {
     "data": {
      "text/plain": [
       "68.08510638297874"
      ]
     },
     "execution_count": 16,
     "metadata": {},
     "output_type": "execute_result"
    }
   ],
   "source": [
    "model.run_train(\n",
    "    train,\n",
    "    validation,\n",
    "    epochs=20,\n",
    "    batch_size=10,\n",
    "    best_save_path='cnn_model.pth')"
   ]
  },
  {
   "cell_type": "code",
   "execution_count": 17,
   "metadata": {},
   "outputs": [
    {
     "name": "stdout",
     "output_type": "stream",
     "text": [
      "===>  EVAL Epoch 12\n",
      "Finished Epoch 12 || Run Time:    0.1 | Load Time:    0.2 || F1:  72.41 | Prec:  77.78 | Rec:  67.74 || Ex/s: 439.65\n",
      "\n"
     ]
    },
    {
     "data": {
      "text/plain": [
       "72.41379310344827"
      ]
     },
     "execution_count": 17,
     "metadata": {},
     "output_type": "execute_result"
    }
   ],
   "source": [
    "# The F-1 score for naive CNN approach\n",
    "model.run_eval(test)"
   ]
  },
  {
   "cell_type": "code",
   "execution_count": 18,
   "metadata": {},
   "outputs": [],
   "source": [
    "import numpy as np\n",
    "import torch\n",
    "from torch import nn\n",
    "from torch.nn import functional as F\n",
    "\n",
    "\n",
    "class attr_summarization_abcnn(nn.Module):\n",
    "    def __init__(self):\n",
    "        super(attr_summarization_abcnn, self).__init__()\n",
    "        self.emb_dim = 300\n",
    "        self.sentence_length = 46\n",
    "        self.filter_width = 4\n",
    "        self.model_type = '3'\n",
    "        if self.model_type == '3':\n",
    "            self.model = Abcnn3(self.emb_dim, self.sentence_length, self.filter_width)\n",
    "        if self.model_type == '2':\n",
    "            self.model = Abcnn2(self.emb_dim, self.sentence_length, self.filter_width)\n",
    "        if self.model_type == '1':\n",
    "            self.model = Abcnn1(self.emb_dim, self.sentence_length, self.filter_width)\n",
    "\n",
    "    def forward(self, x1, x2):\n",
    "        x1 = x1.unsqueeze(1)\n",
    "        x2 = x2.unsqueeze(1)\n",
    "        x1 = F.pad(x1, (0, 0, 0, self.sentence_length - x1.size()[2]))\n",
    "        x2 = F.pad(x2, (0, 0, 0, self.sentence_length - x2.size()[2]))\n",
    "        return self.model(x1, x2)\n",
    "\n",
    "\n",
    "class Abcnn3(nn.Module):\n",
    "    '''\n",
    "    ABCNN3\n",
    "    1. ABCNN1\n",
    "    2. wide convolution\n",
    "    3. ABCNN2\n",
    "\n",
    "    Attributes\n",
    "    ----------\n",
    "    layer_size : int\n",
    "        the number of (abcnn1 + abcnn2)\n",
    "    distance : function\n",
    "        cosine similarity or manhattan\n",
    "    abcnn1 : list of abcnn1\n",
    "    abcnn2 : list of abcnn2\n",
    "    conv : list of convolution layer\n",
    "    ap : list of pooling layer\n",
    "    fc : last linear layer(in paper use logistic regression)\n",
    "    '''\n",
    "\n",
    "    def __init__(self, emb_dim, sentence_length, filter_width, filter_channel=100, layer_size=2, match='cosine',\n",
    "                 inception=True):\n",
    "        super(Abcnn3, self).__init__()\n",
    "        self.layer_size = layer_size\n",
    "\n",
    "        if match == 'cosine':\n",
    "            self.distance = cosine_similarity\n",
    "        else:\n",
    "            self.distance = manhattan_distance\n",
    "\n",
    "        self.abcnn1 = nn.ModuleList()\n",
    "        self.abcnn2 = nn.ModuleList()\n",
    "        self.conv = nn.ModuleList()\n",
    "        self.ap = nn.ModuleList([ApLayer(emb_dim)])\n",
    "        self.fc = nn.Linear(layer_size + 1, 1)\n",
    "\n",
    "        for i in range(layer_size):\n",
    "            self.abcnn1.append(Abcnn1Portion(sentence_length, emb_dim if i == 0 else filter_channel))\n",
    "            self.abcnn2.append(Abcnn2Portion(sentence_length, filter_width))\n",
    "            self.conv.append(\n",
    "                ConvLayer(False, sentence_length, filter_width, emb_dim if i == 0 else filter_channel, filter_channel,\n",
    "                          inception))\n",
    "            self.ap.append(ApLayer(filter_channel))\n",
    "\n",
    "    def forward(self, x1, x2):\n",
    "        '''\n",
    "        1. stack sentence vector similarity\n",
    "\n",
    "        2. for layer_size\n",
    "            abcnn1\n",
    "            convolution\n",
    "            stack sentence representation vector similarity\n",
    "            abcnn2\n",
    "\n",
    "        3. concatenate similarity list\n",
    "            size (batch_size, layer_size + 1)\n",
    "\n",
    "        4. Linear layer\n",
    "            size (batch_size, 1)\n",
    "\n",
    "        Parameters\n",
    "        ----------\n",
    "        x1, x2 : 4-D torch Tensor\n",
    "            size (batch_size, 1, sentence_length, emb_dim)\n",
    "\n",
    "        Returns\n",
    "        -------\n",
    "        output : 2-D torch Tensor\n",
    "            size (batch_size, 1)\n",
    "        '''\n",
    "        sim = []\n",
    "        # sim.append(self.distance(self.ap[0](x1), self.ap[0](x2)))\n",
    "        representation_x1 = self.ap[0](x1)\n",
    "        representation_x2 = self.ap[0](x2)\n",
    "\n",
    "        for i in range(self.layer_size):\n",
    "            x1, x2 = self.abcnn1[i](x1, x2)\n",
    "            x1 = self.conv[i](x1)\n",
    "            x2 = self.conv[i](x2)\n",
    "            # sim.append(self.distance(self.ap[i + 1](x1), self.ap[i + 1](x2)))\n",
    "            #             print(representation_x1.size())\n",
    "            #             print(self.ap[i + 1](x1).size())\n",
    "            representation_x1 = torch.cat((representation_x1, self.ap[i + 1](x1)), 1)\n",
    "            #             print(representation_x1.size())\n",
    "            representation_x2 = torch.cat((representation_x2, self.ap[i + 1](x2)), 1)\n",
    "            x1, x2 = self.abcnn2[i](x1, x2)\n",
    "\n",
    "        # sim_fc = torch.cat(sim, dim=1)\n",
    "        # output = self.fc(sim_fc)\n",
    "        return representation_x1, representation_x2\n",
    "\n",
    "\n",
    "class Abcnn1(nn.Module):\n",
    "    '''\n",
    "    ABCNN1\n",
    "    1. ABCNN1\n",
    "    2. wide convolution\n",
    "    3. W-ap\n",
    "\n",
    "    Attributes\n",
    "    ----------\n",
    "    layer_size : int\n",
    "        the number of (abcnn1)\n",
    "    distance : function\n",
    "        cosine similarity or manhattan\n",
    "    abcnn : list of abcnn1\n",
    "    conv : list of convolution layer\n",
    "    wp : list of w-ap pooling layer\n",
    "    ap : list of pooling layer\n",
    "    fc : last linear layer(in paper use logistic regression)\n",
    "    '''\n",
    "\n",
    "    def __init__(self, emb_dim, sentence_length, filter_width, filter_channel=100, layer_size=2, match='cosine',\n",
    "                 inception=True):\n",
    "        super(Abcnn1, self).__init__()\n",
    "        self.layer_size = layer_size\n",
    "\n",
    "        if match == 'cosine':\n",
    "            self.distance = cosine_similarity\n",
    "        else:\n",
    "            self.distance = manhattan_distance\n",
    "\n",
    "        self.abcnn = nn.ModuleList()\n",
    "        self.conv = nn.ModuleList()\n",
    "        self.ap = nn.ModuleList([ApLayer(emb_dim)])\n",
    "        self.wp = nn.ModuleList()\n",
    "        self.fc = nn.Linear(layer_size + 1, 1)\n",
    "\n",
    "        for i in range(layer_size):\n",
    "            self.abcnn.append(Abcnn1Portion(sentence_length, emb_dim if i == 0 else filter_channel))\n",
    "            self.conv.append(\n",
    "                ConvLayer(False, sentence_length, filter_width, emb_dim if i == 0 else filter_channel, filter_channel,\n",
    "                          inception))\n",
    "            self.ap.append(ApLayer(filter_channel))\n",
    "            self.wp.append(WpLayer(sentence_length, filter_width, False))\n",
    "\n",
    "    def forward(self, x1, x2):\n",
    "        '''\n",
    "        1. stack sentence vector similarity\n",
    "\n",
    "        2. for layer_size\n",
    "            abcnn1\n",
    "            convolution\n",
    "            stack sentence vector similarity\n",
    "            W-ap for next loop x1, x2\n",
    "\n",
    "        3. concatenate similarity list\n",
    "            size (batch_size, layer_size + 1)\n",
    "\n",
    "        4. Linear layer\n",
    "            size (batch_size, 1)\n",
    "\n",
    "        Parameters\n",
    "        ----------\n",
    "        x1, x2 : 4-D torch Tensor\n",
    "            size (batch_size, 1, sentence_length, emb_dim)\n",
    "\n",
    "        Returns\n",
    "        -------\n",
    "        output : 2-D torch Tensor\n",
    "            size (batch_size, 1)\n",
    "        '''\n",
    "        # sim = []\n",
    "        # sim.append(self.distance(self.ap[0](x1), self.ap[0](x2)))\n",
    "\n",
    "        representation_x1 = self.ap[0](x1)\n",
    "        representation_x2 = self.ap[0](x2)\n",
    "\n",
    "        for i in range(self.layer_size):\n",
    "            x1, x2 = self.abcnn1[i](x1, x2)\n",
    "            x1 = self.conv[i](x1)\n",
    "            x2 = self.conv[i](x2)\n",
    "            # sim.append(self.distance(self.ap[i + 1](x1), self.ap[i + 1](x2)))\n",
    "            representation_x1 = torch.cat((representation_x1, self.ap[i + 1](x1)), 1)\n",
    "            representation_x2 = torch.cat((representation_x2, self.ap[i + 1](x2)), 1)\n",
    "            x1, x2 = self.abcnn2[i](x1, x2)\n",
    "\n",
    "        # sim_fc = torch.cat(sim, dim=1)\n",
    "        # output = self.fc(sim_fc)\n",
    "        return representation_x1, representation_x2\n",
    "\n",
    "\n",
    "class Abcnn2(nn.Module):\n",
    "    '''\n",
    "    ABCNN2\n",
    "    1. wide convolution\n",
    "    2. ABCNN2\n",
    "\n",
    "    Attributes\n",
    "    ----------\n",
    "    layer_size : int\n",
    "        the number of (abcnn2)\n",
    "    distance : function\n",
    "        cosine similarity or manhattan\n",
    "    abcnn : list of abcnn2\n",
    "    conv : list of convolution layer\n",
    "    ap : list of pooling layer\n",
    "    fc : last linear layer(in paper use logistic regression)\n",
    "    '''\n",
    "\n",
    "    def __init__(self, emb_dim, sentence_length, filter_width, filter_channel=100, layer_size=2, match='cosine',\n",
    "                 inception=True):\n",
    "        super(Abcnn2, self).__init__()\n",
    "        self.layer_size = layer_size\n",
    "\n",
    "        if match == 'cosine':\n",
    "            self.distance = cosine_similarity\n",
    "        else:\n",
    "            self.distance = manhattan_distance\n",
    "\n",
    "        self.abcnn = nn.ModuleList()\n",
    "        self.conv = nn.ModuleList()\n",
    "        self.ap = nn.ModuleList([ApLayer(sentence_length)])\n",
    "        self.fc = nn.Linear(layer_size + 1, 1)\n",
    "\n",
    "        for i in range(layer_size):\n",
    "            self.abcnn.append(Abcnn2Portion(sentence_length, filter_width))\n",
    "            self.conv.append(\n",
    "                ConvLayer(True, sentence_length, filter_width, emb_dim if i == 0 else filter_channel, filter_channel,\n",
    "                          inception))\n",
    "            self.ap.append(ApLayer(sentence_length + filter_width - 1))\n",
    "\n",
    "    def forward(self, x1, x2):\n",
    "        '''\n",
    "        1. stack sentence vector similarity\n",
    "\n",
    "        2. for layer_size\n",
    "            convolution\n",
    "            stack sentence vector similarity\n",
    "            abcnn2\n",
    "\n",
    "        3. concatenate similarity list\n",
    "            size (batch_size, layer_size + 1)\n",
    "\n",
    "        4. Linear layer\n",
    "            size (batch_size, 1)\n",
    "\n",
    "        Parameters\n",
    "        ----------\n",
    "        x1, x2 : 4-D torch Tensor\n",
    "            size (batch_size, 1, sentence_length, emb_dim)\n",
    "\n",
    "        Returns\n",
    "        -------\n",
    "        output : 2-D torch Tensor\n",
    "            size (batch_size, 1)\n",
    "        '''\n",
    "        # sim = []\n",
    "        # sim.append(self.distance(self.ap[0](x1), self.ap[0](x2)))\n",
    "\n",
    "        representation_x1 = self.ap[0](x1)\n",
    "        representation_x2 = self.ap[0](x2)\n",
    "\n",
    "        for i in range(self.layer_size):\n",
    "            x1, x2 = self.abcnn1[i](x1, x2)\n",
    "            x1 = self.conv[i](x1)\n",
    "            x2 = self.conv[i](x2)\n",
    "            # sim.append(self.distance(self.ap[i + 1](x1), self.ap[i + 1](x2)))\n",
    "            representation_x1 = torch.cat((representation_x1, self.ap[i + 1](x1)), 1)\n",
    "            representation_x2 = torch.cat((representation_x2, self.ap[i + 1](x2)), 1)\n",
    "            x1, x2 = self.abcnn2[i](x1, x2)\n",
    "\n",
    "        # sim_fc = torch.cat(sim, dim=1)\n",
    "        # output = self.fc(sim_fc)\n",
    "        return representation_x1, representation_x2\n",
    "\n",
    "\n",
    "class Abcnn1Portion(nn.Module):\n",
    "    '''Part of Abcnn1\n",
    "    '''\n",
    "\n",
    "    def __init__(self, in_dim, out_dim):\n",
    "        super(Abcnn1Portion, self).__init__()\n",
    "        self.batchNorm = nn.BatchNorm2d(2)\n",
    "        self.attention_feature_layer = nn.Linear(in_dim, out_dim)\n",
    "\n",
    "    def forward(self, x1, x2):\n",
    "        '''\n",
    "        1. compute attention matrix\n",
    "            attention_m : size (batch_size, sentence_length, sentence_length)\n",
    "        2. generate attention feature map(weight matrix are parameters of the model to be learned)\n",
    "            x_attention : size (batch_size, 1, sentence_length, emb_dim)\n",
    "        3. stack the representation feature map and attention feature map\n",
    "            x : size (batch_size, 2, sentence_length, emb_dim)\n",
    "        4. batch norm(not in paper)\n",
    "\n",
    "        Parameters\n",
    "        ----------\n",
    "        x1, x2 : 4-D torch Tensor\n",
    "            size (batch_size, 1, sentence_length, emb_dim)\n",
    "\n",
    "        Returns\n",
    "        -------\n",
    "        (x1, x2) : list of 4-D torch Tensor\n",
    "            size (batch_size, 2, sentence_length, emb_dim)\n",
    "        '''\n",
    "        #         print(x1.size())\n",
    "        #         print(x2.size())\n",
    "        attention_m = attention_matrix(x1, x2)\n",
    "        #         print(attention_m.size())\n",
    "\n",
    "        x1_attention = self.attention_feature_layer(attention_m.permute(0, 2, 1))\n",
    "        #         print(x1_attention.size())\n",
    "        x1_attention = x1_attention.unsqueeze(1)\n",
    "        x1 = torch.cat([x1, x1_attention], 1)\n",
    "\n",
    "        x2_attention = self.attention_feature_layer(attention_m)\n",
    "        x2_attention = x2_attention.unsqueeze(1)\n",
    "        x2 = torch.cat([x2, x2_attention], 1)\n",
    "\n",
    "        x1 = self.batchNorm(x1)\n",
    "        x2 = self.batchNorm(x2)\n",
    "\n",
    "        return (x1, x2)\n",
    "\n",
    "\n",
    "class Abcnn2Portion(nn.Module):\n",
    "    '''Part of Abcnn2\n",
    "    '''\n",
    "\n",
    "    def __init__(self, sentence_length, filter_width):\n",
    "        super(Abcnn2Portion, self).__init__()\n",
    "        self.wp = WpLayer(sentence_length, filter_width, True)\n",
    "\n",
    "    def forward(self, x1, x2):\n",
    "        '''\n",
    "        1. compute attention matrix\n",
    "            attention_m : size (batch_size, sentence_length + filter_width - 1, sentence_length + filter_width - 1)\n",
    "        2. sum all attention values for a unit to derive a single attention weight for that unit\n",
    "            x_a_conv : size (batch_size, sentence_length + filter_width - 1)\n",
    "        3. average pooling(w-ap)\n",
    "\n",
    "        Parameters\n",
    "        ----------\n",
    "        x1, x2 : 4-D torch Tensor\n",
    "            size (batch_size, 1, sentence_length + filter_width - 1, height)\n",
    "\n",
    "        Returns\n",
    "        -------\n",
    "        (x1, x2) : list of 4-D torch Tensor\n",
    "            size (batch_size, 1, sentence_length, height)\n",
    "        '''\n",
    "        attention_m = attention_matrix(x1, x2)\n",
    "        x1_a_conv = attention_m.sum(dim=1)\n",
    "        x2_a_conv = attention_m.sum(dim=2)\n",
    "        x1 = self.wp(x1, x1_a_conv)\n",
    "        x2 = self.wp(x2, x2_a_conv)\n",
    "\n",
    "        return (x1, x2)\n",
    "\n",
    "\n",
    "class InceptionModule(nn.Module):\n",
    "    '''\n",
    "    inception module(not in paper)\n",
    "    first layer width is filter_width(given)\n",
    "    second layer width is filter_width + 4\n",
    "    third layer width is sentence_length\n",
    "\n",
    "    this helps model to be learned(when the number of layers > 8)\n",
    "    '''\n",
    "\n",
    "    def __init__(self, in_channel, sentence_length, filter_width, filter_height, filter_channel):\n",
    "        super(InceptionModule, self).__init__()\n",
    "        self.conv_1 = convolution(in_channel, filter_width, filter_height,\n",
    "                                  int(filter_channel / 3) + filter_channel - 3 * int(filter_channel / 3),\n",
    "                                  filter_width - 1)\n",
    "        self.conv_2 = convolution(in_channel, filter_width + 4, filter_height, int(filter_channel / 3),\n",
    "                                  filter_width + 1)\n",
    "        self.conv_3 = convolution(in_channel, sentence_length, filter_height, int(filter_channel / 3),\n",
    "                                  int((sentence_length + filter_width - 2) / 2))\n",
    "\n",
    "    def forward(self, x):\n",
    "        out_1 = self.conv_1(x)\n",
    "        out_2 = self.conv_2(x)\n",
    "        out_3 = self.conv_3(x)\n",
    "        output = torch.cat([out_1, out_2, out_3], dim=1)\n",
    "        return output\n",
    "\n",
    "\n",
    "class ConvLayer(nn.Module):\n",
    "    '''\n",
    "    convolution layer for abcnn\n",
    "\n",
    "    Attributes\n",
    "    ----------\n",
    "    inception : bool\n",
    "        whether use inception module\n",
    "    '''\n",
    "\n",
    "    def __init__(self, isAbcnn2, sentence_length, filter_width, filter_height, filter_channel, inception):\n",
    "        super(ConvLayer, self).__init__()\n",
    "        if inception:\n",
    "            self.model = InceptionModule(1 if isAbcnn2 else 2, sentence_length, filter_width, filter_height,\n",
    "                                         filter_channel)\n",
    "        else:\n",
    "            self.model = convolution(1 if isAbcnn2 else 2, filter_width, filter_height, filter_channel,\n",
    "                                     filter_width - 1)\n",
    "\n",
    "    def forward(self, x):\n",
    "        '''\n",
    "        1. convlayer\n",
    "            size (batch_size, filter_channel, height, 1)\n",
    "        2. transpose\n",
    "            size (batch_size, 1, height, filter_channel)\n",
    "\n",
    "        Parameters\n",
    "        ----------\n",
    "        x : 4-D torch Tensor\n",
    "            size (batch_size, 1, height, width)\n",
    "\n",
    "        Returns\n",
    "        -------\n",
    "        output : 4-D torch Tensor\n",
    "            size (batch_size, 1, height, filter_channel)\n",
    "        '''\n",
    "        output = self.model(x)\n",
    "        output = output.permute(0, 3, 2, 1)\n",
    "        return output\n",
    "\n",
    "\n",
    "def cosine_similarity(x1, x2):\n",
    "    '''compute cosine similarity between x1 and x2\n",
    "\n",
    "    Parameters\n",
    "    ----------\n",
    "    x1, x2 : 2-D torch Tensor\n",
    "        size (batch_size, 1)\n",
    "\n",
    "    Returns\n",
    "    -------\n",
    "    distance : 2-D torch Tensor\n",
    "        similarity result of size (batch_size, 1)\n",
    "    '''\n",
    "    return F.cosine_similarity(x1, x2).unsqueeze(1)\n",
    "\n",
    "\n",
    "def manhattan_distance(x1, x2):\n",
    "    '''compute manhattan distance between x1 and x2 (not in paper)\n",
    "\n",
    "    Parameters\n",
    "    ----------\n",
    "    x1, x2 : 2-D torch Tensor\n",
    "        size (batch_size, 1)\n",
    "\n",
    "    Returns\n",
    "    -------\n",
    "    distance : 2-D torch Tensor\n",
    "        similarity result of size (batch_size, 1)\n",
    "    '''\n",
    "    return torch.div(torch.norm((x1 - x2), 1, 1, keepdim=True), x1.size()[1])\n",
    "\n",
    "\n",
    "def convolution(in_channel, filter_width, filter_height, filter_channel, padding):\n",
    "    '''convolution layer\n",
    "    '''\n",
    "    model = nn.Sequential(\n",
    "        nn.Conv2d(in_channel, filter_channel, (filter_width, filter_height), stride=1, padding=(padding, 0)),\n",
    "        nn.BatchNorm2d(filter_channel),\n",
    "        nn.Tanh()\n",
    "    )\n",
    "    return model\n",
    "\n",
    "\n",
    "def attention_matrix(x1, x2, eps=1e-6):\n",
    "    '''compute attention matrix using match score\n",
    "\n",
    "    1 / (1 + |x · y|)\n",
    "    |·| is euclidean distance\n",
    "\n",
    "    Parameters\n",
    "    ----------\n",
    "    x1, x2 : 4-D torch Tensor\n",
    "        size (batch_size, 1, sentence_length, width)\n",
    "\n",
    "    Returns\n",
    "    -------\n",
    "    output : 3-D torch Tensor\n",
    "        match score result of size (batch_size, sentence_length(for x2), sentence_length(for x1))\n",
    "    '''\n",
    "    # eps = torch.tensor(eps)\n",
    "    # one = torch.tensor(1.)\n",
    "    euclidean = (torch.pow(x1 - x2.permute(0, 2, 1, 3), 2).sum(dim=3) + eps).sqrt()\n",
    "    return (euclidean + 1.).reciprocal()\n",
    "\n",
    "\n",
    "class ApLayer(nn.Module):\n",
    "    '''column-wise averaging over all columns\n",
    "    '''\n",
    "\n",
    "    def __init__(self, width):\n",
    "        super(ApLayer, self).__init__()\n",
    "        self.ap = nn.AvgPool2d((1, width), stride=1)\n",
    "\n",
    "    def forward(self, x):\n",
    "        '''\n",
    "        1. average pooling\n",
    "            x size (batch_size, 1, sentence_length, 1)\n",
    "        2. representation vector for the sentence\n",
    "            output size (batch_size, sentence_length)\n",
    "\n",
    "        Parameters\n",
    "        ----------\n",
    "        x : 4-D torch Tensor\n",
    "            convolution output of size (batch_size, 1, sentence_length, width)\n",
    "\n",
    "        Returns\n",
    "        -------\n",
    "        output : 2-D torch Tensor\n",
    "            representation vector of size (batch_size, width)\n",
    "        '''\n",
    "        return self.ap(x).squeeze(1).squeeze(2)\n",
    "\n",
    "\n",
    "class WpLayer(nn.Module):\n",
    "    '''column-wise averaging over windows of w consecutive columns\n",
    "\n",
    "    Attributes\n",
    "    ----------\n",
    "    attention : bool\n",
    "        compute layer with attention matrix\n",
    "    '''\n",
    "\n",
    "    def __init__(self, sentence_length, filter_width, attention):\n",
    "        super(WpLayer, self).__init__()\n",
    "        self.attention = attention\n",
    "        if attention:\n",
    "            self.sentence_length = sentence_length\n",
    "            self.filter_width = filter_width\n",
    "        else:\n",
    "            self.wp = nn.AvgPool2d((filter_width, 1), stride=1)\n",
    "\n",
    "    def forward(self, x, attention_matrix=None):\n",
    "        '''\n",
    "        if attention\n",
    "            reweight the convolution output with attention matrix\n",
    "        else\n",
    "            average pooling\n",
    "\n",
    "        Parameters\n",
    "        ----------\n",
    "        x : 4-D torch Tensor\n",
    "            convolution output of size (batch_size, 1, sentence_length + filter_width - 1, height)\n",
    "        attention_matrix: 2-D torch Tensor\n",
    "            attention matrix between (convolution output x1 and convolution output x2) of size (batch_size, sentence_length + filter_width - 1)\n",
    "\n",
    "        Returns\n",
    "        -------\n",
    "        output : 4-D torch Tensor\n",
    "            size (batch_size, 1, sentence_length, height)\n",
    "        '''\n",
    "        if self.attention:\n",
    "            pools = []\n",
    "            attention_matrix = attention_matrix.unsqueeze(1).unsqueeze(3)\n",
    "            for i in range(self.sentence_length):\n",
    "                pools.append(\n",
    "                    (x[:, :, i:i + self.filter_width, :] * attention_matrix[:, :, i:i + self.filter_width, :]).sum(\n",
    "                        dim=2, keepdim=True))\n",
    "\n",
    "            return torch.cat(pools, dim=2)\n",
    "\n",
    "        else:\n",
    "            return self.wp(x)\n",
    "\n",
    "\n",
    "def weights_init(m):\n",
    "    classname = m.__class__.__name__\n",
    "    if classname.find('Conv') != -1 and classname.find('Layer') == -1:\n",
    "        nn.init.xavier_uniform_(m.weight)\n",
    "    elif classname.find('Linear') != -1:\n",
    "        nn.init.xavier_uniform_(m.weight)\n",
    "        nn.init.constant_(m.bias, 0.1)\n",
    "    elif classname.find('BatchNorm') != -1:\n",
    "        m.weight.data.normal_(1.0, 0.02)\n",
    "        m.bias.data.fill_(0)\n"
   ]
  },
  {
   "cell_type": "code",
   "execution_count": 19,
   "metadata": {},
   "outputs": [],
   "source": [
    "cnn_attr_summarizer_module = dm.modules.NoMeta(attr_summarization_abcnn())\n",
    "\n",
    "model = dm.MatchingModel(attr_summarizer=lambda: cnn_attr_summarizer_module, \n",
    "                         attr_comparator='abs-diff',\n",
    "                         classifier = '3-layer-residual-relu')"
   ]
  },
  {
   "cell_type": "code",
   "execution_count": 20,
   "metadata": {},
   "outputs": [
    {
     "name": "stdout",
     "output_type": "stream",
     "text": [
      "* Number of trainable parameters: 2272214\n",
      "===>  TRAIN Epoch 1\n"
     ]
    },
    {
     "name": "stderr",
     "output_type": "stream",
     "text": [
      "0% [██████] 100% | ETA: 00:00:00\n",
      "Total time elapsed: 00:00:21\n"
     ]
    },
    {
     "name": "stdout",
     "output_type": "stream",
     "text": [
      "Finished Epoch 1 || Run Time:   24.0 | Load Time:    0.5 || F1:  53.18 | Prec:  47.92 | Rec:  59.74 || Ex/s:  13.18\n",
      "\n",
      "===>  EVAL Epoch 1\n"
     ]
    },
    {
     "name": "stderr",
     "output_type": "stream",
     "text": [
      "0% [██] 100% | ETA: 00:00:00\n",
      "Total time elapsed: 00:00:02\n"
     ]
    },
    {
     "name": "stdout",
     "output_type": "stream",
     "text": [
      "Finished Epoch 1 || Run Time:    2.7 | Load Time:    0.2 || F1:  63.77 | Prec:  48.89 | Rec:  91.67 || Ex/s:  37.88\n",
      "\n",
      "* Best F1: 63.76811594202899\n",
      "Saving best model...\n",
      "Done.\n",
      "---------------------\n",
      "\n",
      "===>  TRAIN Epoch 2\n"
     ]
    },
    {
     "name": "stderr",
     "output_type": "stream",
     "text": [
      "0% [██████] 100% | ETA: 00:00:00\n",
      "Total time elapsed: 00:00:21\n"
     ]
    },
    {
     "name": "stdout",
     "output_type": "stream",
     "text": [
      "Finished Epoch 2 || Run Time:   24.1 | Load Time:    0.5 || F1:  86.52 | Prec:  76.24 | Rec: 100.00 || Ex/s:  13.16\n",
      "\n",
      "===>  EVAL Epoch 2\n"
     ]
    },
    {
     "name": "stderr",
     "output_type": "stream",
     "text": [
      "0% [██] 100% | ETA: 00:00:00\n",
      "Total time elapsed: 00:00:02\n"
     ]
    },
    {
     "name": "stdout",
     "output_type": "stream",
     "text": [
      "Finished Epoch 2 || Run Time:    2.7 | Load Time:    0.2 || F1:  77.19 | Prec:  66.67 | Rec:  91.67 || Ex/s:  37.80\n",
      "\n",
      "* Best F1: 77.19298245614036\n",
      "Saving best model...\n",
      "Done.\n",
      "---------------------\n",
      "\n",
      "===>  TRAIN Epoch 3\n"
     ]
    },
    {
     "name": "stderr",
     "output_type": "stream",
     "text": [
      "0% [██████] 100% | ETA: 00:00:00\n",
      "Total time elapsed: 00:00:21\n"
     ]
    },
    {
     "name": "stdout",
     "output_type": "stream",
     "text": [
      "Finished Epoch 3 || Run Time:   24.1 | Load Time:    0.5 || F1:  96.82 | Prec:  95.00 | Rec:  98.70 || Ex/s:  13.16\n",
      "\n",
      "===>  EVAL Epoch 3\n"
     ]
    },
    {
     "name": "stderr",
     "output_type": "stream",
     "text": [
      "0% [██] 100% | ETA: 00:00:00\n",
      "Total time elapsed: 00:00:02\n"
     ]
    },
    {
     "name": "stdout",
     "output_type": "stream",
     "text": [
      "Finished Epoch 3 || Run Time:    2.7 | Load Time:    0.2 || F1:  77.97 | Prec:  65.71 | Rec:  95.83 || Ex/s:  37.92\n",
      "\n",
      "* Best F1: 77.96610169491525\n",
      "Saving best model...\n",
      "Done.\n",
      "---------------------\n",
      "\n",
      "===>  TRAIN Epoch 4\n"
     ]
    },
    {
     "name": "stderr",
     "output_type": "stream",
     "text": [
      "0% [██████] 100% | ETA: 00:00:00\n",
      "Total time elapsed: 00:00:21\n"
     ]
    },
    {
     "name": "stdout",
     "output_type": "stream",
     "text": [
      "Finished Epoch 4 || Run Time:   24.0 | Load Time:    0.5 || F1:  99.35 | Prec:  98.72 | Rec: 100.00 || Ex/s:  13.17\n",
      "\n",
      "===>  EVAL Epoch 4\n"
     ]
    },
    {
     "name": "stderr",
     "output_type": "stream",
     "text": [
      "0% [██] 100% | ETA: 00:00:00\n",
      "Total time elapsed: 00:00:02\n"
     ]
    },
    {
     "name": "stdout",
     "output_type": "stream",
     "text": [
      "Finished Epoch 4 || Run Time:    2.7 | Load Time:    0.2 || F1:  88.46 | Prec:  82.14 | Rec:  95.83 || Ex/s:  37.90\n",
      "\n",
      "* Best F1: 88.46153846153845\n",
      "Saving best model...\n",
      "Done.\n",
      "---------------------\n",
      "\n",
      "===>  TRAIN Epoch 5\n"
     ]
    },
    {
     "name": "stderr",
     "output_type": "stream",
     "text": [
      "0% [██████] 100% | ETA: 00:00:00\n",
      "Total time elapsed: 00:00:21\n"
     ]
    },
    {
     "name": "stdout",
     "output_type": "stream",
     "text": [
      "Finished Epoch 5 || Run Time:   24.0 | Load Time:    0.5 || F1: 100.00 | Prec: 100.00 | Rec: 100.00 || Ex/s:  13.19\n",
      "\n",
      "===>  EVAL Epoch 5\n"
     ]
    },
    {
     "name": "stderr",
     "output_type": "stream",
     "text": [
      "0% [██] 100% | ETA: 00:00:00\n",
      "Total time elapsed: 00:00:02\n"
     ]
    },
    {
     "name": "stdout",
     "output_type": "stream",
     "text": [
      "Finished Epoch 5 || Run Time:    2.7 | Load Time:    0.2 || F1:  86.79 | Prec:  79.31 | Rec:  95.83 || Ex/s:  37.93\n",
      "\n",
      "---------------------\n",
      "\n",
      "===>  TRAIN Epoch 6\n"
     ]
    },
    {
     "name": "stderr",
     "output_type": "stream",
     "text": [
      "0% [██████] 100% | ETA: 00:00:00\n",
      "Total time elapsed: 00:00:21\n"
     ]
    },
    {
     "name": "stdout",
     "output_type": "stream",
     "text": [
      "Finished Epoch 6 || Run Time:   24.0 | Load Time:    0.5 || F1: 100.00 | Prec: 100.00 | Rec: 100.00 || Ex/s:  13.18\n",
      "\n",
      "===>  EVAL Epoch 6\n"
     ]
    },
    {
     "name": "stderr",
     "output_type": "stream",
     "text": [
      "0% [██] 100% | ETA: 00:00:00\n",
      "Total time elapsed: 00:00:02\n"
     ]
    },
    {
     "name": "stdout",
     "output_type": "stream",
     "text": [
      "Finished Epoch 6 || Run Time:    2.7 | Load Time:    0.2 || F1:  86.79 | Prec:  79.31 | Rec:  95.83 || Ex/s:  37.91\n",
      "\n",
      "---------------------\n",
      "\n",
      "===>  TRAIN Epoch 7\n"
     ]
    },
    {
     "name": "stderr",
     "output_type": "stream",
     "text": [
      "0% [██████] 100% | ETA: 00:00:00\n",
      "Total time elapsed: 00:00:21\n"
     ]
    },
    {
     "name": "stdout",
     "output_type": "stream",
     "text": [
      "Finished Epoch 7 || Run Time:   24.0 | Load Time:    0.5 || F1: 100.00 | Prec: 100.00 | Rec: 100.00 || Ex/s:  13.18\n",
      "\n",
      "===>  EVAL Epoch 7\n"
     ]
    },
    {
     "name": "stderr",
     "output_type": "stream",
     "text": [
      "0% [██] 100% | ETA: 00:00:00\n",
      "Total time elapsed: 00:00:02\n"
     ]
    },
    {
     "name": "stdout",
     "output_type": "stream",
     "text": [
      "Finished Epoch 7 || Run Time:    2.7 | Load Time:    0.2 || F1:  86.79 | Prec:  79.31 | Rec:  95.83 || Ex/s:  37.84\n",
      "\n",
      "---------------------\n",
      "\n",
      "===>  TRAIN Epoch 8\n"
     ]
    },
    {
     "name": "stderr",
     "output_type": "stream",
     "text": [
      "0% [██████] 100% | ETA: 00:00:00\n",
      "Total time elapsed: 00:00:21\n"
     ]
    },
    {
     "name": "stdout",
     "output_type": "stream",
     "text": [
      "Finished Epoch 8 || Run Time:   24.0 | Load Time:    0.5 || F1: 100.00 | Prec: 100.00 | Rec: 100.00 || Ex/s:  13.16\n",
      "\n",
      "===>  EVAL Epoch 8\n"
     ]
    },
    {
     "name": "stderr",
     "output_type": "stream",
     "text": [
      "0% [██] 100% | ETA: 00:00:00\n",
      "Total time elapsed: 00:00:02\n"
     ]
    },
    {
     "name": "stdout",
     "output_type": "stream",
     "text": [
      "Finished Epoch 8 || Run Time:    2.7 | Load Time:    0.1 || F1:  86.79 | Prec:  79.31 | Rec:  95.83 || Ex/s:  37.91\n",
      "\n",
      "---------------------\n",
      "\n",
      "===>  TRAIN Epoch 9\n"
     ]
    },
    {
     "name": "stderr",
     "output_type": "stream",
     "text": [
      "0% [██████] 100% | ETA: 00:00:00\n",
      "Total time elapsed: 00:00:21\n"
     ]
    },
    {
     "name": "stdout",
     "output_type": "stream",
     "text": [
      "Finished Epoch 9 || Run Time:   24.2 | Load Time:    0.5 || F1: 100.00 | Prec: 100.00 | Rec: 100.00 || Ex/s:  13.07\n",
      "\n",
      "===>  EVAL Epoch 9\n"
     ]
    },
    {
     "name": "stderr",
     "output_type": "stream",
     "text": [
      "0% [██] 100% | ETA: 00:00:00\n",
      "Total time elapsed: 00:00:02\n"
     ]
    },
    {
     "name": "stdout",
     "output_type": "stream",
     "text": [
      "Finished Epoch 9 || Run Time:    2.7 | Load Time:    0.2 || F1:  86.79 | Prec:  79.31 | Rec:  95.83 || Ex/s:  37.51\n",
      "\n",
      "---------------------\n",
      "\n",
      "===>  TRAIN Epoch 10\n"
     ]
    },
    {
     "name": "stderr",
     "output_type": "stream",
     "text": [
      "0% [██████] 100% | ETA: 00:00:00\n",
      "Total time elapsed: 00:00:22\n"
     ]
    },
    {
     "name": "stdout",
     "output_type": "stream",
     "text": [
      "Finished Epoch 10 || Run Time:   24.3 | Load Time:    0.6 || F1: 100.00 | Prec: 100.00 | Rec: 100.00 || Ex/s:  12.97\n",
      "\n",
      "===>  EVAL Epoch 10\n"
     ]
    },
    {
     "name": "stderr",
     "output_type": "stream",
     "text": [
      "0% [██] 100% | ETA: 00:00:00\n",
      "Total time elapsed: 00:00:02\n"
     ]
    },
    {
     "name": "stdout",
     "output_type": "stream",
     "text": [
      "Finished Epoch 10 || Run Time:    2.7 | Load Time:    0.2 || F1:  85.19 | Prec:  76.67 | Rec:  95.83 || Ex/s:  37.70\n",
      "\n",
      "---------------------\n",
      "\n",
      "Loading best model...\n",
      "Training done.\n"
     ]
    },
    {
     "data": {
      "text/plain": [
       "88.46153846153845"
      ]
     },
     "execution_count": 20,
     "metadata": {},
     "output_type": "execute_result"
    }
   ],
   "source": [
    "model.run_train(\n",
    "    train,\n",
    "    validation,\n",
    "    epochs=10,\n",
    "    batch_size=10,\n",
    "    best_save_path='cnn_model.pth',\n",
    "    pos_neg_ratio=3)"
   ]
  },
  {
   "cell_type": "code",
   "execution_count": 21,
   "metadata": {},
   "outputs": [
    {
     "name": "stdout",
     "output_type": "stream",
     "text": [
      "===>  EVAL Epoch 4\n",
      "Finished Epoch 4 || Run Time:    1.8 | Load Time:    0.2 || F1:  90.62 | Prec:  87.88 | Rec:  93.55 || Ex/s:  54.13\n",
      "\n"
     ]
    },
    {
     "data": {
      "text/plain": [
       "90.62499999999999"
      ]
     },
     "execution_count": 21,
     "metadata": {},
     "output_type": "execute_result"
    }
   ],
   "source": [
    "model.run_eval(test)"
   ]
  }
 ],
 "metadata": {
  "kernelspec": {
   "display_name": "Python 3",
   "language": "python",
   "name": "python3"
  },
  "language_info": {
   "codemirror_mode": {
    "name": "ipython",
    "version": 3
   },
   "file_extension": ".py",
   "mimetype": "text/x-python",
   "name": "python",
   "nbconvert_exporter": "python",
   "pygments_lexer": "ipython3",
   "version": "3.6.6"
  }
 },
 "nbformat": 4,
 "nbformat_minor": 2
}
